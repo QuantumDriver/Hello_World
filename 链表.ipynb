{
 "cells": [
  {
   "cell_type": "markdown",
   "metadata": {},
   "source": [
    "### 链表"
   ]
  },
  {
   "cell_type": "markdown",
   "metadata": {},
   "source": [
    "#### 简介"
   ]
  },
  {
   "cell_type": "markdown",
   "metadata": {},
   "source": [
    "链表是数据结构之一，其中的数据呈线性排列。链表的每个元素都存储了下一个元素的地址，从而使一系列随机的内存地址串在一起。在链表中，数据的添加和删除都较为方便，就是访问比较耗费时间。<br>\n",
    "![微信截图_20190804112615.png](https://i.loli.net/2019/08/04/2lSWp7XghPxM4TY.png)\n",
    "\n",
    "![微信截图_20190804112626.png](https://i.loli.net/2019/08/04/OwsnCLqgclBpStf.png)\n",
    "![微信截图_20190804112636.png](https://i.loli.net/2019/08/04/CF8wHMeZxclbYLs.png)\n",
    "\n",
    "![微信截图_20190804112649.png](https://i.loli.net/2019/08/04/9JCYsgSdQpnczWP.png)\n",
    "![微信截图_20190804112659.png](https://i.loli.net/2019/08/04/nqaJDEWpLyOlsR6.png)\n"
   ]
  },
  {
   "cell_type": "markdown",
   "metadata": {},
   "source": [
    "#### 操作"
   ]
  },
  {
   "cell_type": "markdown",
   "metadata": {},
   "source": [
    "- 添加"
   ]
  },
  {
   "cell_type": "markdown",
   "metadata": {},
   "source": [
    "**说明**\n",
    "![微信截图_20190804113223.png](https://i.loli.net/2019/08/04/OXDsFl18Na9KU45.png)\n",
    "![微信截图_20190804113235.png](https://i.loli.net/2019/08/04/i8SGdoCHz42PyfO.png)\n",
    "**示例**\n",
    "![微信截图_20190804113247.png](https://i.loli.net/2019/08/04/lzaZqUyu1jbcvgd.png)\n",
    "**头部插入**\n",
    "![微信截图_20190804113301.png](https://i.loli.net/2019/08/04/gx9M81fb6oB4hEY.png)\n"
   ]
  },
  {
   "cell_type": "markdown",
   "metadata": {},
   "source": [
    "- 删除"
   ]
  },
  {
   "cell_type": "markdown",
   "metadata": {},
   "source": [
    "![微信截图_20190804113402.png](https://i.loli.net/2019/08/04/swxmjBHQWItvMSN.png)\n",
    "\n",
    "![微信截图_20190804113420.png](https://i.loli.net/2019/08/04/IH61S53R7sZTVEM.png)\n",
    "![微信截图_20190804113433.png](https://i.loli.net/2019/08/04/4hbVfkuF9rPLUmT.png)"
   ]
  }
 ],
 "metadata": {
  "kernelspec": {
   "display_name": "Python 3",
   "language": "python",
   "name": "python3"
  },
  "language_info": {
   "codemirror_mode": {
    "name": "ipython",
    "version": 3
   },
   "file_extension": ".py",
   "mimetype": "text/x-python",
   "name": "python",
   "nbconvert_exporter": "python",
   "pygments_lexer": "ipython3",
   "version": "3.7.1"
  },
  "toc": {
   "base_numbering": 1,
   "nav_menu": {},
   "number_sections": true,
   "sideBar": false,
   "skip_h1_title": false,
   "title_cell": "Table of Contents",
   "title_sidebar": "Contents",
   "toc_cell": false,
   "toc_position": {},
   "toc_section_display": true,
   "toc_window_display": false
  }
 },
 "nbformat": 4,
 "nbformat_minor": 2
}
