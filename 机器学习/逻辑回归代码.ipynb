{
 "cells": [
  {
   "cell_type": "markdown",
   "metadata": {},
   "source": [
    "### 逻辑回归"
   ]
  },
  {
   "cell_type": "markdown",
   "metadata": {},
   "source": [
    "代价函数\n",
    "- $J(\\theta)=\\frac{1}{m} \\sum_{i=1}^{m}\\left[-y^{(i)} \\log \\left(h_{\\theta}\\left(x^{(i)}\\right)\\right)-\\left(1-y^{(i)}\\right) \\log \\left(1-h_{\\theta}\\left(x^{(i)}\\right)\\right)\\right]+\\frac{\\lambda}{2 m} \\sum_{j=1}^{n} \\theta_{j}^{2}$<br>\n",
    "\n",
    "梯度更新\n",
    "- $\\theta_{j} :=\\theta_{j}-\\alpha \\frac{1}{m} \\sum_{i=1}^{m}\\left(\\left(h_{\\theta}\\left(x^{(i)}\\right)-y^{(i)}\\right) \\cdot x_{j}^{(i)}+\\frac{\\lambda}{m} \\theta_{j}\\right)$\n",
    "\n",
    "注意这里$\\theta_{j}$的更新和线性回归略有不同，这里的在求和项里面，线性回归的在外面"
   ]
  },
  {
   "cell_type": "markdown",
   "metadata": {},
   "source": [
    "![微信截图_20190801203533.png](https://i.loli.net/2019/08/02/5d43858dccf1f91793.png)\n"
   ]
  },
  {
   "cell_type": "markdown",
   "metadata": {},
   "source": [
    "#### 构建代码"
   ]
  },
  {
   "cell_type": "code",
   "execution_count": 2,
   "metadata": {},
   "outputs": [],
   "source": [
    "import numpy as np\n",
    "import pandas as pd"
   ]
  },
  {
   "cell_type": "code",
   "execution_count": 3,
   "metadata": {},
   "outputs": [],
   "source": [
    "class logistic():\n",
    "    \n",
    "    def __init__(self,n,gamma,alpha):\n",
    "        self.n = n\n",
    "        self.gamma = gamma\n",
    "        self.alpha = alpha\n",
    "        self.w = 1\n",
    "    \n",
    "    def sigmoid(self,z):\n",
    "        return 1/(1+np.exp(-z))\n",
    "    \n",
    "    def train(self,x,y):\n",
    "        W = np.random.randn(x.shape[1])\n",
    "        for i in range(self.n):\n",
    "            y_pred = self.sigmoid(np.dot(x,W))\n",
    "            error = y_pred - y\n",
    "            first = np.multiply(-y,np.log(y_pred))\n",
    "            second = np.multiply((1-y),np.log(1-y_pred))\n",
    "            loss = np.mean(first-second) + 0.5 * self.gamma * np.dot(W.T,W)\n",
    "            if i % 50 == 0: print('loop is {},loss is {}'.format(i,loss))\n",
    "            grad = np.mean(np.dot(x.T,error)+self.gamma*W)\n",
    "            W = W - self.alpha * grad\n",
    "        self.w = W\n",
    "        return W\n",
    "    \n",
    "    def predict(self,new_x):\n",
    "        pred = self.sigmoid(np.dot(new_x,self.w))\n",
    "        if pred >= 0.5:\n",
    "            return 1\n",
    "        return 0"
   ]
  },
  {
   "cell_type": "markdown",
   "metadata": {},
   "source": [
    "#### 数据准备"
   ]
  },
  {
   "cell_type": "code",
   "execution_count": 4,
   "metadata": {},
   "outputs": [],
   "source": [
    "from sklearn.linear_model import stochastic_gradient\n",
    "from sklearn.model_selection import StratifiedKFold\n",
    "from sklearn.model_selection import StratifiedShuffleSplit"
   ]
  },
  {
   "cell_type": "code",
   "execution_count": 5,
   "metadata": {},
   "outputs": [],
   "source": [
    "df = pd.read_csv('adult.csv')"
   ]
  },
  {
   "cell_type": "code",
   "execution_count": 6,
   "metadata": {},
   "outputs": [
    {
     "data": {
      "text/html": [
       "<div>\n",
       "<style scoped>\n",
       "    .dataframe tbody tr th:only-of-type {\n",
       "        vertical-align: middle;\n",
       "    }\n",
       "\n",
       "    .dataframe tbody tr th {\n",
       "        vertical-align: top;\n",
       "    }\n",
       "\n",
       "    .dataframe thead th {\n",
       "        text-align: right;\n",
       "    }\n",
       "</style>\n",
       "<table border=\"1\" class=\"dataframe\">\n",
       "  <thead>\n",
       "    <tr style=\"text-align: right;\">\n",
       "      <th></th>\n",
       "      <th>age</th>\n",
       "      <th>workclass</th>\n",
       "      <th>fnlwgt</th>\n",
       "      <th>education</th>\n",
       "      <th>educational-num</th>\n",
       "      <th>marital-status</th>\n",
       "      <th>occupation</th>\n",
       "      <th>relationship</th>\n",
       "      <th>race</th>\n",
       "      <th>gender</th>\n",
       "      <th>capital-gain</th>\n",
       "      <th>capital-loss</th>\n",
       "      <th>hours-per-week</th>\n",
       "      <th>native-country</th>\n",
       "      <th>income</th>\n",
       "    </tr>\n",
       "  </thead>\n",
       "  <tbody>\n",
       "    <tr>\n",
       "      <th>0</th>\n",
       "      <td>25</td>\n",
       "      <td>Private</td>\n",
       "      <td>226802</td>\n",
       "      <td>11th</td>\n",
       "      <td>7</td>\n",
       "      <td>Never-married</td>\n",
       "      <td>Machine-op-inspct</td>\n",
       "      <td>Own-child</td>\n",
       "      <td>Black</td>\n",
       "      <td>Male</td>\n",
       "      <td>0</td>\n",
       "      <td>0</td>\n",
       "      <td>40</td>\n",
       "      <td>United-States</td>\n",
       "      <td>&lt;=50K</td>\n",
       "    </tr>\n",
       "    <tr>\n",
       "      <th>1</th>\n",
       "      <td>38</td>\n",
       "      <td>Private</td>\n",
       "      <td>89814</td>\n",
       "      <td>HS-grad</td>\n",
       "      <td>9</td>\n",
       "      <td>Married-civ-spouse</td>\n",
       "      <td>Farming-fishing</td>\n",
       "      <td>Husband</td>\n",
       "      <td>White</td>\n",
       "      <td>Male</td>\n",
       "      <td>0</td>\n",
       "      <td>0</td>\n",
       "      <td>50</td>\n",
       "      <td>United-States</td>\n",
       "      <td>&lt;=50K</td>\n",
       "    </tr>\n",
       "    <tr>\n",
       "      <th>2</th>\n",
       "      <td>28</td>\n",
       "      <td>Local-gov</td>\n",
       "      <td>336951</td>\n",
       "      <td>Assoc-acdm</td>\n",
       "      <td>12</td>\n",
       "      <td>Married-civ-spouse</td>\n",
       "      <td>Protective-serv</td>\n",
       "      <td>Husband</td>\n",
       "      <td>White</td>\n",
       "      <td>Male</td>\n",
       "      <td>0</td>\n",
       "      <td>0</td>\n",
       "      <td>40</td>\n",
       "      <td>United-States</td>\n",
       "      <td>&gt;50K</td>\n",
       "    </tr>\n",
       "    <tr>\n",
       "      <th>3</th>\n",
       "      <td>44</td>\n",
       "      <td>Private</td>\n",
       "      <td>160323</td>\n",
       "      <td>Some-college</td>\n",
       "      <td>10</td>\n",
       "      <td>Married-civ-spouse</td>\n",
       "      <td>Machine-op-inspct</td>\n",
       "      <td>Husband</td>\n",
       "      <td>Black</td>\n",
       "      <td>Male</td>\n",
       "      <td>7688</td>\n",
       "      <td>0</td>\n",
       "      <td>40</td>\n",
       "      <td>United-States</td>\n",
       "      <td>&gt;50K</td>\n",
       "    </tr>\n",
       "    <tr>\n",
       "      <th>4</th>\n",
       "      <td>18</td>\n",
       "      <td>?</td>\n",
       "      <td>103497</td>\n",
       "      <td>Some-college</td>\n",
       "      <td>10</td>\n",
       "      <td>Never-married</td>\n",
       "      <td>?</td>\n",
       "      <td>Own-child</td>\n",
       "      <td>White</td>\n",
       "      <td>Female</td>\n",
       "      <td>0</td>\n",
       "      <td>0</td>\n",
       "      <td>30</td>\n",
       "      <td>United-States</td>\n",
       "      <td>&lt;=50K</td>\n",
       "    </tr>\n",
       "  </tbody>\n",
       "</table>\n",
       "</div>"
      ],
      "text/plain": [
       "   age  workclass  fnlwgt     education  educational-num      marital-status  \\\n",
       "0   25    Private  226802          11th                7       Never-married   \n",
       "1   38    Private   89814       HS-grad                9  Married-civ-spouse   \n",
       "2   28  Local-gov  336951    Assoc-acdm               12  Married-civ-spouse   \n",
       "3   44    Private  160323  Some-college               10  Married-civ-spouse   \n",
       "4   18          ?  103497  Some-college               10       Never-married   \n",
       "\n",
       "          occupation relationship   race  gender  capital-gain  capital-loss  \\\n",
       "0  Machine-op-inspct    Own-child  Black    Male             0             0   \n",
       "1    Farming-fishing      Husband  White    Male             0             0   \n",
       "2    Protective-serv      Husband  White    Male             0             0   \n",
       "3  Machine-op-inspct      Husband  Black    Male          7688             0   \n",
       "4                  ?    Own-child  White  Female             0             0   \n",
       "\n",
       "   hours-per-week native-country income  \n",
       "0              40  United-States  <=50K  \n",
       "1              50  United-States  <=50K  \n",
       "2              40  United-States   >50K  \n",
       "3              40  United-States   >50K  \n",
       "4              30  United-States  <=50K  "
      ]
     },
     "execution_count": 6,
     "metadata": {},
     "output_type": "execute_result"
    }
   ],
   "source": [
    "df.head()"
   ]
  },
  {
   "cell_type": "code",
   "execution_count": 7,
   "metadata": {},
   "outputs": [
    {
     "data": {
      "text/html": [
       "<div>\n",
       "<style scoped>\n",
       "    .dataframe tbody tr th:only-of-type {\n",
       "        vertical-align: middle;\n",
       "    }\n",
       "\n",
       "    .dataframe tbody tr th {\n",
       "        vertical-align: top;\n",
       "    }\n",
       "\n",
       "    .dataframe thead th {\n",
       "        text-align: right;\n",
       "    }\n",
       "</style>\n",
       "<table border=\"1\" class=\"dataframe\">\n",
       "  <thead>\n",
       "    <tr style=\"text-align: right;\">\n",
       "      <th></th>\n",
       "      <th>age</th>\n",
       "      <th>fnlwgt</th>\n",
       "      <th>educational-num</th>\n",
       "      <th>capital-gain</th>\n",
       "      <th>capital-loss</th>\n",
       "      <th>hours-per-week</th>\n",
       "    </tr>\n",
       "  </thead>\n",
       "  <tbody>\n",
       "    <tr>\n",
       "      <th>count</th>\n",
       "      <td>48842.000000</td>\n",
       "      <td>4.884200e+04</td>\n",
       "      <td>48842.000000</td>\n",
       "      <td>48842.000000</td>\n",
       "      <td>48842.000000</td>\n",
       "      <td>48842.000000</td>\n",
       "    </tr>\n",
       "    <tr>\n",
       "      <th>mean</th>\n",
       "      <td>38.643585</td>\n",
       "      <td>1.896641e+05</td>\n",
       "      <td>10.078089</td>\n",
       "      <td>1079.067626</td>\n",
       "      <td>87.502314</td>\n",
       "      <td>40.422382</td>\n",
       "    </tr>\n",
       "    <tr>\n",
       "      <th>std</th>\n",
       "      <td>13.710510</td>\n",
       "      <td>1.056040e+05</td>\n",
       "      <td>2.570973</td>\n",
       "      <td>7452.019058</td>\n",
       "      <td>403.004552</td>\n",
       "      <td>12.391444</td>\n",
       "    </tr>\n",
       "    <tr>\n",
       "      <th>min</th>\n",
       "      <td>17.000000</td>\n",
       "      <td>1.228500e+04</td>\n",
       "      <td>1.000000</td>\n",
       "      <td>0.000000</td>\n",
       "      <td>0.000000</td>\n",
       "      <td>1.000000</td>\n",
       "    </tr>\n",
       "    <tr>\n",
       "      <th>25%</th>\n",
       "      <td>28.000000</td>\n",
       "      <td>1.175505e+05</td>\n",
       "      <td>9.000000</td>\n",
       "      <td>0.000000</td>\n",
       "      <td>0.000000</td>\n",
       "      <td>40.000000</td>\n",
       "    </tr>\n",
       "    <tr>\n",
       "      <th>50%</th>\n",
       "      <td>37.000000</td>\n",
       "      <td>1.781445e+05</td>\n",
       "      <td>10.000000</td>\n",
       "      <td>0.000000</td>\n",
       "      <td>0.000000</td>\n",
       "      <td>40.000000</td>\n",
       "    </tr>\n",
       "    <tr>\n",
       "      <th>75%</th>\n",
       "      <td>48.000000</td>\n",
       "      <td>2.376420e+05</td>\n",
       "      <td>12.000000</td>\n",
       "      <td>0.000000</td>\n",
       "      <td>0.000000</td>\n",
       "      <td>45.000000</td>\n",
       "    </tr>\n",
       "    <tr>\n",
       "      <th>max</th>\n",
       "      <td>90.000000</td>\n",
       "      <td>1.490400e+06</td>\n",
       "      <td>16.000000</td>\n",
       "      <td>99999.000000</td>\n",
       "      <td>4356.000000</td>\n",
       "      <td>99.000000</td>\n",
       "    </tr>\n",
       "  </tbody>\n",
       "</table>\n",
       "</div>"
      ],
      "text/plain": [
       "                age        fnlwgt  educational-num  capital-gain  \\\n",
       "count  48842.000000  4.884200e+04     48842.000000  48842.000000   \n",
       "mean      38.643585  1.896641e+05        10.078089   1079.067626   \n",
       "std       13.710510  1.056040e+05         2.570973   7452.019058   \n",
       "min       17.000000  1.228500e+04         1.000000      0.000000   \n",
       "25%       28.000000  1.175505e+05         9.000000      0.000000   \n",
       "50%       37.000000  1.781445e+05        10.000000      0.000000   \n",
       "75%       48.000000  2.376420e+05        12.000000      0.000000   \n",
       "max       90.000000  1.490400e+06        16.000000  99999.000000   \n",
       "\n",
       "       capital-loss  hours-per-week  \n",
       "count  48842.000000    48842.000000  \n",
       "mean      87.502314       40.422382  \n",
       "std      403.004552       12.391444  \n",
       "min        0.000000        1.000000  \n",
       "25%        0.000000       40.000000  \n",
       "50%        0.000000       40.000000  \n",
       "75%        0.000000       45.000000  \n",
       "max     4356.000000       99.000000  "
      ]
     },
     "execution_count": 7,
     "metadata": {},
     "output_type": "execute_result"
    }
   ],
   "source": [
    "df.describe()"
   ]
  },
  {
   "cell_type": "markdown",
   "metadata": {},
   "source": [
    "- 把输入值和输出值分开"
   ]
  },
  {
   "cell_type": "code",
   "execution_count": 8,
   "metadata": {},
   "outputs": [],
   "source": [
    "df['income'] = df['income'].apply(lambda s : s.strip())\n",
    "df.loc[df['income'] == '>50K', 'target'] = 1\n",
    "df.loc[df['income'] != '>50K', 'target'] = 0"
   ]
  },
  {
   "cell_type": "code",
   "execution_count": 9,
   "metadata": {},
   "outputs": [
    {
     "data": {
      "text/html": [
       "<div>\n",
       "<style scoped>\n",
       "    .dataframe tbody tr th:only-of-type {\n",
       "        vertical-align: middle;\n",
       "    }\n",
       "\n",
       "    .dataframe tbody tr th {\n",
       "        vertical-align: top;\n",
       "    }\n",
       "\n",
       "    .dataframe thead th {\n",
       "        text-align: right;\n",
       "    }\n",
       "</style>\n",
       "<table border=\"1\" class=\"dataframe\">\n",
       "  <thead>\n",
       "    <tr style=\"text-align: right;\">\n",
       "      <th></th>\n",
       "      <th>income</th>\n",
       "      <th>target</th>\n",
       "    </tr>\n",
       "  </thead>\n",
       "  <tbody>\n",
       "    <tr>\n",
       "      <th>0</th>\n",
       "      <td>&lt;=50K</td>\n",
       "      <td>0.0</td>\n",
       "    </tr>\n",
       "    <tr>\n",
       "      <th>1</th>\n",
       "      <td>&lt;=50K</td>\n",
       "      <td>0.0</td>\n",
       "    </tr>\n",
       "    <tr>\n",
       "      <th>2</th>\n",
       "      <td>&gt;50K</td>\n",
       "      <td>1.0</td>\n",
       "    </tr>\n",
       "    <tr>\n",
       "      <th>3</th>\n",
       "      <td>&gt;50K</td>\n",
       "      <td>1.0</td>\n",
       "    </tr>\n",
       "    <tr>\n",
       "      <th>4</th>\n",
       "      <td>&lt;=50K</td>\n",
       "      <td>0.0</td>\n",
       "    </tr>\n",
       "  </tbody>\n",
       "</table>\n",
       "</div>"
      ],
      "text/plain": [
       "  income  target\n",
       "0  <=50K     0.0\n",
       "1  <=50K     0.0\n",
       "2   >50K     1.0\n",
       "3   >50K     1.0\n",
       "4  <=50K     0.0"
      ]
     },
     "execution_count": 9,
     "metadata": {},
     "output_type": "execute_result"
    }
   ],
   "source": [
    "df[['income','target']].head()"
   ]
  },
  {
   "cell_type": "code",
   "execution_count": 10,
   "metadata": {},
   "outputs": [],
   "source": [
    "df.drop(columns='income',inplace=True)"
   ]
  },
  {
   "cell_type": "markdown",
   "metadata": {},
   "source": [
    "- 将分类变量和连续变量分开处理"
   ]
  },
  {
   "cell_type": "code",
   "execution_count": 11,
   "metadata": {},
   "outputs": [],
   "source": [
    "cat_columns = ['workclass', 'education', 'marital-status', 'occupation', 'relationship', 'race', \n",
    "               'gender','native-country']\n",
    "num_columns = ['age','fnlwgt','educational-num','capital-gain', 'capital-loss', 'hours-per-week']\n",
    "target_column = \"target\"\n",
    "# 离散类型热编码\n",
    "encode_df = pd.get_dummies(df,columns=cat_columns)"
   ]
  },
  {
   "cell_type": "code",
   "execution_count": 12,
   "metadata": {},
   "outputs": [
    {
     "data": {
      "text/html": [
       "<div>\n",
       "<style scoped>\n",
       "    .dataframe tbody tr th:only-of-type {\n",
       "        vertical-align: middle;\n",
       "    }\n",
       "\n",
       "    .dataframe tbody tr th {\n",
       "        vertical-align: top;\n",
       "    }\n",
       "\n",
       "    .dataframe thead th {\n",
       "        text-align: right;\n",
       "    }\n",
       "</style>\n",
       "<table border=\"1\" class=\"dataframe\">\n",
       "  <thead>\n",
       "    <tr style=\"text-align: right;\">\n",
       "      <th></th>\n",
       "      <th>age</th>\n",
       "      <th>fnlwgt</th>\n",
       "      <th>educational-num</th>\n",
       "      <th>capital-gain</th>\n",
       "      <th>capital-loss</th>\n",
       "      <th>hours-per-week</th>\n",
       "      <th>target</th>\n",
       "      <th>workclass_?</th>\n",
       "      <th>workclass_Federal-gov</th>\n",
       "      <th>workclass_Local-gov</th>\n",
       "      <th>...</th>\n",
       "      <th>native-country_Portugal</th>\n",
       "      <th>native-country_Puerto-Rico</th>\n",
       "      <th>native-country_Scotland</th>\n",
       "      <th>native-country_South</th>\n",
       "      <th>native-country_Taiwan</th>\n",
       "      <th>native-country_Thailand</th>\n",
       "      <th>native-country_Trinadad&amp;Tobago</th>\n",
       "      <th>native-country_United-States</th>\n",
       "      <th>native-country_Vietnam</th>\n",
       "      <th>native-country_Yugoslavia</th>\n",
       "    </tr>\n",
       "  </thead>\n",
       "  <tbody>\n",
       "    <tr>\n",
       "      <th>0</th>\n",
       "      <td>25</td>\n",
       "      <td>226802</td>\n",
       "      <td>7</td>\n",
       "      <td>0</td>\n",
       "      <td>0</td>\n",
       "      <td>40</td>\n",
       "      <td>0.0</td>\n",
       "      <td>0</td>\n",
       "      <td>0</td>\n",
       "      <td>0</td>\n",
       "      <td>...</td>\n",
       "      <td>0</td>\n",
       "      <td>0</td>\n",
       "      <td>0</td>\n",
       "      <td>0</td>\n",
       "      <td>0</td>\n",
       "      <td>0</td>\n",
       "      <td>0</td>\n",
       "      <td>1</td>\n",
       "      <td>0</td>\n",
       "      <td>0</td>\n",
       "    </tr>\n",
       "    <tr>\n",
       "      <th>1</th>\n",
       "      <td>38</td>\n",
       "      <td>89814</td>\n",
       "      <td>9</td>\n",
       "      <td>0</td>\n",
       "      <td>0</td>\n",
       "      <td>50</td>\n",
       "      <td>0.0</td>\n",
       "      <td>0</td>\n",
       "      <td>0</td>\n",
       "      <td>0</td>\n",
       "      <td>...</td>\n",
       "      <td>0</td>\n",
       "      <td>0</td>\n",
       "      <td>0</td>\n",
       "      <td>0</td>\n",
       "      <td>0</td>\n",
       "      <td>0</td>\n",
       "      <td>0</td>\n",
       "      <td>1</td>\n",
       "      <td>0</td>\n",
       "      <td>0</td>\n",
       "    </tr>\n",
       "    <tr>\n",
       "      <th>2</th>\n",
       "      <td>28</td>\n",
       "      <td>336951</td>\n",
       "      <td>12</td>\n",
       "      <td>0</td>\n",
       "      <td>0</td>\n",
       "      <td>40</td>\n",
       "      <td>1.0</td>\n",
       "      <td>0</td>\n",
       "      <td>0</td>\n",
       "      <td>1</td>\n",
       "      <td>...</td>\n",
       "      <td>0</td>\n",
       "      <td>0</td>\n",
       "      <td>0</td>\n",
       "      <td>0</td>\n",
       "      <td>0</td>\n",
       "      <td>0</td>\n",
       "      <td>0</td>\n",
       "      <td>1</td>\n",
       "      <td>0</td>\n",
       "      <td>0</td>\n",
       "    </tr>\n",
       "    <tr>\n",
       "      <th>3</th>\n",
       "      <td>44</td>\n",
       "      <td>160323</td>\n",
       "      <td>10</td>\n",
       "      <td>7688</td>\n",
       "      <td>0</td>\n",
       "      <td>40</td>\n",
       "      <td>1.0</td>\n",
       "      <td>0</td>\n",
       "      <td>0</td>\n",
       "      <td>0</td>\n",
       "      <td>...</td>\n",
       "      <td>0</td>\n",
       "      <td>0</td>\n",
       "      <td>0</td>\n",
       "      <td>0</td>\n",
       "      <td>0</td>\n",
       "      <td>0</td>\n",
       "      <td>0</td>\n",
       "      <td>1</td>\n",
       "      <td>0</td>\n",
       "      <td>0</td>\n",
       "    </tr>\n",
       "    <tr>\n",
       "      <th>4</th>\n",
       "      <td>18</td>\n",
       "      <td>103497</td>\n",
       "      <td>10</td>\n",
       "      <td>0</td>\n",
       "      <td>0</td>\n",
       "      <td>30</td>\n",
       "      <td>0.0</td>\n",
       "      <td>1</td>\n",
       "      <td>0</td>\n",
       "      <td>0</td>\n",
       "      <td>...</td>\n",
       "      <td>0</td>\n",
       "      <td>0</td>\n",
       "      <td>0</td>\n",
       "      <td>0</td>\n",
       "      <td>0</td>\n",
       "      <td>0</td>\n",
       "      <td>0</td>\n",
       "      <td>1</td>\n",
       "      <td>0</td>\n",
       "      <td>0</td>\n",
       "    </tr>\n",
       "  </tbody>\n",
       "</table>\n",
       "<p>5 rows × 109 columns</p>\n",
       "</div>"
      ],
      "text/plain": [
       "   age  fnlwgt  educational-num  capital-gain  capital-loss  hours-per-week  \\\n",
       "0   25  226802                7             0             0              40   \n",
       "1   38   89814                9             0             0              50   \n",
       "2   28  336951               12             0             0              40   \n",
       "3   44  160323               10          7688             0              40   \n",
       "4   18  103497               10             0             0              30   \n",
       "\n",
       "   target  workclass_?  workclass_Federal-gov  workclass_Local-gov  \\\n",
       "0     0.0            0                      0                    0   \n",
       "1     0.0            0                      0                    0   \n",
       "2     1.0            0                      0                    1   \n",
       "3     1.0            0                      0                    0   \n",
       "4     0.0            1                      0                    0   \n",
       "\n",
       "             ...              native-country_Portugal  \\\n",
       "0            ...                                    0   \n",
       "1            ...                                    0   \n",
       "2            ...                                    0   \n",
       "3            ...                                    0   \n",
       "4            ...                                    0   \n",
       "\n",
       "   native-country_Puerto-Rico  native-country_Scotland  native-country_South  \\\n",
       "0                           0                        0                     0   \n",
       "1                           0                        0                     0   \n",
       "2                           0                        0                     0   \n",
       "3                           0                        0                     0   \n",
       "4                           0                        0                     0   \n",
       "\n",
       "   native-country_Taiwan  native-country_Thailand  \\\n",
       "0                      0                        0   \n",
       "1                      0                        0   \n",
       "2                      0                        0   \n",
       "3                      0                        0   \n",
       "4                      0                        0   \n",
       "\n",
       "   native-country_Trinadad&Tobago  native-country_United-States  \\\n",
       "0                               0                             1   \n",
       "1                               0                             1   \n",
       "2                               0                             1   \n",
       "3                               0                             1   \n",
       "4                               0                             1   \n",
       "\n",
       "   native-country_Vietnam  native-country_Yugoslavia  \n",
       "0                       0                          0  \n",
       "1                       0                          0  \n",
       "2                       0                          0  \n",
       "3                       0                          0  \n",
       "4                       0                          0  \n",
       "\n",
       "[5 rows x 109 columns]"
      ]
     },
     "execution_count": 12,
     "metadata": {},
     "output_type": "execute_result"
    }
   ],
   "source": [
    "encode_df.head()"
   ]
  },
  {
   "cell_type": "markdown",
   "metadata": {},
   "source": [
    "- 热编码处理后特征类型显著增加"
   ]
  },
  {
   "cell_type": "code",
   "execution_count": 13,
   "metadata": {},
   "outputs": [],
   "source": [
    "# 提取输入和输出\n",
    "df_x = encode_df.drop(columns=target_column)\n",
    "df_y = encode_df[target_column]\n",
    "df_y = df_y.values"
   ]
  },
  {
   "cell_type": "code",
   "execution_count": 14,
   "metadata": {},
   "outputs": [],
   "source": [
    "# 处理连续特征\n",
    "num_mean = df_x[num_columns].mean()\n",
    "num_std = df_x[num_columns].std()\n",
    "num_normal = (df_x[num_columns]-num_mean)/num_std"
   ]
  },
  {
   "cell_type": "code",
   "execution_count": 15,
   "metadata": {},
   "outputs": [],
   "source": [
    "# 离散特征和连续特征合并\n",
    "df_x = df_x.drop(columns=num_columns)       # 删去连续特征\n",
    "df_x = pd.concat([df_x,num_normal],axis=1)  # 加上处理好的连续特征\n",
    "df_x = df_x.values"
   ]
  },
  {
   "cell_type": "markdown",
   "metadata": {},
   "source": [
    "- 划分数据集"
   ]
  },
  {
   "cell_type": "code",
   "execution_count": 16,
   "metadata": {},
   "outputs": [
    {
     "name": "stderr",
     "output_type": "stream",
     "text": [
      "C:\\ProgramData\\Anaconda3\\lib\\site-packages\\sklearn\\model_selection\\_split.py:1788: FutureWarning: From version 0.21, test_size will always complement train_size unless both are specified.\n",
      "  FutureWarning)\n"
     ]
    }
   ],
   "source": [
    "s = StratifiedShuffleSplit(n_splits=2,train_size=0.7)  # 按0.7的比例划分数据集\n",
    "for train_index,test_index in s.split(df_x,df_y):      # 划分两份，取最后一份\n",
    "    trainx,testx = df_x[train_index],df_x[test_index]\n",
    "    trainy,testy = df_y[train_index],df_y[test_index]"
   ]
  },
  {
   "cell_type": "markdown",
   "metadata": {},
   "source": [
    "#### 实践"
   ]
  },
  {
   "cell_type": "code",
   "execution_count": 23,
   "metadata": {},
   "outputs": [
    {
     "name": "stdout",
     "output_type": "stream",
     "text": [
      "loop is 0,loss is 0.8750692766597591\n",
      "loop is 50,loss is 0.8324163465128607\n",
      "loop is 100,loss is 0.8319405918085522\n",
      "loop is 150,loss is 0.8319350249204999\n",
      "loop is 200,loss is 0.8319349592942512\n",
      "loop is 250,loss is 0.8319349585201841\n",
      "loop is 300,loss is 0.831934958511219\n",
      "loop is 350,loss is 0.8319349585110698\n",
      "loop is 400,loss is 0.8319349585109334\n",
      "loop is 450,loss is 0.8319349585107005\n"
     ]
    },
    {
     "data": {
      "text/plain": [
       "array([-1.95864   , -0.43025302, -0.3698208 ,  0.09338737, -0.35165188,\n",
       "       -0.17161705,  0.51179327,  0.09412238,  0.01197708, -0.20043527,\n",
       "       -0.40875503, -2.88430279,  0.10948882,  0.37329404, -0.4465674 ,\n",
       "       -0.02590794,  0.63039002, -0.12031312, -0.01045492, -0.05091531,\n",
       "       -0.51783529, -0.79520234,  0.10885873, -0.37591035,  0.46701341,\n",
       "       -0.02748917, -1.23186293,  0.50702064, -0.76184077,  1.22096098,\n",
       "        0.89395474,  0.20350879, -0.62997936, -1.72566553,  0.91927027,\n",
       "       -1.2797127 ,  2.52177227,  0.27190588, -0.29794118,  0.13065064,\n",
       "        1.44148271,  1.21054996, -0.54092918,  2.02647879, -0.06625092,\n",
       "       -1.1316354 ,  0.02019162, -0.18515121, -0.77178589, -1.29693103,\n",
       "        1.27428676, -0.3897234 ,  0.30266017,  0.64736505,  1.79061586,\n",
       "       -0.42218175,  1.54544825,  0.57554414, -3.6187751 , -0.65229954,\n",
       "        0.64698041,  0.0658244 , -1.37952008, -1.18530113, -0.93625442,\n",
       "       -0.33260501,  0.40264779, -0.40579135, -0.73445165,  1.53519326,\n",
       "       -0.18308677,  0.66998811,  3.00312271, -0.32944959,  1.22811059,\n",
       "        1.65803724,  2.6739373 , -2.49462192,  0.60573707, -0.06373389,\n",
       "       -0.71103194, -2.28294783,  0.1666882 , -0.93754243,  1.05156566,\n",
       "        1.39100869,  1.53175652, -0.08795255,  0.6119035 , -0.67843839,\n",
       "        1.74017195, -0.44041754, -0.27146238, -0.37511313,  1.69544887,\n",
       "       -0.65260411,  1.63558405, -0.50913228, -0.83251508, -1.59171891,\n",
       "        0.90107967, -0.11985376,  0.71783815,  1.7326044 , -0.04238047,\n",
       "        0.18630178,  0.40420988,  0.91105414])"
      ]
     },
     "execution_count": 23,
     "metadata": {},
     "output_type": "execute_result"
    }
   ],
   "source": [
    "model = logistic(500,0,0.00002)\n",
    "model.train(trainx,trainy)"
   ]
  },
  {
   "cell_type": "markdown",
   "metadata": {},
   "source": [
    "- 计算准确率"
   ]
  },
  {
   "cell_type": "code",
   "execution_count": 24,
   "metadata": {},
   "outputs": [
    {
     "data": {
      "text/plain": [
       "0.7248720573183214"
      ]
     },
     "execution_count": 24,
     "metadata": {},
     "output_type": "execute_result"
    }
   ],
   "source": [
    "a = [model.predict(testx[i]) for i in range(len(testx))]\n",
    "b = [int(testy[i]) for i in range(len(testx))]\n",
    "c = [1 for i in range(len(testx)) if a[i]==b[i]]     # 如果分类正确则加1\n",
    "(len(c)/len(testx))"
   ]
  },
  {
   "cell_type": "markdown",
   "metadata": {},
   "source": [
    "#### 使用sklearn"
   ]
  },
  {
   "cell_type": "markdown",
   "metadata": {},
   "source": [
    "- 导入模型"
   ]
  },
  {
   "cell_type": "code",
   "execution_count": 25,
   "metadata": {},
   "outputs": [],
   "source": [
    "from sklearn.linear_model import SGDClassifier\n",
    "lr = SGDClassifier(loss=\"log\",max_iter = 100)"
   ]
  },
  {
   "cell_type": "markdown",
   "metadata": {},
   "source": [
    "- 计算准确率"
   ]
  },
  {
   "cell_type": "code",
   "execution_count": 26,
   "metadata": {},
   "outputs": [
    {
     "name": "stderr",
     "output_type": "stream",
     "text": [
      "C:\\ProgramData\\Anaconda3\\lib\\site-packages\\sklearn\\linear_model\\stochastic_gradient.py:183: FutureWarning: max_iter and tol parameters have been added in SGDClassifier in 0.19. If max_iter is set but tol is left unset, the default value for tol in 0.19 and 0.20 will be None (which is equivalent to -infinity, so it has no effect) but will change in 0.21 to 1e-3. Specify tol to silence this warning.\n",
      "  FutureWarning)\n"
     ]
    },
    {
     "data": {
      "text/plain": [
       "0.8528147389969294"
      ]
     },
     "execution_count": 26,
     "metadata": {},
     "output_type": "execute_result"
    }
   ],
   "source": [
    "lr.fit(trainx,trainy)\n",
    "lr.score(testx,testy)"
   ]
  },
  {
   "cell_type": "markdown",
   "metadata": {},
   "source": [
    "#### 模型评估"
   ]
  },
  {
   "cell_type": "code",
   "execution_count": 27,
   "metadata": {},
   "outputs": [],
   "source": [
    "from sklearn.metrics import roc_auc_score,precision_recall_curve,classification_report,roc_curve"
   ]
  },
  {
   "cell_type": "code",
   "execution_count": 28,
   "metadata": {},
   "outputs": [],
   "source": [
    "pred = lr.predict_proba(testx)[:,1]\n",
    "pred_labels = lr.predict(testx)"
   ]
  },
  {
   "cell_type": "code",
   "execution_count": 29,
   "metadata": {},
   "outputs": [
    {
     "data": {
      "text/plain": [
       "(array([0.48642158, 0.7973612 , 0.00234823, ..., 0.0671007 , 0.42548827,\n",
       "        0.68888269]), array([0., 1., 0., ..., 0., 0., 1.]))"
      ]
     },
     "execution_count": 29,
     "metadata": {},
     "output_type": "execute_result"
    }
   ],
   "source": [
    "pred,pred_labels"
   ]
  },
  {
   "cell_type": "markdown",
   "metadata": {},
   "source": [
    "- AUC值"
   ]
  },
  {
   "cell_type": "code",
   "execution_count": 30,
   "metadata": {},
   "outputs": [],
   "source": [
    "?roc_auc_score"
   ]
  },
  {
   "cell_type": "code",
   "execution_count": 154,
   "metadata": {},
   "outputs": [
    {
     "name": "stdout",
     "output_type": "stream",
     "text": [
      "0.9070236813778256\n"
     ]
    }
   ],
   "source": [
    "print(roc_auc_score(testy,pred))"
   ]
  },
  {
   "cell_type": "code",
   "execution_count": 31,
   "metadata": {},
   "outputs": [
    {
     "name": "stdout",
     "output_type": "stream",
     "text": [
      "              precision    recall  f1-score   support\n",
      "\n",
      "         0.0       0.88      0.93      0.91      3716\n",
      "         1.0       0.74      0.60      0.66      1169\n",
      "\n",
      "   micro avg       0.85      0.85      0.85      4885\n",
      "   macro avg       0.81      0.77      0.78      4885\n",
      "weighted avg       0.85      0.85      0.85      4885\n",
      "\n"
     ]
    }
   ],
   "source": [
    "print(classification_report(testy,pred_labels))"
   ]
  },
  {
   "cell_type": "code",
   "execution_count": 32,
   "metadata": {},
   "outputs": [],
   "source": [
    "import matplotlib.pyplot as plt\n",
    "plt.style.use('seaborn')"
   ]
  },
  {
   "cell_type": "markdown",
   "metadata": {},
   "source": [
    "- P-R曲线"
   ]
  },
  {
   "cell_type": "code",
   "execution_count": 33,
   "metadata": {},
   "outputs": [
    {
     "data": {
      "text/plain": [
       "[<matplotlib.lines.Line2D at 0x293dd389a20>]"
      ]
     },
     "execution_count": 33,
     "metadata": {},
     "output_type": "execute_result"
    },
    {
     "data": {
      "image/png": "[encoded data removed]",
      "text/plain": [
       "<Figure size 432x288 with 1 Axes>"
      ]
     },
     "metadata": {
      "needs_background": "light"
     },
     "output_type": "display_data"
    }
   ],
   "source": [
    "precision,recall,_ = precision_recall_curve(testy,pred)\n",
    "plt.plot(recall,precision)"
   ]
  },
  {
   "cell_type": "code",
   "execution_count": 34,
   "metadata": {},
   "outputs": [
    {
     "data": {
      "text/plain": [
       "[<matplotlib.lines.Line2D at 0x293ddee06d8>]"
      ]
     },
     "execution_count": 34,
     "metadata": {},
     "output_type": "execute_result"
    },
    {
     "data": {
      "image/png": "[encoded data removed]",
      "text/plain": [
       "<Figure size 432x288 with 1 Axes>"
      ]
     },
     "metadata": {
      "needs_background": "light"
     },
     "output_type": "display_data"
    }
   ],
   "source": [
    "fpr,tpr,_ = roc_curve(testy,pred)\n",
    "plt.plot(fpr,tpr)"
   ]
  },
  {
   "cell_type": "markdown",
   "metadata": {},
   "source": [
    "### 非线性回归"
   ]
  },
  {
   "cell_type": "markdown",
   "metadata": {},
   "source": [
    "#### 梯度提升\n",
    "##### GradientBoosting"
   ]
  },
  {
   "cell_type": "code",
   "execution_count": 35,
   "metadata": {},
   "outputs": [
    {
     "data": {
      "text/plain": [
       "GradientBoostingClassifier(criterion='friedman_mse', init=None,\n",
       "              learning_rate=0.1, loss='deviance', max_depth=6,\n",
       "              max_features=None, max_leaf_nodes=None,\n",
       "              min_impurity_decrease=0.0, min_impurity_split=None,\n",
       "              min_samples_leaf=1, min_samples_split=2,\n",
       "              min_weight_fraction_leaf=0.0, n_estimators=100,\n",
       "              n_iter_no_change=None, presort='auto', random_state=None,\n",
       "              subsample=1.0, tol=0.0001, validation_fraction=0.1,\n",
       "              verbose=0, warm_start=False)"
      ]
     },
     "execution_count": 35,
     "metadata": {},
     "output_type": "execute_result"
    }
   ],
   "source": [
    "from sklearn.ensemble import GradientBoostingClassifier\n",
    "rfc = GradientBoostingClassifier(max_depth=6)\n",
    "rfc.fit(trainx,trainy)"
   ]
  },
  {
   "cell_type": "markdown",
   "metadata": {},
   "source": [
    "- 准确性"
   ]
  },
  {
   "cell_type": "code",
   "execution_count": 40,
   "metadata": {},
   "outputs": [
    {
     "data": {
      "text/plain": [
       "0.8761514841351075"
      ]
     },
     "execution_count": 40,
     "metadata": {},
     "output_type": "execute_result"
    }
   ],
   "source": [
    "rfc.score(testx,testy)"
   ]
  },
  {
   "cell_type": "markdown",
   "metadata": {},
   "source": [
    "- AUC"
   ]
  },
  {
   "cell_type": "code",
   "execution_count": 62,
   "metadata": {},
   "outputs": [],
   "source": [
    "pred = rfc.predict_proba(testx)[:,1]\n",
    "pred_labels = rfc.predict(testx)"
   ]
  },
  {
   "cell_type": "code",
   "execution_count": 66,
   "metadata": {},
   "outputs": [
    {
     "name": "stdout",
     "output_type": "stream",
     "text": [
      "0.9300269981335193\n",
      "\n",
      "\n",
      "              precision    recall  f1-score   support\n",
      "\n",
      "         0.0       0.90      0.95      0.92      3716\n",
      "         1.0       0.79      0.65      0.72      1169\n",
      "\n",
      "   micro avg       0.88      0.88      0.88      4885\n",
      "   macro avg       0.85      0.80      0.82      4885\n",
      "weighted avg       0.87      0.88      0.87      4885\n",
      "\n"
     ]
    }
   ],
   "source": [
    "print(roc_auc_score(testy,pred))\n",
    "print('\\n')\n",
    "print(classification_report(testy,pred_labels))"
   ]
  },
  {
   "cell_type": "markdown",
   "metadata": {},
   "source": [
    "##### XGboost"
   ]
  },
  {
   "cell_type": "code",
   "execution_count": 37,
   "metadata": {},
   "outputs": [],
   "source": [
    "import xgboost as xgb"
   ]
  },
  {
   "cell_type": "code",
   "execution_count": 41,
   "metadata": {},
   "outputs": [],
   "source": [
    "clf = xgb.XGBClassifier(max_depth = 7, learning_rate = 0.1, sub_sample = 0.7,\n",
    "                         n_estimators = 20, reg_alpha = 0.1, reg_lambda = 1,colsample_bytree = 0.7)"
   ]
  },
  {
   "cell_type": "markdown",
   "metadata": {},
   "source": [
    "- clf.fit中的X,y参数最好是pd的形式,numpy的array不行"
   ]
  },
  {
   "cell_type": "code",
   "execution_count": 57,
   "metadata": {},
   "outputs": [],
   "source": [
    "X_train = pd.DataFrame(trainx)\n",
    "y_train = pd.DataFrame(trainy)\n",
    "X_test = pd.DataFrame(testx)\n",
    "y_test = pd.DataFrame(testy)"
   ]
  },
  {
   "cell_type": "code",
   "execution_count": 59,
   "metadata": {},
   "outputs": [
    {
     "name": "stderr",
     "output_type": "stream",
     "text": [
      "C:\\ProgramData\\Anaconda3\\lib\\site-packages\\sklearn\\preprocessing\\label.py:219: DataConversionWarning: A column-vector y was passed when a 1d array was expected. Please change the shape of y to (n_samples, ), for example using ravel().\n",
      "  y = column_or_1d(y, warn=True)\n",
      "C:\\ProgramData\\Anaconda3\\lib\\site-packages\\sklearn\\preprocessing\\label.py:252: DataConversionWarning: A column-vector y was passed when a 1d array was expected. Please change the shape of y to (n_samples, ), for example using ravel().\n",
      "  y = column_or_1d(y, warn=True)\n"
     ]
    },
    {
     "name": "stdout",
     "output_type": "stream",
     "text": [
      "[0]\tvalidation_0-auc:0.866098\tvalidation_1-auc:0.858254\n",
      "[1]\tvalidation_0-auc:0.908264\tvalidation_1-auc:0.906094\n",
      "[2]\tvalidation_0-auc:0.911936\tvalidation_1-auc:0.908729\n",
      "[3]\tvalidation_0-auc:0.911696\tvalidation_1-auc:0.90919\n",
      "[4]\tvalidation_0-auc:0.915702\tvalidation_1-auc:0.913186\n",
      "[5]\tvalidation_0-auc:0.916872\tvalidation_1-auc:0.913793\n",
      "[6]\tvalidation_0-auc:0.918326\tvalidation_1-auc:0.915086\n",
      "[7]\tvalidation_0-auc:0.918133\tvalidation_1-auc:0.914551\n",
      "[8]\tvalidation_0-auc:0.919402\tvalidation_1-auc:0.915363\n",
      "[9]\tvalidation_0-auc:0.920136\tvalidation_1-auc:0.916074\n",
      "[10]\tvalidation_0-auc:0.920327\tvalidation_1-auc:0.916475\n",
      "[11]\tvalidation_0-auc:0.921115\tvalidation_1-auc:0.917164\n",
      "[12]\tvalidation_0-auc:0.922272\tvalidation_1-auc:0.917886\n",
      "[13]\tvalidation_0-auc:0.922882\tvalidation_1-auc:0.918429\n",
      "[14]\tvalidation_0-auc:0.923217\tvalidation_1-auc:0.918478\n",
      "[15]\tvalidation_0-auc:0.92366\tvalidation_1-auc:0.91884\n",
      "[16]\tvalidation_0-auc:0.924151\tvalidation_1-auc:0.919326\n",
      "[17]\tvalidation_0-auc:0.924604\tvalidation_1-auc:0.919424\n",
      "[18]\tvalidation_0-auc:0.925312\tvalidation_1-auc:0.919602\n",
      "[19]\tvalidation_0-auc:0.925645\tvalidation_1-auc:0.920069\n"
     ]
    },
    {
     "data": {
      "text/plain": [
       "XGBClassifier(base_score=0.5, booster='gbtree', colsample_bylevel=1,\n",
       "       colsample_bynode=1, colsample_bytree=0.7, gamma=0,\n",
       "       learning_rate=0.1, max_delta_step=0, max_depth=7,\n",
       "       min_child_weight=1, missing=None, n_estimators=20, n_jobs=1,\n",
       "       nthread=None, objective='binary:logistic', random_state=0,\n",
       "       reg_alpha=0.1, reg_lambda=1, scale_pos_weight=1, seed=None,\n",
       "       silent=None, sub_sample=0.7, subsample=1, verbosity=1)"
      ]
     },
     "execution_count": 59,
     "metadata": {},
     "output_type": "execute_result"
    }
   ],
   "source": [
    "clf.fit(X_train,y_train,eval_set=[(X_train,y_train),(X_test,y_test)],eval_metric='auc')"
   ]
  },
  {
   "cell_type": "markdown",
   "metadata": {},
   "source": [
    "##### LightGBM"
   ]
  },
  {
   "cell_type": "code",
   "execution_count": 60,
   "metadata": {},
   "outputs": [],
   "source": [
    "import lightgbm as lgb"
   ]
  },
  {
   "cell_type": "code",
   "execution_count": 81,
   "metadata": {},
   "outputs": [
    {
     "name": "stdout",
     "output_type": "stream",
     "text": [
      "[1]\ttraining's auc: 0.894143\ttraining's binary_logloss: 0.508671\tvalid_1's auc: 0.896262\tvalid_1's binary_logloss: 0.508634\n",
      "[2]\ttraining's auc: 0.902191\ttraining's binary_logloss: 0.476314\tvalid_1's auc: 0.901876\tvalid_1's binary_logloss: 0.476679\n",
      "[3]\ttraining's auc: 0.908912\ttraining's binary_logloss: 0.450728\tvalid_1's auc: 0.908191\tvalid_1's binary_logloss: 0.451583\n",
      "[4]\ttraining's auc: 0.909913\ttraining's binary_logloss: 0.429756\tvalid_1's auc: 0.908351\tvalid_1's binary_logloss: 0.431085\n",
      "[5]\ttraining's auc: 0.91138\ttraining's binary_logloss: 0.412211\tvalid_1's auc: 0.910172\tvalid_1's binary_logloss: 0.413849\n",
      "[6]\ttraining's auc: 0.911898\ttraining's binary_logloss: 0.397526\tvalid_1's auc: 0.910436\tvalid_1's binary_logloss: 0.399712\n",
      "[7]\ttraining's auc: 0.912556\ttraining's binary_logloss: 0.384785\tvalid_1's auc: 0.910737\tvalid_1's binary_logloss: 0.387317\n",
      "[8]\ttraining's auc: 0.91316\ttraining's binary_logloss: 0.373711\tvalid_1's auc: 0.911543\tvalid_1's binary_logloss: 0.376461\n",
      "[9]\ttraining's auc: 0.914285\ttraining's binary_logloss: 0.364216\tvalid_1's auc: 0.912533\tvalid_1's binary_logloss: 0.367193\n",
      "[10]\ttraining's auc: 0.915105\ttraining's binary_logloss: 0.35552\tvalid_1's auc: 0.913455\tvalid_1's binary_logloss: 0.358585\n",
      "[11]\ttraining's auc: 0.916843\ttraining's binary_logloss: 0.347789\tvalid_1's auc: 0.914357\tvalid_1's binary_logloss: 0.351146\n",
      "[12]\ttraining's auc: 0.917461\ttraining's binary_logloss: 0.341121\tvalid_1's auc: 0.914897\tvalid_1's binary_logloss: 0.344338\n",
      "[13]\ttraining's auc: 0.918339\ttraining's binary_logloss: 0.336122\tvalid_1's auc: 0.915919\tvalid_1's binary_logloss: 0.339127\n",
      "[14]\ttraining's auc: 0.918859\ttraining's binary_logloss: 0.330709\tvalid_1's auc: 0.916366\tvalid_1's binary_logloss: 0.333733\n",
      "[15]\ttraining's auc: 0.919721\ttraining's binary_logloss: 0.325647\tvalid_1's auc: 0.917213\tvalid_1's binary_logloss: 0.328657\n",
      "[16]\ttraining's auc: 0.920458\ttraining's binary_logloss: 0.322006\tvalid_1's auc: 0.917781\tvalid_1's binary_logloss: 0.325149\n",
      "[17]\ttraining's auc: 0.920875\ttraining's binary_logloss: 0.318281\tvalid_1's auc: 0.918108\tvalid_1's binary_logloss: 0.321537\n",
      "[18]\ttraining's auc: 0.921627\ttraining's binary_logloss: 0.314403\tvalid_1's auc: 0.918606\tvalid_1's binary_logloss: 0.317863\n",
      "[19]\ttraining's auc: 0.922239\ttraining's binary_logloss: 0.31112\tvalid_1's auc: 0.919205\tvalid_1's binary_logloss: 0.314716\n",
      "[20]\ttraining's auc: 0.922779\ttraining's binary_logloss: 0.308011\tvalid_1's auc: 0.91953\tvalid_1's binary_logloss: 0.311779\n",
      "[21]\ttraining's auc: 0.923536\ttraining's binary_logloss: 0.305055\tvalid_1's auc: 0.920197\tvalid_1's binary_logloss: 0.308897\n",
      "[22]\ttraining's auc: 0.923974\ttraining's binary_logloss: 0.302515\tvalid_1's auc: 0.92069\tvalid_1's binary_logloss: 0.306299\n",
      "[23]\ttraining's auc: 0.924455\ttraining's binary_logloss: 0.300193\tvalid_1's auc: 0.921368\tvalid_1's binary_logloss: 0.30402\n",
      "[24]\ttraining's auc: 0.924934\ttraining's binary_logloss: 0.298128\tvalid_1's auc: 0.921783\tvalid_1's binary_logloss: 0.30212\n",
      "[25]\ttraining's auc: 0.925439\ttraining's binary_logloss: 0.296071\tvalid_1's auc: 0.922236\tvalid_1's binary_logloss: 0.300175\n",
      "[26]\ttraining's auc: 0.925908\ttraining's binary_logloss: 0.294266\tvalid_1's auc: 0.922599\tvalid_1's binary_logloss: 0.298517\n",
      "[27]\ttraining's auc: 0.926217\ttraining's binary_logloss: 0.292691\tvalid_1's auc: 0.922872\tvalid_1's binary_logloss: 0.297004\n",
      "[28]\ttraining's auc: 0.926543\ttraining's binary_logloss: 0.291197\tvalid_1's auc: 0.923242\tvalid_1's binary_logloss: 0.295469\n",
      "[29]\ttraining's auc: 0.926862\ttraining's binary_logloss: 0.289802\tvalid_1's auc: 0.92355\tvalid_1's binary_logloss: 0.294029\n",
      "[30]\ttraining's auc: 0.927145\ttraining's binary_logloss: 0.288534\tvalid_1's auc: 0.923718\tvalid_1's binary_logloss: 0.292947\n",
      "[31]\ttraining's auc: 0.92751\ttraining's binary_logloss: 0.287367\tvalid_1's auc: 0.924033\tvalid_1's binary_logloss: 0.29184\n",
      "[32]\ttraining's auc: 0.927874\ttraining's binary_logloss: 0.286355\tvalid_1's auc: 0.924247\tvalid_1's binary_logloss: 0.290974\n",
      "[33]\ttraining's auc: 0.928336\ttraining's binary_logloss: 0.28517\tvalid_1's auc: 0.924543\tvalid_1's binary_logloss: 0.289944\n",
      "[34]\ttraining's auc: 0.92864\ttraining's binary_logloss: 0.284189\tvalid_1's auc: 0.924766\tvalid_1's binary_logloss: 0.289156\n",
      "[35]\ttraining's auc: 0.929027\ttraining's binary_logloss: 0.283158\tvalid_1's auc: 0.925214\tvalid_1's binary_logloss: 0.288029\n",
      "[36]\ttraining's auc: 0.929595\ttraining's binary_logloss: 0.281774\tvalid_1's auc: 0.925799\tvalid_1's binary_logloss: 0.28667\n",
      "[37]\ttraining's auc: 0.929897\ttraining's binary_logloss: 0.280847\tvalid_1's auc: 0.925975\tvalid_1's binary_logloss: 0.285965\n",
      "[38]\ttraining's auc: 0.930419\ttraining's binary_logloss: 0.27958\tvalid_1's auc: 0.926502\tvalid_1's binary_logloss: 0.284684\n",
      "[39]\ttraining's auc: 0.930681\ttraining's binary_logloss: 0.27886\tvalid_1's auc: 0.926588\tvalid_1's binary_logloss: 0.284265\n",
      "[40]\ttraining's auc: 0.930902\ttraining's binary_logloss: 0.278194\tvalid_1's auc: 0.926629\tvalid_1's binary_logloss: 0.283915\n"
     ]
    },
    {
     "data": {
      "text/plain": [
       "LGBMClassifier(boosting_type='gbdt', class_weight=None, colsample_bytree=0.9,\n",
       "        importance_type='split', learning_rate=0.1, max_depth=15,\n",
       "        min_child_samples=20, min_child_weight=0.001, min_split_gain=0.0,\n",
       "        n_estimators=40, n_jobs=-1, num_leaves=31, objective=None,\n",
       "        random_state=None, reg_alpha=0.1, reg_lambda=1, silent=True,\n",
       "        subsample=0.5, subsample_for_bin=200000, subsample_freq=0)"
      ]
     },
     "execution_count": 81,
     "metadata": {},
     "output_type": "execute_result"
    }
   ],
   "source": [
    "clf1 = lgb.LGBMClassifier(boosting_type='gbdt', class_weight=None, colsample_bytree=0.9,\n",
    "        importance_type='split', learning_rate=0.1, max_depth=15,\n",
    "        min_child_samples=20, min_child_weight=0.001, min_split_gain=0.0,\n",
    "        n_estimators=40, n_jobs=-1, num_leaves=31, objective=None,\n",
    "        random_state=None, reg_alpha=0.1, reg_lambda=1, silent=True,\n",
    "        subsample=0.5, subsample_for_bin=200000, subsample_freq=0)\n",
    "clf1.fit(X_train,y_train,eval_set=[(X_train,y_train),(X_test,y_test)],eval_metric='auc')"
   ]
  },
  {
   "cell_type": "markdown",
   "metadata": {},
   "source": [
    "#### 模型评估"
   ]
  },
  {
   "cell_type": "markdown",
   "metadata": {},
   "source": [
    "- lr logisticRegression<br><br>\n",
    "- rfc GradientBoosting<br><br>\n",
    "- clf1 XGboost<br><br>\n",
    "- clf2 LightGBM"
   ]
  },
  {
   "cell_type": "code",
   "execution_count": 84,
   "metadata": {},
   "outputs": [],
   "source": [
    "y_pred1 = lr.predict(X_test)\n",
    "y_true1 = y_test\n",
    "y_score1 = lr.predict_proba(X_test)[:,1]\n",
    "\n",
    "y_pred2 = rfc.predict(X_test)\n",
    "y_true2 = y_test\n",
    "y_score2 = rfc.predict_proba(X_test)[:,1]\n",
    "\n",
    "y_pred3 = clf1.predict(X_test)\n",
    "y_true3 = y_test\n",
    "y_score3 = clf1.predict_proba(X_test)[:,1]\n",
    "\n",
    "y_pred4 = clf2.predict(X_test)\n",
    "y_true4 = y_test\n",
    "y_score4 = clf2.predict_proba(X_test)[:,1]"
   ]
  },
  {
   "cell_type": "code",
   "execution_count": 85,
   "metadata": {},
   "outputs": [],
   "source": [
    "fpr1,tpr1,thresholds1 = roc_curve(y_true1,y_score1,pos_label=1)\n",
    "fpr2,tpr2,thresholds2 = roc_curve(y_true2,y_score2,pos_label=1)\n",
    "fpr3,tpr3,thresholds3 = roc_curve(y_true3,y_score3,pos_label=1)\n",
    "fpr4,tpr4,thresholds4 = roc_curve(y_true4,y_score4,pos_label=1)"
   ]
  },
  {
   "cell_type": "code",
   "execution_count": 89,
   "metadata": {},
   "outputs": [
    {
     "data": {
      "text/plain": [
       "<matplotlib.legend.Legend at 0x293e55fad68>"
      ]
     },
     "execution_count": 89,
     "metadata": {},
     "output_type": "execute_result"
    },
    {
     "data": {
      "image/png": "[encoded data removed]",
      "text/plain": [
       "<Figure size 576x576 with 1 Axes>"
      ]
     },
     "metadata": {
      "needs_background": "light"
     },
     "output_type": "display_data"
    }
   ],
   "source": [
    "plt.figure(figsize=(8,8))\n",
    "plt.plot(fpr1,tpr1,label='Logistc')\n",
    "plt.plot(fpr2,tpr2,label='GB')\n",
    "plt.plot(fpr3,tpr3,label='XGB')\n",
    "plt.plot(fpr4,tpr4,label='LGB')\n",
    "\n",
    "plt.legend()"
   ]
  }
 ],
 "metadata": {
  "kernelspec": {
   "display_name": "Python 3",
   "language": "python",
   "name": "python3"
  },
  "language_info": {
   "codemirror_mode": {
    "name": "ipython",
    "version": 3
   },
   "file_extension": ".py",
   "mimetype": "text/x-python",
   "name": "python",
   "nbconvert_exporter": "python",
   "pygments_lexer": "ipython3",
   "version": "3.7.1"
  },
  "toc": {
   "base_numbering": 1,
   "nav_menu": {},
   "number_sections": true,
   "sideBar": true,
   "skip_h1_title": false,
   "title_cell": "Table of Contents",
   "title_sidebar": "Contents",
   "toc_cell": false,
   "toc_position": {
    "height": "calc(100% - 180px)",
    "left": "10px",
    "top": "150px",
    "width": "165px"
   },
   "toc_section_display": true,
   "toc_window_display": true
  }
 },
 "nbformat": 4,
 "nbformat_minor": 2
}
