{
 "cells": [
  {
   "cell_type": "markdown",
   "metadata": {},
   "source": [
    "### 在排序数组中查找元素的第一个和最后一个位置"
   ]
  },
  {
   "cell_type": "markdown",
   "metadata": {},
   "source": [
    "![微信截图_20190910101137.png](https://i.loli.net/2019/09/10/5EtUz1xwv3VaWjJ.png)"
   ]
  },
  {
   "cell_type": "markdown",
   "metadata": {},
   "source": [
    "- 找出左右两个点的边界条件是不一样的\n",
    "- 目标值大于mid求出左，目标值大于等于mid求出右"
   ]
  },
  {
   "cell_type": "code",
   "execution_count": null,
   "metadata": {},
   "outputs": [],
   "source": [
    "class Solution(object):\n",
    "    def searchRange(self, nums, target):\n",
    "        \"\"\"\n",
    "        :type nums: List[int]\n",
    "        :type target: int\n",
    "        :rtype: List[int]\n",
    "        \"\"\"\n",
    "        def s1(nums,t):\n",
    "            l, r = 0, len(nums)-1\n",
    "            while l <= r:\n",
    "                m = (l+r)//2\n",
    "                if t > nums[m]:\n",
    "                    l = m + 1\n",
    "                else:\n",
    "                    r = m - 1\n",
    "            return l\n",
    "                \n",
    "        def s2(nums,t):\n",
    "            l, r = 0, len(nums)-1\n",
    "            while l <= r:\n",
    "                m = (l+r)//2\n",
    "                if t >= nums[m]:\n",
    "                    l = m + 1\n",
    "                else:\n",
    "                    r = m - 1\n",
    "            return r\n",
    "        \n",
    "        l, r = s1(nums,target), s2(nums,target)\n",
    "        return [l,r] if l <= r else [-1,-1]"
   ]
  },
  {
   "cell_type": "markdown",
   "metadata": {},
   "source": [
    "### 找到K个最接近的元素"
   ]
  },
  {
   "cell_type": "markdown",
   "metadata": {},
   "source": [
    "![微信截图_20190911131004.png](https://i.loli.net/2019/09/12/IoAU9rbXLy2vzCB.png)"
   ]
  },
  {
   "cell_type": "markdown",
   "metadata": {},
   "source": [
    "这道题代码虽然很容易，但思想确很深刻。首先要把问题理解透彻，明白这是一个求解最优区间的问题。进一步地，我们发现区间的长度k是固定的，根据题意，可以知道问题的关键在于区间的左边界取在哪里。所以我们先把左边界的取值范围画出来，然后根据二分法，每一次对左边界的可能值进行比较，最后得到最优解。另外要注意的是，取值范围都是闭合的，所以取值范围的右界不能是m-1."
   ]
  },
  {
   "cell_type": "code",
   "execution_count": null,
   "metadata": {},
   "outputs": [],
   "source": [
    "class Solution(object):\n",
    "    def findClosestElements(self, arr, k, x):\n",
    "        \"\"\"\n",
    "        :type arr: List[int]\n",
    "        :type k: int\n",
    "        :type x: int\n",
    "        :rtype: List[int]\n",
    "        \"\"\"\n",
    "        l, r = 0, len(arr)-k\n",
    "        while l < r:\n",
    "            m = (l+r)//2\n",
    "            if x - arr[m] > arr[m+k] - x:\n",
    "                l = m + 1\n",
    "            else:\n",
    "                r = m\n",
    "        return arr[l:l+k]"
   ]
  },
  {
   "cell_type": "markdown",
   "metadata": {},
   "source": [
    "### Pow(X,Y)"
   ]
  },
  {
   "cell_type": "markdown",
   "metadata": {},
   "source": [
    "![微信截图_20190911141222.png](https://i.loli.net/2019/09/12/XCSWbkti5jhQaHD.png)"
   ]
  },
  {
   "cell_type": "code",
   "execution_count": 9,
   "metadata": {},
   "outputs": [],
   "source": [
    "class Solution(object):\n",
    "    def myPow(self, x, n):\n",
    "        \"\"\"\n",
    "        :type x: float\n",
    "        :type n: int\n",
    "        :rtype: float\n",
    "        \"\"\"\n",
    "        res, flag = 1, True\n",
    "        if n < 0: n, flag = -n, False\n",
    "        while n > 0:\n",
    "            if n % 2 == 0:\n",
    "                x *= x\n",
    "                n //= 2\n",
    "            res *= x\n",
    "            n -= 1\n",
    "        return res if flag else 1/res"
   ]
  },
  {
   "cell_type": "markdown",
   "metadata": {},
   "source": [
    "### 有效的完全平方数"
   ]
  },
  {
   "cell_type": "markdown",
   "metadata": {},
   "source": [
    "![微信截图_20190912131654.png](https://i.loli.net/2019/09/13/LNniR9BlCuMwrOU.png)"
   ]
  },
  {
   "cell_type": "markdown",
   "metadata": {},
   "source": [
    "- 把对应数字想象成从0到该数字的一个取值范围，在这个范围内进行二分查找，查找条件是m\\*m==num"
   ]
  },
  {
   "cell_type": "code",
   "execution_count": null,
   "metadata": {},
   "outputs": [],
   "source": [
    "class Solution(object):\n",
    "    def isPerfectSquare(self, num):\n",
    "        \"\"\"\n",
    "        :type num: int\n",
    "        :rtype: bool\n",
    "        \"\"\"\n",
    "        if num == 1: return True\n",
    "        l, r = 0, num//2\n",
    "        while l <= r:\n",
    "            m = (l+r)//2\n",
    "            if m*m == num:\n",
    "                return True\n",
    "            elif m*m > num:\n",
    "                r = m - 1\n",
    "            else:\n",
    "                l = m + 1\n",
    "        return False"
   ]
  },
  {
   "cell_type": "markdown",
   "metadata": {},
   "source": [
    "- 递归解法"
   ]
  },
  {
   "cell_type": "code",
   "execution_count": null,
   "metadata": {},
   "outputs": [],
   "source": [
    "class Solution(object):\n",
    "    def isPerfectSquare(self, num):\n",
    "        \"\"\"\n",
    "        :type num: int\n",
    "        :rtype: bool\n",
    "        \"\"\"\n",
    "        def s(l,r):\n",
    "            if l > r: return False\n",
    "            m = (l+r)//2\n",
    "            if m*m == num: return True\n",
    "            elif m*m > num: return s(l,m-1)\n",
    "            else: return s(m+1,r)\n",
    "        return s(0,num)"
   ]
  },
  {
   "cell_type": "markdown",
   "metadata": {},
   "source": [
    "### 寻找比目标字母大的最小字母"
   ]
  },
  {
   "cell_type": "markdown",
   "metadata": {},
   "source": [
    "![微信截图_20190912133559.png](https://i.loli.net/2019/09/13/NoxVzC1uGPtE6W5.png)\n",
    "![微信截图_20190912133612.png](https://i.loli.net/2019/09/13/H8lziMX5nKIpdU3.png)\n"
   ]
  },
  {
   "cell_type": "markdown",
   "metadata": {},
   "source": [
    "- 字符串下的字母可以直接比较大小。另外要注意这里存在循环,即超过letters范围的字母,比其大的最小字母回到了letters的第一位数。排除完此类特殊情况后，直接二分查找即可。最后要注意,字母可能会连续出现。"
   ]
  },
  {
   "cell_type": "code",
   "execution_count": 7,
   "metadata": {},
   "outputs": [],
   "source": [
    "class Solution(object):\n",
    "    def nextGreatestLetter(self, letters, target):\n",
    "        \"\"\"\n",
    "        :type letters: List[str]\n",
    "        :type target: str\n",
    "        :rtype: str\n",
    "        \"\"\"\n",
    "        n = len(letters)\n",
    "        if target < letters[0] or target >= letters[n-1]:\n",
    "            return letters[0]\n",
    "        l, r = 0, n-1\n",
    "        while l <= r:\n",
    "            m = (l+r)//2\n",
    "            if letters[m] <= target < letters[m+1]:\n",
    "                return letters[m+1]\n",
    "            elif letters[m] <= target:\n",
    "                l = m + 1\n",
    "            else:\n",
    "                r = m - 1"
   ]
  }
 ],
 "metadata": {
  "kernelspec": {
   "display_name": "Python 3",
   "language": "python",
   "name": "python3"
  },
  "language_info": {
   "codemirror_mode": {
    "name": "ipython",
    "version": 3
   },
   "file_extension": ".py",
   "mimetype": "text/x-python",
   "name": "python",
   "nbconvert_exporter": "python",
   "pygments_lexer": "ipython3",
   "version": "3.7.1"
  },
  "toc": {
   "base_numbering": 1,
   "nav_menu": {},
   "number_sections": true,
   "sideBar": false,
   "skip_h1_title": false,
   "title_cell": "Table of Contents",
   "title_sidebar": "Contents",
   "toc_cell": false,
   "toc_position": {},
   "toc_section_display": true,
   "toc_window_display": false
  }
 },
 "nbformat": 4,
 "nbformat_minor": 2
}
