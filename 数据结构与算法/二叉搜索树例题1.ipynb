{
 "cells": [
  {
   "cell_type": "markdown",
   "metadata": {},
   "source": [
    "### 二叉搜索树中的搜索<br>\n",
    "![微信截图_20190903124336.png](https://i.loli.net/2019/09/04/cI9VZsYQm4PJg38.png)"
   ]
  },
  {
   "cell_type": "markdown",
   "metadata": {},
   "source": [
    "- 递归"
   ]
  },
  {
   "cell_type": "code",
   "execution_count": 1,
   "metadata": {},
   "outputs": [],
   "source": [
    "class Solution(object):\n",
    "    def searchBST(self, root, val):\n",
    "        \"\"\"\n",
    "        :type root: TreeNode\n",
    "        :type val: int\n",
    "        :rtype: TreeNode\n",
    "        \"\"\"\n",
    "        if not root: return\n",
    "        \n",
    "        if root.val == val:\n",
    "            return root\n",
    "        elif root.val > val:\n",
    "            return self.searchBST(root.left, val)\n",
    "        else:\n",
    "            return self.searchBST(root.right, val)"
   ]
  },
  {
   "cell_type": "markdown",
   "metadata": {},
   "source": [
    "- 迭代"
   ]
  },
  {
   "cell_type": "code",
   "execution_count": null,
   "metadata": {},
   "outputs": [],
   "source": [
    "# Definition for a binary tree node.\n",
    "# class TreeNode(object):\n",
    "#     def __init__(self, x):\n",
    "#         self.val = x\n",
    "#         self.left = None\n",
    "#         self.right = None\n",
    "\n",
    "class Solution(object):\n",
    "    def searchBST(self, root, val):\n",
    "        \"\"\"\n",
    "        :type root: TreeNode\n",
    "        :type val: int\n",
    "        :rtype: TreeNode\n",
    "        \"\"\"\n",
    "        stack = [root]\n",
    "        while stack:\n",
    "            node = stack.pop()\n",
    "            if not node: break\n",
    "            if node.val == val:\n",
    "                return node\n",
    "            elif node.val > val:\n",
    "                stack.append(node.left)\n",
    "            else:\n",
    "                stack.append(node.right)\n",
    "        return None"
   ]
  },
  {
   "cell_type": "markdown",
   "metadata": {},
   "source": [
    "- 直接遍历"
   ]
  },
  {
   "cell_type": "code",
   "execution_count": 2,
   "metadata": {},
   "outputs": [],
   "source": [
    "# Definition for a binary tree node.\n",
    "# class TreeNode(object):\n",
    "#     def __init__(self, x):\n",
    "#         self.val = x\n",
    "#         self.left = None\n",
    "#         self.right = None\n",
    "\n",
    "class Solution(object):\n",
    "    def searchBST(self, root, val):\n",
    "        \"\"\"\n",
    "        :type root: TreeNode\n",
    "        :type val: int\n",
    "        :rtype: TreeNode\n",
    "        \"\"\"\n",
    "        while root:\n",
    "            if root.val == val: return root\n",
    "            elif root.val > val: root = root.left\n",
    "            else: root = root.right\n",
    "        return"
   ]
  },
  {
   "cell_type": "markdown",
   "metadata": {},
   "source": [
    "### 二叉搜索树的插入操作"
   ]
  },
  {
   "cell_type": "markdown",
   "metadata": {},
   "source": [
    "![微信截图_20190903150607.png](https://i.loli.net/2019/09/04/YFRhijJztOI2bPk.png)\n",
    "![微信截图_20190903150614.png](https://i.loli.net/2019/09/04/PhyU2cDzSms653q.png)"
   ]
  },
  {
   "cell_type": "markdown",
   "metadata": {},
   "source": [
    "- 递归"
   ]
  },
  {
   "cell_type": "code",
   "execution_count": 3,
   "metadata": {},
   "outputs": [],
   "source": [
    "# Definition for a binary tree node.\n",
    "# class TreeNode(object):\n",
    "#     def __init__(self, x):\n",
    "#         self.val = x\n",
    "#         self.left = None\n",
    "#         self.right = None\n",
    "\n",
    "class Solution(object):\n",
    "    def insertIntoBST(self, root, val):\n",
    "        \"\"\"\n",
    "        :type root: TreeNode\n",
    "        :type val: int\n",
    "        :rtype: TreeNode\n",
    "        \"\"\"\n",
    "        if not root:\n",
    "            return TreeNode(val)\n",
    "        if root.val > val:\n",
    "            root.left = self.insertIntoBST(root.left, val)\n",
    "        else:\n",
    "            root.right = self.insertIntoBST(root.right, val)\n",
    "        \n",
    "        return root"
   ]
  },
  {
   "cell_type": "markdown",
   "metadata": {},
   "source": [
    "- 迭代"
   ]
  },
  {
   "cell_type": "code",
   "execution_count": null,
   "metadata": {},
   "outputs": [],
   "source": [
    "# Definition for a binary tree node.\n",
    "# class TreeNode(object):\n",
    "#     def __init__(self, x):\n",
    "#         self.val = x\n",
    "#         self.left = None\n",
    "#         self.right = None\n",
    "\n",
    "class Solution(object):\n",
    "    def insertIntoBST(self, root, val):\n",
    "        \"\"\"\n",
    "        :type root: TreeNode\n",
    "        :type val: int\n",
    "        :rtype: TreeNode\n",
    "        \"\"\"\n",
    "        node = root\n",
    "        while node:\n",
    "            if node.val > val:\n",
    "                if not node.left:\n",
    "                    node.left = TreeNode(val)\n",
    "                    return root\n",
    "                else:\n",
    "                    node = node.left\n",
    "            else:\n",
    "                if not node.right:\n",
    "                    node.right = TreeNode(val)\n",
    "                    return root\n",
    "                else:\n",
    "                    node = node.right\n",
    "        return root"
   ]
  },
  {
   "cell_type": "markdown",
   "metadata": {},
   "source": [
    "### 删除二叉搜索树中的节点"
   ]
  },
  {
   "cell_type": "markdown",
   "metadata": {},
   "source": [
    "![微信截图_20190904110814.png](https://i.loli.net/2019/09/04/OMGL3QbyknPCzdS.png)\n",
    "![微信截图_20190904110828.png](https://i.loli.net/2019/09/04/dpBVMx69PZKJjcF.png)"
   ]
  },
  {
   "cell_type": "markdown",
   "metadata": {},
   "source": [
    "- 递归"
   ]
  },
  {
   "cell_type": "code",
   "execution_count": 1,
   "metadata": {},
   "outputs": [],
   "source": [
    "# Definition for a binary tree node.\n",
    "# class TreeNode(object):\n",
    "#     def __init__(self, x):\n",
    "#         self.val = x\n",
    "#         self.left = None\n",
    "#         self.right = None\n",
    "\n",
    "class Solution(object):\n",
    "    def deleteNode(self, root, key):\n",
    "        \"\"\"\n",
    "        :type root: TreeNode\n",
    "        :type key: int\n",
    "        :rtype: TreeNode\n",
    "        \"\"\"\n",
    "        if not root: return None\n",
    "        \n",
    "        if root.val > key:\n",
    "            root.left = self.deleteNode(root.left,key)\n",
    "        elif root.val < key:\n",
    "            root.right = self.deleteNode(root.right,key)\n",
    "        else:\n",
    "            if not root.left or not root.right:\n",
    "                root = root.left if root.left else root.right\n",
    "            else:\n",
    "                cur = root.right\n",
    "                while cur.left: cur = cur.left\n",
    "                root.val = cur.val\n",
    "                root.right = self.deleteNode(root.right,cur.val)\n",
    "        return root"
   ]
  },
  {
   "cell_type": "markdown",
   "metadata": {},
   "source": [
    "- 另一种递归"
   ]
  },
  {
   "cell_type": "code",
   "execution_count": null,
   "metadata": {},
   "outputs": [],
   "source": [
    "# Definition for a binary tree node.\n",
    "# class TreeNode(object):\n",
    "#     def __init__(self, x):\n",
    "#         self.val = x\n",
    "#         self.left = None\n",
    "#         self.right = None\n",
    "\n",
    "class Solution(object):\n",
    "    def deleteNode(self, root, key):\n",
    "        \"\"\"\n",
    "        :type root: TreeNode\n",
    "        :type key: int\n",
    "        :rtype: TreeNode\n",
    "        \"\"\"\n",
    "        if not root: return None\n",
    "        \n",
    "        if root.val > key:\n",
    "            root.left = self.deleteNode(root.left,key)\n",
    "            return root\n",
    "        \n",
    "        if root.val < key:\n",
    "            root.right = self.deleteNode(root.right,key)\n",
    "            return root\n",
    "        \n",
    "        if not root.left or not root.right:\n",
    "            return root.left if root.left else root.right\n",
    "        \n",
    "        suc = self.find_min(root.right)\n",
    "        suc_copy = TreeNode(suc.val)\n",
    "        suc_copy.left = root.left\n",
    "        suc_copy.right = self.remove_min(root.right)\n",
    "        return suc_copy\n",
    "    \n",
    "    def find_min(self,node):\n",
    "        while node.left:\n",
    "            node = node.left\n",
    "        return node\n",
    "                \n",
    "    def remove_min(self,node):\n",
    "        if not node.left:\n",
    "            return node.right\n",
    "        node.left = self.remove_min(node.left)\n",
    "        return node"
   ]
  }
 ],
 "metadata": {
  "kernelspec": {
   "display_name": "Python 3",
   "language": "python",
   "name": "python3"
  },
  "language_info": {
   "codemirror_mode": {
    "name": "ipython",
    "version": 3
   },
   "file_extension": ".py",
   "mimetype": "text/x-python",
   "name": "python",
   "nbconvert_exporter": "python",
   "pygments_lexer": "ipython3",
   "version": "3.7.1"
  },
  "toc": {
   "base_numbering": 1,
   "nav_menu": {},
   "number_sections": true,
   "sideBar": false,
   "skip_h1_title": false,
   "title_cell": "Table of Contents",
   "title_sidebar": "Contents",
   "toc_cell": false,
   "toc_position": {},
   "toc_section_display": true,
   "toc_window_display": false
  }
 },
 "nbformat": 4,
 "nbformat_minor": 2
}
