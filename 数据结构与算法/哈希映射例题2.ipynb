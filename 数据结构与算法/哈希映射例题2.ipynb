{
 "cells": [
  {
   "cell_type": "markdown",
   "metadata": {},
   "source": [
    "### 字符串中第一个唯一字符"
   ]
  },
  {
   "cell_type": "markdown",
   "metadata": {},
   "source": [
    "![微信截图_20190814165835.png](https://i.loli.net/2019/08/15/bdJr2hKeGUiy1PE.png)"
   ]
  },
  {
   "cell_type": "code",
   "execution_count": 18,
   "metadata": {},
   "outputs": [],
   "source": [
    "class Solution(object):\n",
    "    def firstUniqChar(self, s):\n",
    "        \"\"\"\n",
    "        :type s: str\n",
    "        :rtype: int\n",
    "        \"\"\"\n",
    "        d1 = {}  # 存放索引\n",
    "        d2 = {}  # 计算是否重复\n",
    "        for i in range(len(s)):\n",
    "            if s[i] not in d2:\n",
    "                d1[s[i]] = i\n",
    "                d2[s[i]] = 0\n",
    "            else:\n",
    "                d2[s[i]] += 1\n",
    "        res = [d1[key] for key in d2 if d2[key] == 0]\n",
    "        return min(res) if res else -1"
   ]
  },
  {
   "cell_type": "markdown",
   "metadata": {},
   "source": [
    "### 两个数组的交集2"
   ]
  },
  {
   "cell_type": "markdown",
   "metadata": {},
   "source": [
    "![微信截图_20190814170100.png](https://i.loli.net/2019/08/15/SZkJEbuXqolPfTr.png)"
   ]
  },
  {
   "cell_type": "code",
   "execution_count": 36,
   "metadata": {},
   "outputs": [],
   "source": [
    "class Solution(object):\n",
    "    def intersect(self, nums1, nums2):\n",
    "        \"\"\"\n",
    "        :type nums1: List[int]\n",
    "        :type nums2: List[int]\n",
    "        :rtype: List[int]\n",
    "        \"\"\"\n",
    "        if len(nums1) > len(nums2):\n",
    "            nums1,nums2 = nums2,nums1\n",
    "        d1, d2 = {}, {}\n",
    "        \n",
    "        for i in range(len(nums1)):\n",
    "            if nums1[i] not in d1:\n",
    "                d1[nums1[i]] = 1\n",
    "            else:\n",
    "                d1[nums1[i]] += 1\n",
    "                \n",
    "        for i in range(len(nums2)):\n",
    "            if nums2[i] not in d2:\n",
    "                d2[nums2[i]] = 1\n",
    "            else:\n",
    "                d2[nums2[i]] += 1\n",
    "        res = []\n",
    "        for k in d1:\n",
    "            if d2.get(k,0):\n",
    "                res += [k] * min(d1[k],d2.get(k,0))\n",
    "        return res"
   ]
  },
  {
   "cell_type": "code",
   "execution_count": null,
   "metadata": {},
   "outputs": [],
   "source": [
    "class Solution(object):\n",
    "    def intersect(self, nums1, nums2):\n",
    "        \"\"\"\n",
    "        :type nums1: List[int]\n",
    "        :type nums2: List[int]\n",
    "        :rtype: List[int]\n",
    "        \"\"\"\n",
    "        res, d = [], {}\n",
    "        for n in nums1:\n",
    "            d[n] = d.get(n,0) + 1\n",
    "        \n",
    "        for n in nums2:\n",
    "            if d.get(n,0):\n",
    "                res.append(n)\n",
    "                d[n] -= 1\n",
    "                if d[n] == 0:\n",
    "                    d.pop(n)\n",
    "        \n",
    "        return res"
   ]
  },
  {
   "cell_type": "markdown",
   "metadata": {},
   "source": [
    "### 存在重复元素2"
   ]
  },
  {
   "cell_type": "markdown",
   "metadata": {},
   "source": [
    "![微信截图_20190815175033.png](https://i.loli.net/2019/08/16/HlYFZ8b46vQyPsL.png)"
   ]
  },
  {
   "cell_type": "markdown",
   "metadata": {},
   "source": [
    "本题题目有误，实际意思是找同数字最小间隔，若不超过 k 则满足条件"
   ]
  },
  {
   "cell_type": "code",
   "execution_count": 40,
   "metadata": {},
   "outputs": [],
   "source": [
    "class Solution(object):\n",
    "    def containsNearbyDuplicate(self, nums, k):\n",
    "        \"\"\"\n",
    "        :type nums: List[int]\n",
    "        :type k: int\n",
    "        :rtype: bool\n",
    "        \"\"\"\n",
    "        d = {}\n",
    "        for val,key in enumerate(nums):\n",
    "            if key in d and (val - d[key]) <= k:\n",
    "                return True\n",
    "            d[key] = val\n",
    "        return False"
   ]
  }
 ],
 "metadata": {
  "kernelspec": {
   "display_name": "Python 3",
   "language": "python",
   "name": "python3"
  },
  "language_info": {
   "codemirror_mode": {
    "name": "ipython",
    "version": 3
   },
   "file_extension": ".py",
   "mimetype": "text/x-python",
   "name": "python",
   "nbconvert_exporter": "python",
   "pygments_lexer": "ipython3",
   "version": "3.7.1"
  },
  "toc": {
   "base_numbering": 1,
   "nav_menu": {},
   "number_sections": true,
   "sideBar": false,
   "skip_h1_title": false,
   "title_cell": "Table of Contents",
   "title_sidebar": "Contents",
   "toc_cell": false,
   "toc_position": {},
   "toc_section_display": true,
   "toc_window_display": false
  }
 },
 "nbformat": 4,
 "nbformat_minor": 2
}
