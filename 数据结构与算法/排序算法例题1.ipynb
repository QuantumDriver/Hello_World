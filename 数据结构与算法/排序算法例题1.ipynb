{
 "cells": [
  {
   "cell_type": "markdown",
   "metadata": {},
   "source": [
    "### 合并两个有序数组"
   ]
  },
  {
   "cell_type": "markdown",
   "metadata": {},
   "source": [
    "![微信截图_20190918133906.png](https://i.loli.net/2019/09/19/cHgNGlmYwpKDeS2.png)"
   ]
  },
  {
   "cell_type": "markdown",
   "metadata": {},
   "source": [
    "- 后向双指针+归并排序"
   ]
  },
  {
   "cell_type": "markdown",
   "metadata": {},
   "source": [
    "- 不必返回结果，原地修改即可"
   ]
  },
  {
   "cell_type": "code",
   "execution_count": 1,
   "metadata": {},
   "outputs": [],
   "source": [
    "class Solution(object):\n",
    "    def merge(self, nums1, m, nums2, n):\n",
    "        \"\"\"\n",
    "        :type nums1: List[int]\n",
    "        :type m: int\n",
    "        :type nums2: List[int]\n",
    "        :type n: int\n",
    "        :rtype: None Do not return anything, modify nums1 in-place instead.\n",
    "        \"\"\"\n",
    "        i, j, p = m-1, n-1, m+n-1\n",
    "        \n",
    "        while i >= 0 and j >= 0:\n",
    "            if nums1[i] < nums2[j]:\n",
    "                nums1[p] = nums2[j]\n",
    "                j -= 1\n",
    "            else:\n",
    "                nums1[p] = nums1[i]\n",
    "                i -= 1\n",
    "            p -= 1\n",
    "        \n",
    "        nums1[:j+1] = nums2[:j+1]"
   ]
  },
  {
   "cell_type": "markdown",
   "metadata": {},
   "source": [
    "### 煎饼排序"
   ]
  },
  {
   "cell_type": "markdown",
   "metadata": {},
   "source": [
    "![微信截图_20190920141211.png](https://i.loli.net/2019/09/21/Q14pWeyg35hSb27.png)\n",
    "![微信截图_20190920141231.png](https://i.loli.net/2019/09/21/VH8bD29BnqlEG1C.png)"
   ]
  },
  {
   "cell_type": "markdown",
   "metadata": {},
   "source": [
    "- 输出答案和题目给的要求输出不一样，但无关紧要"
   ]
  },
  {
   "cell_type": "markdown",
   "metadata": {},
   "source": [
    "注意提示，说了它的排列是1,2,3这样的类型，所以其实已经告诉了最大值最小值是多少，不必再找多余地对数组进行排序。翻转的过程是，首先找到数组最大值的坐标，然后根据坐标对数组进行第一次反转，接着再把整个数组进行反转，这样，就把最大值放到了最后的位置上去了。用同样的方法反转第二大的值、第三大的值..."
   ]
  },
  {
   "cell_type": "code",
   "execution_count": null,
   "metadata": {},
   "outputs": [],
   "source": [
    "class Solution(object):\n",
    "    def pancakeSort(self, A):\n",
    "        \"\"\"\n",
    "        :type A: List[int]\n",
    "        :rtype: List[int]\n",
    "        \"\"\"\n",
    "        n = len(A)\n",
    "        res = []\n",
    "        while n:\n",
    "            idx = A.index(n) + 1\n",
    "            res += [idx]\n",
    "            res += [n]\n",
    "            A[:idx] = A[:idx][::-1]\n",
    "            A[:n] = A[:n][::-1]\n",
    "            n -= 1\n",
    "        return res   "
   ]
  },
  {
   "cell_type": "code",
   "execution_count": 1,
   "metadata": {},
   "outputs": [
    {
     "data": {
      "text/plain": [
       "0"
      ]
     },
     "execution_count": 1,
     "metadata": {},
     "output_type": "execute_result"
    }
   ],
   "source": [
    "a = [1,2,3]\n",
    "a.index(1)"
   ]
  },
  {
   "cell_type": "markdown",
   "metadata": {},
   "source": [
    "### 合并区间<br>\n",
    "![微信截图_20190922143852.png](https://i.loli.net/2019/09/23/Jam6xAbv7MC91k8.png)"
   ]
  },
  {
   "cell_type": "code",
   "execution_count": 8,
   "metadata": {},
   "outputs": [],
   "source": [
    "class Solution(object):\n",
    "    def merge(self, intervals):\n",
    "        \"\"\"\n",
    "        :type intervals: List[List[int]]\n",
    "        :rtype: List[List[int]]\n",
    "        \"\"\"\n",
    "        if not intervals: return\n",
    "        intervals.sort()\n",
    "        res = [intervals[0]]\n",
    "        for i in range(1,len(intervals)):\n",
    "            if res[-1][1] >= intervals[i][0]:\n",
    "                res[-1][1] = max(res[-1][1],intervals[i][1])\n",
    "            else:\n",
    "                res.append(intervals[i])\n",
    "        return res "
   ]
  },
  {
   "cell_type": "markdown",
   "metadata": {},
   "source": [
    "### 颜色分类<br>\n",
    "![微信截图_20190923132035.png](https://i.loli.net/2019/09/24/qs3PBIwhmdYMV1u.png)"
   ]
  },
  {
   "cell_type": "markdown",
   "metadata": {},
   "source": [
    "- 自己写的，时空间复杂度都是$O(N)$"
   ]
  },
  {
   "cell_type": "code",
   "execution_count": null,
   "metadata": {},
   "outputs": [],
   "source": [
    "class Solution(object):\n",
    "    def sortColors(self, nums):\n",
    "        \"\"\"\n",
    "        :type nums: List[int]\n",
    "        :rtype: None Do not return anything, modify nums in-place instead.\n",
    "        \"\"\"\n",
    "        x = y = z = 0\n",
    "        for n in nums:\n",
    "            if n == 0:\n",
    "                x += 1\n",
    "            elif n == 1:\n",
    "                y += 1\n",
    "            else:\n",
    "                z += 1\n",
    "        nums[:] = [0] * x + [1] * y + [2] * z"
   ]
  },
  {
   "cell_type": "markdown",
   "metadata": {},
   "source": [
    "- 三指针法，一次扫描，无需额外空间"
   ]
  },
  {
   "cell_type": "markdown",
   "metadata": {},
   "source": [
    "- 第一个指针i保证0的位置永远在前面，第二个指针cur保证1一直在中间，第三个指针j保证2永远在最后。\n",
    "- 另外注意cur指针一直到j的最前面就可以返回了。"
   ]
  },
  {
   "cell_type": "code",
   "execution_count": null,
   "metadata": {},
   "outputs": [],
   "source": [
    "class Solution:\n",
    "    def sortColors(self, nums: List[int]) -> None:\n",
    "        \"\"\"\n",
    "        Do not return anything, modify nums in-place instead.\n",
    "        \"\"\"\n",
    "        i = cur = 0\n",
    "        j = len(nums)-1\n",
    "        while cur <= j:\n",
    "            if nums[cur] == 0:\n",
    "                nums[cur], nums[i] = nums[i], nums[cur]\n",
    "                cur += 1\n",
    "                i += 1\n",
    "            elif nums[cur] == 2:\n",
    "                nums[cur], nums[j] = nums[j], nums[cur]\n",
    "                j -= 1\n",
    "            else:\n",
    "                cur += 1"
   ]
  },
  {
   "cell_type": "code",
   "execution_count": null,
   "metadata": {},
   "outputs": [],
   "source": []
  },
  {
   "cell_type": "code",
   "execution_count": 13,
   "metadata": {},
   "outputs": [],
   "source": [
    "class Solution(object):\n",
    "    def maximumGap(self, nums):\n",
    "        \"\"\"\n",
    "        :type nums: List[int]\n",
    "        :rtype: int\n",
    "        \"\"\"\n",
    "        def merge(nums):\n",
    "            if len(nums)<2:\n",
    "                return nums\n",
    "            mid = len(nums)//2\n",
    "            left = merge(nums[:mid])\n",
    "            right = merge(nums[mid:])\n",
    "            return merge_sort(left,right)\n",
    "            \n",
    "        def merge_sort(nums1,nums2):\n",
    "            m, n, i, j = len(nums1), len(nums2), 0, 0\n",
    "            res = []\n",
    "#             temp = []\n",
    "            while i < m and j < n:\n",
    "                if nums1[i] < nums2[j]:\n",
    "                    res += [nums1[i]]\n",
    "#                     p = nums2[j]-nums1[i]\n",
    "#                     print(p)\n",
    "#                     temp.append(nums2[j]-nums1[i])\n",
    "                    i += 1\n",
    "                else:\n",
    "                    res += [nums2[j]]\n",
    "#                     temp.append(nums1[i]-nums2[j])\n",
    "                    j += 1\n",
    "            if i < m:\n",
    "                res += nums1[i:]\n",
    "#                 temp += [nums1[x]-nums1[x-1] for x in range(i,m)]\n",
    "            else:\n",
    "                res += nums2[j:]\n",
    "#                 temp += [nums2[x]-nums2[x-1] for x in range(j,n)]\n",
    "            return res\n",
    "                \n",
    "        result = merge(nums)\n",
    "        return result"
   ]
  },
  {
   "cell_type": "code",
   "execution_count": 14,
   "metadata": {},
   "outputs": [],
   "source": [
    "a = Solution()"
   ]
  },
  {
   "cell_type": "code",
   "execution_count": 15,
   "metadata": {},
   "outputs": [],
   "source": [
    "nums = [2,1,3,4]"
   ]
  },
  {
   "cell_type": "code",
   "execution_count": 16,
   "metadata": {},
   "outputs": [
    {
     "data": {
      "text/plain": [
       "[1, 2, 3, 4]"
      ]
     },
     "execution_count": 16,
     "metadata": {},
     "output_type": "execute_result"
    }
   ],
   "source": [
    "a.maximumGap(nums)"
   ]
  },
  {
   "cell_type": "markdown",
   "metadata": {},
   "source": [
    "### 最大间距"
   ]
  },
  {
   "cell_type": "markdown",
   "metadata": {},
   "source": [
    "![微信截图_20190924125346.png](https://i.loli.net/2019/09/25/kuCe2zFwpSobUfT.png)"
   ]
  },
  {
   "cell_type": "code",
   "execution_count": 1,
   "metadata": {},
   "outputs": [],
   "source": [
    "class Solution(object):\n",
    "    def maximumGap(self, num):\n",
    "        if len(num) < 2 or min(num) == max(num):\n",
    "            return 0\n",
    "        a, b = min(num), max(num)\n",
    "        size = (b-a)//(len(num)-1) or 1                       # 间距\n",
    "        bucket = [[None, None] for _ in range((b-a)//size+1)] # 根据间距分块，每一个间距距离一个区块\n",
    "        for n in num:\n",
    "            b = bucket[(n-a)//size]                           # 测量数的归属区块\n",
    "            b[0] = n if b[0] is None else min(b[0], n)        # 计算此区块最小值\n",
    "            b[1] = n if b[1] is None else max(b[1], n)        # 计算此区块最大值\n",
    "        bucket = [b for b in bucket if b[0] is not None]      # 去掉空区块\n",
    "        return max(bucket[i][0]-bucket[i-1][1] for i in range(1, len(bucket)))"
   ]
  }
 ],
 "metadata": {
  "kernelspec": {
   "display_name": "Python 3",
   "language": "python",
   "name": "python3"
  },
  "language_info": {
   "codemirror_mode": {
    "name": "ipython",
    "version": 3
   },
   "file_extension": ".py",
   "mimetype": "text/x-python",
   "name": "python",
   "nbconvert_exporter": "python",
   "pygments_lexer": "ipython3",
   "version": "3.7.1"
  },
  "toc": {
   "base_numbering": 1,
   "nav_menu": {},
   "number_sections": true,
   "sideBar": false,
   "skip_h1_title": false,
   "title_cell": "Table of Contents",
   "title_sidebar": "Contents",
   "toc_cell": false,
   "toc_position": {},
   "toc_section_display": true,
   "toc_window_display": false
  }
 },
 "nbformat": 4,
 "nbformat_minor": 2
}
