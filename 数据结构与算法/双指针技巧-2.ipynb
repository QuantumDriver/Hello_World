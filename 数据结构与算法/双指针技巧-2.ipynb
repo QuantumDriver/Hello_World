{
 "cells": [
  {
   "cell_type": "markdown",
   "metadata": {},
   "source": [
    "### 双指针技巧<br>\n",
    "#### 移除元素<br>\n",
    "\n",
    "![微信截图_20190724122630.png](https://i.loli.net/2019/07/25/5d3886d831db910681.png)\n",
    "![微信截图_20190724122642.png](https://i.loli.net/2019/07/25/5d3886d821a0f53827.png)\n"
   ]
  },
  {
   "cell_type": "markdown",
   "metadata": {},
   "source": [
    "这道题的技巧在于妙用两个指针，一个快指针指向数组的数，一个慢指针指向非重复的数。\n",
    "- i->len(nums),j->0(累加1 if nums\\[i\\] != val)\n",
    "- 显然最后j的大小，就是新的长度，而且可以利用nums\\[j\\]=nums\\[i\\](指向非重复数的i)去把前k个数替换成非重复数"
   ]
  },
  {
   "cell_type": "code",
   "execution_count": 1,
   "metadata": {},
   "outputs": [],
   "source": [
    "class Solution(object):\n",
    "    def removeElement(self, nums, val):\n",
    "        \"\"\"\n",
    "        :type nums: List[int]\n",
    "        :type val: int\n",
    "        :rtype: int\n",
    "        \"\"\"\n",
    "        k = 0\n",
    "        for i in range(len(nums)):\n",
    "            if nums[i] != val:\n",
    "                nums[k] = nums[i]\n",
    "                k += 1\n",
    "        return k"
   ]
  },
  {
   "cell_type": "markdown",
   "metadata": {},
   "source": [
    "#### 最大连续1的个数<br>\n",
    "\n",
    "![微信截图_20190725092019.png](https://i.loli.net/2019/07/25/5d39acbaaa7fc35878.png)"
   ]
  },
  {
   "cell_type": "markdown",
   "metadata": {},
   "source": [
    "这道题的解法在于运用双指针去保存当前最大的连续值，一个指针用于记录连续了多少次，另一个指针记录当前最大值。另外一个要注意的细节是，因为使用if else去判断是否连续，所以如果最后一个也是1的话，没法把当前最大值传递给指针，所以可以在for循环结束后再传递一次，或者直接比较，又或者是在数组最后加个0进行循环。"
   ]
  },
  {
   "cell_type": "markdown",
   "metadata": {},
   "source": [
    "- 我首先想到的列表法"
   ]
  },
  {
   "cell_type": "code",
   "execution_count": 25,
   "metadata": {},
   "outputs": [],
   "source": [
    "class Solution(object):\n",
    "    def findMaxConsecutiveOnes(self, nums):\n",
    "        \"\"\"\n",
    "        :type nums: List[int]\n",
    "        :rtype: int\n",
    "        \"\"\"\n",
    "        res = []\n",
    "        j = 0\n",
    "        for i in range(len(nums)):\n",
    "            if nums[i] != 0:\n",
    "                j += 1\n",
    "            else:\n",
    "                res.append(j)\n",
    "                j = 0\n",
    "        res.append(j)\n",
    "        return max(res)"
   ]
  },
  {
   "cell_type": "code",
   "execution_count": 26,
   "metadata": {},
   "outputs": [],
   "source": [
    "a = Solution()"
   ]
  },
  {
   "cell_type": "code",
   "execution_count": 27,
   "metadata": {},
   "outputs": [
    {
     "data": {
      "text/plain": [
       "1"
      ]
     },
     "execution_count": 27,
     "metadata": {},
     "output_type": "execute_result"
    }
   ],
   "source": [
    "a.findMaxConsecutiveOnes([1])"
   ]
  },
  {
   "cell_type": "markdown",
   "metadata": {},
   "source": [
    "- 正宗的双指针法"
   ]
  },
  {
   "cell_type": "code",
   "execution_count": null,
   "metadata": {},
   "outputs": [],
   "source": [
    "class Solution:\n",
    "    def findMaxConsecutiveOnes(self, nums: List[int]) -> int:\n",
    "        i = 0\n",
    "        j = 0\n",
    "        nums.append(0)\n",
    "        for num in nums:\n",
    "            if num == 1:\n",
    "                i += 1\n",
    "            else:\n",
    "                if i > j:\n",
    "                    j = i\n",
    "                i = 0\n",
    "        return j"
   ]
  },
  {
   "cell_type": "markdown",
   "metadata": {},
   "source": [
    "#### 长度最小的子数组<br>\n",
    "![微信截图_20190725113142.png](https://i.loli.net/2019/07/25/5d39cb6ae284524077.png)<br>\n",
    "\n",
    "这道题的关键在于使用左右双指针构建一个滑动窗口来对数组进行求和，而不是用暴力的方法去构建数组可能形成的所有子数组。<br><br>\n",
    "滑动窗口的构建需要初始化四个指标：左指针，右指针，窗口数组之和，以及最短窗口的长度(这个长度也是我们要求的答案)。左指针和右指针分布指向滑动窗口的左右两边。求解最短窗口的方法如下：\n",
    "- 首先是左右指针都归零，窗口数组之和等于0。从右指针开始向右走，直到达到整个数组的长度。右指针往右走一步，窗口数组则加一个数。所以在左右指针都是0的时候，窗口数组包含一个元素。<br><br>\n",
    "- 若窗口数组之和大于等于目标数s，先把当前窗口数组的长度和最短窗口的长度做比较，选出最短的那个。然后把左指针向右移动一位，窗口数组之和相应的就减少了。若窗口数组之和小于目标数s，则把右指针向右移动一位，窗口数组之和相应的就增加了。<br><br>\n",
    "- 总结起来，就是根据这个滑动窗口的数组之和，过大则左指针进1位，过小则右指针进1位。如此反复并记录最短窗口。"
   ]
  },
  {
   "cell_type": "markdown",
   "metadata": {},
   "source": [
    "虽然暴力法可以解决这道题，但是并不推荐，因为实在是太耗费时间了。这里用双指针的两种方法来解决问题。"
   ]
  },
  {
   "cell_type": "code",
   "execution_count": 51,
   "metadata": {},
   "outputs": [],
   "source": [
    "class Solution:\n",
    "    def a(self, s, nums):\n",
    "        if not nums: return 0\n",
    "        left, right = 0, 0\n",
    "        current_sum = nums[0]\n",
    "        length = len(nums) \n",
    "        while right < len(nums) and left <= right:\n",
    "            if current_sum < s:\n",
    "                right += 1\n",
    "                if right < len(nums):\n",
    "                    current_sum += nums[right]\n",
    "            else:\n",
    "                length = min(length, right - left + 1)\n",
    "                current_sum -= nums[left]\n",
    "                left += 1\n",
    "            print('{}-{},sum is {}, length is: {}'.format(left,right,current_sum,length))\n",
    "        if sum(nums) < s:\n",
    "            return 0\n",
    "        return length\n",
    "    \n",
    "    def b(self, s, nums):    \n",
    "        if not nums: return 0\n",
    "        left,right = 0,0\n",
    "        current_sum = nums[0]\n",
    "        res = length = len(nums)\n",
    "        while right < length and left <= right:\n",
    "            if current_sum < s:\n",
    "                right += 1\n",
    "                if right < length:\n",
    "                    current_sum += nums[right]\n",
    "            else:\n",
    "                res = min(res, right - left + 1)\n",
    "                current_sum -= nums[left]\n",
    "                left += 1\n",
    "            print('{}-{},sum is {}, length is: {}'.format(left,right,current_sum,res))\n",
    "        if sum(nums) < s:\n",
    "            return 0\n",
    "        return res"
   ]
  },
  {
   "cell_type": "code",
   "execution_count": 52,
   "metadata": {},
   "outputs": [],
   "source": [
    "p = Solution()"
   ]
  },
  {
   "cell_type": "code",
   "execution_count": 53,
   "metadata": {},
   "outputs": [
    {
     "name": "stdout",
     "output_type": "stream",
     "text": [
      "0-1,sum is 3, length is: 5\n",
      "0-2,sum is 6, length is: 5\n",
      "0-3,sum is 10, length is: 5\n",
      "1-3,sum is 9, length is: 2\n",
      "2-3,sum is 7, length is: 1\n",
      "2-4,sum is 12, length is: 1\n",
      "3-4,sum is 9, length is: 1\n",
      "4-4,sum is 5, length is: 0\n",
      "4-5,sum is 5, length is: 0\n"
     ]
    },
    {
     "data": {
      "text/plain": [
       "0"
      ]
     },
     "execution_count": 53,
     "metadata": {},
     "output_type": "execute_result"
    }
   ],
   "source": [
    "p.a(9,[1,2,3,4,5])"
   ]
  },
  {
   "cell_type": "code",
   "execution_count": 54,
   "metadata": {},
   "outputs": [
    {
     "name": "stdout",
     "output_type": "stream",
     "text": [
      "0-1,sum is 3, length is: 5\n",
      "0-2,sum is 6, length is: 5\n",
      "0-3,sum is 10, length is: 5\n",
      "1-3,sum is 9, length is: 4\n",
      "2-3,sum is 7, length is: 3\n",
      "2-4,sum is 12, length is: 3\n",
      "3-4,sum is 9, length is: 3\n",
      "4-4,sum is 5, length is: 2\n",
      "4-5,sum is 5, length is: 2\n"
     ]
    },
    {
     "data": {
      "text/plain": [
       "2"
      ]
     },
     "execution_count": 54,
     "metadata": {},
     "output_type": "execute_result"
    }
   ],
   "source": [
    "p.b(9,[1,2,3,4,5])"
   ]
  },
  {
   "cell_type": "code",
   "execution_count": 31,
   "metadata": {},
   "outputs": [],
   "source": [
    "class Solution(object):\n",
    "    def minSubArrayLen(self, s, nums):\n",
    "        \"\"\"\n",
    "        :type s: int\n",
    "        :type nums: List[int]\n",
    "        :rtype: int\n",
    "        \"\"\"\n",
    "        left, current_sum, length = 0, 0, float('inf')\n",
    "        for right in range(len(nums)):\n",
    "            current_sum += nums[right]\n",
    "            while current_sum >= s:\n",
    "                length  = min(length, right - left + 1)\n",
    "                current_sum -= nums[left]\n",
    "                left += 1\n",
    "        return length if length != float('inf') else 0"
   ]
  }
 ],
 "metadata": {
  "kernelspec": {
   "display_name": "Python 3",
   "language": "python",
   "name": "python3"
  },
  "language_info": {
   "codemirror_mode": {
    "name": "ipython",
    "version": 3
   },
   "file_extension": ".py",
   "mimetype": "text/x-python",
   "name": "python",
   "nbconvert_exporter": "python",
   "pygments_lexer": "ipython3",
   "version": "3.7.1"
  },
  "toc": {
   "base_numbering": 1,
   "nav_menu": {},
   "number_sections": true,
   "sideBar": false,
   "skip_h1_title": false,
   "title_cell": "Table of Contents",
   "title_sidebar": "Contents",
   "toc_cell": false,
   "toc_position": {},
   "toc_section_display": true,
   "toc_window_display": false
  }
 },
 "nbformat": 4,
 "nbformat_minor": 2
}
