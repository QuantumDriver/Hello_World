{
 "cells": [
  {
   "cell_type": "markdown",
   "metadata": {},
   "source": [
    "### 两数之和<br>\n",
    "![微信截图_20190812125350.png](https://i.loli.net/2019/08/13/MJwb4vtuBWXQcgZ.png)"
   ]
  },
  {
   "cell_type": "markdown",
   "metadata": {},
   "source": [
    "- 哈希方法"
   ]
  },
  {
   "cell_type": "code",
   "execution_count": null,
   "metadata": {},
   "outputs": [],
   "source": [
    "class Solution(object):\n",
    "    def twoSum(self, nums, target):\n",
    "        \"\"\"\n",
    "        :type nums: List[int]\n",
    "        :type target: int\n",
    "        :rtype: List[int]\n",
    "        \"\"\"\n",
    "        for i in range(len(nums)):\n",
    "            temp1 = nums.pop(0)\n",
    "            temp2 = target - temp1\n",
    "            table = {k:v for v,k in enumerate(nums)}\n",
    "            if temp2 in table:\n",
    "                return [i] + [table[temp2]+i+1]"
   ]
  },
  {
   "cell_type": "code",
   "execution_count": null,
   "metadata": {},
   "outputs": [],
   "source": [
    "class Solution(object):\n",
    "    def twoSum(self, nums, target):\n",
    "        \"\"\"\n",
    "        :type nums: List[int]\n",
    "        :type target: int\n",
    "        :rtype: List[int]\n",
    "        \"\"\"\n",
    "        d = {}\n",
    "        for i,v in enumerate(nums):\n",
    "            n = target - v\n",
    "            if n in d:\n",
    "                return [d[n],i]\n",
    "            else:\n",
    "                d[v] = i"
   ]
  },
  {
   "cell_type": "markdown",
   "metadata": {},
   "source": [
    "### 同构字符串<br>\n",
    "![微信截图_20190813104544.png](https://i.loli.net/2019/08/13/ujgGhN6emftyZdH.png)\n",
    "![微信截图_20190813104553.png](https://i.loli.net/2019/08/13/QL3KCD5flZcPyk6.png)"
   ]
  },
  {
   "cell_type": "code",
   "execution_count": 43,
   "metadata": {},
   "outputs": [],
   "source": [
    "class Solution(object):\n",
    "    def isIsomorphic(self, s, t):\n",
    "        \"\"\"\n",
    "        :type s: str\n",
    "        :type t: str\n",
    "        :rtype: bool\n",
    "        \"\"\"\n",
    "        def reflection(string):\n",
    "            d, c, s = {}, [], string\n",
    "            for i in range(len(s)):\n",
    "                if s[i] not in d:\n",
    "                    d[s[i]] = i\n",
    "                    c.append(i)\n",
    "                else:\n",
    "                    c.append(d[s[i]])\n",
    "            return c\n",
    "        c1, c2 = reflection(s), reflection(t)\n",
    "        print(c1,c2)\n",
    "        return c1 == c2"
   ]
  },
  {
   "cell_type": "markdown",
   "metadata": {},
   "source": [
    "- 另一种方法"
   ]
  },
  {
   "cell_type": "code",
   "execution_count": 48,
   "metadata": {},
   "outputs": [
    {
     "data": {
      "text/plain": [
       "[0, 1]"
      ]
     },
     "execution_count": 48,
     "metadata": {},
     "output_type": "execute_result"
    }
   ],
   "source": [
    " list(map(s.index,s)) == list(map(t.index,t))"
   ]
  },
  {
   "cell_type": "markdown",
   "metadata": {},
   "source": [
    "### 两个列表的最小索引总和<br>\n",
    "![微信截图_20190813121325.png](https://i.loli.net/2019/08/14/LDbQFsA4l2Np9Yo.png)\n",
    "![微信截图_20190813121336.png](https://i.loli.net/2019/08/14/1BlwaQMmT3kHAGy.png)\n"
   ]
  },
  {
   "cell_type": "code",
   "execution_count": 54,
   "metadata": {},
   "outputs": [],
   "source": [
    "class Solution(object):\n",
    "    def findRestaurant(self, list1, list2):\n",
    "        \"\"\"\n",
    "        :type list1: List[str]\n",
    "        :type list2: List[str]\n",
    "        :rtype: List[str]\n",
    "        \"\"\"\n",
    "        d1 = {k:v for v,k in enumerate(list1)}\n",
    "        d2 = {k:v for v,k in enumerate(list2)}\n",
    "        res = {i:d1[i]+d2[i] for i in d1 if i in d2}\n",
    "        return [i for i in res if res[i] == min(res.values())]"
   ]
  }
 ],
 "metadata": {
  "kernelspec": {
   "display_name": "Python 3",
   "language": "python",
   "name": "python3"
  },
  "language_info": {
   "codemirror_mode": {
    "name": "ipython",
    "version": 3
   },
   "file_extension": ".py",
   "mimetype": "text/x-python",
   "name": "python",
   "nbconvert_exporter": "python",
   "pygments_lexer": "ipython3",
   "version": "3.7.1"
  },
  "toc": {
   "base_numbering": 1,
   "nav_menu": {},
   "number_sections": true,
   "sideBar": false,
   "skip_h1_title": false,
   "title_cell": "Table of Contents",
   "title_sidebar": "Contents",
   "toc_cell": false,
   "toc_position": {},
   "toc_section_display": true,
   "toc_window_display": false
  }
 },
 "nbformat": 4,
 "nbformat_minor": 2
}
