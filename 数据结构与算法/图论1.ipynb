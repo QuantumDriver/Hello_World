{
 "cells": [
  {
   "cell_type": "markdown",
   "metadata": {},
   "source": [
    "### 什么是图？  \n",
    "\n",
    "<br>在计算机领域中，图是一种点与点之间的关系，这些点用线连接起来。如下图所示："
   ]
  },
  {
   "cell_type": "markdown",
   "metadata": {},
   "source": [
    "<img src=\"https://i.loli.net/2019/07/17/5d2e542e1d1e955377.jpg\" style='zoom:50%'/>"
   ]
  },
  {
   "cell_type": "markdown",
   "metadata": {},
   "source": [
    "- 顶点（Vertex）也叫node，上图的A B C D E F就是顶点。<br><br>\n",
    "\n",
    "- 邻接（Adjoin）如果A和B通过定向边相连，且方向为A -> B，则B为A的邻接，如果相连的边是没有方向的，则A和B互为邻接。<br><br>\n",
    "\n",
    "- 边（Edge）顶点之间的连线就是边。"
   ]
  },
  {
   "cell_type": "markdown",
   "metadata": {},
   "source": [
    "### 图有什么用呢？<br>\n",
    "- 图作为一种重要的数据结构，用处非常多非常广。最好的地方在于可以表示数据之间的连接关系。<br><br>\n",
    "- 图可以表现社会中的各种关系，使用起来非常方便。假设我们要开一个派对，将参加人员作为顶点，把互相认识的人用边连接，就能用图来表现参加人员之间的人际关系了。<br><br>\n",
    "- 再举个例子，若将车站作为顶点，将相邻两站用边连接，就能用图来表现地铁的路线了。"
   ]
  },
  {
   "cell_type": "markdown",
   "metadata": {},
   "source": [
    "<img src=\"https://i.loli.net/2019/07/17/5d2e542e63a0d66289.jpg\" style='zoom:50%'/>"
   ]
  },
  {
   "cell_type": "markdown",
   "metadata": {},
   "source": [
    "### 图的应用范围<br>\n",
    "\n",
    "- 想一想图能给我们带来的好处吧。<br><br>\n",
    "- 假设图中有两个顶点 s 和 t，而我们设计出了一种算法，可以找到“从 s 到 t 的权重之和最小”的那条路径。那么，这种算法就可以应用到这些问题上：**寻找计算机网络中通信时间最短的路径，寻找路线图中耗时最短的路径，寻找路线图中最省乘车费的路径等。**"
   ]
  },
  {
   "cell_type": "markdown",
   "metadata": {},
   "source": [
    "### 图可以分为有向图和无向图<br>\n",
    "- 当我们想在路线图中表示该路线只能单向行驶时，就可以给边加上箭头，而这样的图就叫作“有向图”。<br><br>\n",
    "- 比如网页里的链接也是有方向性的，用有向图来表示就会很方便。与此相对，没有箭头的图便是“无向图”。<br><br>\n",
    "- 下图中我们可以从顶点 A 到顶点 B，但不能直接从 B 到 A，而 B 和 C 之间有两条边分别指向两个方向，因此可以双向移动。"
   ]
  },
  {
   "cell_type": "markdown",
   "metadata": {},
   "source": [
    "<img src=\"https://i.loli.net/2019/07/17/5d2e542e0af5765335.jpg\" style='zoom:50%'/>"
   ]
  },
  {
   "cell_type": "markdown",
   "metadata": {},
   "source": [
    "### 图可以分为有权图和无权图：<br>\n",
    "\n",
    "- 有权图：每条边具有一定的权重(weight)，通常是一个数字<br><br>\n",
    "- 无权图：每条边均没有权重，也可以理解为权为 1<br><br>\n",
    "- 举个例子：路线图中，如果把地铁在两个车站间行驶的时间加在边上，这张图就能表现整个路线的移动时间；如果把两个车站间的票价加在边上，就能表现乘车费了。"
   ]
  },
  {
   "cell_type": "markdown",
   "metadata": {},
   "source": [
    "<img src=\"https://i.loli.net/2019/07/17/5d2e586b45ba840621.jpg\" style='zoom:50%'/>"
   ]
  },
  {
   "cell_type": "markdown",
   "metadata": {},
   "source": [
    "### 图也可以是有向权重图"
   ]
  },
  {
   "cell_type": "markdown",
   "metadata": {},
   "source": [
    "<img src=\"https://i.loli.net/2019/07/17/5d2e542e5681b37257.jpg\" style='zoom:50%'/>"
   ]
  },
  {
   "cell_type": "markdown",
   "metadata": {},
   "source": [
    "### 图的其他特征<br>\n",
    "#### 根据连通性分类<br>\n",
    "\n",
    "- 连通图：所有的点都有路径相连<br><br>\n",
    "- 非连通图：存在某两个点没有路径相连<br><br>\n",
    "\n",
    "#### 根据顶点度分类<br>\n",
    "- 度(Degree)：所有与它连接点的个数之和<br><br>\n",
    "- 入度(Indegree)：存在于有向图中，所有接入该点的边数之和<br><br>\n",
    "- 出度(Outdegree)：存在于有向图中，所有接出该点的边数之和"
   ]
  },
  {
   "cell_type": "markdown",
   "metadata": {},
   "source": [
    "### 图的表示：<br>\n",
    "#### 图在程序中的表示一般有两种方式：<br>\n",
    "\n",
    "#### 1. 邻接矩阵：<br>\n",
    "\n",
    "- 有 n 个顶点的图需要有一个 n × n 大小的矩阵<br><br>\n",
    "- 在一个无权图中，矩阵坐标中每个位置值为 1 代表两个点是相连的，0 表示两点是不相连的<br><br>\n",
    "- 在一个有权图中，矩阵坐标中每个位置值代表该两点之间的权重，0 表示该两点不相连<br><br>\n",
    "- 在无向图中，邻接矩阵关于对角线相等<br><br>\n",
    "\n",
    "#### 2. 邻接链表：<br>\n",
    "\n",
    "- 对于每个点，存储着一个链表，用来指向所有与该点直接相连的点<br><br>\n",
    "- 对于有权图来说，链表中元素值对应着权重"
   ]
  },
  {
   "cell_type": "markdown",
   "metadata": {},
   "source": [
    "#### 在无向无权图中：\n",
    "<img src=\"https://i.loli.net/2019/07/17/5d2e5e3393a7623576.jpg\" style='zoom:50%'/>"
   ]
  },
  {
   "cell_type": "markdown",
   "metadata": {},
   "source": [
    "#### 无向有权图中：\n",
    "<img src=\"https://i.loli.net/2019/07/17/5d2e5e33aeb0e84830.jpg\" style='zoom:50%'/>"
   ]
  },
  {
   "cell_type": "markdown",
   "metadata": {},
   "source": [
    "#### 有向无权图中：\n",
    "<img src=\"https://i.loli.net/2019/07/17/5d2e5e33a0d8d21994.jpg\" style='zoom:50%'/>"
   ]
  },
  {
   "cell_type": "markdown",
   "metadata": {},
   "source": [
    "### 邻接矩阵和链表对比：<br>\n",
    "- 邻接矩阵由于没有相连的边也占有空间，因此存在浪费空间的问题，而邻接链表则比较合理地利用空间<br><br>\n",
    "- 邻接链表比较耗时，牺牲很大的时间来查找，因此比较耗时，而邻接矩阵法相比邻接链表法来说，时间复杂度低。"
   ]
  }
 ],
 "metadata": {
  "kernelspec": {
   "display_name": "Python 3",
   "language": "python",
   "name": "python3"
  },
  "language_info": {
   "codemirror_mode": {
    "name": "ipython",
    "version": 3
   },
   "file_extension": ".py",
   "mimetype": "text/x-python",
   "name": "python",
   "nbconvert_exporter": "python",
   "pygments_lexer": "ipython3",
   "version": "3.7.1"
  }
 },
 "nbformat": 4,
 "nbformat_minor": 2
}
