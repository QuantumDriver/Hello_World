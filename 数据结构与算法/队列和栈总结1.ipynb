{
 "cells": [
  {
   "cell_type": "markdown",
   "metadata": {},
   "source": [
    "### 用栈实现队列<br>\n",
    "![微信截图_20190801161717.png](https://i.loli.net/2019/08/02/5d4348f0f073d50626.png)\n",
    "\n",
    "- 不使用pythonn的remove和pop(0)的情况下，用列表的形式来实现队列"
   ]
  },
  {
   "cell_type": "code",
   "execution_count": null,
   "metadata": {},
   "outputs": [],
   "source": [
    "class MyQueue(object):\n",
    "\n",
    "    def __init__(self):\n",
    "        \"\"\"\n",
    "        Initialize your data structure here.\n",
    "        \"\"\"\n",
    "        self.i = []\n",
    "        self.j = []\n",
    "\n",
    "    def push(self, x):\n",
    "        \"\"\"\n",
    "        Push element x to the back of queue.\n",
    "        :type x: int\n",
    "        :rtype: None\n",
    "        \"\"\"\n",
    "        self.i.append(x)\n",
    "\n",
    "    def pop(self):\n",
    "        \"\"\"\n",
    "        Removes the element from in front of queue and returns that element.\n",
    "        :rtype: int\n",
    "        \"\"\"\n",
    "        if self.j:\n",
    "            return self.j.pop()\n",
    "        while self.i:\n",
    "            self.j.append(self.i.pop())\n",
    "        return self.j.pop()\n",
    "\n",
    "    def peek(self):\n",
    "        \"\"\"\n",
    "        Get the front element.\n",
    "        :rtype: int\n",
    "        \"\"\"\n",
    "        if self.j:\n",
    "            return self.j[-1]\n",
    "        while self.i:\n",
    "            self.j.append(self.i.pop())\n",
    "        return self.j[-1]\n",
    "\n",
    "    def empty(self):\n",
    "        \"\"\"\n",
    "        Returns whether the queue is empty.\n",
    "        :rtype: bool\n",
    "        \"\"\"\n",
    "        return not self.i and not self.j\n",
    "\n",
    "\n",
    "# Your MyQueue object will be instantiated and called as such:\n",
    "# obj = MyQueue()\n",
    "# obj.push(x)\n",
    "# param_2 = obj.pop()\n",
    "# param_3 = obj.peek()\n",
    "# param_4 = obj.empty()"
   ]
  },
  {
   "cell_type": "markdown",
   "metadata": {},
   "source": [
    "### 用队列实现栈"
   ]
  },
  {
   "cell_type": "markdown",
   "metadata": {},
   "source": [
    "[![20190802103447.png](https://i.postimg.cc/cHtgZLpS/20190802103447.png)](https://postimg.cc/phxXJRVG)"
   ]
  },
  {
   "cell_type": "markdown",
   "metadata": {},
   "source": [
    "- 要尊重题意，不能用内部的API\n",
    "- 要用先进先出的结构来做到栈"
   ]
  },
  {
   "cell_type": "code",
   "execution_count": 1,
   "metadata": {},
   "outputs": [],
   "source": [
    "class MyStack(object):\n",
    "\n",
    "    def __init__(self):\n",
    "        \"\"\"\n",
    "        Initialize your data structure here.\n",
    "        \"\"\"\n",
    "        self.que1 = []\n",
    "        self.que2 = []\n",
    "\n",
    "    def push(self, x):\n",
    "        \"\"\"\n",
    "        Push element x onto stack.\n",
    "        :type x: int\n",
    "        :rtype: None\n",
    "        \"\"\"\n",
    "        self.que1.append(x)\n",
    "\n",
    "    def pop(self):\n",
    "        \"\"\"\n",
    "        Removes the element on top of the stack and returns that element.\n",
    "        :rtype: int\n",
    "        \"\"\"\n",
    "        while len(self.que1) > 1:\n",
    "            self.que2.append(self.que1.pop(0))\n",
    "        val = self.que1.pop(0)\n",
    "        while self.que2:\n",
    "            self.que1.append(self.que2.pop(0))\n",
    "        return val\n",
    "\n",
    "    def top(self):\n",
    "        \"\"\"\n",
    "        Get the top element.\n",
    "        :rtype: int\n",
    "        \"\"\"\n",
    "        while len(self.que1) > 1:\n",
    "            self.que2.append(self.que1.pop(0))\n",
    "        val = self.que1.pop(0)\n",
    "        self.que2.append(val)\n",
    "        while self.que2:\n",
    "            self.que1.append(self.que2.pop(0))\n",
    "        return val\n",
    "\n",
    "    def empty(self):\n",
    "        \"\"\"\n",
    "        Returns whether the stack is empty.\n",
    "        :rtype: bool\n",
    "        \"\"\"\n",
    "        return not self.que1 and not self.que2\n",
    "\n",
    "\n",
    "# Your MyStack object will be instantiated and called as such:\n",
    "# obj = MyStack()\n",
    "# obj.push(x)\n",
    "# param_2 = obj.pop()\n",
    "# param_3 = obj.top()\n",
    "# param_4 = obj.empty()"
   ]
  },
  {
   "cell_type": "markdown",
   "metadata": {},
   "source": [
    "### 字符串解码"
   ]
  },
  {
   "cell_type": "markdown",
   "metadata": {},
   "source": [
    "[![20190802120654.png](https://i.postimg.cc/7Ldp6SPb/20190802120654.png)](https://postimg.cc/CZCvrBqV)"
   ]
  },
  {
   "cell_type": "markdown",
   "metadata": {},
   "source": [
    "这个题的关键在于要用两个栈分别来存住遍历时遇到的字符串和数字。数字配字符，再加上左右括号可以算作一个小单元。"
   ]
  },
  {
   "cell_type": "code",
   "execution_count": 2,
   "metadata": {},
   "outputs": [],
   "source": [
    "class Solution(object):\n",
    "    def decodeString(self, s):\n",
    "        \"\"\"\n",
    "        :type s: str\n",
    "        :rtype: str\n",
    "        \"\"\"\n",
    "        char_stack = []\n",
    "        num_stack = []\n",
    "        res = ''\n",
    "        num_str = ''\n",
    "        \n",
    "        for i in s:\n",
    "            if i.isdigit():\n",
    "                num_str += i\n",
    "            elif i == '[':\n",
    "                char_stack.append(res)\n",
    "                num_stack.append(num_str)\n",
    "                res = ''\n",
    "                num_str = ''\n",
    "            elif i == ']':\n",
    "                res = char_stack.pop() + int(num_stack.pop()) * res\n",
    "            else:\n",
    "                res += i\n",
    "        \n",
    "        return res"
   ]
  }
 ],
 "metadata": {
  "kernelspec": {
   "display_name": "Python 3",
   "language": "python",
   "name": "python3"
  },
  "language_info": {
   "codemirror_mode": {
    "name": "ipython",
    "version": 3
   },
   "file_extension": ".py",
   "mimetype": "text/x-python",
   "name": "python",
   "nbconvert_exporter": "python",
   "pygments_lexer": "ipython3",
   "version": "3.7.1"
  },
  "toc": {
   "base_numbering": 1,
   "nav_menu": {},
   "number_sections": true,
   "sideBar": false,
   "skip_h1_title": false,
   "title_cell": "Table of Contents",
   "title_sidebar": "Contents",
   "toc_cell": false,
   "toc_position": {},
   "toc_section_display": true,
   "toc_window_display": false
  }
 },
 "nbformat": 4,
 "nbformat_minor": 2
}
