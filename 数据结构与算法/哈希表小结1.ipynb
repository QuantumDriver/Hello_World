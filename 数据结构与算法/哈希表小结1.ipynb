{
 "cells": [
  {
   "cell_type": "markdown",
   "metadata": {},
   "source": [
    "### 字母异位词分组"
   ]
  },
  {
   "cell_type": "markdown",
   "metadata": {},
   "source": [
    "![微信截图_20190815204703.png](https://i.loli.net/2019/08/16/is7dKv6rRkFgQEU.png)"
   ]
  },
  {
   "cell_type": "code",
   "execution_count": 28,
   "metadata": {},
   "outputs": [],
   "source": [
    "class Solution(object):\n",
    "    def groupAnagrams(self, strs):\n",
    "        \"\"\"\n",
    "        :type strs: List[str]\n",
    "        :rtype: List[List[str]]\n",
    "        \"\"\"\n",
    "        d = {}\n",
    "        for i in strs:\n",
    "            j = ''.join(sorted(i))\n",
    "            if j not in d:\n",
    "                d[j] = [i]\n",
    "            else:\n",
    "                d[j].append(i)\n",
    "        return d.values()"
   ]
  },
  {
   "cell_type": "markdown",
   "metadata": {},
   "source": [
    "### 有效的数独"
   ]
  },
  {
   "cell_type": "markdown",
   "metadata": {},
   "source": [
    "![微信截图_20190816111347.png](https://i.loli.net/2019/08/16/c4HeUK96TFkXbr7.png)\n",
    "![微信截图_20190816111419.png](https://i.loli.net/2019/08/16/2HAo4FQJNWfOajD.png)\n",
    "![微信截图_20190816111435.png](https://i.loli.net/2019/08/16/4rkvofgOsyq5Hwd.png)\n",
    "![微信截图_20190816111446.png](https://i.loli.net/2019/08/16/r6jv5lZDnpbmwMG.png)\n",
    "\n"
   ]
  },
  {
   "cell_type": "code",
   "execution_count": 3,
   "metadata": {},
   "outputs": [],
   "source": [
    "class Solution(object):\n",
    "    def isValidSudoku(self, board):\n",
    "        \"\"\"\n",
    "        :type board: List[List[str]]\n",
    "        :rtype: bool\n",
    "        \"\"\"\n",
    "        rows = [{} for i in range(9)]\n",
    "        columns = [{} for i in range(9)]\n",
    "        box = [{} for i in range(9)]\n",
    "        \n",
    "        for i in range(9):\n",
    "            for j in range(9):\n",
    "                num = board[i][j]\n",
    "                if num != '.':\n",
    "                    num = int(num)\n",
    "                    index = (i//3)*3 + j//3\n",
    "                    \n",
    "                    rows[i][num] = rows[i].get(num,0) + 1\n",
    "                    columns[j][num] = columns[j].get(num,0) + 1\n",
    "                    box[index][num] = box[index].get(num,0) + 1\n",
    "                    if rows[i][num] > 1 or columns[j][num] > 1 or box[index][num] > 1:\n",
    "                        return False\n",
    "        return True"
   ]
  },
  {
   "cell_type": "markdown",
   "metadata": {},
   "source": [
    "### 寻找重复的子树"
   ]
  },
  {
   "cell_type": "markdown",
   "metadata": {},
   "source": [
    "![微信截图_20190816112811.png](https://i.loli.net/2019/08/16/Kri3LWIeVl2GYsp.png)\n",
    "![微信截图_20190816112802.png](https://i.loli.net/2019/08/16/G9g21WizuVwtT7S.png)"
   ]
  },
  {
   "cell_type": "code",
   "execution_count": null,
   "metadata": {},
   "outputs": [],
   "source": [
    "# Definition for a binary tree node.\n",
    "# class TreeNode(object):\n",
    "#     def __init__(self, x):\n",
    "#         self.val = x\n",
    "#         self.left = None\n",
    "#         self.right = None\n",
    "\n",
    "class Solution(object):\n",
    "    def findDuplicateSubtrees(self, root):\n",
    "        \"\"\"\n",
    "        :type root: TreeNode\n",
    "        :rtype: List[TreeNode]\n",
    "        \"\"\"\n",
    "        res, d = [], {}\n",
    "        def helper(node):\n",
    "            if not node: return ' '\n",
    "            s = str(node.val) + helper(node.left) + helper(node.right)\n",
    "            d[s] = d.get(s,0) + 1\n",
    "            if d[s] == 2: res.append(node)\n",
    "            return s\n",
    "        helper(root)\n",
    "        return res"
   ]
  }
 ],
 "metadata": {
  "kernelspec": {
   "display_name": "Python 3",
   "language": "python",
   "name": "python3"
  },
  "language_info": {
   "codemirror_mode": {
    "name": "ipython",
    "version": 3
   },
   "file_extension": ".py",
   "mimetype": "text/x-python",
   "name": "python",
   "nbconvert_exporter": "python",
   "pygments_lexer": "ipython3",
   "version": "3.7.1"
  },
  "toc": {
   "base_numbering": 1,
   "nav_menu": {},
   "number_sections": true,
   "sideBar": false,
   "skip_h1_title": false,
   "title_cell": "Table of Contents",
   "title_sidebar": "Contents",
   "toc_cell": false,
   "toc_position": {},
   "toc_section_display": true,
   "toc_window_display": false
  }
 },
 "nbformat": 4,
 "nbformat_minor": 2
}
