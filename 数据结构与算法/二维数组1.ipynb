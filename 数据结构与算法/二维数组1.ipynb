{
 "cells": [
  {
   "cell_type": "markdown",
   "metadata": {},
   "source": [
    "### 对角线遍历\n",
    "给定一个含有 M x N 个元素的矩阵（M 行，N 列），请以对角线遍历的顺序返回这个矩阵中的所有元素，对角线遍历如下图所示。\n",
    " <img src=\"https://i.loli.net/2019/07/22/5d348c2c62ce518878.png\" width = \"210\" height = \"140\" alt=\"题目\" align=center />"
   ]
  },
  {
   "cell_type": "markdown",
   "metadata": {},
   "source": [
    "我们不妨把这样的遍历方式称为对矩阵的斜遍历，每次斜遍历都是在遍历斜着的一行。<br><br>\n",
    "观察图片可以发现一些规律，遍历时，首先是往右上角的方向，接着是往左下角的方向，然后又是往右上角，如此反复。<br><br>\n",
    "另外我们如果多想几个其他形状的矩阵，可以发现一个(M X N)的矩阵，斜遍历的行数恰好等于M+N-1。<br><br>\n",
    "**如果不考虑每一行遍历的方向，假设方向永远是往右上角走，那么元素遍历有这样一种规律。**<br><br>\n",
    "想象一下第一个元素的位置为坐标原点，即(x,y=0,0)，以上图为例，第二次斜遍历时，是从2到4，反过来就是从4到2。4的坐标是(x,y=1,0),而2的坐标是(x,y=0,1)，我们发现遍历时坐标x在变小，坐标y在变大。<br><br>\n",
    "把这个规律推广一下可以发现，每一次斜遍历开始时，坐标x都会往下走一点，直到触底。而在一行的斜遍历中，x的坐标会-1，y的坐标+1，直到x等于0或者y等于矩阵的长度-1(即y触底)。<br><br>\n",
    "我们很自然的可以联想到，用一个for循环，去循环M+N-1次，即斜遍历每一行。每一行开始遍历时，会设定x的坐标值，从0直到触底。然后在for循环下再设定一个while循环，针对这一行的斜遍历，把元素值根据x,y坐标的索引放入一个列表中，显然while的终止条件就是x=0或者y触底。<br><br>\n",
    "如果实际情况的方向是往左下方怎么办呢？如下图所示："
   ]
  },
  {
   "cell_type": "markdown",
   "metadata": {},
   "source": [
    " <img src=\"https://i.loli.net/2019/07/22/5d3495774b43091654.png\" width = \"550\" height = \"550\" alt=\"题目\" align=center />\n",
    " <img src=\"https://i.loli.net/2019/07/22/5d349af101ede40258.png\" width = \"600\" height = \"600\" alt=\"微信截图_20190721130318.png\" title=\"微信截图_20190721130318.png\" />\n"
   ]
  },
  {
   "cell_type": "markdown",
   "metadata": {},
   "source": [
    "以上就是如何进行斜遍历的主要内容，除此之外，还要考虑矩阵不存在和矩阵只有一个元素的特殊情况。"
   ]
  },
  {
   "cell_type": "code",
   "execution_count": 9,
   "metadata": {},
   "outputs": [
    {
     "data": {
      "text/plain": [
       "([[1, 2, 3], [4, 5, 6], [7, 8, 9]], 3)"
      ]
     },
     "execution_count": 9,
     "metadata": {},
     "output_type": "execute_result"
    }
   ],
   "source": [
    "a = [\n",
    "    [1,2,3],\n",
    "    [4,5,6],\n",
    "    [7,8,9]\n",
    "]\n",
    "a, len(a)"
   ]
  },
  {
   "cell_type": "code",
   "execution_count": 13,
   "metadata": {},
   "outputs": [
    {
     "data": {
      "text/plain": [
       "1"
      ]
     },
     "execution_count": 13,
     "metadata": {},
     "output_type": "execute_result"
    }
   ],
   "source": [
    "b = [[1,2,3]]\n",
    "len(b)"
   ]
  },
  {
   "cell_type": "markdown",
   "metadata": {},
   "source": [
    "- 代码示例"
   ]
  },
  {
   "cell_type": "code",
   "execution_count": null,
   "metadata": {},
   "outputs": [],
   "source": [
    "class Solution(object):\n",
    "    def findDiagonalOrder(self, matrix):\n",
    "        \"\"\"\n",
    "        :type matrix: List[List[int]]\n",
    "        :rtype: List[int]\n",
    "        \"\"\"\n",
    "        if len(matrix) <= 1:\n",
    "            return matrix and matrix[0]\n",
    "        \n",
    "        M,N = len(matrix),len(matrix[0])\n",
    "        x,y = 0,0\n",
    "        lines = M + N - 1\n",
    "        res = []\n",
    "        direction = True    # 遍历方向是右上，False则是左下\n",
    "        \n",
    "        for line in range(lines): # 斜遍历\n",
    "            current_line = []\n",
    "            if line < M:\n",
    "                x,y = line,0\n",
    "            else:\n",
    "                x,y = M - 1, line - (M-1)\n",
    "        \n",
    "            while x >=0 and y < N:\n",
    "                current_line.append(matrix[x][y])\n",
    "                x -= 1\n",
    "                y += 1\n",
    "            \n",
    "            if direction:\n",
    "                res += current_line\n",
    "                direction = False  # 本行方向正确，说明下一行方向与实际方向相反\n",
    "            else:\n",
    "                current_line.reverse() # 因为方向相反，所以要把元素反转\n",
    "                res += current_line\n",
    "                direction = True   # 本行方向相反，说明下次方向正确\n",
    "        return res                            "
   ]
  },
  {
   "cell_type": "markdown",
   "metadata": {},
   "source": [
    "- 详细说明"
   ]
  },
  {
   "cell_type": "code",
   "execution_count": 7,
   "metadata": {},
   "outputs": [],
   "source": [
    "class Solution(object):\n",
    "    def findDiagonalOrder(self, matrix):\n",
    "        \"\"\"\n",
    "        :type matrix: List[List[int]]\n",
    "        :rtype: List[int]\n",
    "        \"\"\"\n",
    "        if len(matrix) <= 1:              # 两种特殊情况\n",
    "            return matrix and matrix[0]\n",
    "\n",
    "        M,N = len(matrix),len(matrix[0])  # 矩阵的高度与长度\n",
    "        x,y = 0,0                         # 遍历时对矩阵各元素的索引，也可以理解为坐标\n",
    "        lines = M + N - 1                 # 斜遍历的次数，一共要遍历多少行，3X3矩阵遍历3+3-1=5行\n",
    "        flag = True                       # 斜遍历时将元素放入列表的顺序\n",
    "        res = []                          # 输出值\n",
    "        for line in range(lines):\n",
    "            current_line = []             # 用于放入本次遍历的元素\n",
    "            if line < M:\n",
    "                x,y = line,0              # 坐标x会随着遍历逐渐往矩阵下方移动\n",
    "            else:\n",
    "                x,y = M - 1,line - (M-1)  # 当坐标x碰到下方边界时，需要调整坐标\n",
    "            while x >= 0 and y < N:       # 对每一行的元素进行遍历\n",
    "                current_line.append(matrix[x][y])\n",
    "                x -= 1\n",
    "                y += 1\n",
    "            # 由于之前x,y坐标的设定，可以看出斜遍历的方向始终是从右上到左下\n",
    "            # 当遍历方向与实际方向相反时，只要把当前列表的元素反转即可\n",
    "            if flag:                      # 遍历顺序为正时，无需调节方向开关\n",
    "                res += current_line\n",
    "                flag = False\n",
    "            else:                         # 当flag为False，说明遍历方向与实际方向相反\n",
    "                current_line.reverse()\n",
    "                res += current_line\n",
    "                flag = True\n",
    "        return res           "
   ]
  }
 ],
 "metadata": {
  "kernelspec": {
   "display_name": "Python 3",
   "language": "python",
   "name": "python3"
  },
  "language_info": {
   "codemirror_mode": {
    "name": "ipython",
    "version": 3
   },
   "file_extension": ".py",
   "mimetype": "text/x-python",
   "name": "python",
   "nbconvert_exporter": "python",
   "pygments_lexer": "ipython3",
   "version": "3.7.1"
  }
 },
 "nbformat": 4,
 "nbformat_minor": 2
}
