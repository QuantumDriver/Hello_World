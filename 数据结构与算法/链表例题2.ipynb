{
 "cells": [
  {
   "cell_type": "markdown",
   "metadata": {},
   "source": [
    "### 相交链表"
   ]
  },
  {
   "cell_type": "markdown",
   "metadata": {},
   "source": [
    "![微信截图_20190806144526.png](https://i.loli.net/2019/08/07/bEQiOLuYf17mXTG.png)\n",
    "![微信截图_20190806144540.png](https://i.loli.net/2019/08/07/SiL6l3X2gBHwctz.png)\n",
    "![微信截图_20190806144548.png](https://i.loli.net/2019/08/07/9gCymoQkJTnIEe3.png)\n",
    "\n",
    "![微信截图_20190806144558.png](https://i.loli.net/2019/08/07/Dxmwe3biYFUfutH.png)\n",
    "![微信截图_20190806144607.png](https://i.loli.net/2019/08/07/3NObBzFZg92rpnR.png)\n"
   ]
  },
  {
   "cell_type": "markdown",
   "metadata": {},
   "source": [
    "这道题的关键是，当headA走到头，再换成headB来走，必和headB走到头后用headA来走，相遇在交合点。<br><br>\n",
    "headA: a + x, headB: b + x, a+x+b = b+x+a"
   ]
  },
  {
   "cell_type": "code",
   "execution_count": 1,
   "metadata": {},
   "outputs": [],
   "source": [
    "# Definition for singly-linked list.\n",
    "# class ListNode(object):\n",
    "#     def __init__(self, x):\n",
    "#         self.val = x\n",
    "#         self.next = None\n",
    "\n",
    "class Solution(object):\n",
    "    def getIntersectionNode(self, headA, headB):\n",
    "        \"\"\"\n",
    "        :type head1, head1: ListNode\n",
    "        :rtype: ListNode\n",
    "        \"\"\"\n",
    "        p = headA\n",
    "        q = headB\n",
    "        while p != q:\n",
    "            p = p.next if p else headB\n",
    "            q = q.next if q else headA\n",
    "        return p"
   ]
  },
  {
   "cell_type": "markdown",
   "metadata": {},
   "source": [
    "### 删除链表的倒数第N个节点<br>\n",
    "![微信截图_20190806145149.png](https://i.loli.net/2019/08/07/JO8hD2Kl7YHue9v.png)"
   ]
  },
  {
   "cell_type": "markdown",
   "metadata": {},
   "source": [
    "这道题可以用双指针完成，一个快一个慢，快的那个指向结尾null时，往前隔开n个元素的位置，即是慢的那个。此时慢的那个的下一个元素就是需要被剔除的元素。"
   ]
  },
  {
   "cell_type": "code",
   "execution_count": 5,
   "metadata": {},
   "outputs": [],
   "source": [
    "# Definition for singly-linked list.\n",
    "# class ListNode(object):\n",
    "#     def __init__(self, x):\n",
    "#         self.val = x\n",
    "#         self.next = None\n",
    "\n",
    "class Solution(object):\n",
    "    def removeNthFromEnd(self, head, n):\n",
    "        \"\"\"\n",
    "        :type head: ListNode\n",
    "        :type n: int\n",
    "        :rtype: ListNode\n",
    "        \"\"\"\n",
    "        dummy = ListNode(0)\n",
    "        dummy.next = head\n",
    "        slow,fast = dummy,dummy\n",
    "        \n",
    "        for i in range(n+1):\n",
    "            fast = fast.next\n",
    "        \n",
    "        while fast:\n",
    "            fast = fast.next\n",
    "            slow = slow.next\n",
    "        slow.next = slow.next.next\n",
    "        \n",
    "        return dummy.next"
   ]
  },
  {
   "cell_type": "markdown",
   "metadata": {},
   "source": [
    "### 反转链表<br>\n",
    "![微信截图_20190807105346.png](https://i.loli.net/2019/08/07/qKbmFwsLkd79TX5.png)"
   ]
  },
  {
   "cell_type": "markdown",
   "metadata": {},
   "source": [
    "按照一次遍历，然后交换前后值的方法进行解答。需要用一个变量来指代前值，这个前值最开始是None。另外在修改head的过程中，也需要把head.next的值保存好。\n",
    "- 最关键的就是\n",
    "```python\n",
    "head.next = pre\n",
    "pre = head\n",
    "```"
   ]
  },
  {
   "cell_type": "code",
   "execution_count": 1,
   "metadata": {},
   "outputs": [],
   "source": [
    "# Definition for singly-linked list.\n",
    "# class ListNode(object):\n",
    "#     def __init__(self, x):\n",
    "#         self.val = x\n",
    "#         self.next = None\n",
    "\n",
    "class Solution(object):\n",
    "    def reverseList(self, head):\n",
    "        \"\"\"\n",
    "        :type head: ListNode\n",
    "        :rtype: ListNode\n",
    "        \"\"\"\n",
    "        if not head: return\n",
    "        if not head.next: return\n",
    "        \n",
    "        pre = None\n",
    "        while head.next:\n",
    "            nex = head.next\n",
    "            head.next = pre\n",
    "            pre = head\n",
    "            head = nex\n",
    "        head.next = pre\n",
    "        return head"
   ]
  }
 ],
 "metadata": {
  "kernelspec": {
   "display_name": "Python 3",
   "language": "python",
   "name": "python3"
  },
  "language_info": {
   "codemirror_mode": {
    "name": "ipython",
    "version": 3
   },
   "file_extension": ".py",
   "mimetype": "text/x-python",
   "name": "python",
   "nbconvert_exporter": "python",
   "pygments_lexer": "ipython3",
   "version": "3.7.1"
  },
  "toc": {
   "base_numbering": 1,
   "nav_menu": {},
   "number_sections": true,
   "sideBar": false,
   "skip_h1_title": false,
   "title_cell": "Table of Contents",
   "title_sidebar": "Contents",
   "toc_cell": false,
   "toc_position": {},
   "toc_section_display": true,
   "toc_window_display": false
  }
 },
 "nbformat": 4,
 "nbformat_minor": 2
}
