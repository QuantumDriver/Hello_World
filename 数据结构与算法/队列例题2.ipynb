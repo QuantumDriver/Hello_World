{
 "cells": [
  {
   "cell_type": "markdown",
   "metadata": {},
   "source": [
    "### 打开转盘锁<br>\n",
    "![微信截图_20190728111300.png](https://i.loli.net/2019/07/28/5d3dbbc02cc7c33686.png)\n",
    "![微信截图_20190728111316.png](https://i.loli.net/2019/07/28/5d3dbbc02cc6e24768.png)\n",
    "![微信截图_20190728111329.png](https://i.loli.net/2019/07/28/5d3dbbc02d0da25956.png)"
   ]
  },
  {
   "cell_type": "markdown",
   "metadata": {},
   "source": [
    "仔细思考这道题，会发现每一个数字的状态往下走会出现另外8种情况，比如说0000，它的下一步就可能是1000,9000,0100,0900,0010,0090,0001,0009<br><br>\n",
    "所以每一次把这8个状态加入队列中，再遍历这8个状态，每个状态的下一步又有8种状态，再次入队。注意每次入队时要避免重复，已经遍历过的，或者已经在队列里的就不要再加入了。<br><br>\n",
    "所以这个解题思路刚好就可以用BFS的方法来解决。具体的话可以配合队列或者是哈希表。"
   ]
  },
  {
   "cell_type": "markdown",
   "metadata": {},
   "source": [
    "- BFS的方法"
   ]
  },
  {
   "cell_type": "code",
   "execution_count": 48,
   "metadata": {},
   "outputs": [],
   "source": [
    "class Solution(object):\n",
    "    def openLock(self, deadends, target):\n",
    "        \"\"\"\n",
    "        :type deadends: List[str]\n",
    "        :type target: str\n",
    "        :rtype: int\n",
    "        \"\"\"\n",
    "        deadends = set(deadends)\n",
    "        if '0000' in deadends: return -1\n",
    "        \n",
    "        step = 0\n",
    "        que = [['0000',step]]\n",
    "        \n",
    "        while que:\n",
    "            node,step = que.pop(0)\n",
    "            if node == target:\n",
    "                return step\n",
    "            \n",
    "            for i in range(4):\n",
    "                for j in [1,-1]:\n",
    "                    next_node = node[:i] + str((int(node[i]) + j) % 10) + node[i+1:]\n",
    "                    \n",
    "                    if next_node not in deadends:\n",
    "                        deadends.add(next_node)\n",
    "                        que.append([next_node,step+1])\n",
    "        return -1"
   ]
  },
  {
   "cell_type": "code",
   "execution_count": 50,
   "metadata": {},
   "outputs": [
    {
     "data": {
      "text/plain": [
       "-1"
      ]
     },
     "execution_count": 50,
     "metadata": {},
     "output_type": "execute_result"
    }
   ],
   "source": [
    "a = Solution()\n",
    "deadends = ['0001','1110']\n",
    "target = '1110'\n",
    "a.openLock(deadends,target)"
   ]
  },
  {
   "cell_type": "markdown",
   "metadata": {},
   "source": [
    "- BFS配合哈希表"
   ]
  },
  {
   "cell_type": "code",
   "execution_count": 40,
   "metadata": {},
   "outputs": [],
   "source": [
    "class Solution_1(object):\n",
    "    def openLock(self, deadends, target):\n",
    "        if '0000' in deadends: return -1\n",
    "        if '0000' == target: return 0\n",
    "        \n",
    "        deadends = set(deadends)\n",
    "        que = ['0000']\n",
    "        step = 0            \n",
    "        ndict = {'0':('1','9'),'1':('0','2'),'2':('1','3'),'3':('2','4'),'4':('3','5'),'5':('4','6'),\n",
    "         '6':('5','7'),'7':('6','8'),'8':('7','9'),'9':('8','0')}\n",
    "\n",
    "        while que:\n",
    "            step += 1\n",
    "            next_que = []\n",
    "            for node in que:\n",
    "                for i in range(4):\n",
    "                    head,tail = node[:i],node[i+1:]\n",
    "                    for middle in ndict[node[i]]:\n",
    "                        next_node = head + middle + tail\n",
    "                        if next_node == target:\n",
    "                            return step\n",
    "                        if next_node not in deadends:\n",
    "                            deadends.add(next_node)\n",
    "                            next_que.append(next_node)\n",
    "            que = next_que\n",
    "        return -1"
   ]
  },
  {
   "cell_type": "markdown",
   "metadata": {},
   "source": [
    "### 完全平方数<br>\n",
    "![微信截图_20190728113512.png](https://i.loli.net/2019/07/28/5d3dc0cdf20ef17279.png)"
   ]
  },
  {
   "cell_type": "markdown",
   "metadata": {},
   "source": [
    "BFS算法详解\n",
    "![微信截图_20190728170231.png](https://i.loli.net/2019/07/29/5d3e0d7794e1f29765.png)"
   ]
  },
  {
   "cell_type": "code",
   "execution_count": 64,
   "metadata": {},
   "outputs": [],
   "source": [
    "class Solution(object):\n",
    "    def numSquares(self, n):\n",
    "        \"\"\"\n",
    "        :type n: int\n",
    "        :rtype: int\n",
    "        \"\"\"\n",
    "        visited = [False for _ in range(n+1)]\n",
    "        visited[n] = True\n",
    "        que = [[n,0]]\n",
    "        \n",
    "        while que:\n",
    "            num,step = que.pop(0)\n",
    "            i = 1\n",
    "            \n",
    "            res = num - i**2\n",
    "            while res >= 0:\n",
    "                if res == 0:\n",
    "                    return step+1\n",
    "                if not visited[res]:\n",
    "                    visited[res] = True\n",
    "                    que.append([res,step+1])\n",
    "                i += 1\n",
    "                res = num - i**2\n",
    "        \n",
    "        return 0"
   ]
  },
  {
   "cell_type": "code",
   "execution_count": 66,
   "metadata": {},
   "outputs": [
    {
     "data": {
      "text/plain": [
       "3"
      ]
     },
     "execution_count": 66,
     "metadata": {},
     "output_type": "execute_result"
    }
   ],
   "source": [
    "a = Solution()\n",
    "a.numSquares(12)"
   ]
  }
 ],
 "metadata": {
  "kernelspec": {
   "display_name": "Python 3",
   "language": "python",
   "name": "python3"
  },
  "language_info": {
   "codemirror_mode": {
    "name": "ipython",
    "version": 3
   },
   "file_extension": ".py",
   "mimetype": "text/x-python",
   "name": "python",
   "nbconvert_exporter": "python",
   "pygments_lexer": "ipython3",
   "version": "3.7.1"
  },
  "toc": {
   "base_numbering": 1,
   "nav_menu": {},
   "number_sections": true,
   "sideBar": false,
   "skip_h1_title": false,
   "title_cell": "Table of Contents",
   "title_sidebar": "Contents",
   "toc_cell": false,
   "toc_position": {},
   "toc_section_display": true,
   "toc_window_display": false
  }
 },
 "nbformat": 4,
 "nbformat_minor": 2
}
