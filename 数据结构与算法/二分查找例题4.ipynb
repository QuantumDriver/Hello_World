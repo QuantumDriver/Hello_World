{
 "cells": [
  {
   "cell_type": "markdown",
   "metadata": {},
   "source": [
    "### 寻找排序数组中的最小值2"
   ]
  },
  {
   "cell_type": "markdown",
   "metadata": {},
   "source": [
    "![微信截图_20190913130526.png](https://i.loli.net/2019/09/14/Jw8STysUZ3xpWP2.png)"
   ]
  },
  {
   "cell_type": "markdown",
   "metadata": {},
   "source": [
    "- 这道题关键在于m和r的对比判断\n",
    "- 由于存在重复，当m和r的值相同时，没法判断最小值向哪里进行二分\n",
    "- 所以直接令 r -= 1,这样就可以了"
   ]
  },
  {
   "cell_type": "code",
   "execution_count": null,
   "metadata": {},
   "outputs": [],
   "source": [
    "class Solution(object):\n",
    "    def findMin(self, nums):\n",
    "        \"\"\"\n",
    "        :type nums: List[int]\n",
    "        :rtype: int\n",
    "        \"\"\"\n",
    "        l,r = 0, len(nums)-1\n",
    "        while l < r:\n",
    "            m = (l+r)//2\n",
    "            if nums[m] < nums[r]:\n",
    "                r = m\n",
    "            elif nums[m] > nums[r]:\n",
    "                l = m + 1\n",
    "            else:\n",
    "                r -= 1\n",
    "        return nums[l]"
   ]
  },
  {
   "cell_type": "markdown",
   "metadata": {},
   "source": [
    "### 寻找重复数"
   ]
  },
  {
   "cell_type": "markdown",
   "metadata": {},
   "source": [
    "![微信截图_20190914151724.png](https://i.loli.net/2019/09/15/4fCNaW1H26mYqdw.png)"
   ]
  },
  {
   "cell_type": "code",
   "execution_count": 4,
   "metadata": {},
   "outputs": [],
   "source": [
    "class Solution(object):\n",
    "    def findDuplicate(self, nums):\n",
    "        \"\"\"\n",
    "        :type nums: List[int]\n",
    "        :rtype: int\n",
    "        \"\"\"\n",
    "        l, r = 0, len(nums)-1\n",
    "        while l < r:\n",
    "            m = (l+r)//2\n",
    "            c = 0\n",
    "            for n in nums:\n",
    "                if n <= m:\n",
    "                    c += 1\n",
    "            if c > m:\n",
    "                r = m\n",
    "            else:\n",
    "                l = m + 1\n",
    "        return l"
   ]
  },
  {
   "cell_type": "markdown",
   "metadata": {},
   "source": [
    "### 寻找两个有序数组的中位数"
   ]
  },
  {
   "cell_type": "markdown",
   "metadata": {},
   "source": [
    "![微信截图_20190914154217.png](https://i.loli.net/2019/09/15/M2ExNrSzKkRLf3P.png)"
   ]
  },
  {
   "cell_type": "markdown",
   "metadata": {},
   "source": [
    "- 自己想的双指针法\n",
    "- 不符合时间复杂度$O(log(m+n))$的规定"
   ]
  },
  {
   "cell_type": "code",
   "execution_count": 5,
   "metadata": {},
   "outputs": [],
   "source": [
    "class Solution(object):\n",
    "    def findMedianSortedArrays(self, nums1, nums2):\n",
    "        \"\"\"\n",
    "        :type nums1: List[int]\n",
    "        :type nums2: List[int]\n",
    "        :rtype: float\n",
    "        \"\"\"\n",
    "        n, m = len(nums1), len(nums2)\n",
    "        res, i, j = [], 0, 0\n",
    "        \n",
    "        while i < len(nums1) and j < len(nums2):\n",
    "            if nums1[i] <= nums2[j]:\n",
    "                res.append(nums1[i])\n",
    "                i += 1\n",
    "            else:\n",
    "                res.append(nums2[j])\n",
    "                j += 1\n",
    "                \n",
    "        if i == n: res += nums2[j:]\n",
    "        if j == m: res += nums1[i:]\n",
    "        \n",
    "        if (n+m)%2 == 0:\n",
    "            return (res[(n+m)//2]+res[((n+m)//2)-1])/float(2)\n",
    "        else:\n",
    "            return res[(n+m)//2]"
   ]
  },
  {
   "cell_type": "markdown",
   "metadata": {},
   "source": [
    "- 非常复杂的$O(log(m+n))$解法\n",
    "- [参考](https://leetcode-cn.com/problems/median-of-two-sorted-arrays/solution/he-bing-yi-hou-zhao-gui-bing-guo-cheng-zhong-zhao-/)"
   ]
  },
  {
   "cell_type": "code",
   "execution_count": 12,
   "metadata": {},
   "outputs": [],
   "source": [
    "class Solution(object):\n",
    "    def findMedianSortedArrays(self, nums1, nums2):\n",
    "        \"\"\"\n",
    "        :type nums1: List[int]\n",
    "        :type nums2: List[int]\n",
    "        :rtype: float\n",
    "        \"\"\"\n",
    "        if len(nums1) > len(nums2):\n",
    "            nums1, nums2 = nums2, nums1\n",
    "            \n",
    "        m, n  = len(nums1), len(nums2)\n",
    "        l, r = 0, m\n",
    "        left_total = (m+n+1)//2\n",
    "        \n",
    "        while l < r:\n",
    "            i = (l+r)//2\n",
    "            j = left_total-i\n",
    "            \n",
    "            if nums2[j-1] > nums1[i]:\n",
    "                l = i + 1\n",
    "            else:\n",
    "                r = i\n",
    "        \n",
    "        i, j = l, left_total-l\n",
    "        \n",
    "        nums1_left_max = float('-inf') if i==0 else nums1[i-1]\n",
    "        nums1_right_min = float('inf') if i==m else nums1[i]\n",
    "        \n",
    "        nums2_left_max = float('-inf') if j==0 else nums2[j-1]\n",
    "        nums2_right_min = float('inf') if j==n else nums2[j]\n",
    "        \n",
    "        if (m+n) & 1:\n",
    "            return max(nums1_left_max,nums2_left_max)\n",
    "        else:\n",
    "            return (max(nums1_left_max,nums2_left_max)+min(nums1_right_min,nums2_right_min))/2"
   ]
  },
  {
   "cell_type": "code",
   "execution_count": 16,
   "metadata": {},
   "outputs": [
    {
     "data": {
      "text/plain": [
       "2.5"
      ]
     },
     "execution_count": 16,
     "metadata": {},
     "output_type": "execute_result"
    }
   ],
   "source": [
    "a = Solution()\n",
    "x = [1,2]\n",
    "y = [3,4]\n",
    "a.findMedianSortedArrays(x,y)"
   ]
  },
  {
   "cell_type": "markdown",
   "metadata": {},
   "source": [
    "### 找出第K小的距离对"
   ]
  },
  {
   "cell_type": "markdown",
   "metadata": {},
   "source": [
    "![微信截图_20190915143648.png](https://i.loli.net/2019/09/16/wUAM5tCN6RHOElZ.png)"
   ]
  },
  {
   "cell_type": "markdown",
   "metadata": {},
   "source": [
    "- 实际上，题目要求我们寻找的是第K小的距离！我们知道，距离是由数组中的一个数和另一个数相减再取绝对值得到。那么我们可以这样操作：把数组排好序，然后用最后一个数减去第一个数，得到的就是这个数组的最大距离！显然，第K小的距离，一定会落在距离最小值和距离最大值之间,即\\[0, nums[-1] - nums[0]\\]这个空间，最小值不一定是0，但我们可以0作为这个假设空间的下限，然后通过二分法去逼近这个第K小的距离。<br><br>\n",
    "- 怎么找这个第K小的距离呢？首先我们猜测一个距离guess，然后计算一下，数组中有多少个距离，小于等于guess这个距离。假设我们计算得到count，则说明数组有count对数的距离，都是小于等于guess的。接着，再把这个count跟k做对比，如果count是大于等于k的，说明我们猜的距离大了，应该猜小点，如果count是小于k的，说明我们猜小了，应该猜大点。你可能会问，有没有可能猜的刚好等于k呢？实际上是有可能的！但是我们需要借助二分法不断去逼近正确的距离，而不是试图一步到位。"
   ]
  },
  {
   "cell_type": "markdown",
   "metadata": {},
   "source": [
    "- 如何计算数组中有多少个距离，小于等于猜测距离呢？可以通过双指针法来维护一个窗口。在这个窗口中，如果右指针对应的数，减去左指针对应的数，其值(即距离)，小于等于我们猜测的距离，则说明目前有右指针减去左指针这么多的距离都是符合要求的，所以我们把它累加起来，如果计算距离大于猜测距离，左指针累加1即可，直到计算距离再度小于等于猜测距离。"
   ]
  },
  {
   "cell_type": "code",
   "execution_count": 12,
   "metadata": {},
   "outputs": [],
   "source": [
    "class Solution(object):\n",
    "    def smallestDistancePair(self, nums, k):\n",
    "        def possible(guess):\n",
    "            count = left = 0\n",
    "            for right, x in enumerate(nums):\n",
    "                while x - nums[left] > guess:\n",
    "                    left += 1\n",
    "                count += right - left\n",
    "            return count >= k\n",
    "\n",
    "        nums.sort()\n",
    "        lo, hi = 0, nums[-1] - nums[0]\n",
    "        while lo < hi:\n",
    "            mi = (lo + hi) / 2\n",
    "            if possible(mi):\n",
    "                hi = mi\n",
    "            else:\n",
    "                lo = mi + 1\n",
    "        return lo"
   ]
  },
  {
   "cell_type": "code",
   "execution_count": 13,
   "metadata": {},
   "outputs": [],
   "source": [
    "nums = [1,3,1]\n",
    "k = 1\n",
    "a = Solution()"
   ]
  },
  {
   "cell_type": "code",
   "execution_count": 14,
   "metadata": {},
   "outputs": [
    {
     "data": {
      "text/plain": [
       "0"
      ]
     },
     "execution_count": 14,
     "metadata": {},
     "output_type": "execute_result"
    }
   ],
   "source": [
    "a.smallestDistancePair(nums,k)"
   ]
  },
  {
   "cell_type": "markdown",
   "metadata": {},
   "source": [
    "### 分割数组的最大值"
   ]
  },
  {
   "cell_type": "markdown",
   "metadata": {},
   "source": [
    "![微信截图_20190917141952.png](https://i.loli.net/2019/09/18/TKSzXw9hUeQtsd8.png)"
   ]
  },
  {
   "cell_type": "markdown",
   "metadata": {},
   "source": [
    "- 首先要理解题目的意思！题目的意思是说，要把数组分成m个子数组，然后这m个子数组分别求和得到m个和，再求出这m个和的最大值max。我们知道，把数组分成m个子数组有很多种不同的分法，不同分法下，对应的子数组之和是不一样的，所以得到的最大值max也是不一样的，我们的目标就是要找到这些不一样的最大值中最小的那一个最大值。<br><br>\n",
    "- 首先来分析，如果m和数组 nums 中元素的个数相等，那么每个元素都是一个子数组，所以返回 nums 中最大的数字即可。如果m为1，那么整个 nums 数组就是一个子数组，返回 nums 所有数字之和，所以对于其他有效的m值，返回的值必定在上面两个值之间，只要我们设定好条件，就可以用二分搜索法来找到最优的那个最大值。<br><br>\n",
    "- 那么条件如何设定呢？我们取区间的中值mid，然后在nums中进行元素累加，每次累加一旦大于mid，就记为增加一组！注意，组数要从1开始。如果最后算出来的组数是比m大的，说明mid小了。反之则是mid大了。<br><br>\n",
    "- 用一个例子来分析，nums = [1, 2, 3, 4, 5], m = 3，将 left 设为数组中的最大值5，right 设为数字之和 15，然后算出中间数为 10，接下来要做的是找出和最大且小于等于 10 的子数组的个数，[1, 2, 3, 4], [5]，可以看到无法分为3组，说明 mid 偏大，所以让 right=mid，然后再次进行二分查找，算出 mid=7，再次找出和最大且小于等于7的子数组的个数，[1,2,3], [4], [5]，成功的找出了三组，说明 mid 还可以进一步降低，让 right=mid，再次进行二分查找，算出 mid=6，再次找出和最大且小于等于6的子数组的个数，[1,2,3], [4], [5]，成功的找出了三组，尝试着继续降低 mid，让 right=mid，再次进行二分查找，算出 mid=5，再次找出和最大且小于等于5的子数组的个数，[1,2], [3], [4], [5]，发现有4组，此时的 mid 太小了，应该增大 mid，让 left=mid+1，此时 left=6，right=5，循环退出了，返回 left 即可"
   ]
  },
  {
   "cell_type": "code",
   "execution_count": 1,
   "metadata": {},
   "outputs": [],
   "source": [
    "class Solution(object):\n",
    "    def splitArray(self, nums, m):\n",
    "        \"\"\"\n",
    "        :type nums: List[int]\n",
    "        :type m: int\n",
    "        :rtype: int\n",
    "        \"\"\"\n",
    "        def f(mid):\n",
    "            temp, count = 0, 1\n",
    "            for n in nums:\n",
    "                temp += n\n",
    "                if temp > mid:\n",
    "                    count += 1\n",
    "                    temp = n\n",
    "            return count\n",
    "        \n",
    "        l, r = max(nums), sum(nums)\n",
    "        \n",
    "        while l < r:\n",
    "            mid = (l+r)//2\n",
    "            if f(mid) > m:\n",
    "                l = mid + 1\n",
    "            else:\n",
    "                r = mid\n",
    "                \n",
    "        return l"
   ]
  }
 ],
 "metadata": {
  "kernelspec": {
   "display_name": "Python 3",
   "language": "python",
   "name": "python3"
  },
  "language_info": {
   "codemirror_mode": {
    "name": "ipython",
    "version": 3
   },
   "file_extension": ".py",
   "mimetype": "text/x-python",
   "name": "python",
   "nbconvert_exporter": "python",
   "pygments_lexer": "ipython3",
   "version": "3.7.1"
  },
  "toc": {
   "base_numbering": 1,
   "nav_menu": {},
   "number_sections": true,
   "sideBar": false,
   "skip_h1_title": false,
   "title_cell": "Table of Contents",
   "title_sidebar": "Contents",
   "toc_cell": false,
   "toc_position": {},
   "toc_section_display": true,
   "toc_window_display": false
  }
 },
 "nbformat": 4,
 "nbformat_minor": 2
}
