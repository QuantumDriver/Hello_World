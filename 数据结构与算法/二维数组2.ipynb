{
 "cells": [
  {
   "cell_type": "markdown",
   "metadata": {},
   "source": [
    "### 螺旋矩阵\n",
    "给定一个包含 m x n 个元素的矩阵（m 行, n 列），请按照顺时针螺旋顺序，返回矩阵中的所有元素。<br>\n",
    "![1](https://i.loli.net/2019/07/22/5d34d6103c23938939.png)"
   ]
  },
  {
   "cell_type": "markdown",
   "metadata": {},
   "source": [
    "题目说要按顺时针的顺序遍历矩阵，并把元素依顺时针的次序返回。\n",
    "\n",
    "显然，对于一个矩阵进行顺时针遍历，我们可以把每一次顺时针的访问看做是一次遍历。遍历很多次以后可以访问完所有的元素。\n",
    "每一次顺时针访问可以拆分成四个动作，从左到右，从上到下，从右到左，从下到上。\n",
    "\n",
    "如果我们知道一个矩阵总共进行了几次顺时针访问，那么我们可以令每一次循环都都能把访问元素添加进空列表中。\n",
    "\n",
    "所以我们首先要确定，一个(m x n)的矩阵，总共进行了几次顺时针访问？\n",
    "\n",
    "假设顺时针访问时，从左到右的操作是从当前位置访问到这一行最后一个元素。那么，从上到下，从右到左，从下到上。都是从当前行或者列的倒数第二个元素开始，直到当前行或者列的第一个元素。\n",
    "\n",
    "以下图为例，第一次访问从位置0开始，从左到右，从上到下，从右到左，从下到上这四次访问的结果分别为：\n",
    "- \\[1, 2, 3\\], \\[6, 9\\], \\[8, 7\\], \\[4\\]\n",
    "![1](https://i.loli.net/2019/07/22/5d34db3a593d237340.png)"
   ]
  },
  {
   "cell_type": "markdown",
   "metadata": {},
   "source": [
    "另外一个重要的问题是，总共进行了几次顺时针访问？我们可以通过观察来总结这一规律，如下图所示：\n",
    "![1](https://i.loli.net/2019/07/22/5d34debd8d40430746.png)\n",
    "我们可以总结发现，进行了几圈顺时针，永远受制于最短的那条边。且圈数就等于最短的那条边的边长除以2(四舍五入)。我们可以多拿几个矩阵去验证这个规律。"
   ]
  },
  {
   "cell_type": "markdown",
   "metadata": {},
   "source": [
    "- 代码如下："
   ]
  },
  {
   "cell_type": "code",
   "execution_count": null,
   "metadata": {},
   "outputs": [],
   "source": [
    "class Solution(object):\n",
    "    def spiralOrder(self, matrix):\n",
    "        \"\"\"\n",
    "        :type matrix: List[List[int]]\n",
    "        :rtype: List[int]\n",
    "        \"\"\"\n",
    "        # 两种特殊情况\n",
    "        if matrix == [] or matrix == [[]]:\n",
    "            return\n",
    "        # 顺时针访问并添加元素\n",
    "        def circle(matrix,start,col,row,res):\n",
    "            endX = col - start - 1\n",
    "            endY = row - start - 1\n",
    "            # 从左到右\n",
    "            for i in range(start, endX+1):\n",
    "                res.append(matrix[start][i])\n",
    "            # 从上到下\n",
    "            if endY > start:\n",
    "                for i in range(start+1, endY+1):\n",
    "                    res.append(matrix[i][endX])\n",
    "            # 从右到左\n",
    "            if endY > start and endX > start:\n",
    "                for i in range(endX-1, start-1, -1):\n",
    "                    res.append(matrix[endY][i])\n",
    "            # 从下到上\n",
    "            if endY > start+1 and endX > start:\n",
    "                for i in range(endY-1, start,-1):\n",
    "                    res.append(matrix[i][start])\n",
    "        \n",
    "        row,col = len(matrix), len(matrix[0])\n",
    "        i = 0\n",
    "        res = []\n",
    "        while i < (row+1)/2 and i < (col+1)/2:\n",
    "            # 由图可知起始位置start在这里是i\n",
    "            circle(matrix,i,col,row,res)\n",
    "            i += 1\n",
    "            \n",
    "        return res"
   ]
  }
 ],
 "metadata": {
  "kernelspec": {
   "display_name": "Python 3",
   "language": "python",
   "name": "python3"
  },
  "language_info": {
   "codemirror_mode": {
    "name": "ipython",
    "version": 3
   },
   "file_extension": ".py",
   "mimetype": "text/x-python",
   "name": "python",
   "nbconvert_exporter": "python",
   "pygments_lexer": "ipython3",
   "version": "3.7.1"
  }
 },
 "nbformat": 4,
 "nbformat_minor": 2
}
