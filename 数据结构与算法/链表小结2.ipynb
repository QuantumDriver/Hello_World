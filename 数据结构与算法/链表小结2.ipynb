{
 "cells": [
  {
   "cell_type": "markdown",
   "metadata": {},
   "source": [
    "### 复制带随机指针的链表<br>\n",
    "![微信截图_20190810120747.png](https://i.loli.net/2019/08/11/MrBhe9DlsyzmExI.png)\n",
    "![微信截图_20190810120758.png](https://i.loli.net/2019/08/11/ikIdaC7Az8fwlo6.png)"
   ]
  },
  {
   "cell_type": "code",
   "execution_count": 1,
   "metadata": {},
   "outputs": [],
   "source": [
    "\"\"\"\n",
    "# Definition for a Node.\n",
    "class Node(object):\n",
    "    def __init__(self, val, next, random):\n",
    "        self.val = val\n",
    "        self.next = next\n",
    "        self.random = random\n",
    "\"\"\"\n",
    "class Solution(object):\n",
    "    def copyRandomList(self, head):\n",
    "        \"\"\"\n",
    "        :type head: Node\n",
    "        :rtype: Node\n",
    "        \"\"\"\n",
    "        if not head: return\n",
    "        table = {}\n",
    "        node = head\n",
    "        while node:\n",
    "            table[node] = Node(node.val,None,None)\n",
    "            node = node.next\n",
    "        \n",
    "        node = head\n",
    "        while node:\n",
    "            table[node].next = table.get(node.next)\n",
    "            table[node].random = table.get(node.random)\n",
    "            node = node.next\n",
    "        return table[head]"
   ]
  },
  {
   "cell_type": "markdown",
   "metadata": {},
   "source": [
    "### 旋转链表"
   ]
  },
  {
   "cell_type": "markdown",
   "metadata": {},
   "source": [
    "![微信截图_20190810124924.png](https://i.loli.net/2019/08/11/AP4VfyIxF2cjnXp.png)"
   ]
  },
  {
   "cell_type": "markdown",
   "metadata": {},
   "source": [
    "先把链表遍历，求出长度，最后把最后的指针指向头，如此一来链表成环。然后再从头遍历，遍历到n-k%n-1的位置，先把这个位置的下一个位置设为头，再把这个位置设为尾。输出即可"
   ]
  },
  {
   "cell_type": "code",
   "execution_count": null,
   "metadata": {},
   "outputs": [],
   "source": [
    "# Definition for singly-linked list.\n",
    "# class ListNode(object):\n",
    "#     def __init__(self, x):\n",
    "#         self.val = x\n",
    "#         self.next = None\n",
    "\n",
    "class Solution(object):\n",
    "    def rotateRight(self, head, k):\n",
    "        \"\"\"\n",
    "        :type head: ListNode\n",
    "        :type k: int\n",
    "        :rtype: ListNode\n",
    "        \"\"\"\n",
    "        if not head: return\n",
    "        if not head.next: return head\n",
    "        \n",
    "        old_tail = head\n",
    "        n = 1\n",
    "        while old_tail.next:\n",
    "            old_tail = old_tail.next\n",
    "            n += 1\n",
    "        old_tail.next = head\n",
    "        \n",
    "        new_tail = head\n",
    "        for i in range(n - k%n - 1):\n",
    "            new_tail = new_tail.next\n",
    "        new_head = new_tail.next\n",
    "        new_tail.next = None\n",
    "        \n",
    "        return new_head"
   ]
  }
 ],
 "metadata": {
  "kernelspec": {
   "display_name": "Python 3",
   "language": "python",
   "name": "python3"
  },
  "language_info": {
   "codemirror_mode": {
    "name": "ipython",
    "version": 3
   },
   "file_extension": ".py",
   "mimetype": "text/x-python",
   "name": "python",
   "nbconvert_exporter": "python",
   "pygments_lexer": "ipython3",
   "version": "3.7.1"
  },
  "toc": {
   "base_numbering": 1,
   "nav_menu": {},
   "number_sections": true,
   "sideBar": false,
   "skip_h1_title": false,
   "title_cell": "Table of Contents",
   "title_sidebar": "Contents",
   "toc_cell": false,
   "toc_position": {},
   "toc_section_display": true,
   "toc_window_display": false
  }
 },
 "nbformat": 4,
 "nbformat_minor": 2
}
