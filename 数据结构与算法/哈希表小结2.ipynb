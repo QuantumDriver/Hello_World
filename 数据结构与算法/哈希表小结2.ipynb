{
 "cells": [
  {
   "cell_type": "markdown",
   "metadata": {},
   "source": [
    "### 宝石和石头<br>\n",
    "![微信截图_20190817172517.png](https://i.loli.net/2019/08/18/RI8TPOxAylfJHbh.png)"
   ]
  },
  {
   "cell_type": "code",
   "execution_count": 2,
   "metadata": {},
   "outputs": [],
   "source": [
    "class Solution(object):\n",
    "    def numJewelsInStones(self, J, S):\n",
    "        \"\"\"\n",
    "        :type J: str\n",
    "        :type S: str\n",
    "        :rtype: int\n",
    "        \"\"\"\n",
    "        d1 = {k:v for v,k in enumerate(J)}\n",
    "        d2 = {}\n",
    "        for i in S:\n",
    "            d2[i] = d2.get(i,0) + 1\n",
    "        res = 0\n",
    "        for key in d1:\n",
    "            if key in d2:\n",
    "                res += d2[key]\n",
    "        return res"
   ]
  },
  {
   "cell_type": "markdown",
   "metadata": {},
   "source": [
    "### 无重复字符的最长子串"
   ]
  },
  {
   "cell_type": "markdown",
   "metadata": {},
   "source": [
    "![微信截图_20190817221214.png](https://i.loli.net/2019/08/18/CQsphi6wI5TUyKq.png)"
   ]
  },
  {
   "cell_type": "code",
   "execution_count": 39,
   "metadata": {},
   "outputs": [],
   "source": [
    "class Solution(object):\n",
    "    def lengthOfLongestSubstring(self, s):\n",
    "        \"\"\"\n",
    "        :type s: str\n",
    "        :rtype: int\n",
    "        \"\"\"\n",
    "        if s == '': return 0\n",
    "        left, cur_len, max_len = 0, 0, 0\n",
    "        d = set()\n",
    "        for i in range(len(s)):\n",
    "            cur_len += 1\n",
    "            while s[i] in d:\n",
    "                d.remove(s[left])\n",
    "                left += 1\n",
    "                cur_len -= 1\n",
    "            if cur_len > max_len: max_len = cur_len\n",
    "            d.add(s[i])\n",
    "        print(d)\n",
    "        return max_len"
   ]
  },
  {
   "cell_type": "code",
   "execution_count": null,
   "metadata": {},
   "outputs": [],
   "source": [
    "class Solution(object):\n",
    "    def lengthOfLongestSubstring(self, s):\n",
    "        \"\"\"\n",
    "        :type s: str\n",
    "        :rtype: int\n",
    "        \"\"\"\n",
    "        start = -1\n",
    "        max_ = 0\n",
    "        d = {}\n",
    "        \n",
    "        for i in range(len(s)):\n",
    "            if s[i] in d and d[s[i]] > start:\n",
    "                start = d[s[i]]\n",
    "                d[s[i]] = i\n",
    "            else:\n",
    "                d[s[i]] = i\n",
    "                if i - start > max_: max_ = i - start\n",
    "        return max_"
   ]
  },
  {
   "cell_type": "markdown",
   "metadata": {},
   "source": [
    "### 四数相加2"
   ]
  },
  {
   "cell_type": "markdown",
   "metadata": {},
   "source": [
    "![微信截图_20190818152401.png](https://i.loli.net/2019/08/19/MkIjrH214lQypN8.png)"
   ]
  },
  {
   "cell_type": "code",
   "execution_count": 1,
   "metadata": {},
   "outputs": [],
   "source": [
    "class Solution(object):\n",
    "    def fourSumCount(self, A, B, C, D):\n",
    "        \"\"\"\n",
    "        :type A: List[int]\n",
    "        :type B: List[int]\n",
    "        :type C: List[int]\n",
    "        :type D: List[int]\n",
    "        :rtype: int\n",
    "        \"\"\"\n",
    "        h = {}\n",
    "        for a in A:\n",
    "            for b in B:\n",
    "                h[-a-b] = h.get(-a-b,0) + 1\n",
    "        return sum([h[c+d] for c in C for d in D if c+d in h])"
   ]
  },
  {
   "cell_type": "markdown",
   "metadata": {},
   "source": [
    "### 前K个高频元素<br>\n",
    "![微信截图_20190818171819.png](https://i.loli.net/2019/08/19/FqMmrEHj1XoueCJ.png)"
   ]
  },
  {
   "cell_type": "code",
   "execution_count": 9,
   "metadata": {},
   "outputs": [],
   "source": [
    "class Solution(object):\n",
    "    def topKFrequent(self, nums, k):\n",
    "        \"\"\"\n",
    "        :type nums: List[int]\n",
    "        :type k: int\n",
    "        :rtype: List[int]\n",
    "        \"\"\"\n",
    "        d = {}\n",
    "        for i in nums:\n",
    "            d[i] = d.get(i,0) + 1\n",
    "        res = sorted(d.items(), key=lambda x: x[1], reverse=True)\n",
    "        return [i[0] for i in res[:k]]"
   ]
  },
  {
   "cell_type": "markdown",
   "metadata": {},
   "source": [
    "### 常数时间插入、删除和获取随机元素"
   ]
  },
  {
   "cell_type": "markdown",
   "metadata": {},
   "source": [
    "![微信截图_20190818210647.png](https://i.loli.net/2019/08/19/M1w4IbfWzBFyips.png)\n",
    "![微信截图_20190818210658.png](https://i.loli.net/2019/08/19/XwaF6VNQMKI9jJb.png)"
   ]
  },
  {
   "cell_type": "code",
   "execution_count": 10,
   "metadata": {},
   "outputs": [],
   "source": [
    "from random import choice\n",
    "class RandomizedSet:\n",
    "\n",
    "    def __init__(self):\n",
    "        \"\"\"\n",
    "        Initialize your data structure here.\n",
    "        \"\"\"\n",
    "        self.s = set()\n",
    "\n",
    "    def insert(self, val: int) -> bool:\n",
    "        \"\"\"\n",
    "        Inserts a value to the set. Returns true if the set did not already contain the specified element.\n",
    "        \"\"\"\n",
    "        if val in self.s: return False\n",
    "        self.s.add(val)\n",
    "        return True\n",
    "\n",
    "    def remove(self, val: int) -> bool:\n",
    "        \"\"\"\n",
    "        Removes a value from the set. Returns true if the set contained the specified element.\n",
    "        \"\"\"\n",
    "        if val not in self.s: return False\n",
    "        self.s.remove(val)\n",
    "        return True\n",
    "\n",
    "    def getRandom(self) -> int:\n",
    "        \"\"\"\n",
    "        Get a random element from the set.\n",
    "        \"\"\"\n",
    "        return random.choice(list(self.s))\n",
    "\n",
    "\n",
    "# Your RandomizedSet object will be instantiated and called as such:\n",
    "# obj = RandomizedSet()\n",
    "# param_1 = obj.insert(val)\n",
    "# param_2 = obj.remove(val)\n",
    "# param_3 = obj.getRandom()"
   ]
  }
 ],
 "metadata": {
  "kernelspec": {
   "display_name": "Python 3",
   "language": "python",
   "name": "python3"
  },
  "language_info": {
   "codemirror_mode": {
    "name": "ipython",
    "version": 3
   },
   "file_extension": ".py",
   "mimetype": "text/x-python",
   "name": "python",
   "nbconvert_exporter": "python",
   "pygments_lexer": "ipython3",
   "version": "3.7.1"
  },
  "toc": {
   "base_numbering": 1,
   "nav_menu": {},
   "number_sections": true,
   "sideBar": false,
   "skip_h1_title": false,
   "title_cell": "Table of Contents",
   "title_sidebar": "Contents",
   "toc_cell": false,
   "toc_position": {},
   "toc_section_display": true,
   "toc_window_display": false
  }
 },
 "nbformat": 4,
 "nbformat_minor": 2
}
