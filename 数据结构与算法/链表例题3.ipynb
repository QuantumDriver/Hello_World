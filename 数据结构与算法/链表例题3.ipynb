{
 "cells": [
  {
   "cell_type": "markdown",
   "metadata": {},
   "source": [
    "### 移除链表元素<br>\n",
    "![微信截图_20190807123317.png](https://i.loli.net/2019/08/08/TZ39GMz8r4oHcDn.png)"
   ]
  },
  {
   "cell_type": "code",
   "execution_count": 1,
   "metadata": {},
   "outputs": [],
   "source": [
    "# Definition for singly-linked list.\n",
    "# class ListNode(object):\n",
    "#     def __init__(self, x):\n",
    "#         self.val = x\n",
    "#         self.next = None\n",
    "\n",
    "class Solution(object):\n",
    "    def removeElements(self, head, val):\n",
    "        \"\"\"\n",
    "        :type head: ListNode\n",
    "        :type val: int\n",
    "        :rtype: ListNode\n",
    "        \"\"\"\n",
    "        if not head: return\n",
    "        while head and head.val == val:\n",
    "            head = head.next\n",
    "        if not head: return\n",
    "        \n",
    "        p = head\n",
    "        while p.next:\n",
    "            if p.next.val == val:\n",
    "                p.next = p.next.next\n",
    "            else:\n",
    "                p = p.next\n",
    "        \n",
    "        return head"
   ]
  },
  {
   "cell_type": "markdown",
   "metadata": {},
   "source": [
    "### 奇偶链表<br>\n",
    "\n",
    "![微信截图_20190808110015.png](https://i.loli.net/2019/08/08/MIP5hoc9yvUKFRj.png)"
   ]
  },
  {
   "cell_type": "markdown",
   "metadata": {},
   "source": [
    "用双指针的方式，分别指定两个指针，一个指向单数，一个指向双数。最后单指针的尾接上双指针的头。"
   ]
  },
  {
   "cell_type": "code",
   "execution_count": 1,
   "metadata": {},
   "outputs": [],
   "source": [
    "# Definition for singly-linked list.\n",
    "# class ListNode(object):\n",
    "#     def __init__(self, x):\n",
    "#         self.val = x\n",
    "#         self.next = None\n",
    "\n",
    "class Solution(object):\n",
    "    def oddEvenList(self, head):\n",
    "        \"\"\"\n",
    "        :type head: ListNode\n",
    "        :rtype: ListNode\n",
    "        \"\"\"\n",
    "        if not head: return\n",
    "        if not head.next: return head\n",
    "        \n",
    "        point1, point2 = head, head.next\n",
    "        p1, p2 = point1, point2\n",
    "        while p2 and p2.next:\n",
    "            p1.next = p1.next.next\n",
    "            p2.next = p2.next.next\n",
    "            p1 = p1.next\n",
    "            p2 = p2.next\n",
    "        p1.next = point2\n",
    "        return point1"
   ]
  },
  {
   "cell_type": "markdown",
   "metadata": {},
   "source": [
    "### 回文链表<br>\n",
    "\n",
    "![微信截图_20190808110015.png](https://i.loli.net/2019/08/09/BKXtejqSkncuoRp.png)"
   ]
  },
  {
   "cell_type": "markdown",
   "metadata": {},
   "source": [
    "双指针分别为快指针的慢指针，其中慢指针遍历时顺便把链表反转一下。这一来就可以直接比较前半个链表和后半个链表的值就行了。"
   ]
  },
  {
   "cell_type": "code",
   "execution_count": null,
   "metadata": {},
   "outputs": [],
   "source": [
    "# Definition for singly-linked list.\n",
    "# class ListNode(object):\n",
    "#     def __init__(self, x):\n",
    "#         self.val = x\n",
    "#         self.next = None\n",
    "\n",
    "class Solution(object):\n",
    "    def isPalindrome(self, head):\n",
    "        \"\"\"\n",
    "        :type head: ListNode\n",
    "        :rtype: bool\n",
    "        \"\"\"\n",
    "        if not head or not head.next: return True\n",
    "        \n",
    "        re, slow, fast = head, head, head\n",
    "        newhead = None\n",
    "        while fast and fast.next:\n",
    "            fast = fast.next.next\n",
    "            temp = slow\n",
    "            slow = slow.next\n",
    "            # 反转\n",
    "            temp.next = newhead\n",
    "            newhead = temp\n",
    "        # re.next = slow\n",
    "        ps = newhead\n",
    "        pf = slow.next if fast else slow\n",
    "        \n",
    "        while pf:\n",
    "            if pf.val != ps.val:\n",
    "                return False\n",
    "            pf = pf.next\n",
    "            ps = ps.next\n",
    "        return True"
   ]
  }
 ],
 "metadata": {
  "kernelspec": {
   "display_name": "Python 3",
   "language": "python",
   "name": "python3"
  },
  "language_info": {
   "codemirror_mode": {
    "name": "ipython",
    "version": 3
   },
   "file_extension": ".py",
   "mimetype": "text/x-python",
   "name": "python",
   "nbconvert_exporter": "python",
   "pygments_lexer": "ipython3",
   "version": "3.7.1"
  },
  "toc": {
   "base_numbering": 1,
   "nav_menu": {},
   "number_sections": true,
   "sideBar": false,
   "skip_h1_title": false,
   "title_cell": "Table of Contents",
   "title_sidebar": "Contents",
   "toc_cell": false,
   "toc_position": {},
   "toc_section_display": true,
   "toc_window_display": false
  }
 },
 "nbformat": 4,
 "nbformat_minor": 2
}
