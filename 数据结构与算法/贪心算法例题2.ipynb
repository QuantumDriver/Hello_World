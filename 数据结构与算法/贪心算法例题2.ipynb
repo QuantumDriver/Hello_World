{
 "cells": [
  {
   "cell_type": "markdown",
   "metadata": {},
   "source": [
    "### 柠檬水找零<br>\n",
    "\n",
    "![微信截图_20191003133325.png](https://i.loli.net/2019/10/04/fgOFSo7VvzTMj8i.png)\n",
    "![微信截图_20191003133344.png](https://i.loli.net/2019/10/04/U3ToZ4dwsxIvyNP.png)\n",
    "![微信截图_20191003133404.png](https://i.loli.net/2019/10/04/rzmWXxyYJsAwEPN.png)"
   ]
  },
  {
   "cell_type": "markdown",
   "metadata": {},
   "source": [
    "- 自己写的。用i,j分别标记5和10。遇到5则i+1，遇到10首先考虑有没有i，遇到20考虑i,j是否足够。\n",
    "- 遇到20元，优先用10+5去找零而非3个5！\n",
    "- 和官方题解的形式一模一样，只是变量名不一样"
   ]
  },
  {
   "cell_type": "code",
   "execution_count": null,
   "metadata": {},
   "outputs": [],
   "source": [
    "class Solution(object):\n",
    "    def lemonadeChange(self, bills):\n",
    "        i = j = 0\n",
    "        for b in bills:\n",
    "            if b == 5:\n",
    "                i += 1\n",
    "            elif b == 10:\n",
    "                if i > 0:\n",
    "                    j += 1\n",
    "                    i -= 1\n",
    "                else: \n",
    "                    return False\n",
    "            else:\n",
    "                if i > 0 and j > 0:\n",
    "                    i -= 1\n",
    "                    j -= 1\n",
    "                elif i >= 3:\n",
    "                    i -= 3\n",
    "                else:\n",
    "                    return False\n",
    "        return True"
   ]
  },
  {
   "cell_type": "markdown",
   "metadata": {},
   "source": [
    "### 加油站<br>\n",
    "![微信截图_20191003135650.png](https://i.loli.net/2019/10/04/Hu5U6QSPwh41LzJ.png)\n",
    "![微信截图_20191003135706.png](https://i.loli.net/2019/10/04/xPzKBXlaIT1H7JD.png)\n",
    "![微信截图_20191003135716.png](https://i.loli.net/2019/10/04/5aPAOpsjbqcxJH2.png)\n"
   ]
  },
  {
   "cell_type": "markdown",
   "metadata": {},
   "source": [
    "- 记录当前油量和总油量累积，从索引0开始，若当前油量小于0则换下一个车站。\n",
    "- 最后对比总油量，若大于0则输出当前车站否则输出-1"
   ]
  },
  {
   "cell_type": "code",
   "execution_count": null,
   "metadata": {},
   "outputs": [],
   "source": [
    "class Solution(object):\n",
    "    def canCompleteCircuit(self, gas, cost):\n",
    "        \"\"\"\n",
    "        :type gas: List[int]\n",
    "        :type cost: List[int]\n",
    "        :rtype: int\n",
    "        \"\"\"\n",
    "        cur = tank = start = 0\n",
    "        for i in range(len(gas)):\n",
    "            tank += gas[i] - cost[i]   # 总油量\n",
    "            cur += gas[i] - cost[i]    # 当前油量\n",
    "            if cur < 0:\n",
    "                start = i + 1\n",
    "                cur = 0                # 清零重新开始\n",
    "        return start if tank >= 0 else -1"
   ]
  },
  {
   "cell_type": "markdown",
   "metadata": {},
   "source": [
    "### 跳跃游戏<br>\n",
    "![无标题 (2).png](https://i.loli.net/2019/10/05/cbjNpK5gIfUmBSV.png)"
   ]
  },
  {
   "cell_type": "markdown",
   "metadata": {},
   "source": [
    "- 从前往后跳跃，记录当前位置，和最大可跳跃位置。\n",
    "- 若当前位置大于最大可跳则返回False，每次迭代到下一个位置时，更新最大可跳跃的范围。\n",
    "- 最后比较最大可跳位置是否大于最后一个位置的索引。"
   ]
  },
  {
   "cell_type": "code",
   "execution_count": null,
   "metadata": {},
   "outputs": [],
   "source": [
    "class Solution(object):\n",
    "    def canJump(self, nums):\n",
    "        \"\"\"\n",
    "        :type nums: List[int]\n",
    "        :rtype: bool\n",
    "        \"\"\"\n",
    "        n = len(nums)\n",
    "        des = cur = 0\n",
    "        while cur <= des:\n",
    "            des = max(des,nums[cur]+cur)\n",
    "            cur += 1\n",
    "            if des >= n - 1:\n",
    "                return True\n",
    "        return False"
   ]
  },
  {
   "cell_type": "markdown",
   "metadata": {},
   "source": [
    "### 跳跃游戏2<br>\n",
    "![无标题 (3).png](https://i.loli.net/2019/10/05/MlIPvos4KTnRpBm.png)"
   ]
  },
  {
   "cell_type": "markdown",
   "metadata": {},
   "source": [
    "- 用pre记录上次可到达的最大点,cur更新当前可到达的最大点\n",
    "- 当遍历点到达上次pre值时，说明到了可到达的最大点，这时cur也更新完成,将cur赋予pre\n",
    "- 每次到达pre时step也要前进一个单位\n",
    "- 注意遍历范围不包括最后一个位置！"
   ]
  },
  {
   "cell_type": "code",
   "execution_count": null,
   "metadata": {},
   "outputs": [],
   "source": [
    "class Solution(object):\n",
    "    def jump(self, nums):\n",
    "        \"\"\"\n",
    "        :type nums: List[int]\n",
    "        :rtype: int\n",
    "        \"\"\"\n",
    "        cur = pre = step = 0\n",
    "        for i in range(len(nums)-1):\n",
    "            cur = max(cur,nums[i]+i)\n",
    "            if i == pre:\n",
    "                step += 1\n",
    "                pre = cur\n",
    "        return step"
   ]
  }
 ],
 "metadata": {
  "kernelspec": {
   "display_name": "Python 3",
   "language": "python",
   "name": "python3"
  },
  "language_info": {
   "codemirror_mode": {
    "name": "ipython",
    "version": 3
   },
   "file_extension": ".py",
   "mimetype": "text/x-python",
   "name": "python",
   "nbconvert_exporter": "python",
   "pygments_lexer": "ipython3",
   "version": "3.7.1"
  },
  "toc": {
   "base_numbering": 1,
   "nav_menu": {},
   "number_sections": true,
   "sideBar": false,
   "skip_h1_title": false,
   "title_cell": "Table of Contents",
   "title_sidebar": "Contents",
   "toc_cell": false,
   "toc_position": {},
   "toc_section_display": true,
   "toc_window_display": false
  }
 },
 "nbformat": 4,
 "nbformat_minor": 2
}
