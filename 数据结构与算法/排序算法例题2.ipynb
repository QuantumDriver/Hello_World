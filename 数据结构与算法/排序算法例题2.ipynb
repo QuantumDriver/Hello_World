{
 "cells": [
  {
   "cell_type": "markdown",
   "metadata": {},
   "source": [
    "### H指数<br>\n",
    "![微信截图_20190925112116.png](https://i.loli.net/2019/09/25/aHO87CyNYoEqSP3.png)"
   ]
  },
  {
   "cell_type": "markdown",
   "metadata": {},
   "source": [
    "- 我的代码：先排序，遍历数组，后续数组的最小值是否大于的后续数组的长度。"
   ]
  },
  {
   "cell_type": "code",
   "execution_count": null,
   "metadata": {},
   "outputs": [],
   "source": [
    "class Solution(object):\n",
    "    def hIndex(self, citations):\n",
    "        \"\"\"\n",
    "        :type citations: List[int]\n",
    "        :rtype: int\n",
    "        \"\"\"\n",
    "        nums = sorted(citations)\n",
    "        res = []\n",
    "        m = n = len(nums)\n",
    "        for i in range(n):\n",
    "            if min(nums[i:]) >= m:\n",
    "                return m\n",
    "            m -= 1\n",
    "        return 0"
   ]
  },
  {
   "cell_type": "markdown",
   "metadata": {},
   "source": [
    "- 桶排序，把文章引用从大到小归入相应的桶，引用次数大于文章总数的归入最大桶。\n",
    "- 从可行的h指数范围从大到小遍历，若累加文章数量大于等于当前h指数，则返回。"
   ]
  },
  {
   "cell_type": "code",
   "execution_count": null,
   "metadata": {},
   "outputs": [],
   "source": [
    "class Solution(object):\n",
    "    def hIndex(self, citations):\n",
    "        n = len(citations)\n",
    "        s = [0] * (n+1)\n",
    "        for c in citations:\n",
    "            if c >= n:\n",
    "                s[n] += 1\n",
    "            else:\n",
    "                s[c] += 1\n",
    "        cur = 0\n",
    "        for i in range(n,-1,-1):\n",
    "            cur += s[i]\n",
    "            if cur >= i:\n",
    "                return i"
   ]
  },
  {
   "cell_type": "markdown",
   "metadata": {},
   "source": [
    "### 重构字符串<br>\n",
    "![微信截图_20190925175905.png](https://i.loli.net/2019/09/26/qYCK3EL4yBaDM6u.png)"
   ]
  },
  {
   "cell_type": "markdown",
   "metadata": {},
   "source": [
    "- 字符频率统计，频率最高次数若超高字符长度的一半则不可重构\n",
    "- 把字符频率从大到小排序好，然后创建新字符的列表\n",
    "- 新字符按0-2-4索引，即index累加2，依次填充最大频率的字符，每次填充对应频次累减1\n",
    "- 若index超过字符总长度则重新赋值，即index=1，从1-3-5开始填充"
   ]
  },
  {
   "cell_type": "code",
   "execution_count": 14,
   "metadata": {},
   "outputs": [],
   "source": [
    "class Solution:\n",
    "    def reorganizeString(self, S: str) -> str:\n",
    "        from collections import Counter\n",
    "        dic = Counter(S)\n",
    "        if dic.most_common(1)[0][1] >= (len(S)+1)//2 + 1:return ''\n",
    "        dic = sorted(dic.items(),key=lambda x:x[1],reverse=True)\n",
    "        new_s = ['a'] * len(S)\n",
    "        index = 0\n",
    "        for key,val in dic:\n",
    "            while index < len(S) and val > 0:\n",
    "                new_s[index] = key   # 新列表填充\n",
    "                val -= 1             # 个数累减\n",
    "                index += 2           # 相同远古元素隔开，索引+2\n",
    "                if index >= len(S):  # 若索引超越长度，索引回归1\n",
    "                    index = 1        # 先排0-2-4再排1-3-5\n",
    "        return ''.join(new_s)"
   ]
  },
  {
   "cell_type": "markdown",
   "metadata": {},
   "source": [
    "### 合并区间"
   ]
  },
  {
   "cell_type": "markdown",
   "metadata": {},
   "source": [
    "![微信截图_20190927134827.png](https://i.loli.net/2019/09/28/O1eTMAuzpasxrkN.png)"
   ]
  },
  {
   "cell_type": "markdown",
   "metadata": {},
   "source": [
    "- 排序好之后，依次比较res中末尾值和当前的头值\n",
    "- 如果尾大于头则合并，否则res把当前值纳入"
   ]
  },
  {
   "cell_type": "code",
   "execution_count": null,
   "metadata": {},
   "outputs": [],
   "source": [
    "class Solution(object):\n",
    "    def merge(self, intervals):\n",
    "        \"\"\"\n",
    "        :type intervals: List[List[int]]\n",
    "        :rtype: List[List[int]]\n",
    "        \"\"\"\n",
    "        if not intervals: return\n",
    "        intervals.sort()\n",
    "        res = [intervals[0]]\n",
    "        for i in range(1,len(intervals)):\n",
    "            if res[-1][1] >= intervals[i][0]:\n",
    "                res[-1][1] = max(res[-1][1],intervals[i][1])\n",
    "            else:\n",
    "                res.append(intervals[i])\n",
    "        return res    "
   ]
  },
  {
   "cell_type": "markdown",
   "metadata": {},
   "source": [
    "### 插入区间"
   ]
  },
  {
   "cell_type": "markdown",
   "metadata": {},
   "source": [
    "![微信截图_20190927131514.png](https://i.loli.net/2019/09/28/IzhOLygwd6e8s2A.png)"
   ]
  },
  {
   "cell_type": "markdown",
   "metadata": {},
   "source": [
    "- 有的解法是插入新区间到后面然后排序再合并，效率太低\n",
    "- 这里的解法是找到插入点，利用新区间的头去跟老区间的尾做比较，直到新头小于旧尾。"
   ]
  },
  {
   "cell_type": "code",
   "execution_count": null,
   "metadata": {},
   "outputs": [],
   "source": [
    "class Solution(object):\n",
    "    def insert(self, intervals, newInterval):\n",
    "        start, end = newInterval[0], newInterval[1]\n",
    "        i, result = 0, []\n",
    "        while i < len(intervals):\n",
    "            if start <= intervals[i][1]:  # 找到左值无法通过的索引\n",
    "                if end < intervals[i][0]: # 若右值也无法通过\n",
    "                    break                 # 刚好在中间\n",
    "                # 左右值卡在此索引处，求此处左右范围\n",
    "                start = min(start, intervals[i][0])\n",
    "                end = max(end, intervals[i][1])\n",
    "            else:\n",
    "                result.append(intervals[i]) # 通过则累加\n",
    "            i += 1\n",
    "        result.append([start,end])\n",
    "        result += intervals[i:]\n",
    "        return result"
   ]
  }
 ],
 "metadata": {
  "kernelspec": {
   "display_name": "Python 3",
   "language": "python",
   "name": "python3"
  },
  "language_info": {
   "codemirror_mode": {
    "name": "ipython",
    "version": 3
   },
   "file_extension": ".py",
   "mimetype": "text/x-python",
   "name": "python",
   "nbconvert_exporter": "python",
   "pygments_lexer": "ipython3",
   "version": "3.7.1"
  },
  "toc": {
   "base_numbering": 1,
   "nav_menu": {},
   "number_sections": true,
   "sideBar": false,
   "skip_h1_title": false,
   "title_cell": "Table of Contents",
   "title_sidebar": "Contents",
   "toc_cell": false,
   "toc_position": {},
   "toc_section_display": true,
   "toc_window_display": false
  }
 },
 "nbformat": 4,
 "nbformat_minor": 2
}
