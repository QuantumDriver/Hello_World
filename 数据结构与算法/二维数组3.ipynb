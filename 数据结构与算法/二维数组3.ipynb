{
 "cells": [
  {
   "cell_type": "markdown",
   "metadata": {},
   "source": [
    "### 杨辉三角\n",
    "![微信截图_20190722140513.png](https://i.loli.net/2019/07/23/5d35fb33d968468654.png)\n",
    "![微信截图_20190722140526.png](https://i.loli.net/2019/07/23/5d35fb339fd8a51071.png)"
   ]
  },
  {
   "cell_type": "markdown",
   "metadata": {},
   "source": [
    "根据题目的描述，我们明显可以知道这个三角形每一层就相当于生成了一个列表，每一个列表的长度就相当于是这一层的次序。比如说第一层长度为1，第二层长度为2，第三层长度为3...以此类推，且输入的数字为几，就意味着三角形有几层。因此我们可以想到用一个for循环代表有几层，再套一个for循环代表一行列表有多少元素，用这样的方式去生成这个二维列表。\n",
    "\n",
    "还有一个重要的问题就是，对于列表中的元素有什么规律可循呢？\n",
    "\n",
    "通过观察可以发现，有两个重要的特性。\n",
    "\n",
    "- 第一个是，列表的第一个元素和最后一个元素永远是1<br><br>\n",
    "- 第二个是，一个元素如果不是这一行列表的第一个元素或最后一个元素。那么这个元素的值就等于，上一行列表中，和这个元素索引位置相同的元素，加上前一个元素。<br><br>\n",
    "- 比如说，第五行的第二个元素4，就等于它上一行，即第四行，和元素4索引位置相同的元素，即3(索引位置都是列表第二个)，加上元素3前一位元素，即1，恰好就等于4。"
   ]
  },
  {
   "cell_type": "markdown",
   "metadata": {},
   "source": [
    "- (自己的)代码如下："
   ]
  },
  {
   "cell_type": "code",
   "execution_count": 1,
   "metadata": {},
   "outputs": [],
   "source": [
    "class Solution(object):\n",
    "    def generate(self, numRows):\n",
    "        \"\"\"\n",
    "        :type numRows: int\n",
    "        :rtype: List[List[int]]\n",
    "        \"\"\"\n",
    "        res = []                                        # 存放结果\n",
    "        for i in range(numRows):                        # 每一层遍历\n",
    "            line = []                                   # 每一层的列表\n",
    "            for j in range(i+1):                        # 列表的遍历\n",
    "                if j == 0 or j == i:                    # 列表的第一个和最后一个元素为1\n",
    "                    line.append(1)\n",
    "                else:                                   # 如果这个元素不是第一个或者最后一个\n",
    "                    temp = res[i-1][j-1] + res[i-1][j]  # 它等于上一行相同位置的元素与其前者相加\n",
    "                    line.append(temp)\n",
    "            res.append(line)\n",
    "        return res"
   ]
  },
  {
   "cell_type": "markdown",
   "metadata": {},
   "source": [
    "- 别人的"
   ]
  },
  {
   "cell_type": "code",
   "execution_count": 6,
   "metadata": {},
   "outputs": [],
   "source": [
    "class Solution(object):\n",
    "    def generate(self, numRows):\n",
    "        \"\"\"\n",
    "        :type numRows: int\n",
    "        :rtype: List[List[int]]\n",
    "        \"\"\"\n",
    "        matrix = [[1]*(i+1) for i in range(numRows)]       # 生成三角形矩阵，所有值为1\n",
    "        for i in range(numRows):\n",
    "            for j in range(1,i):                           # i大于等于2时，这段循环才会开始\n",
    "                matrix[i][j] = martix[i-1][j-1] + martix[i-1][j]\n",
    "        return matrix"
   ]
  }
 ],
 "metadata": {
  "kernelspec": {
   "display_name": "Python 3",
   "language": "python",
   "name": "python3"
  },
  "language_info": {
   "codemirror_mode": {
    "name": "ipython",
    "version": 3
   },
   "file_extension": ".py",
   "mimetype": "text/x-python",
   "name": "python",
   "nbconvert_exporter": "python",
   "pygments_lexer": "ipython3",
   "version": "3.7.1"
  }
 },
 "nbformat": 4,
 "nbformat_minor": 2
}
