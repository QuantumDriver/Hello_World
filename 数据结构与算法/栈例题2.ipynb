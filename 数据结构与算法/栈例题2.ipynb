{
 "cells": [
  {
   "cell_type": "markdown",
   "metadata": {},
   "source": [
    "### 例题1-每日温度\n",
    "\n",
    "[![20190730121753.png](https://i.postimg.cc/qMRd9gQW/20190730121753.png)](https://postimg.cc/fk6FdzGv)\n",
    "\n",
    "这道题的关键是，要理解如何将栈的关系和题目的解答联系起来。<br><br>\n",
    "当我们在计算，比今天温度高的，且离今天最近的那一天和今天差了几天时，我们会想到，如果第二天第一天温度低，那么什么事情都不发生，所以可以把第一天，第二天都放入栈内。如果第三天的温度比第一天第二天都高，那么栈弹出第二天，比较差值，接着弹出第一天，比较差值。<br><br>\n",
    "总结来说，就是用一个栈来记录每一天温度的下标，0,1,2...这样子。栈的第一个元素是0，然后开始比较，如果气温比栈顶那一天高，现在的索引减去栈顶元素就是所求差值。简单来说，就是遇到比前一个小的就入栈，比前一个大的就出栈。"
   ]
  },
  {
   "cell_type": "code",
   "execution_count": 3,
   "metadata": {},
   "outputs": [],
   "source": [
    "class Solution(object):\n",
    "    def dailyTemperatures(self, T):\n",
    "        \"\"\"\n",
    "        :type T: List[int]\n",
    "        :rtype: List[int]\n",
    "        \"\"\"\n",
    "        stack = []\n",
    "        res = [0 for _ in range(len(T))]\n",
    "        \n",
    "        for i,t in enumerate(T):\n",
    "            if stack:\n",
    "                while stack and T[stack[-1]] < t:\n",
    "                    res[stack[-1]] = i - stack[-1]\n",
    "                    stack.pop()\n",
    "            stack.append(i)\n",
    "        return res"
   ]
  },
  {
   "cell_type": "markdown",
   "metadata": {},
   "source": [
    "### 例题2"
   ]
  },
  {
   "cell_type": "markdown",
   "metadata": {},
   "source": [
    "[![20190730123906.png](https://i.postimg.cc/0j8RcyH5/20190730123906.png)](https://postimg.cc/k6hp5qmL)\n",
    "[![20190730123917.png](https://i.postimg.cc/prqN7Mgf/20190730123917.png)](https://postimg.cc/64212g6q)"
   ]
  },
  {
   "cell_type": "markdown",
   "metadata": {},
   "source": [
    "这道题的关键在于，把数字放进栈里，遇到运算符号就弹出进行运算。"
   ]
  },
  {
   "cell_type": "code",
   "execution_count": 32,
   "metadata": {},
   "outputs": [],
   "source": [
    "class Solution(object):\n",
    "    def evalRPN(self, tokens):\n",
    "        \"\"\"\n",
    "        :type tokens: List[str]\n",
    "        :rtype: int\n",
    "        \"\"\"\n",
    "        stack = []\n",
    "        plus = lambda a,b: int(a) + int(b)\n",
    "        minus = lambda a,b: int(b) - int(a)\n",
    "        mul = lambda a,b: int(a)*int(b)\n",
    "        div = lambda a,b: int(int(b)/int(a))\n",
    "        opt = {'+':plus, '-':minus, '*':mul, '/':div}\n",
    "        \n",
    "        for s in tokens:\n",
    "            if s in opt:\n",
    "                a,b = stack.pop(), stack.pop()\n",
    "                c = opt[s](a,b)\n",
    "                print(a,b,opt[s],c)\n",
    "                stack.append(c)\n",
    "            else:\n",
    "                stack.append(s)\n",
    "        return stack.pop()"
   ]
  },
  {
   "cell_type": "code",
   "execution_count": 33,
   "metadata": {},
   "outputs": [
    {
     "name": "stdout",
     "output_type": "stream",
     "text": [
      "3 9 <function Solution.evalRPN.<locals>.<lambda> at 0x0000015553584F28> 12\n",
      "-11 12 <function Solution.evalRPN.<locals>.<lambda> at 0x00000155535987B8> -132\n",
      "-132 6 <function Solution.evalRPN.<locals>.<lambda> at 0x0000015553598E18> 0\n",
      "0 10 <function Solution.evalRPN.<locals>.<lambda> at 0x00000155535987B8> 0\n",
      "17 0 <function Solution.evalRPN.<locals>.<lambda> at 0x0000015553584F28> 17\n",
      "5 17 <function Solution.evalRPN.<locals>.<lambda> at 0x0000015553584F28> 22\n"
     ]
    },
    {
     "data": {
      "text/plain": [
       "22"
      ]
     },
     "execution_count": 33,
     "metadata": {},
     "output_type": "execute_result"
    }
   ],
   "source": [
    "a = Solution()\n",
    "tokens = [\"10\",\"6\",\"9\",\"3\",\"+\",\"-11\",\"*\",\"/\",\"*\",\"17\",\"+\",\"5\",\"+\"]\n",
    "a.evalRPN(tokens)"
   ]
  },
  {
   "cell_type": "markdown",
   "metadata": {},
   "source": [
    "- 在python2中，下面这个除法结果是-1"
   ]
  },
  {
   "cell_type": "code",
   "execution_count": 37,
   "metadata": {},
   "outputs": [
    {
     "data": {
      "text/plain": [
       "0"
      ]
     },
     "execution_count": 37,
     "metadata": {},
     "output_type": "execute_result"
    }
   ],
   "source": [
    "int(6 / -132)"
   ]
  }
 ],
 "metadata": {
  "kernelspec": {
   "display_name": "Python 3",
   "language": "python",
   "name": "python3"
  },
  "language_info": {
   "codemirror_mode": {
    "name": "ipython",
    "version": 3
   },
   "file_extension": ".py",
   "mimetype": "text/x-python",
   "name": "python",
   "nbconvert_exporter": "python",
   "pygments_lexer": "ipython3",
   "version": "3.7.1"
  },
  "toc": {
   "base_numbering": 1,
   "nav_menu": {},
   "number_sections": true,
   "sideBar": false,
   "skip_h1_title": false,
   "title_cell": "Table of Contents",
   "title_sidebar": "Contents",
   "toc_cell": false,
   "toc_position": {},
   "toc_section_display": true,
   "toc_window_display": false
  }
 },
 "nbformat": 4,
 "nbformat_minor": 2
}
