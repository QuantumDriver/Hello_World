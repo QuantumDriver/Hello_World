{
 "cells": [
  {
   "cell_type": "markdown",
   "metadata": {},
   "source": [
    "### 爬楼梯<br>\n",
    "![无标题 (2).png](https://i.loli.net/2019/10/06/OUYbMoPfW9kiGlt.png)"
   ]
  },
  {
   "cell_type": "markdown",
   "metadata": {},
   "source": [
    "- 动态规划，每个阶梯可以到达的方法数量等于前两个台阶的方法数之和\n",
    "- $用f(i)来表示第i个阶梯的方法数，则f(i) = f(i-1) + f(i-2)$"
   ]
  },
  {
   "cell_type": "code",
   "execution_count": null,
   "metadata": {},
   "outputs": [],
   "source": [
    "class Solution(object):\n",
    "    def climbStairs(self, n):\n",
    "        \"\"\"\n",
    "        :type n: int\n",
    "        :rtype: int\n",
    "        \"\"\"\n",
    "        # f(i) = f(i-1) + f(i-2)\n",
    "        f = [1,2]\n",
    "        for i in range(2,n):\n",
    "            f.append(f[i-1]+f[i-2])\n",
    "        return f[n-1]"
   ]
  },
  {
   "cell_type": "markdown",
   "metadata": {},
   "source": [
    "- 斐波那契数列：0,1,1,2,3,5...，其公式为$f(i) = f(i-1) + f(i-2)$\n",
    "- 显然第一项0，第二项1可以作为数列基础，后面的1,2,3,5则对题目而言就是第1/2/3/4阶对应的方法数量\n",
    "- 我们设a=0,b=1作为数列的起始,每次更新a,b的值,注意b相当于下一项,a储存当前b的值"
   ]
  },
  {
   "cell_type": "code",
   "execution_count": null,
   "metadata": {},
   "outputs": [],
   "source": [
    "class Solution(object):\n",
    "    def climbStairs(self, n):\n",
    "        \"\"\"\n",
    "        :type n: int\n",
    "        :rtype: int\n",
    "        \"\"\"\n",
    "        a, b = 0, 1\n",
    "        while n:\n",
    "            a, b = b, a + b\n",
    "            n -= 1\n",
    "        return b"
   ]
  },
  {
   "cell_type": "code",
   "execution_count": 14,
   "metadata": {},
   "outputs": [],
   "source": [
    "def f(n):\n",
    "    a, b = 0, 1\n",
    "    res = []\n",
    "    while n+1:\n",
    "        res.append(b)\n",
    "        a, b = b, a + b\n",
    "        n -= 1\n",
    "    return res"
   ]
  },
  {
   "cell_type": "code",
   "execution_count": 15,
   "metadata": {},
   "outputs": [
    {
     "data": {
      "text/plain": [
       "([1, 1], [1, 1, 2], [1, 1, 2, 3, 5])"
      ]
     },
     "execution_count": 15,
     "metadata": {},
     "output_type": "execute_result"
    }
   ],
   "source": [
    "f(1),f(2),f(4)"
   ]
  },
  {
   "cell_type": "markdown",
   "metadata": {},
   "source": [
    "### 买卖股票的最佳时机<br>\n",
    "![微信截图_20191005143621.png](https://i.loli.net/2019/10/06/xf6Zupr4H2QBtAI.png)"
   ]
  },
  {
   "cell_type": "markdown",
   "metadata": {},
   "source": [
    "- 维护一个最低价格和最高利润的区间，遍历时不断更新即可\n",
    "- 维护区间也是记忆的一种方式，所以这种记录的思想也可以算作动态规划的一种"
   ]
  },
  {
   "cell_type": "code",
   "execution_count": null,
   "metadata": {},
   "outputs": [],
   "source": [
    "class Solution(object):\n",
    "    def maxProfit(self, prices):\n",
    "        \"\"\"\n",
    "        :type prices: List[int]\n",
    "        :rtype: int\n",
    "        \"\"\"\n",
    "        min_price = float('inf')\n",
    "        max_profit = 0\n",
    "        for i in range(len(prices)):\n",
    "            min_price = min(min_price,prices[i])\n",
    "            max_profit = max(max_profit,prices[i]-min_price)\n",
    "        return max_profit"
   ]
  },
  {
   "cell_type": "markdown",
   "metadata": {},
   "source": [
    "### 最大子序和<br>\n",
    "![微信截图_20191006110620.png](https://i.loli.net/2019/10/06/ga52YOZSL8zFEAN.png)"
   ]
  },
  {
   "cell_type": "markdown",
   "metadata": {},
   "source": [
    "**动态规划：**这个题是理解动态规划和状态转移优秀例题。动态和状态都是指当前的状态，套用在公式里其实就是指$f(i)$的值，通常也写作$dp[i]$。状态转移就是说当前的状态是由前一个状态转移而得到的，所以当前状态必须建立在上一个状态之上，显然就有$dp[i]=dp[i-1]+C$，C在这里指代其他条件，前后状态存在联系，在这个联系之外还有其他要判断的条件。<br><br>\n",
    "那么本题的状态是什么呢？显然，**可以用$dp[i]$指代数组从第一个数到第i个数这些连续数中，所具有的最大和。**比如说$dp[0]$表示【-2】的最大值，$dp[1]$表示【-2,1】，$dp[2]$表示【-2,1,-3】。前面提到过$dp[i]$是建立在$dp[i-1]$和一个判断条件之上的，根据题目的意思，要求连续的最大子数组之和，显然就是有上一个状态加上当前的nums\\[i]，所以就有$dp[i]=dp[i-1]+nums[i]$ <br><br>\n",
    "接下来分类讨论就变得容易多了，dp[i] 的值要看 dp[i - 1]，因为 nums[i] 一定被选取，那么 dp[i - 1] 的正负就作为分类的标准。\n",
    "- 如果 dp[i - 1] >= 0，那么可以把 nums[i] 直接接在 dp[i - 1] 表示的那个数组的后面。\n",
    "- 如果 dp[i - 1] < 0，那么加上前面的数反而我越来越小了，干脆“另起炉灶”吧，单独的一个 nums[i]，就是 dp[i]。\n",
    "\n",
    "\n",
    "以上两种情况的最大值就是 dp[i] 的值，写出“状态转移方程 1”：<br><br>\n",
    "$$\n",
    "d p[i]=\\left\\{\\begin{array}{ll}{d p[i-1]+n u m s[i],} & {\\text {if } \\quad d p[i-1] \\geq 0} \\\\ {n u m s[i],} & {\\text {if } \\quad d p[i-1]<0}\\end{array}\\right.\n",
    "$$"
   ]
  },
  {
   "cell_type": "markdown",
   "metadata": {},
   "source": [
    "进一步化简：\n",
    "$$\n",
    "d p[i]=\\max \\{n u m s[i], d p[i-1]+\\operatorname{nums}[i]\\}\n",
    "$$"
   ]
  },
  {
   "cell_type": "code",
   "execution_count": 2,
   "metadata": {},
   "outputs": [],
   "source": [
    "class Solution(object):\n",
    "    def maxSubArray(self, nums):\n",
    "        \"\"\"\n",
    "        :type nums: List[int]\n",
    "        :rtype: int\n",
    "        \"\"\"\n",
    "        # cur和res分别表示当前状态值和最大值\n",
    "        cur = res = nums[0]\n",
    "        for i in range(1,len(nums)):\n",
    "            # 每次遍历更新当前状态\n",
    "            cur = max(nums[i],cur+nums[i])\n",
    "            res = max(res,cur)\n",
    "        return res"
   ]
  },
  {
   "cell_type": "code",
   "execution_count": null,
   "metadata": {},
   "outputs": [],
   "source": [
    "class Solution(object):\n",
    "    def maxSubArray(self, nums):\n",
    "        \"\"\"\n",
    "        :type nums: List[int]\n",
    "        :rtype: int\n",
    "        \"\"\"\n",
    "        # 原地修改数组，每个元素代表dp[i]\n",
    "        for i in range(1,len(nums)):\n",
    "            nums[i] = max(nums[i],nums[i]+nums[i-1])\n",
    "        return max(nums)"
   ]
  },
  {
   "cell_type": "markdown",
   "metadata": {},
   "source": [
    "### 打家劫舍<br>\n",
    "![微信截图_20191006122506.png](https://i.loli.net/2019/10/07/jQH97Ovb3mpZiRK.png)"
   ]
  },
  {
   "cell_type": "markdown",
   "metadata": {},
   "source": [
    "动态方程：$dp[i] = max(dp[i - 1], dp[i - 2] + nums[i - 1])$\n",
    "如何推导方程呢？考虑所有可能的抢劫方案过于困难。一个自然而然的想法是首先从最简单的情况开始。记：\n",
    "f(k)=从前 k 个房屋中能抢劫到的最大数额，Ai=第 i 个房屋的钱数。\n",
    "- 首先看 n = 1 的情况，显然 f(1) = A_1。再看 n = 2，f(2) = max(A_1, A_2)\n",
    "- 对于 n = 3，有两个选项:抢第三个房子，将数额与第一个房子相加。不抢第三个房子，保持现有最大数额。\n",
    "\n",
    "显然，你想选择数额更大的选项。于是，可以总结出公式：\n",
    "$f(k) = max(f(k – 2) + A_k, f(k – 1))$\n",
    "我们选择 f(–1) = f(0) = 0 为初始情况，这将极大地简化代码。"
   ]
  },
  {
   "cell_type": "code",
   "execution_count": 7,
   "metadata": {},
   "outputs": [],
   "source": [
    "class Solution(object):\n",
    "    def rob(self, nums):\n",
    "        n = len(nums)\n",
    "        if not n: return 0\n",
    "        dp = [0] * (n+1)       # 创建dp数组，注意初始条件\n",
    "        dp[1] = nums[0]        # 注意从2开始，n+1结束\n",
    "        for i in range(2,n+1): # 注意nums是i-1\n",
    "            dp[i] = max(dp[i-2]+nums[i-1],dp[i-1])\n",
    "        return dp[-1]"
   ]
  },
  {
   "cell_type": "markdown",
   "metadata": {},
   "source": [
    "用abc分别代表三种状态，c:i, b:i-1, a:i-2"
   ]
  },
  {
   "cell_type": "code",
   "execution_count": null,
   "metadata": {},
   "outputs": [],
   "source": [
    "class Solution(object):\n",
    "    def rob(self, nums):\n",
    "        a = b = c = 0\n",
    "        for n in nums:\n",
    "            b = c\n",
    "            c = max(a+n,b)\n",
    "            a = b\n",
    "        return c"
   ]
  },
  {
   "cell_type": "markdown",
   "metadata": {},
   "source": [
    "- 再简化"
   ]
  },
  {
   "cell_type": "code",
   "execution_count": null,
   "metadata": {},
   "outputs": [],
   "source": [
    "class Solution(object):\n",
    "    def rob(self, nums):\n",
    "        cur = pre = 0\n",
    "        for n in nums:\n",
    "            cur, pre = max(pre+n,cur), cur\n",
    "        return cur"
   ]
  }
 ],
 "metadata": {
  "kernelspec": {
   "display_name": "Python 3",
   "language": "python",
   "name": "python3"
  },
  "language_info": {
   "codemirror_mode": {
    "name": "ipython",
    "version": 3
   },
   "file_extension": ".py",
   "mimetype": "text/x-python",
   "name": "python",
   "nbconvert_exporter": "python",
   "pygments_lexer": "ipython3",
   "version": "3.7.1"
  },
  "toc": {
   "base_numbering": 1,
   "nav_menu": {},
   "number_sections": true,
   "sideBar": false,
   "skip_h1_title": false,
   "title_cell": "Table of Contents",
   "title_sidebar": "Contents",
   "toc_cell": false,
   "toc_position": {},
   "toc_section_display": true,
   "toc_window_display": false
  }
 },
 "nbformat": 4,
 "nbformat_minor": 2
}
