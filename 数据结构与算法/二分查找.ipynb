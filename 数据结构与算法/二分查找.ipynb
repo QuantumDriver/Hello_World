{
 "cells": [
  {
   "cell_type": "markdown",
   "metadata": {},
   "source": [
    "### 二分查找"
   ]
  },
  {
   "cell_type": "markdown",
   "metadata": {},
   "source": [
    "![微信截图_20190907125144.png](https://i.loli.net/2019/09/08/yf2AblgLNu9rHo7.png)\n",
    "![微信截图_20190907125159.png](https://i.loli.net/2019/09/08/z3fukaIrlJoiRjX.png)"
   ]
  },
  {
   "cell_type": "markdown",
   "metadata": {},
   "source": [
    "- 迭代"
   ]
  },
  {
   "cell_type": "code",
   "execution_count": 9,
   "metadata": {},
   "outputs": [],
   "source": [
    "class Solution(object):\n",
    "    def search(self, nums, target):\n",
    "        \"\"\"\n",
    "        :type nums: List[int]\n",
    "        :type target: int\n",
    "        :rtype: int\n",
    "        \"\"\"\n",
    "        l, r = 0, len(nums)-1\n",
    "        while l<=r:\n",
    "            m = (l+r)//2\n",
    "            if nums[m] < target:\n",
    "                l = m + 1\n",
    "            elif nums[m] > target:\n",
    "                r = m - 1\n",
    "            else:\n",
    "                return m\n",
    "        return -1"
   ]
  },
  {
   "cell_type": "markdown",
   "metadata": {},
   "source": [
    "- 递归"
   ]
  },
  {
   "cell_type": "code",
   "execution_count": null,
   "metadata": {},
   "outputs": [],
   "source": [
    "class Solution(object):\n",
    "    def search(self, nums, target):\n",
    "        \"\"\"\n",
    "        :type nums: List[int]\n",
    "        :type target: int\n",
    "        :rtype: int\n",
    "        \"\"\"\n",
    "        def s(nums,n,l,r):\n",
    "            if l > r:\n",
    "                return -1\n",
    "            m = (l+r)//2\n",
    "            if nums[m] > n:\n",
    "                return s(nums,n,l,m-1)\n",
    "            elif nums[m] < n:\n",
    "                return s(nums,n,m+1,r)\n",
    "            else:\n",
    "                return m\n",
    "        return s(nums,target,0,len(nums)-1)"
   ]
  },
  {
   "cell_type": "markdown",
   "metadata": {},
   "source": [
    "### X的平方根"
   ]
  },
  {
   "cell_type": "markdown",
   "metadata": {},
   "source": [
    "![微信截图_20190907140842.png](https://i.loli.net/2019/09/08/D6ArPpYl8sO97Kg.png)"
   ]
  },
  {
   "cell_type": "code",
   "execution_count": 16,
   "metadata": {},
   "outputs": [],
   "source": [
    "class Solution(object):\n",
    "    def mySqrt(self, x):\n",
    "        \"\"\"\n",
    "        :type x: int\n",
    "        :rtype: int\n",
    "        \"\"\"\n",
    "        l, r = 0, (x//2 )+1\n",
    "        while l <= r:\n",
    "            m = (l+r)//2\n",
    "            if m*m <= x:\n",
    "                if x < (m+1)*(m+1):\n",
    "                    return m\n",
    "                else:\n",
    "                    l = m + 1\n",
    "            else:\n",
    "                r = m - 1"
   ]
  },
  {
   "cell_type": "markdown",
   "metadata": {},
   "source": [
    "### 猜数字大小"
   ]
  },
  {
   "cell_type": "markdown",
   "metadata": {},
   "source": [
    "![微信截图_20190908135613.png](https://i.loli.net/2019/09/09/iTnUQsxq4N5ldtH.png)"
   ]
  },
  {
   "cell_type": "markdown",
   "metadata": {},
   "source": [
    "- 把mid值放入guess()函数中，根据返回结果去判断mid值大了还是小了"
   ]
  },
  {
   "cell_type": "code",
   "execution_count": null,
   "metadata": {},
   "outputs": [],
   "source": [
    "# The guess API is already defined for you.\n",
    "# @param num, your guess\n",
    "# @return -1 if my number is lower, 1 if my number is higher, otherwise return 0\n",
    "# def guess(num):\n",
    "\n",
    "class Solution(object):\n",
    "    def guessNumber(self, n):\n",
    "        \"\"\"\n",
    "        :type n: int\n",
    "        :rtype: int\n",
    "        \"\"\"\n",
    "        l, r = 0, n\n",
    "        while l <= r:\n",
    "            m = (l+r)//2\n",
    "            if guess(m) == -1:\n",
    "                r = m - 1\n",
    "            elif guess(m) == 1:\n",
    "                l = m + 1\n",
    "            else:\n",
    "                return m"
   ]
  },
  {
   "cell_type": "markdown",
   "metadata": {},
   "source": [
    "- 递归"
   ]
  },
  {
   "cell_type": "code",
   "execution_count": null,
   "metadata": {},
   "outputs": [],
   "source": [
    "class Solution(object):\n",
    "    def guessNumber(self, n):\n",
    "        \"\"\"\n",
    "        :type n: int\n",
    "        :rtype: int\n",
    "        \"\"\"\n",
    "        def s(n,l,r):\n",
    "            m = (l+r)//2\n",
    "            if guess(m) == -1:\n",
    "                return s(n,l,m-1)\n",
    "            elif guess(m) == 1:\n",
    "                return s(n,m+1,r)\n",
    "            else:\n",
    "                return m\n",
    "        return s(n,0,n)"
   ]
  },
  {
   "cell_type": "markdown",
   "metadata": {},
   "source": [
    "### 搜索旋转排序数组"
   ]
  },
  {
   "cell_type": "markdown",
   "metadata": {},
   "source": [
    "![微信截图_20190908141237.png](https://i.loli.net/2019/09/09/FDWVQxOHqlYv67I.png)"
   ]
  },
  {
   "cell_type": "code",
   "execution_count": 1,
   "metadata": {},
   "outputs": [],
   "source": [
    "class Solution(object):\n",
    "    def search(self, nums, target):\n",
    "        \"\"\"\n",
    "        :type nums: List[int]\n",
    "        :type target: int\n",
    "        :rtype: int\n",
    "        \"\"\"\n",
    "        l, r = 0, len(nums)-1\n",
    "        while l <= r:\n",
    "            m = (l+r)//2\n",
    "            if nums[l] == target: return l\n",
    "            if nums[m] == target: return m\n",
    "            if nums[r] == target: return r\n",
    "            \n",
    "            if nums[l] < nums[m]:\n",
    "                if nums[l] < target < nums[m]:\n",
    "                    r = m - 1\n",
    "                else:\n",
    "                    l = m + 1\n",
    "            else:\n",
    "                if nums[m] < target < nums[r]:\n",
    "                    l = m + 1\n",
    "                else:\n",
    "                    r = m - 1\n",
    "        return -1"
   ]
  },
  {
   "cell_type": "markdown",
   "metadata": {},
   "source": [
    "- 递归"
   ]
  },
  {
   "cell_type": "code",
   "execution_count": 2,
   "metadata": {},
   "outputs": [],
   "source": [
    "class Solution:\n",
    "    def search(self, nums, target):\n",
    "        def s(nums,n,l,r):\n",
    "            if l > r: return -1\n",
    "            m = (l+r)//2\n",
    "            if nums[l] == n: return l\n",
    "            if nums[m] == n: return m\n",
    "            if nums[r] == n: return r\n",
    "            \n",
    "            if nums[l] < nums[m]:\n",
    "                if nums[l] < n < nums[m]:\n",
    "                    return s(nums,n,l,m-1)\n",
    "                else:\n",
    "                    return s(nums,n,m+1,r)\n",
    "            else:\n",
    "                if nums[m] < n < nums[r]:\n",
    "                    return s(nums,n,m+1,r)\n",
    "                else:\n",
    "                    return s(nums,n,l,m-1)\n",
    "        return s(nums,target,0,len(nums)-1)"
   ]
  }
 ],
 "metadata": {
  "kernelspec": {
   "display_name": "Python 3",
   "language": "python",
   "name": "python3"
  },
  "language_info": {
   "codemirror_mode": {
    "name": "ipython",
    "version": 3
   },
   "file_extension": ".py",
   "mimetype": "text/x-python",
   "name": "python",
   "nbconvert_exporter": "python",
   "pygments_lexer": "ipython3",
   "version": "3.7.1"
  },
  "toc": {
   "base_numbering": 1,
   "nav_menu": {},
   "number_sections": true,
   "sideBar": false,
   "skip_h1_title": false,
   "title_cell": "Table of Contents",
   "title_sidebar": "Contents",
   "toc_cell": false,
   "toc_position": {},
   "toc_section_display": true,
   "toc_window_display": false
  }
 },
 "nbformat": 4,
 "nbformat_minor": 2
}
