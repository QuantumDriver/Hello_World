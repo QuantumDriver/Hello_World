{
 "cells": [
  {
   "cell_type": "markdown",
   "metadata": {},
   "source": [
    "### 第一个错误的版本"
   ]
  },
  {
   "cell_type": "markdown",
   "metadata": {},
   "source": [
    "![微信截图_20190909110704.png](https://i.loli.net/2019/09/09/upiKoq7bO3Azlst.png)"
   ]
  },
  {
   "cell_type": "markdown",
   "metadata": {},
   "source": [
    "- 迭代法\n",
    "- 注意返回m的条件，必须是返回m为True且m-1为False"
   ]
  },
  {
   "cell_type": "code",
   "execution_count": null,
   "metadata": {},
   "outputs": [],
   "source": [
    "# The isBadVersion API is already defined for you.\n",
    "# @param version, an integer\n",
    "# @return a bool\n",
    "# def isBadVersion(version):\n",
    "\n",
    "class Solution:\n",
    "    def firstBadVersion(self, n):\n",
    "        \"\"\"\n",
    "        :type n: int\n",
    "        :rtype: int\n",
    "        \"\"\"\n",
    "        l, r = 0, n\n",
    "        while l <= r:\n",
    "            m = (l+r)//2\n",
    "            if isBadVersion(m) and not isBadVersion(m-1):\n",
    "                return m\n",
    "            elif isBadVersion(m):\n",
    "                r = m - 1\n",
    "            else:\n",
    "                l = m + 1"
   ]
  },
  {
   "cell_type": "markdown",
   "metadata": {},
   "source": [
    "- 递归"
   ]
  },
  {
   "cell_type": "code",
   "execution_count": null,
   "metadata": {},
   "outputs": [],
   "source": [
    "class Solution(object):\n",
    "    def firstBadVersion(self, n):\n",
    "        \"\"\"\n",
    "        :type n: int\n",
    "        :rtype: int\n",
    "        \"\"\"\n",
    "        def s(l,r):\n",
    "            m = (l+r)//2\n",
    "            if isBadVersion(m) and not isBadVersion(m-1):\n",
    "                return m\n",
    "            elif isBadVersion(m):\n",
    "                return s(l,m-1)\n",
    "            else:\n",
    "                return s(m+1,r)\n",
    "        return s(0,n)"
   ]
  },
  {
   "cell_type": "markdown",
   "metadata": {},
   "source": [
    "### 寻找峰值"
   ]
  },
  {
   "cell_type": "markdown",
   "metadata": {},
   "source": [
    "![微信截图_20190909134514.png](https://i.loli.net/2019/09/10/c7UsLauMPq4w9QZ.png)\n",
    "![微信截图_20190909134526.png](https://i.loli.net/2019/09/10/JhtfMReAyqPxYw4.png)"
   ]
  },
  {
   "cell_type": "markdown",
   "metadata": {},
   "source": [
    "- 如果索引m+1比m大，那么m的右边一定存在峰值\n",
    "- 否则峰值就在m的左边，m也有可能就是峰值"
   ]
  },
  {
   "cell_type": "code",
   "execution_count": null,
   "metadata": {},
   "outputs": [],
   "source": [
    "class Solution(object):\n",
    "    def findPeakElement(self, nums):\n",
    "        \"\"\"\n",
    "        :type nums: List[int]\n",
    "        :rtype: int\n",
    "        \"\"\"\n",
    "        l, r = 0, len(nums)-1\n",
    "        while l < r:\n",
    "            m = (l+r)//2\n",
    "            if nums[m] < nums[m+1]:\n",
    "                l = m + 1\n",
    "            else:\n",
    "                r = m\n",
    "        return l"
   ]
  },
  {
   "cell_type": "markdown",
   "metadata": {},
   "source": [
    "- 递归的方法"
   ]
  },
  {
   "cell_type": "code",
   "execution_count": null,
   "metadata": {},
   "outputs": [],
   "source": [
    "class Solution(object):\n",
    "    def findPeakElement(self, nums):\n",
    "        \"\"\"\n",
    "        :type nums: List[int]\n",
    "        :rtype: int\n",
    "        \"\"\"\n",
    "        def s(nums,l,r):\n",
    "            m = (l+r)//2\n",
    "            if l >= r:\n",
    "                return l\n",
    "            elif nums[m] < nums[m+1]:\n",
    "                return s(nums,m+1,r)\n",
    "            else:\n",
    "                return s(nums,l,m)\n",
    "        return s(nums,0,len(nums))"
   ]
  },
  {
   "cell_type": "markdown",
   "metadata": {},
   "source": [
    "### 寻找旋转排序数组中的最小值"
   ]
  },
  {
   "cell_type": "markdown",
   "metadata": {},
   "source": [
    "![微信截图_20190910090612.png](https://i.loli.net/2019/09/10/4LSimYNMDheH8zO.png)"
   ]
  },
  {
   "cell_type": "markdown",
   "metadata": {},
   "source": [
    "- 首先排除特殊情况，即不旋转的情况，然后再分情况讨论。\n",
    "- 通过mid元素和第一个元素进行比较，判断最小值在左还是在右。\n",
    "- 设置好终止条件，因为是升序排列，所以一旦出现左大右小，右元素必为最小元素。"
   ]
  },
  {
   "cell_type": "code",
   "execution_count": null,
   "metadata": {},
   "outputs": [],
   "source": [
    "class Solution(object):\n",
    "    def findMin(self, nums):\n",
    "        \"\"\"\n",
    "        :type nums: List[int]\n",
    "        :rtype: int\n",
    "        \"\"\"\n",
    "        if nums[0] <= nums[len(nums)-1]: return nums[0]\n",
    "        \n",
    "        l, r = 0, len(nums)-1\n",
    "        while l < r:\n",
    "            mid = (l+r)//2\n",
    "            if nums[mid] > nums[mid+1]: return nums[mid+1]\n",
    "            if nums[mid-1] > nums[mid]: return nums[mid]\n",
    "            if nums[0] < nums[mid]:\n",
    "                l = mid + 1\n",
    "            else:\n",
    "                r = mid - 1"
   ]
  },
  {
   "cell_type": "markdown",
   "metadata": {},
   "source": [
    "- 递归"
   ]
  },
  {
   "cell_type": "code",
   "execution_count": null,
   "metadata": {},
   "outputs": [],
   "source": [
    "class Solution(object):\n",
    "    def findMin(self, nums):\n",
    "        \"\"\"\n",
    "        :type nums: List[int]\n",
    "        :rtype: int\n",
    "        \"\"\"\n",
    "        if nums[0] <= nums[len(nums)-1]: return nums[0]\n",
    "        def s(nums,l,r):\n",
    "            m = (l+r)//2\n",
    "            if nums[m] > nums[m+1]: \n",
    "                return nums[m+1]\n",
    "            if nums[m-1] > nums[m]: \n",
    "                return nums[m]\n",
    "            if nums[0] < nums[m]:\n",
    "                return s(nums,m+1,r)\n",
    "            else:\n",
    "                return s(nums,l,m-1)\n",
    "        return s(nums,0,len(nums)-1)"
   ]
  }
 ],
 "metadata": {
  "kernelspec": {
   "display_name": "Python 3",
   "language": "python",
   "name": "python3"
  },
  "language_info": {
   "codemirror_mode": {
    "name": "ipython",
    "version": 3
   },
   "file_extension": ".py",
   "mimetype": "text/x-python",
   "name": "python",
   "nbconvert_exporter": "python",
   "pygments_lexer": "ipython3",
   "version": "3.7.1"
  },
  "toc": {
   "base_numbering": 1,
   "nav_menu": {},
   "number_sections": true,
   "sideBar": false,
   "skip_h1_title": false,
   "title_cell": "Table of Contents",
   "title_sidebar": "Contents",
   "toc_cell": false,
   "toc_position": {},
   "toc_section_display": true,
   "toc_window_display": false
  }
 },
 "nbformat": 4,
 "nbformat_minor": 2
}
