{
 "cells": [
  {
   "cell_type": "markdown",
   "metadata": {},
   "source": [
    "### 数据流中第K大的元素"
   ]
  },
  {
   "cell_type": "markdown",
   "metadata": {},
   "source": [
    "![微信截图_20190904124857.png](https://i.loli.net/2019/09/05/Ac2vgfWjzYrhuoB.png)"
   ]
  },
  {
   "cell_type": "code",
   "execution_count": 13,
   "metadata": {},
   "outputs": [],
   "source": [
    "import heapq\n",
    "class KthLargest(object):\n",
    "\n",
    "    def __init__(self, k, nums):\n",
    "        \"\"\"\n",
    "        :type k: int\n",
    "        :type nums: List[int]\n",
    "        \"\"\"\n",
    "        self.pool = nums\n",
    "        self.k = k\n",
    "        heapq.heapify(self.pool)\n",
    "        while len(self.pool) > self.k:\n",
    "            heapq.heappop(self.pool)\n",
    "\n",
    "    def add(self, val):\n",
    "        \"\"\"\n",
    "        :type val: int\n",
    "        :rtype: int\n",
    "        \"\"\"\n",
    "        if len(self.pool) < self.k:\n",
    "            heapq.heappush(self.pool,val)\n",
    "        else:\n",
    "            heapq.heappushpop(self.pool,val)\n",
    "        return self.pool[0]\n",
    "\n",
    "\n",
    "# Your KthLargest object will be instantiated and called as such:\n",
    "# obj = KthLargest(k, nums)\n",
    "# param_1 = obj.add(val)"
   ]
  },
  {
   "cell_type": "markdown",
   "metadata": {},
   "source": [
    "### 二叉搜索树的最近公共祖先"
   ]
  },
  {
   "cell_type": "markdown",
   "metadata": {},
   "source": [
    "![微信截图_20190905101701.png](https://i.loli.net/2019/09/05/eRmfTZnpCHFNqL1.png)\n",
    "![微信截图_20190905101721.png](https://i.loli.net/2019/09/05/rNcIMEYpqKOT5xW.png)"
   ]
  },
  {
   "cell_type": "markdown",
   "metadata": {},
   "source": [
    "- 递归"
   ]
  },
  {
   "cell_type": "code",
   "execution_count": null,
   "metadata": {},
   "outputs": [],
   "source": [
    "# Definition for a binary tree node.\n",
    "# class TreeNode(object):\n",
    "#     def __init__(self, x):\n",
    "#         self.val = x\n",
    "#         self.left = None\n",
    "#         self.right = None\n",
    "\n",
    "class Solution(object):\n",
    "    def lowestCommonAncestor(self, root, p, q):\n",
    "        \"\"\"\n",
    "        :type root: TreeNode\n",
    "        :type p: TreeNode\n",
    "        :type q: TreeNode\n",
    "        :rtype: TreeNode\n",
    "        \"\"\"\n",
    "        parent_val,p_val,q_val = root.val, p.val, q.val\n",
    "        \n",
    "        if p_val > parent_val and q_val > parent_val:\n",
    "            return self.lowestCommonAncestor(root.right,p,q)\n",
    "        elif p_val < parent_val and q_val < parent_val:\n",
    "            return self.lowestCommonAncestor(root.left,p,q)\n",
    "        else:\n",
    "            return root"
   ]
  },
  {
   "cell_type": "markdown",
   "metadata": {},
   "source": [
    "- 迭代"
   ]
  },
  {
   "cell_type": "code",
   "execution_count": null,
   "metadata": {},
   "outputs": [],
   "source": [
    "# Definition for a binary tree node.\n",
    "# class TreeNode(object):\n",
    "#     def __init__(self, x):\n",
    "#         self.val = x\n",
    "#         self.left = None\n",
    "#         self.right = None\n",
    "\n",
    "class Solution(object):\n",
    "    def lowestCommonAncestor(self, root, p, q):\n",
    "        \"\"\"\n",
    "        :type root: TreeNode\n",
    "        :type p: TreeNode\n",
    "        :type q: TreeNode\n",
    "        :rtype: TreeNode\n",
    "        \"\"\"\n",
    "        while root:\n",
    "            if root.val < p.val and root.val < q.val:\n",
    "                root = root.right\n",
    "            elif root.val > p.val and root.val > q.val:\n",
    "                root = root.left\n",
    "            else:\n",
    "                return root"
   ]
  },
  {
   "cell_type": "markdown",
   "metadata": {},
   "source": [
    "### 存在重复元素3"
   ]
  },
  {
   "cell_type": "markdown",
   "metadata": {},
   "source": [
    "![微信截图_20190905130338.png](https://i.loli.net/2019/09/06/9XvlHcOz1DsMwWg.png)"
   ]
  },
  {
   "cell_type": "markdown",
   "metadata": {},
   "source": [
    "数的差值不超过t,可以把桶的间隔大小设置为t+1,nums\\[i\\]//t+1则可以把nums中的数用桶完全隔开。<br><br>\n",
    "若同属一个桶，且i<k,则返回true。也有可能在前后桶但绝对值差小于t+1。i>k时删除之前的桶。"
   ]
  },
  {
   "cell_type": "code",
   "execution_count": 7,
   "metadata": {},
   "outputs": [],
   "source": [
    "class Solution(object):\n",
    "    def containsNearbyAlmostDuplicate(self, nums, k, t):\n",
    "        \"\"\"\n",
    "        :type nums: List[int]\n",
    "        :type k: int\n",
    "        :type t: int\n",
    "        :rtype: bool\n",
    "        \"\"\"\n",
    "        if k < 0 or t < 0: return False\n",
    "        d, s, n = {}, t+1, len(nums)\n",
    "        for i in range(n):\n",
    "            m = nums[i]//s                                      # 桶的间隔\n",
    "            if m in d: return True                              # 目前的桶\n",
    "            if m-1 in d and abs(nums[i]-d[m-1])<s: return True  # 前桶\n",
    "            if m+1 in d and abs(nums[i]-d[m+1])<s: return True  # 后桶\n",
    "            d[m] = nums[i]\n",
    "            if i >= k: d.pop(nums[i-k]//s)                      # 下个循环开始前维持窗口\n",
    "        return False"
   ]
  }
 ],
 "metadata": {
  "kernelspec": {
   "display_name": "Python 3",
   "language": "python",
   "name": "python3"
  },
  "language_info": {
   "codemirror_mode": {
    "name": "ipython",
    "version": 3
   },
   "file_extension": ".py",
   "mimetype": "text/x-python",
   "name": "python",
   "nbconvert_exporter": "python",
   "pygments_lexer": "ipython3",
   "version": "3.7.1"
  },
  "toc": {
   "base_numbering": 1,
   "nav_menu": {},
   "number_sections": true,
   "sideBar": false,
   "skip_h1_title": false,
   "title_cell": "Table of Contents",
   "title_sidebar": "Contents",
   "toc_cell": false,
   "toc_position": {},
   "toc_section_display": true,
   "toc_window_display": false
  }
 },
 "nbformat": 4,
 "nbformat_minor": 2
}
