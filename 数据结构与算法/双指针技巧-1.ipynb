{
 "cells": [
  {
   "cell_type": "markdown",
   "metadata": {},
   "source": [
    "### 双指针技巧\n",
    "\n",
    "用两个指针来解决问题\n",
    "\n",
    "#### 字符串反转\n",
    "\n",
    "![微信截图_20190724095540.png](https://i.loli.net/2019/07/24/5d38637c3abae83384.png)\n",
    "\n",
    "- 这道题难度不大，在python里用 s\\[i\\],s\\[j\\] = s\\[j\\],s\\[i\\]即可交换。双指针分布指向数组的第一个和最后一个，最后在注意一下特殊情况，即列表为空的情况。"
   ]
  },
  {
   "cell_type": "code",
   "execution_count": 10,
   "metadata": {},
   "outputs": [],
   "source": [
    "class Solution(object):\n",
    "    def reverseString(self, s):\n",
    "        \"\"\"\n",
    "        :type s: List[str]\n",
    "        :rtype: None Do not return anything, modify s in-place instead.\n",
    "        \"\"\"\n",
    "        if not s: return\n",
    "        i,j = 0,len(s)-1\n",
    "        while i < j:\n",
    "            s[i],s[j] = s[j],s[i]\n",
    "            i += 1\n",
    "            j -= 1\n",
    "        return s"
   ]
  },
  {
   "cell_type": "markdown",
   "metadata": {},
   "source": [
    "#### 数组拆分\n",
    "\n",
    "![微信截图_20190724095540.png](https://i.loli.net/2019/07/24/5d38637c3abae83384.png)\n",
    "\n",
    "这道题关键是要知道，每一对数的最小值求和，恰好就是排好序之后的数组的偶数位(包括0)索引指向的数字进行求和。"
   ]
  },
  {
   "cell_type": "code",
   "execution_count": 29,
   "metadata": {},
   "outputs": [],
   "source": [
    "class Solution(object):\n",
    "    def arrayPairSum(self, nums):\n",
    "        \"\"\"\n",
    "        :type nums: List[int]\n",
    "        :rtype: int\n",
    "        \"\"\"\n",
    "        return sum(sorted(nums)[::2])"
   ]
  },
  {
   "cell_type": "markdown",
   "metadata": {},
   "source": [
    "#### 两数之和\n",
    "![微信截图_20190724112403.png](https://i.loli.net/2019/07/24/5d387822a705331792.png)\n",
    "\n",
    "这道题暴力法并不可取，时间消耗太大。利用数组是从小到大排列好的这个特性，可以双指针将数组头尾标记，然后将头尾相加，大于目标数则尾数退一，小于则头数进一，因为头尾两数分布是数组中最小和最大的数，这样不停地退一进一迭代下去，可以快速找到target。"
   ]
  },
  {
   "cell_type": "markdown",
   "metadata": {},
   "source": [
    "- 暴力法"
   ]
  },
  {
   "cell_type": "code",
   "execution_count": 75,
   "metadata": {},
   "outputs": [],
   "source": [
    "class Solution(object):\n",
    "    def twoSum(self, numbers, target):\n",
    "        \"\"\"\n",
    "        :type numbers: List[int]\n",
    "        :type target: int\n",
    "        :rtype: List[int]\n",
    "        \"\"\"\n",
    "        if not numbers: return\n",
    "        if target == None: return\n",
    "        i,j = 0,len(numbers)-1\n",
    "        while i < j:\n",
    "            if numbers[i] + numbers[j] == target:\n",
    "                return [i+1,j+1]\n",
    "            elif numbers[i] + numbers[j] > target:\n",
    "                    j -= 1\n",
    "            else:\n",
    "                i += 1\n",
    "        return"
   ]
  },
  {
   "cell_type": "code",
   "execution_count": 76,
   "metadata": {},
   "outputs": [],
   "source": [
    "a = Solution()"
   ]
  },
  {
   "cell_type": "code",
   "execution_count": 78,
   "metadata": {},
   "outputs": [
    {
     "name": "stdout",
     "output_type": "stream",
     "text": [
      "[1, 3]\n"
     ]
    }
   ],
   "source": [
    "print(a.twoSum([-1,0,1,3,4],0))"
   ]
  },
  {
   "cell_type": "markdown",
   "metadata": {},
   "source": [
    "- 指针法"
   ]
  },
  {
   "cell_type": "code",
   "execution_count": 101,
   "metadata": {},
   "outputs": [],
   "source": [
    "class Solution:\n",
    "    def twoSum(self, numbers):\n",
    "        i,j=0,len(numbers)-1\n",
    "        while i<j:\n",
    "            if numbers[i]+numbers[j]>target:\n",
    "                j=j-1\n",
    "            elif numbers[i]+numbers[j]<target:\n",
    "                i=i+1\n",
    "            else:\n",
    "                return [i+1,j+1]"
   ]
  },
  {
   "cell_type": "markdown",
   "metadata": {},
   "source": [
    "- 字典法"
   ]
  },
  {
   "cell_type": "code",
   "execution_count": 90,
   "metadata": {},
   "outputs": [],
   "source": [
    "class Solution(object):\n",
    "    def twoSum(self, numbers, target):\n",
    "        hashmap = {}                             # 构建哈希表，用哈希表存储每次访问的结构\n",
    "        for index, num in enumerate(numbers,1):  # 对数组进行字典型遍历，字典的value从1开始\n",
    "            next_num = target - num              # next_num即为所求之数，目标减去当前num \n",
    "            if next_num in hashmap:              # 将next_num与哈希表中的数做比较，是否在表中\n",
    "                return [hashmap[next_num],index] # 返回此数在哈希表中的value，以及当前num的index\n",
    "            hashmap[num] = index                 # 如果目前不在，则把当前num收入表中\n",
    "        return None"
   ]
  },
  {
   "cell_type": "code",
   "execution_count": 91,
   "metadata": {},
   "outputs": [],
   "source": [
    "s = Solution()"
   ]
  },
  {
   "cell_type": "code",
   "execution_count": 92,
   "metadata": {},
   "outputs": [
    {
     "data": {
      "text/plain": [
       "[1, 4]"
      ]
     },
     "execution_count": 92,
     "metadata": {},
     "output_type": "execute_result"
    }
   ],
   "source": [
    "s.twoSum([-5,0,0,1,2,3,4],-4)"
   ]
  },
  {
   "cell_type": "code",
   "execution_count": 93,
   "metadata": {},
   "outputs": [],
   "source": [
    "hashmap = {1:2,3:4}"
   ]
  },
  {
   "cell_type": "code",
   "execution_count": 99,
   "metadata": {},
   "outputs": [
    {
     "data": {
      "text/plain": [
       "{1: 2, 3: 4, 2: 3}"
      ]
     },
     "execution_count": 99,
     "metadata": {},
     "output_type": "execute_result"
    }
   ],
   "source": [
    "hashmap[2] = 3\n",
    "hashmap"
   ]
  }
 ],
 "metadata": {
  "kernelspec": {
   "display_name": "Python 3",
   "language": "python",
   "name": "python3"
  },
  "language_info": {
   "codemirror_mode": {
    "name": "ipython",
    "version": 3
   },
   "file_extension": ".py",
   "mimetype": "text/x-python",
   "name": "python",
   "nbconvert_exporter": "python",
   "pygments_lexer": "ipython3",
   "version": "3.7.1"
  },
  "toc": {
   "base_numbering": 1,
   "nav_menu": {},
   "number_sections": true,
   "sideBar": false,
   "skip_h1_title": false,
   "title_cell": "Table of Contents",
   "title_sidebar": "Contents",
   "toc_cell": false,
   "toc_position": {},
   "toc_section_display": true,
   "toc_window_display": false
  }
 },
 "nbformat": 4,
 "nbformat_minor": 2
}
