{
 "cells": [
  {
   "cell_type": "markdown",
   "metadata": {},
   "source": [
    "### 克隆图<br>\n",
    "[![微信截图_20190731193333.png](https://i.loli.net/2019/08/01/5d4226144451585079.png)](https://i.loli.net/2019/08/01/5d4226144451585079.png)\n",
    "\n",
    "[![微信截图_20190731193349.png](https://i.loli.net/2019/08/01/5d4226148ce9485525.png)](https://i.loli.net/2019/08/01/5d4226148ce9485525.png)"
   ]
  },
  {
   "cell_type": "markdown",
   "metadata": {},
   "source": [
    "解题思路：对于输入的原node，可以利用栈和字典进行辅助，用DFS和BFS的方法对原node进行遍历，取出值和子节点，放入字典和栈中，再传给新node，最后输出的新node就是完全拷贝好的节点。"
   ]
  },
  {
   "cell_type": "markdown",
   "metadata": {},
   "source": [
    "- BFS解法"
   ]
  },
  {
   "cell_type": "code",
   "execution_count": 1,
   "metadata": {},
   "outputs": [],
   "source": [
    "\"\"\"\n",
    "# Definition for a Node.\n",
    "class Node(object):\n",
    "    def __init__(self, val, neighbors):\n",
    "        self.val = val\n",
    "        self.neighbors = neighbors\n",
    "\"\"\"\n",
    "class Solution(object):\n",
    "    def cloneGraph(self, node):\n",
    "        \"\"\"\n",
    "        :type node: Node\n",
    "        :rtype: Node\n",
    "        \"\"\"\n",
    "        if node == None: return None\n",
    "        \n",
    "        new = Node(node.val,[])\n",
    "        table = {node:new}\n",
    "        que = [node]\n",
    "        \n",
    "        while que:\n",
    "            now = que.pop()\n",
    "            for neighbor in now.neighbors:\n",
    "                if neighbor not in table:\n",
    "                    table[neighbor] = Node(neighbor.val,[])\n",
    "                    que.append(neighbor)\n",
    "                table[now].neighbors.append(table[neighbor])\n",
    "        \n",
    "        return new"
   ]
  },
  {
   "cell_type": "markdown",
   "metadata": {},
   "source": [
    "- DFS的方法(递归)"
   ]
  },
  {
   "cell_type": "code",
   "execution_count": 2,
   "metadata": {},
   "outputs": [],
   "source": [
    "\"\"\"\n",
    "# Definition for a Node.\n",
    "class Node(object):\n",
    "    def __init__(self, val, neighbors):\n",
    "        self.val = val\n",
    "        self.neighbors = neighbors\n",
    "\"\"\"\n",
    "class Solution(object):\n",
    "    def cloneGraph(self, node):\n",
    "        \"\"\"\n",
    "        :type node: Node\n",
    "        :rtype: Node\n",
    "        \"\"\"\n",
    "        temp = {}\n",
    "        def iter(current):\n",
    "            if current not in temp:\n",
    "                temp[current] = Node(current.val,[])\n",
    "                for node in current.neighbors:\n",
    "                    temp[current].neighbors.append(iter(node))\n",
    "            return temp[current]\n",
    "        return iter(node)"
   ]
  },
  {
   "cell_type": "markdown",
   "metadata": {},
   "source": [
    "### 目标和<br>\n",
    "[![微信截图_20190731201233.png](https://i.loli.net/2019/08/01/5d422eb20693c95242.png)](https://i.loli.net/2019/08/01/5d422eb20693c95242.png)\n",
    "[![微信截图_20190731201247.png](https://i.loli.net/2019/08/01/5d422eb1e75aa91387.png)](https://i.loli.net/2019/08/01/5d422eb1e75aa91387.png)"
   ]
  },
  {
   "cell_type": "markdown",
   "metadata": {},
   "source": [
    "这道题有DP和DFS两种方法，但是DFS时间复杂度太高，代码也有点复杂，这里用DP来实现。\n",
    "- DP的关键在于构建一个合适的表来供下一次计算进行查询和索取"
   ]
  },
  {
   "cell_type": "markdown",
   "metadata": {},
   "source": [
    "这里给出一个例子，给定一组数\\[1,1,1,1,1\\]，那么通过不同的加减配合，它们的和的取值范围是-5到5，表中的数字是出现这个和的次数。例如3对应的是5，说明和为3出现了5次。<br><br>\n",
    "[![微信截图_20190801122603.png](https://i.loli.net/2019/08/02/5d4312b66a59c50418.png)](https://i.loli.net/2019/08/02/5d4312b66a59c50418.png)"
   ]
  },
  {
   "cell_type": "code",
   "execution_count": 3,
   "metadata": {},
   "outputs": [],
   "source": [
    "class Solution(object):\n",
    "    def findTargetSumWays(self, nums, S):\n",
    "        \"\"\"\n",
    "        :type nums: List[int]\n",
    "        :type S: int\n",
    "        :rtype: int\n",
    "        \"\"\"\n",
    "        count = {0:1}\n",
    "        for x in nums:\n",
    "            count2 = {}\n",
    "            for temp in count:\n",
    "                count2[temp+x] = count2.get(temp+x,0) + count[temp]\n",
    "                count2[temp-x] = count2.get(temp-x,0) + count[temp]\n",
    "            count = count2\n",
    "        return count.get(S,0)"
   ]
  },
  {
   "cell_type": "markdown",
   "metadata": {},
   "source": [
    "### 二叉树的中序遍历<br>\n",
    "[![微信截图_20190801124459.png](https://i.loli.net/2019/08/02/5d4317198305393456.png)](https://i.loli.net/2019/08/02/5d4317198305393456.png)"
   ]
  },
  {
   "cell_type": "markdown",
   "metadata": {},
   "source": [
    "- 递归法"
   ]
  },
  {
   "cell_type": "code",
   "execution_count": 4,
   "metadata": {},
   "outputs": [],
   "source": [
    "# Definition for a binary tree node.\n",
    "# class TreeNode(object):\n",
    "#     def __init__(self, x):\n",
    "#         self.val = x\n",
    "#         self.left = None\n",
    "#         self.right = None\n",
    "\n",
    "class Solution(object):\n",
    "    def inorderTraversal(self, root):\n",
    "        \"\"\"\n",
    "        :type root: TreeNode\n",
    "        :rtype: List[int]\n",
    "        \"\"\"\n",
    "        res = []\n",
    "        if root:\n",
    "            res += self.inorderTraversal(root.left)\n",
    "            res.append(root.val)\n",
    "            res += self.inorderTraversal(root.right)\n",
    "        return res"
   ]
  },
  {
   "cell_type": "code",
   "execution_count": null,
   "metadata": {},
   "outputs": [],
   "source": [
    "# Definition for a binary tree node.\n",
    "# class TreeNode(object):\n",
    "#     def __init__(self, x):\n",
    "#         self.val = x\n",
    "#         self.left = None\n",
    "#         self.right = None\n",
    "\n",
    "class Solution(object):\n",
    "    def inorderTraversal(self, root):\n",
    "        \"\"\"\n",
    "        :type root: TreeNode\n",
    "        :rtype: List[int]\n",
    "        \"\"\"\n",
    "        res = []\n",
    "        def helper(root):\n",
    "            if not root: return\n",
    "            helper(root.left)\n",
    "            res.append(root.val)\n",
    "            helper(root.right)\n",
    "        helper(root)\n",
    "        return res"
   ]
  },
  {
   "cell_type": "markdown",
   "metadata": {},
   "source": [
    "- 迭代法"
   ]
  },
  {
   "cell_type": "code",
   "execution_count": 5,
   "metadata": {},
   "outputs": [],
   "source": [
    "# Definition for a binary tree node.\n",
    "# class TreeNode(object):\n",
    "#     def __init__(self, x):\n",
    "#         self.val = x\n",
    "#         self.left = None\n",
    "#         self.right = None\n",
    "\n",
    "class Solution(object):\n",
    "    def inorderTraversal(self, root):\n",
    "        \"\"\"\n",
    "        :type root: TreeNode\n",
    "        :rtype: List[int]\n",
    "        \"\"\"\n",
    "        res = []\n",
    "        stack = []\n",
    "        p = root\n",
    "        while p or root:\n",
    "            while p:\n",
    "                stack.append(p)\n",
    "                p = p.left\n",
    "            temp = stack.pop()\n",
    "            res.append(temp.val)\n",
    "            p = temp.right()\n",
    "        return res"
   ]
  }
 ],
 "metadata": {
  "kernelspec": {
   "display_name": "Python 3",
   "language": "python",
   "name": "python3"
  },
  "language_info": {
   "codemirror_mode": {
    "name": "ipython",
    "version": 3
   },
   "file_extension": ".py",
   "mimetype": "text/x-python",
   "name": "python",
   "nbconvert_exporter": "python",
   "pygments_lexer": "ipython3",
   "version": "3.7.1"
  },
  "toc": {
   "base_numbering": 1,
   "nav_menu": {},
   "number_sections": true,
   "sideBar": false,
   "skip_h1_title": false,
   "title_cell": "Table of Contents",
   "title_sidebar": "Contents",
   "toc_cell": false,
   "toc_position": {},
   "toc_section_display": true,
   "toc_window_display": false
  }
 },
 "nbformat": 4,
 "nbformat_minor": 2
}
