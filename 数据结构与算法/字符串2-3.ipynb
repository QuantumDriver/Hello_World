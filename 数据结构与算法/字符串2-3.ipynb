{
 "cells": [
  {
   "cell_type": "markdown",
   "metadata": {},
   "source": [
    "### 实现strStr()\n",
    "![微信截图_20190722220751.png](https://i.loli.net/2019/07/23/5d366c20666bc79945.png)"
   ]
  },
  {
   "cell_type": "markdown",
   "metadata": {},
   "source": [
    "如果用暴力解法的话，只需根据字符串索引跟needle进行对比即可，没有特别的技巧。\n",
    "- 有空可以整理总结一下KMP算法，十分精妙。"
   ]
  },
  {
   "cell_type": "code",
   "execution_count": 7,
   "metadata": {},
   "outputs": [],
   "source": [
    "class Solution(object):\n",
    "    def strStr(self, haystack, needle):\n",
    "        \"\"\"\n",
    "        :type haystack: str\n",
    "        :type needle: str\n",
    "        :rtype: int\n",
    "        \"\"\"\n",
    "        if not needle:\n",
    "            return 0\n",
    "        for i in range(len(haystack)):\n",
    "            if haystack[i:i+len(needle)] == needle:\n",
    "                    return i\n",
    "        return -1"
   ]
  },
  {
   "cell_type": "markdown",
   "metadata": {},
   "source": [
    "[KMP算法](https://blog.csdn.net/v_july_v/article/details/7041827)\n",
    "[参考](https://www.zhihu.com/question/21923021)"
   ]
  },
  {
   "cell_type": "markdown",
   "metadata": {},
   "source": [
    "### 最长公共前缀\n",
    "![微信截图_20190723111359.png](https://i.loli.net/2019/07/23/5d372455e243e81561.png)"
   ]
  },
  {
   "cell_type": "markdown",
   "metadata": {},
   "source": [
    "要查看所有字符的公共前缀，我的思路是，首先拿出最短的那个字符，根据这个字符的长度，对每一个字符进行遍历，比较前缀是否相同。\n",
    "- 要注意几个特殊情况，列表为空，列表中有一个字符串为空，这两个都要返回空。\n",
    "\n",
    "在进行前缀比较时，如果第一个前缀就不相同，那么直接就可以返回空。如果比较进行到第m轮(m>0)，发现某个字符不一样，则可以直接返回short\\[ : m\\]"
   ]
  },
  {
   "cell_type": "code",
   "execution_count": 7,
   "metadata": {},
   "outputs": [],
   "source": [
    "class Solution:\n",
    "    def longestCommonPrefix(self, strs): #strs: List[str]) -> str:\n",
    "        if not strs:\n",
    "            return ''\n",
    "        short = strs[0]\n",
    "        for i,string in enumerate(strs):\n",
    "            if len(string) < len(short):\n",
    "                short = strs[i]\n",
    "        for m in range(len(short)):\n",
    "            for n in range(len(strs)-1):\n",
    "                if strs[n][m] == strs[n+1][m]:\n",
    "                    continue\n",
    "                else:\n",
    "                    if m == 0: return ''\n",
    "                    else: return short[:m]\n",
    "        return short"
   ]
  }
 ],
 "metadata": {
  "kernelspec": {
   "display_name": "Python 3",
   "language": "python",
   "name": "python3"
  },
  "language_info": {
   "codemirror_mode": {
    "name": "ipython",
    "version": 3
   },
   "file_extension": ".py",
   "mimetype": "text/x-python",
   "name": "python",
   "nbconvert_exporter": "python",
   "pygments_lexer": "ipython3",
   "version": "3.7.1"
  }
 },
 "nbformat": 4,
 "nbformat_minor": 2
}
