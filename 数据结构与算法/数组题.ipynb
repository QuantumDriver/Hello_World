{
 "cells": [
  {
   "cell_type": "markdown",
   "metadata": {},
   "source": [
    "### 删除排序数组中的重复项\n",
    "[![20190718221141.png](https://i.postimg.cc/j5p3zPCJ/20190718221141.png)](https://postimg.cc/VrFFwSqY)\n",
    "<img src=\"https://i.loli.net/2019/07/19/5d31c7852c8d544242.png\" alt=\"微信截图_20190719093650.png\" title=\"微信截图_20190719093650.png\" />"
   ]
  },
  {
   "cell_type": "markdown",
   "metadata": {},
   "source": [
    "此题输出有两个要求，一个是要输出的数字为数组中没有重复项的长度K，另外一个是要保证数组的前K位数字恰好就是那些非重复数字,可以看示例是怎么描述的。"
   ]
  },
  {
   "cell_type": "markdown",
   "metadata": {},
   "source": [
    "- 我的辣鸡代码"
   ]
  },
  {
   "cell_type": "code",
   "execution_count": null,
   "metadata": {},
   "outputs": [],
   "source": [
    "class Solution(object):\n",
    "    def removeDuplicates(self, nums):\n",
    "        i = 0\n",
    "        while i < len(nums)-1:\n",
    "            if nums[i] == nums[i+1]:\n",
    "                nums.remove(nums[i])\n",
    "            else:\n",
    "                i += 1\n",
    "        return len(nums)"
   ]
  },
  {
   "cell_type": "markdown",
   "metadata": {},
   "source": [
    "- 别人的"
   ]
  },
  {
   "cell_type": "code",
   "execution_count": null,
   "metadata": {},
   "outputs": [],
   "source": [
    "class Solution:\n",
    "    def removeDuplicates(self, nums):\n",
    "        if not nums: return 0\n",
    "        k = 1\n",
    "        for i in range(1, len(nums)):\n",
    "            if nums[i] != nums[i - 1]:\n",
    "                nums[k] = nums[i]\n",
    "                k += 1\n",
    "        return k"
   ]
  },
  {
   "cell_type": "code",
   "execution_count": null,
   "metadata": {},
   "outputs": [],
   "source": [
    "class Solution(object):\n",
    "    def removeDuplicates(self, nums):\n",
    "        i = 0\n",
    "        for ji in nums:\n",
    "            if nums[i] != ji:\n",
    "                i += 1\n",
    "                nums[i] = ji\n",
    "        return len(nums) and i+1 "
   ]
  },
  {
   "cell_type": "code",
   "execution_count": 8,
   "metadata": {},
   "outputs": [],
   "source": [
    "# return username and USER_RE.match(username)\n",
    "\n",
    "if username:\n",
    "    return USER_RE.match(username)\n",
    "else:\n",
    "    return username"
   ]
  },
  {
   "cell_type": "markdown",
   "metadata": {},
   "source": [
    "### 寻找数组的中心索引"
   ]
  },
  {
   "cell_type": "markdown",
   "metadata": {},
   "source": [
    "<img src=\"https://i.loli.net/2019/07/19/5d31b3f411bdb54216.png\" alt=\"微信截图_20190719081251.png\" title=\"微信截图_20190719081251.png\" />\n",
    "<img src=\"https://i.loli.net/2019/07/19/5d31b3f3902ac60750.png\" alt=\"微信截图_20190719081306.png\" title=\"微信截图_20190719081306.png\" />"
   ]
  },
  {
   "cell_type": "markdown",
   "metadata": {},
   "source": [
    "此题只要做一次求和就可以了，想象一下，用中间的索引数把列表隔开成左边和右边，左边就是0对索引数进行累加，右边就是求和项对索引数进行累减。除加减之外，也可以左边乘以2加上索引数等于最开始的求和数。"
   ]
  },
  {
   "cell_type": "markdown",
   "metadata": {},
   "source": [
    "- 我的"
   ]
  },
  {
   "cell_type": "code",
   "execution_count": 4,
   "metadata": {},
   "outputs": [
    {
     "name": "stdout",
     "output_type": "stream",
     "text": [
      "-1\n",
      "-1\n",
      "3\n",
      "-1\n",
      "-1\n"
     ]
    }
   ],
   "source": [
    "nums = [1, 7, 3, 6, 5, 6]\n",
    "s = sum(nums)\n",
    "for i in range(1,len(nums)):\n",
    "    if (s - nums[i])/2 == sum(nums[:i]):\n",
    "        print(i)\n",
    "    else:\n",
    "        print(-1)"
   ]
  },
  {
   "cell_type": "markdown",
   "metadata": {},
   "source": [
    "- 别人的"
   ]
  },
  {
   "cell_type": "code",
   "execution_count": 1,
   "metadata": {},
   "outputs": [],
   "source": [
    "right = sum(nums)\n",
    "left = 0\n",
    "for i in range(len(sums)):\n",
    "    num = nums[i]\n",
    "    right = right - num\n",
    "    if left = right:\n",
    "        return i\n",
    "    else:\n",
    "        left = left + num\n",
    "return -1"
   ]
  },
  {
   "cell_type": "code",
   "execution_count": null,
   "metadata": {},
   "outputs": [],
   "source": [
    "s = sum(nums)\n",
    "left = 0\n",
    "for i,num in enumerate(nums):\n",
    "    if left * 2 + num == s:\n",
    "        return i\n",
    "    left += num\n",
    "return -1"
   ]
  },
  {
   "cell_type": "markdown",
   "metadata": {},
   "source": [
    "### 至少是其他数字两倍的最大数\n",
    "\n",
    "<img src=\"https://i.loli.net/2019/07/19/5d31c2e10227269188.png\" alt=\"微信截图_20190719091647.png\" title=\"微信截图_20190719091647.png\" />\n",
    "<img src=\"https://i.loli.net/2019/07/19/5d31c2e0b808766449.png\" alt=\"微信截图_20190719091655.png\" title=\"微信截图_20190719091655.png\" />"
   ]
  },
  {
   "cell_type": "markdown",
   "metadata": {},
   "source": [
    "这道题的关键还是在与指针和比较。首先初始化第一大的数，第二大的数，和第一大的数的索引。然后在遍历中进行比较和赋值操作，还要巧用python里的enumerate函数。这样一次遍历下来就能找到第一大的数，第二大的数，和第一大的数的索引。最后再用if判断一下就好了。"
   ]
  },
  {
   "cell_type": "markdown",
   "metadata": {},
   "source": [
    "- 我的"
   ]
  },
  {
   "cell_type": "code",
   "execution_count": null,
   "metadata": {},
   "outputs": [],
   "source": [
    "class Solution(object):\n",
    "    def dominantIndex(self, nums):\n",
    "        \"\"\"\n",
    "        :type nums: List[int]\n",
    "        :rtype: int\n",
    "        \"\"\"\n",
    "        if len(nums) == 1:\n",
    "            return 0\n",
    "        array = sorted(nums)\n",
    "        if array[-2] == 0:\n",
    "            num = array[-1] + 1      \n",
    "        else: num = array[-1]/array[-2]\n",
    "        if num >= 2:\n",
    "            return nums.index(array[-1])\n",
    "        return -1"
   ]
  },
  {
   "cell_type": "markdown",
   "metadata": {},
   "source": [
    "- 别人的"
   ]
  },
  {
   "cell_type": "code",
   "execution_count": 12,
   "metadata": {},
   "outputs": [],
   "source": [
    "class Solution(object):\n",
    "    def dominantIndex(self, nums):\n",
    "        \"\"\"\n",
    "        :type nums: List[int]\n",
    "        :rtype: int\n",
    "        \"\"\"\n",
    "        if len(nums) == 1:\n",
    "            return 0\n",
    "        first_max = 0\n",
    "        second_max = 0\n",
    "        max_index = -1\n",
    "        for i,num in enumerate(nums):\n",
    "            if num > first_max:\n",
    "                second_max = first_max\n",
    "                first_max = num\n",
    "                max_index = i\n",
    "            elif num < first_max and num > second_max:\n",
    "                second_max = num\n",
    "        if first_max >= second_max * 2:\n",
    "            return max_index\n",
    "        return -1      "
   ]
  },
  {
   "cell_type": "markdown",
   "metadata": {},
   "source": [
    "![微信截图_20190719103031.png](https://i.loli.net/2019/07/19/5d31d41d4bda097851.png)"
   ]
  },
  {
   "cell_type": "markdown",
   "metadata": {},
   "source": [
    "首先对于一般情况，直接可以利用索引赋值去改变数组相应位置的值。还有就是要考虑9进10的情况要把数字改成0，最后就是要考虑9,99这类情况，需要在列表前面插入一位数。"
   ]
  },
  {
   "cell_type": "markdown",
   "metadata": {},
   "source": [
    "- 我的"
   ]
  },
  {
   "cell_type": "code",
   "execution_count": 32,
   "metadata": {},
   "outputs": [],
   "source": [
    "class Solution(object):\n",
    "    def plusOne(self, digits):\n",
    "        \"\"\"\n",
    "        :type digits: List[int]\n",
    "        :rtype: List[int]\n",
    "        \"\"\"\n",
    "        length = len(digits)\n",
    "        num = 0\n",
    "        nums = []\n",
    "        for i in range(length):\n",
    "            num += digits[i] * (10 ** (length - i -1))\n",
    "            \n",
    "        for x in str(num+1):\n",
    "            nums.append(int(x))\n",
    "            \n",
    "        return nums"
   ]
  },
  {
   "cell_type": "markdown",
   "metadata": {},
   "source": [
    "- 别人的"
   ]
  },
  {
   "cell_type": "code",
   "execution_count": 31,
   "metadata": {
    "scrolled": false
   },
   "outputs": [],
   "source": [
    "class Solution(object):\n",
    "    def plusOne(self, digits):\n",
    "        \"\"\"\n",
    "        :type digits: List[int]\n",
    "        :rtype: List[int]\n",
    "        \"\"\"\n",
    "        length = len(digits)\n",
    "        for i in range(length-1,-1,-1):\n",
    "            digits[i] += 1\n",
    "            if digits[i] == 10:\n",
    "                digits[i] = 0\n",
    "                if i == 0:\n",
    "                    digits.insert(0,1)\n",
    "                    return digits\n",
    "            else:\n",
    "                return digits    "
   ]
  },
  {
   "cell_type": "code",
   "execution_count": 3,
   "metadata": {},
   "outputs": [],
   "source": [
    "class Solution(object):\n",
    "    def plusOne(self, digits):\n",
    "        \"\"\"\n",
    "        :type digits: List[int]\n",
    "        :rtype: List[int]\n",
    "        \"\"\"\n",
    "        for i in range(len(digits)-1,-1,-1):\n",
    "            digits[i] = (digits[i] + 1)%10\n",
    "            if digits[i] != 10:\n",
    "                return digits\n",
    "        return [1] + digits    "
   ]
  }
 ],
 "metadata": {
  "kernelspec": {
   "display_name": "Python 3",
   "language": "python",
   "name": "python3"
  },
  "language_info": {
   "codemirror_mode": {
    "name": "ipython",
    "version": 3
   },
   "file_extension": ".py",
   "mimetype": "text/x-python",
   "name": "python",
   "nbconvert_exporter": "python",
   "pygments_lexer": "ipython3",
   "version": "3.7.1"
  }
 },
 "nbformat": 4,
 "nbformat_minor": 2
}
