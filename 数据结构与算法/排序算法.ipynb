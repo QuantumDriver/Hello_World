{
 "cells": [
  {
   "cell_type": "markdown",
   "metadata": {},
   "source": [
    "### 冒泡排序"
   ]
  },
  {
   "cell_type": "markdown",
   "metadata": {},
   "source": [
    "bubble sort 可以说是最简单的一种排序算法了，它的思想如下。对一个数组进行 n-1 轮迭代，每次比较相邻两个元素， 如果相邻的元素前者大于后者，就交换它们。因为直接在元素上操作而不是返回新的数组，所以是一个 inplace 的操作。 这里冒泡的意思其实就是每一轮冒泡一个最大的元素就会通过不断比较和交换相邻元素使它转移到最右边。"
   ]
  },
  {
   "cell_type": "code",
   "execution_count": 1,
   "metadata": {},
   "outputs": [],
   "source": [
    "import random\n",
    "\n",
    "def bubble_sort(seq):  # O(n^2), n(n-1)/2 = 1/2(n^2 + n)\n",
    "    n = len(seq)\n",
    "    for i in range(n-1):\n",
    "        print(seq)    # 我打印出来让你看清楚每一轮最高、次高、次次高...的小朋友会冒泡到右边\n",
    "        for j in range(n-1-i):  # 这里之所以 n-1 还需要 减去 i 是因为每一轮冒泡最大的元素都会冒泡到最后，无需再比较\n",
    "            if seq[j] > seq[j+1]:\n",
    "                seq[j], seq[j+1] = seq[j+1], seq[j]\n",
    "    print(seq)\n",
    "\n",
    "def test_bubble_sort():\n",
    "    seq = list(range(10))  # 注意 python3 返回迭代器，所以我都用 list 强转了，python2 range 返回的就是 list\n",
    "    random.shuffle(seq)   # shuffle inplace 操作，打乱数组\n",
    "    bubble_sort(seq)"
   ]
  },
  {
   "cell_type": "code",
   "execution_count": 2,
   "metadata": {},
   "outputs": [
    {
     "name": "stdout",
     "output_type": "stream",
     "text": [
      "[5, 8, 9, 1, 7, 4, 6, 3, 0, 2]\n",
      "[5, 8, 1, 7, 4, 6, 3, 0, 2, 9]\n",
      "[5, 1, 7, 4, 6, 3, 0, 2, 8, 9]\n",
      "[1, 5, 4, 6, 3, 0, 2, 7, 8, 9]\n",
      "[1, 4, 5, 3, 0, 2, 6, 7, 8, 9]\n",
      "[1, 4, 3, 0, 2, 5, 6, 7, 8, 9]\n",
      "[1, 3, 0, 2, 4, 5, 6, 7, 8, 9]\n",
      "[1, 0, 2, 3, 4, 5, 6, 7, 8, 9]\n",
      "[0, 1, 2, 3, 4, 5, 6, 7, 8, 9]\n",
      "[0, 1, 2, 3, 4, 5, 6, 7, 8, 9]\n"
     ]
    }
   ],
   "source": [
    "test_bubble_sort()"
   ]
  },
  {
   "cell_type": "markdown",
   "metadata": {},
   "source": [
    "### 选择排序"
   ]
  },
  {
   "cell_type": "markdown",
   "metadata": {},
   "source": [
    "刚才看到冒泡是每轮迭代中，如果相邻的两个元素前者大于后者了就交换两个相邻元素(假设正序排序)。其实还有一种思路就是， 每次我们找到最小的元素插入迭代的起始位置，这样每个位置从它自己的位置开始它就是最小的了，一圈下来数组就有序了。 选择可以理解为 一个 0 到 n-1 的迭代，每次向后查找选择一个最小的元素。"
   ]
  },
  {
   "cell_type": "code",
   "execution_count": 7,
   "metadata": {},
   "outputs": [],
   "source": [
    "def select_sort(seq):\n",
    "    n = len(seq)\n",
    "    for i in range(n-1):\n",
    "        print(seq)\n",
    "        min_idx = i    # 我们假设当前下标的元素是最小的\n",
    "        for j in range(i+1, n):    # 从 i 的后边开始找到最小的元素，得到它的下标\n",
    "            if seq[j] < seq[min_idx]:\n",
    "                min_idx = j    # 一个 j 循环下来之后就找到了最小的元素它的下标\n",
    "        if min_idx != i:    # swap\n",
    "            seq[i], seq[min_idx] = seq[min_idx], seq[i]\n",
    "    print(seq)\n",
    "\n",
    "\n",
    "def test_select_sort():\n",
    "    seq = list(range(10))\n",
    "    random.shuffle(seq)\n",
    "    select_sort(seq)\n",
    "    assert seq == sorted(seq)"
   ]
  },
  {
   "cell_type": "code",
   "execution_count": 8,
   "metadata": {},
   "outputs": [
    {
     "name": "stdout",
     "output_type": "stream",
     "text": [
      "[9, 1, 5, 4, 2, 7, 3, 8, 6, 0]\n",
      "[0, 1, 5, 4, 2, 7, 3, 8, 6, 9]\n",
      "[0, 1, 5, 4, 2, 7, 3, 8, 6, 9]\n",
      "[0, 1, 2, 4, 5, 7, 3, 8, 6, 9]\n",
      "[0, 1, 2, 3, 5, 7, 4, 8, 6, 9]\n",
      "[0, 1, 2, 3, 4, 7, 5, 8, 6, 9]\n",
      "[0, 1, 2, 3, 4, 5, 7, 8, 6, 9]\n",
      "[0, 1, 2, 3, 4, 5, 6, 8, 7, 9]\n",
      "[0, 1, 2, 3, 4, 5, 6, 7, 8, 9]\n",
      "[0, 1, 2, 3, 4, 5, 6, 7, 8, 9]\n"
     ]
    }
   ],
   "source": [
    "test_select_sort()"
   ]
  },
  {
   "cell_type": "markdown",
   "metadata": {},
   "source": [
    "### 插入排序"
   ]
  },
  {
   "cell_type": "markdown",
   "metadata": {},
   "source": [
    "插入排序很多教科书都是用扑克牌的例子讲的，想象你手里有一些扑克牌，它们顺序是散乱的，现在需要你把它们整理成有序的，你会怎么做呢？ 首先拿最顶上的一张，然后拿第二张，第二张点数大，你就把第二张放在第一张的下边，否则放在第一张上边。 当你拿第三张的时候，你同样会找到适合它大小的位置插入进去。\n",
    "\n"
   ]
  },
  {
   "cell_type": "code",
   "execution_count": 11,
   "metadata": {},
   "outputs": [],
   "source": [
    "def insertion_sort(seq):\n",
    "    \"\"\" 每次挑选下一个元素插入已经排序的数组中,初始时已排序数组只有一个元素\"\"\"\n",
    "    n = len(seq)\n",
    "    print(seq)\n",
    "    for i in range(1, n):\n",
    "        value = seq[i]    # 保存当前位置的值，因为转移的过程中它的位置可能被覆盖\n",
    "        # 找到这个值的合适位置，使得前边的数组有序 [0,i] 有序\n",
    "        pos = i\n",
    "        while pos > 0 and value < seq[pos-1]:\n",
    "            seq[pos] = seq[pos-1]  # 如果前边的元素比它大，就让它一直前移\n",
    "            pos -= 1\n",
    "        seq[pos] = value    # 找到了合适的位置赋值就好\n",
    "        print(seq)\n",
    "\n",
    "def test_insertion_sort():\n",
    "    seq = list(range(10))\n",
    "    random.shuffle(seq)\n",
    "    insertion_sort(seq)\n",
    "    assert seq == sorted(seq)"
   ]
  },
  {
   "cell_type": "code",
   "execution_count": 13,
   "metadata": {},
   "outputs": [
    {
     "name": "stdout",
     "output_type": "stream",
     "text": [
      "[1, 7, 4, 9, 8, 6, 0, 3, 2, 5]\n",
      "[1, 7, 4, 9, 8, 6, 0, 3, 2, 5]\n",
      "[1, 4, 7, 9, 8, 6, 0, 3, 2, 5]\n",
      "[1, 4, 7, 9, 8, 6, 0, 3, 2, 5]\n",
      "[1, 4, 7, 8, 9, 6, 0, 3, 2, 5]\n",
      "[1, 4, 6, 7, 8, 9, 0, 3, 2, 5]\n",
      "[0, 1, 4, 6, 7, 8, 9, 3, 2, 5]\n",
      "[0, 1, 3, 4, 6, 7, 8, 9, 2, 5]\n",
      "[0, 1, 2, 3, 4, 6, 7, 8, 9, 5]\n",
      "[0, 1, 2, 3, 4, 5, 6, 7, 8, 9]\n"
     ]
    }
   ],
   "source": [
    "test_insertion_sort()"
   ]
  },
  {
   "cell_type": "markdown",
   "metadata": {},
   "source": [
    "### 堆排序"
   ]
  },
  {
   "cell_type": "markdown",
   "metadata": {},
   "source": [
    "- 根比叶小最小堆，根比叶大最大堆\n",
    "- 堆排序的基础操作是add()和extract()\n",
    "- [参考代码](https://pegasuswang.github.io/python_data_structures_and_algorithms/15_堆与堆排序/heap_and_heapsort/)"
   ]
  },
  {
   "cell_type": "markdown",
   "metadata": {},
   "source": [
    "![微信截图_20190918173927.png](https://i.loli.net/2019/09/19/cKyRzDMfltLavGW.png)\n",
    "![微信截图_20190918173909.png](https://i.loli.net/2019/09/19/58jPn2vFx4Etgb6.png)\n"
   ]
  },
  {
   "cell_type": "markdown",
   "metadata": {},
   "source": [
    "### 归并排序"
   ]
  },
  {
   "cell_type": "markdown",
   "metadata": {},
   "source": [
    "- 归并排序的基础是分治法！\n",
    "- 分开的时候和递归一样，不过合并的时候可以用双指针法"
   ]
  },
  {
   "cell_type": "code",
   "execution_count": 14,
   "metadata": {},
   "outputs": [],
   "source": [
    "# 分开\n",
    "def merge_sort(seq):\n",
    "    if len(seq) <= 1:   # 只有一个元素是递归出口\n",
    "        return seq\n",
    "    else:\n",
    "        mid = int(len(seq)/2)\n",
    "        left_half = merge_sort(seq[:mid])\n",
    "        right_half = merge_sort(seq[mid:])\n",
    "\n",
    "        # 合并两个有序的数组\n",
    "        new_seq = merge_sorted_list(left_half, right_half)\n",
    "        return new_seq\n",
    "\n",
    "# 合并\n",
    "def merge_sorted_list(sorted_a, sorted_b):\n",
    "    length_a, length_b = len(sorted_a), len(sorted_b)\n",
    "    a = b = 0\n",
    "    new_sorted_seq = list()\n",
    "\n",
    "    while a < length_a and b < length_b:\n",
    "        if sorted_a[a] < sorted_b[b]:\n",
    "            new_sorted_seq.append(sorted_a[a])\n",
    "            a += 1\n",
    "        else:\n",
    "            new_sorted_seq.append(sorted_b[b])\n",
    "            b += 1\n",
    "\n",
    "    # 最后别忘记把多余的都放到有序数组里\n",
    "    if a < length_a:\n",
    "        new_sorted_seq.extend(sorted_a[a:])\n",
    "    else:\n",
    "        new_sorted_seq.extend(sorted_b[b:])\n",
    "\n",
    "    return new_sorted_seq"
   ]
  },
  {
   "cell_type": "markdown",
   "metadata": {},
   "source": [
    "### 快速排序"
   ]
  },
  {
   "cell_type": "markdown",
   "metadata": {},
   "source": [
    "快速排序是一种“分治法”。它将原本的问题分成两个子问题（比基准值小的数和\n",
    "比基准值大的数），然后再分别解决这两个问题。子问题，也就是子序列完成排序后，再\n",
    "像一开始说明的那样，把他们合并成一个序列，那么对原始序列的排序也就完成了。"
   ]
  },
  {
   "cell_type": "code",
   "execution_count": 17,
   "metadata": {},
   "outputs": [],
   "source": [
    "def quicksort(array):\n",
    "    size = len(array)\n",
    "    if not array or size < 2:  # NOTE: 递归出口，空数组或者只有一个元素的数组都是有序的\n",
    "        return array\n",
    "    pivot_idx = 0\n",
    "    pivot = array[pivot_idx]\n",
    "    # partition的过程是关键，把左右分别分成大于pivot和小于pivot的部分\n",
    "    less_part = [array[i] for i in range(size) if array[i] <= pivot and pivot_idx != i]\n",
    "    great_part = [array[i] for i in range(size) if array[i] > pivot and pivot_idx != i]\n",
    "    return quicksort(less_part) + [pivot] + quicksort(great_part)\n",
    "\n",
    "def test_quicksort():\n",
    "    import random\n",
    "    seq = list(range(10))\n",
    "    random.shuffle(seq)\n",
    "    assert quicksort(seq) == sorted(seq)"
   ]
  }
 ],
 "metadata": {
  "kernelspec": {
   "display_name": "Python 3",
   "language": "python",
   "name": "python3"
  },
  "language_info": {
   "codemirror_mode": {
    "name": "ipython",
    "version": 3
   },
   "file_extension": ".py",
   "mimetype": "text/x-python",
   "name": "python",
   "nbconvert_exporter": "python",
   "pygments_lexer": "ipython3",
   "version": "3.7.1"
  },
  "toc": {
   "base_numbering": 1,
   "nav_menu": {},
   "number_sections": true,
   "sideBar": false,
   "skip_h1_title": false,
   "title_cell": "Table of Contents",
   "title_sidebar": "Contents",
   "toc_cell": false,
   "toc_position": {},
   "toc_section_display": true,
   "toc_window_display": false
  }
 },
 "nbformat": 4,
 "nbformat_minor": 2
}
