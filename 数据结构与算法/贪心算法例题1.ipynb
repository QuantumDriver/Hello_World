{
 "cells": [
  {
   "cell_type": "markdown",
   "metadata": {},
   "source": [
    "### 划分字母区间"
   ]
  },
  {
   "cell_type": "markdown",
   "metadata": {},
   "source": [
    "![微信截图_20190928154329.png](https://i.loli.net/2019/09/29/qCcfB5GxzPsZI2S.png)"
   ]
  },
  {
   "cell_type": "markdown",
   "metadata": {},
   "source": [
    "- 从第一个字符开始遍历，每获取一个字符就寻找该字符下一次出现的位置索引，并将其定为当前片段的最后位置，在达到该位置之前，继续寻找更靠后的最后位置，若达到最后位置之前都没有发现更靠后的最后位置，则将当前最后位置作为一个片段的末尾。\n",
    "- 初始化第一个字符的位置cur=dic\\[s[0]]，遍历已存好字母对应最后位置的字典，字母位置大于初始位置则进行赋值给cur，当cur等于位置索引i时，说明片段区间已经锁定。输出长度即可\n",
    "- 注意，前个片段的末尾后一位是该片段的开头。i+1-上个片段的长度。\n",
    "- 实际上是贪心算法思想的一次运用，在每一步中得到截止目前为止的局部最优解，后一个最优解总是比前一个最优解“更优”，由此推进到结束时，便可得到全局最优解。"
   ]
  },
  {
   "cell_type": "code",
   "execution_count": null,
   "metadata": {},
   "outputs": [],
   "source": [
    "class Solution(object):\n",
    "    def partitionLabels(self, S):\n",
    "\n",
    "        dic = {k:v for v,k in enumerate(S)}\n",
    "        res, cur = [], dic[S[0]]\n",
    "        for i,n in enumerate(S):\n",
    "            if cur < dic[n]:\n",
    "                cur = dic[n]\n",
    "            if cur == i:\n",
    "                res.append(i+1-sum(res))\n",
    "        return res"
   ]
  },
  {
   "cell_type": "markdown",
   "metadata": {},
   "source": [
    "### 买卖股票的最佳时机2"
   ]
  },
  {
   "cell_type": "markdown",
   "metadata": {},
   "source": [
    "![微信截图_20190928155607.png](https://i.loli.net/2019/09/29/6WQxkF2ygu5I7Ma.png)\n",
    "![微信截图_20190928155620.png](https://i.loli.net/2019/09/29/SIKJOwcU2mqtfYo.png)"
   ]
  },
  {
   "cell_type": "markdown",
   "metadata": {},
   "source": [
    "- 第一次接触感觉好像很难，看了题解发现其实很容易！\n",
    "- 所有上涨部分都可以看做是利润，所有下降部分都可以看成是亏损，拿下所有利润，避开所有亏损即可！"
   ]
  },
  {
   "cell_type": "code",
   "execution_count": null,
   "metadata": {},
   "outputs": [],
   "source": [
    "class Solution:\n",
    "    def maxProfit(self, prices: List[int]) -> int:\n",
    "        profit = 0\n",
    "        for i in range(1,len(prices)):\n",
    "            temp = prices[i] - prices[i-1] \n",
    "            if temp > 0:\n",
    "                profit += temp\n",
    "        return profit\n",
    "      # return sum([b-a for a,b in zip(prices,prices[1:]) if b>a])"
   ]
  },
  {
   "cell_type": "markdown",
   "metadata": {},
   "source": [
    "### 分发饼干<br>\n",
    "![微信截图_20190929144704.png](https://i.loli.net/2019/09/30/qwVzjWlgdiLnUhS.png)\n",
    "![微信截图_20190929144717.png](https://i.loli.net/2019/09/30/bfPTX6MvFw4u2Nd.png)\n"
   ]
  },
  {
   "cell_type": "markdown",
   "metadata": {},
   "source": [
    "- 自己写的。思想是贪心算法的思想，每次只考虑当前最优，技法用的是双指针法。"
   ]
  },
  {
   "cell_type": "code",
   "execution_count": 8,
   "metadata": {},
   "outputs": [],
   "source": [
    "class Solution(object):\n",
    "    def findContentChildren(self, g, s):\n",
    "        \"\"\"\n",
    "        :type g: List[int]\n",
    "        :type s: List[int]\n",
    "        :rtype: int\n",
    "        \"\"\"\n",
    "        if not g or not s: return 0\n",
    "        i = j = res = 0\n",
    "        g.sort()\n",
    "        s.sort()\n",
    "        while i < len(g) and j < len(s):\n",
    "            if s[j] >= g[i]:\n",
    "                res += 1\n",
    "                i += 1\n",
    "                j += 1\n",
    "            else:\n",
    "                j += 1\n",
    "        return res"
   ]
  },
  {
   "cell_type": "markdown",
   "metadata": {},
   "source": [
    "### 删列造序<br>\n",
    "![微信截图_20190929153113.png](https://i.loli.net/2019/09/30/cWhBRSa9yMYAeH6.png)\n",
    "![微信截图_20190929153132.png](https://i.loli.net/2019/09/30/OlmfEJKucbzDNSH.png)"
   ]
  },
  {
   "cell_type": "markdown",
   "metadata": {},
   "source": [
    "- 题意是若该列不符合升序(非降序)则需要删除，列数+1，最后输出总列数\n",
    "- 代码中\\*A是列表拆包，zip是对拆包后的多个列表进行组合\n",
    "- any语法中需要输入含条件的迭代形式，若迭代中有一次满足条件则返回True"
   ]
  },
  {
   "cell_type": "code",
   "execution_count": null,
   "metadata": {},
   "outputs": [],
   "source": [
    "class Solution(object):\n",
    "    def minDeletionSize(self, A):\n",
    "        \"\"\"\n",
    "        :type A: List[str]\n",
    "        :rtype: int\n",
    "        \"\"\"\n",
    "        ans = 0\n",
    "        for col in zip(*A):\n",
    "            if any([col[i] < col[i-1] for i in range(1,len(col))]):\n",
    "                ans += 1\n",
    "        return ans"
   ]
  }
 ],
 "metadata": {
  "kernelspec": {
   "display_name": "Python 3",
   "language": "python",
   "name": "python3"
  },
  "language_info": {
   "codemirror_mode": {
    "name": "ipython",
    "version": 3
   },
   "file_extension": ".py",
   "mimetype": "text/x-python",
   "name": "python",
   "nbconvert_exporter": "python",
   "pygments_lexer": "ipython3",
   "version": "3.7.1"
  },
  "toc": {
   "base_numbering": 1,
   "nav_menu": {},
   "number_sections": true,
   "sideBar": false,
   "skip_h1_title": false,
   "title_cell": "Table of Contents",
   "title_sidebar": "Contents",
   "toc_cell": false,
   "toc_position": {},
   "toc_section_display": true,
   "toc_window_display": false
  }
 },
 "nbformat": 4,
 "nbformat_minor": 2
}
