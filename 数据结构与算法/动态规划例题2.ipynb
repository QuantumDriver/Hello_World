{
 "cells": [
  {
   "cell_type": "markdown",
   "metadata": {},
   "source": [
    "### 不同路径<br>\n",
    "![微信截图_20191007195853.png](https://i.loli.net/2019/10/08/O2xylGmpJMbCTXt.png)\n",
    "![微信截图_20191007195908.png](https://i.loli.net/2019/10/08/M6gTlXZqdmnEVQ2.png)\n"
   ]
  },
  {
   "cell_type": "markdown",
   "metadata": {},
   "source": [
    "$dp[i][j] = dp[i-1][j] + dp[i][j-1]$if:  i > 0 and j > 0\n",
    "\n",
    "$dp[i][j] = dp[i-1][j]$ if j = 0\n",
    "\n",
    "$dp[i][j] = dp[i][j-1]$ if i = 0"
   ]
  },
  {
   "cell_type": "markdown",
   "metadata": {},
   "source": [
    "自己写的，通过了，贼他妈开心！dp网格法，走到终点的路径可以拆分成走到邻居的路径之和。规则是任何一个点都可以拆分成从左边到或者是从下边到，不能反过来。当处于最边缘时x=0 or y=0，最佳路径只有一条(base情况)。"
   ]
  },
  {
   "cell_type": "code",
   "execution_count": 1,
   "metadata": {},
   "outputs": [],
   "source": [
    "class Solution(object):\n",
    "    def uniquePaths(self, m, n):\n",
    "        dp = [[0]*m for _ in range(n)]\n",
    "        for y in range(n):\n",
    "            for x in range(m):\n",
    "                if x > 0 and y > 0:\n",
    "                    dp[y][x] = dp[y][x-1] + dp[y-1][x]\n",
    "                elif x == 0:\n",
    "                    dp[y][x] = 1\n",
    "                elif y == 0:\n",
    "                    dp[y][x] = 1\n",
    "        return dp[n-1][m-1]"
   ]
  },
  {
   "cell_type": "markdown",
   "metadata": {},
   "source": [
    "- 我们可以发现更新每一个值的时候，除了x=0和y=0那一行一列，其余值都依赖于前一个值和前一行对应下标的值\n",
    "- 据此我们可以优化一下空间复杂度\n",
    "- 每到新的一行，就等于前一行+前一个"
   ]
  },
  {
   "cell_type": "code",
   "execution_count": 2,
   "metadata": {},
   "outputs": [],
   "source": [
    "class Solution:\n",
    "    def uniquePaths(self, m: int, n: int) -> int:\n",
    "        cur = [1] * n\n",
    "        for i in range(1, m):\n",
    "            for j in range(1, n):\n",
    "                cur[j] += cur[j-1]\n",
    "        return cur[-1]"
   ]
  },
  {
   "cell_type": "markdown",
   "metadata": {},
   "source": [
    "### 零钱兑换<br>\n",
    "![微信截图_20191007203227.png](https://i.loli.net/2019/10/08/csMprwn6oaNXADS.png)"
   ]
  },
  {
   "cell_type": "markdown",
   "metadata": {},
   "source": [
    "![微信截图_20191007212512.png](https://i.loli.net/2019/10/08/PHpIJmQKSeMGoch.png)"
   ]
  },
  {
   "cell_type": "markdown",
   "metadata": {},
   "source": [
    "主要思想和上图差不多，关键是要把公式列出来！每个当前数额的找零数值等于，当前数额分别减去coins中每一个coin得到的f(i-c)的最小值加1。边界条件注意一下，i-c要大于等于0，f(i-c)也要大于等于0。若找不开零钱则返回-1."
   ]
  },
  {
   "cell_type": "code",
   "execution_count": 15,
   "metadata": {},
   "outputs": [],
   "source": [
    "class Solution(object):\n",
    "    def coinChange(self, coins, amount):\n",
    "        ans = [0] * (amount+1)\n",
    "        i = 1\n",
    "        while i <= amount:\n",
    "            temp = [ans[i-c] for c in coins if i>=c and ans[i-c]>=0]\n",
    "            ans[i] = min(temp)+1 if temp else -1\n",
    "            i += 1\n",
    "        return ans[-1]  "
   ]
  },
  {
   "cell_type": "markdown",
   "metadata": {},
   "source": [
    "### 最长上升子序列<br>"
   ]
  },
  {
   "cell_type": "markdown",
   "metadata": {},
   "source": [
    "![微信截图_20191008180943.png](https://i.loli.net/2019/10/09/lwOn6qmAr2VxKiM.png)"
   ]
  },
  {
   "cell_type": "markdown",
   "metadata": {},
   "source": [
    "- 自己的做法，dp\\[i]=max(dp[j])+1 when nums[j] < nums[i]"
   ]
  },
  {
   "cell_type": "code",
   "execution_count": 19,
   "metadata": {},
   "outputs": [],
   "source": [
    "class Solution(object):\n",
    "    def lengthOfLIS(self, nums):\n",
    "        if not nums: return 0\n",
    "        n = len(nums)\n",
    "        dp = [1] * n\n",
    "        for i in range(1,n):\n",
    "            temp = []\n",
    "            for j in range(i-1,-1,-1):\n",
    "                if nums[j] < nums[i]:\n",
    "                    temp.append(dp[j])\n",
    "            dp[i] = max(temp) + 1 if temp else 1\n",
    "        return max(dp)\n",
    "#       简化写法，更为优雅\n",
    "#         for i in range(1,n):\n",
    "#             dp[i] = max([1] + [dp[j]+1 for j in range(i) if nums[j]<nums[i]])\n",
    "#         return max(dp)"
   ]
  },
  {
   "cell_type": "markdown",
   "metadata": {},
   "source": [
    "维护一个递增的子序列，遍历数组，将每一个n的值通过二分比较的方式放入合适的地方。最开始递增子序列不存在任何值，则把n放入子序列最后一位。用i,j标记左右两侧，res记录当前子序列的长度。对于以后的每一个n，若n的值很大，大到超过了子序列的最后一个值，显然二分法会使得i不停地变成m+1，最后不满足i<j的条件，然后把这个n的值放入递增子序列的最后一位。若n的值很小，则二分法会调整i和j的值，使得n出现在合适的位置。例如\\[1,3,4]碰到了2，则会变成\\[1,2,4]。\n",
    "\n",
    "总结一下就是，小值在数组内原地调整替代，大值则往外前进一步，res时刻记录好长度。"
   ]
  },
  {
   "cell_type": "code",
   "execution_count": 25,
   "metadata": {},
   "outputs": [],
   "source": [
    "class Solution(object):\n",
    "    def lengthOfLIS(self, nums):\n",
    "        tails, res = [0] * len(nums), 0\n",
    "        for n in nums:\n",
    "            i, j = 0, res\n",
    "            while i < j:\n",
    "                m = (i+j)//2\n",
    "                if tails[m] < n: i = m + 1\n",
    "                else: j = m\n",
    "            tails[i] = n\n",
    "            if j == res:\n",
    "                res += 1\n",
    "        return res"
   ]
  },
  {
   "cell_type": "markdown",
   "metadata": {},
   "source": [
    "### 戳气球<br>\n",
    "![微信截图_20191009113442.png](https://i.loli.net/2019/10/09/jIzQCfhGE9mMteu.png)"
   ]
  },
  {
   "cell_type": "markdown",
   "metadata": {},
   "source": [
    "- dp[i][j] 表示戳破(i,j)号气球的最大金币数量,\n",
    "- 对i,j,k有: i<k<j, k代表被戳的某个气球\n",
    "- dp[2][5]表示戳破(2,5)间气球的最大收益,k可取3or4,对比先戳3的和先戳4的收益\n",
    "- dp[i][j] = max {for k = range(i+1, j -1) nums[i] * nums[k] * nums[j] + dp[i][k] + dp[k][j]}"
   ]
  },
  {
   "cell_type": "markdown",
   "metadata": {},
   "source": [
    "![微信截图_20191009134714.png](https://i.loli.net/2019/10/10/kOzs6QBfT8YZtSj.png)"
   ]
  },
  {
   "cell_type": "code",
   "execution_count": null,
   "metadata": {},
   "outputs": [],
   "source": [
    "class Solution:\n",
    "    def maxCoins(self, nums: List[int]) -> int:\n",
    "        \n",
    "        nums = [1] + nums + [1]          # 添加左右二乘子\n",
    "        n = len(nums)\n",
    "        dp = [[0]*n for _ in range(n)]   # 创建dp二维数组方便后续计算\n",
    "        \n",
    "        for i in range(n-1,-1,-1):       # 从后往前遍历i:5->4->3->...\n",
    "            for j in range(i+2,n):       # j须满足j>=i+2,这样才有k的空间\n",
    "                for k in range(i+1,j):   # k满足:dp[2][4],k=3或dp[2][5],k=3or4\n",
    "                    dp[i][j] = max(dp[i][j], nums[i]*nums[k]*nums[j]+dp[i][k]+dp[k][j])\n",
    "        \n",
    "        return dp[0][n-1]"
   ]
  },
  {
   "cell_type": "markdown",
   "metadata": {},
   "source": [
    "### 乘积最大子序列<br>\n",
    "![微信截图_20191009150822.png](https://i.loli.net/2019/10/10/rkKifus5RlBHcP1.png)"
   ]
  },
  {
   "cell_type": "markdown",
   "metadata": {},
   "source": [
    "根据题意很容易想出状态方程，dp[i] = max(dp\\[i-1]*nums[i],nums[i])。但需要注意nums[i]等于负数时，需要把累成值存在cur_min下，因为如果第二次出现负数，其累乘将会成为最大值。为了避免额外空间，用res来更新当前最大值。另外cur_max记录当前最大值，当出现负数时，cur_max和cur_min交替即可。"
   ]
  },
  {
   "cell_type": "code",
   "execution_count": 10,
   "metadata": {},
   "outputs": [],
   "source": [
    "class Solution(object):\n",
    "    def maxProduct(self, nums):\n",
    "        n = len(nums)\n",
    "        if not n: return 0\n",
    "        cur_max = cur_min = res = nums[0]\n",
    "        for i in range(1,n):\n",
    "            if nums[i] < 0:\n",
    "                cur_max, cur_min = cur_min, cur_max\n",
    "            cur_max = max(cur_max*nums[i],nums[i])\n",
    "            cur_min = min(cur_min*nums[i],nums[i])\n",
    "            res = max(cur_max,res)\n",
    "        return res"
   ]
  }
 ],
 "metadata": {
  "kernelspec": {
   "display_name": "Python 3",
   "language": "python",
   "name": "python3"
  },
  "language_info": {
   "codemirror_mode": {
    "name": "ipython",
    "version": 3
   },
   "file_extension": ".py",
   "mimetype": "text/x-python",
   "name": "python",
   "nbconvert_exporter": "python",
   "pygments_lexer": "ipython3",
   "version": "3.7.1"
  },
  "toc": {
   "base_numbering": 1,
   "nav_menu": {},
   "number_sections": true,
   "sideBar": false,
   "skip_h1_title": false,
   "title_cell": "Table of Contents",
   "title_sidebar": "Contents",
   "toc_cell": false,
   "toc_position": {},
   "toc_section_display": true,
   "toc_window_display": false
  }
 },
 "nbformat": 4,
 "nbformat_minor": 2
}
