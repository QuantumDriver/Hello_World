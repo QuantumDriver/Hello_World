{
 "cells": [
  {
   "cell_type": "markdown",
   "metadata": {},
   "source": [
    "### 图的实现<br>\n",
    "- 以有向图为例："
   ]
  },
  {
   "cell_type": "code",
   "execution_count": 48,
   "metadata": {},
   "outputs": [],
   "source": [
    "class Node:\n",
    "    \n",
    "    def __init__(self,name):\n",
    "        self.name = name \n",
    "    def getName(self):\n",
    "        return self.name\n",
    "    def __str__(self):\n",
    "        return self.name\n",
    "    def __len__(self):\n",
    "        return len(1)\n",
    "\n",
    "class Edge:\n",
    "    \n",
    "    def __init__(self,src,dest):\n",
    "        self.src = src \n",
    "        self.dest = dest\n",
    "    \n",
    "    def getSource(self):\n",
    "        return self.src\n",
    "    \n",
    "    def getDestination(self):\n",
    "        return self.dest\n",
    "    def __str__(self):\n",
    "        return self.src.getName() + '->' + self.dest.getName()\n",
    "\n",
    "class WeightedEdge(Edge):\n",
    "    def __init__(self, src, dest, weight = 1.0):\n",
    "        self.src = src\n",
    "        self.dest = dest\n",
    "        self.weight = weight\n",
    "    def getWeight(self):\n",
    "        return self.weight\n",
    "    def __str__(self):\n",
    "        return self.src.getName() + '->(' + str(self.weight) + ')'+ self.dest.getName()"
   ]
  },
  {
   "cell_type": "markdown",
   "metadata": {},
   "source": [
    "以上是我们定义Graph的具体实现，首先图必定有的两个属性是node和edge，因此我们需要在创建实例的时候就初始化好这两个属性。 其次，我们可以根据需求定义一些方法，如：<br>\n",
    "- 添加node<br><br>\n",
    "- 添加边<br><br>\n",
    "- 与当前node相关联的其它Nodes<br><br>\n",
    "- 判断一个node是否在图中"
   ]
  },
  {
   "cell_type": "code",
   "execution_count": 49,
   "metadata": {},
   "outputs": [],
   "source": [
    "class Digraph:\n",
    "    \n",
    "    def __init__(self):\n",
    "        self.nodes = []\n",
    "        self.edges = {}\n",
    "    def addNode(self,node):\n",
    "        if node in self.nodes:\n",
    "            raise ValueError('Duplicate node!')\n",
    "        else:\n",
    "            self.nodes.append(node)\n",
    "            self.edges[node] = []\n",
    "    def addEdge(self,edge):\n",
    "        src = edge.getSource()\n",
    "        dest = edge.getDestination()\n",
    "        if (src in self.nodes and dest in self.nodes):\n",
    "            self.edges[src].append(dest)\n",
    "        else:\n",
    "            raise ValueError('Node not in graph')\n",
    "    def childrenOf(self,node):\n",
    "        return self.edges[node]\n",
    "    def hasNode(self,node):\n",
    "        return node in self.nodes\n",
    "    def __str__(self):\n",
    "        result = ''\n",
    "        for src in self.nodes:\n",
    "            for dest in self.edges[src]:\n",
    "                result = result + src.getName() + '->'+ dest.getName() + '\\n'\n",
    "        return result[:-1] "
   ]
  },
  {
   "cell_type": "code",
   "execution_count": 50,
   "metadata": {},
   "outputs": [],
   "source": [
    "class Graph(Digraph):\n",
    "    def addEdge(self, edge):\n",
    "        Digraph.addEdge(self, edge)\n",
    "        rev = Edge(edge.getDestination(), edge.getSource())\n",
    "        Digraph.addEdge(self, rev)"
   ]
  },
  {
   "cell_type": "markdown",
   "metadata": {},
   "source": [
    "- 我们通常使用邻接表的数据结构来表示Graph。Digraph类有两个实例变量，变量nodes是一个Python列表，其中的元素是Digraph中节点的名称。节点之间的连接是使用字典形式的邻接表来表示的。变量edges是一个字典，将Digraph中的每个Node对象映射到一个列表，其中元素是Node的子节点。<br><br>\n",
    "\n",
    "- Graph类是Digraph的子类。除覆盖了addEdge方法以外，它继承了Digraph类的所有方法。那么为什么使用Graph作为Digraph的子类，而不是反过来呢？因为无向图的两点互相指向对方，可以看成是有向图的特殊情况。"
   ]
  },
  {
   "cell_type": "markdown",
   "metadata": {},
   "source": [
    "### 图的搜索与遍历<br>\n",
    "- 图的搜索指的就是从图的某一顶点开始，通过边到达不同的顶点，最终找到目标顶点的过程。搜索过程如果是整张图，那么就等于是图的遍历。根据搜索的顺序不同，图的搜索算法可分为“广度优先搜索”和“深度优先搜索”这两种。"
   ]
  },
  {
   "cell_type": "markdown",
   "metadata": {},
   "source": [
    "#### 广度优先搜索 Breadth First Search (BFS)<br>\n",
    "- 从图中某顶点v出发，在访问了v之后，依次访问v的各个未曾被访问过的邻接点，然后分别从这些邻接点出发依次访问它们的邻接点，并使得：先被访问的顶点的邻接点，先被访问，后被访问的顶点的邻接点，后被访问。直至图中所有已被访问的顶点的邻接点都被访问到。如果此时图中尚有顶点未被访问，则需要另选一个未曾被访问过的顶点作为新的起始点，重复上述过程，直至图中所有顶点都被访问到为止。<br><br>\n",
    "- 每个被访问的顶点的邻接点，需要按被访问的顶点的访问顺序去放入特定的数据结构中，因此，你才能按添加顺序进行检查。有一个可实现这种目的的数据结构，那就是**队列(queue)**。"
   ]
  },
  {
   "cell_type": "code",
   "execution_count": 1,
   "metadata": {},
   "outputs": [],
   "source": [
    "# deque相当于可以左右都能pop的list\n",
    "from collections import deque"
   ]
  },
  {
   "cell_type": "code",
   "execution_count": 51,
   "metadata": {},
   "outputs": [],
   "source": [
    "# 先定义一个打印路径的函数\n",
    "def printPath(path):\n",
    "    result = \"\"\n",
    "    for i in range(len(path)):\n",
    "        result = result +str(path[i])\n",
    "        if i != len(path) - 1:\n",
    "            result =  result + '->'\n",
    "    return result"
   ]
  },
  {
   "cell_type": "code",
   "execution_count": 68,
   "metadata": {},
   "outputs": [],
   "source": [
    "def BFS(graph,start,end):\n",
    "    # 首先要有一整个图，和搜索的起止点\n",
    "    initPath = deque([start])\n",
    "    pathQueue = deque([initPath])\n",
    "    while len(pathQueue) != 0:\n",
    "        temPath = pathQueue.popleft()\n",
    "        print('Current BFS path: ', printPath(temPath))\n",
    "        lastNode = temPath[-1]\n",
    "        if lastNode == end:\n",
    "            return temPath\n",
    "        for nextNode in graph.childrenOf(lastNode):\n",
    "            if nextNode not in temPath:\n",
    "                newPath = temPath + deque([nextNode])\n",
    "                pathQueue.append(newPath)\n",
    "    return None"
   ]
  },
  {
   "cell_type": "code",
   "execution_count": 69,
   "metadata": {},
   "outputs": [],
   "source": [
    "def testSP():\n",
    "    nodes = []\n",
    "    for name in range(6):\n",
    "        nodes.append(Node(str(name)))\n",
    "    g = Digraph()\n",
    "    for n in nodes:\n",
    "        g.addNode(n)\n",
    "    g.addEdge(Edge(nodes[0],nodes[1]))\n",
    "    g.addEdge(Edge(nodes[0],nodes[2]))\n",
    "    g.addEdge(Edge(nodes[1],nodes[3]))\n",
    "    g.addEdge(Edge(nodes[2],nodes[3]))\n",
    "    g.addEdge(Edge(nodes[3],nodes[4]))\n",
    "    g.addEdge(Edge(nodes[3],nodes[5]))\n",
    "    g.addEdge(Edge(nodes[1],nodes[5]))\n",
    "    g.addEdge(Edge(nodes[5],nodes[1]))\n",
    "    g.addEdge(Edge(nodes[4],nodes[2]))\n",
    "    g.addEdge(Edge(nodes[5],nodes[4]))\n",
    "    sp = BFS(g,nodes[5],nodes[2])\n",
    "    print(printPath(sp))"
   ]
  },
  {
   "cell_type": "code",
   "execution_count": 70,
   "metadata": {},
   "outputs": [
    {
     "name": "stdout",
     "output_type": "stream",
     "text": [
      "Current BFS path:  5\n",
      "Current BFS path:  5->1\n",
      "Current BFS path:  5->4\n",
      "Current BFS path:  5->1->3\n",
      "Current BFS path:  5->4->2\n",
      "5->4->2\n"
     ]
    }
   ],
   "source": [
    "testSP()"
   ]
  },
  {
   "cell_type": "markdown",
   "metadata": {},
   "source": [
    "#### 深度优先搜索 Depth First Search (DFS)<br>\n",
    "- 一般地，深度优先搜索算法开始时，会先选择起始节点的一个子节点，然后再选择这个子节点的一个子节点，以此类推，直到到达目标节点或者一个没有子节点的节点。然后，搜索开始回溯，返回到最近一个没有访问过的带有子节点的节点。遍历所有路径之后，算法就可以选择一个从起点到终点的最短路径（如果有）"
   ]
  },
  {
   "cell_type": "code",
   "execution_count": 72,
   "metadata": {},
   "outputs": [],
   "source": [
    "def DFS(graph,start,end,path,shortest):\n",
    "    path = path + [start]\n",
    "    print('Current Path: ', printPath(path))\n",
    "    if start == end:\n",
    "        return path\n",
    "    for node in graph.childrenOf(start):\n",
    "        if node not in path:\n",
    "            if shortest == None or len(path) < len(shortest):\n",
    "                # 对初始节点的每一个子节点进行递归查找，查不到的会返回None，查得到的会保存\n",
    "                newPath = DFS(graph,node,end,path,shortest)\n",
    "                if newPath != None:\n",
    "                    shortest = newPath\n",
    "    return shortest"
   ]
  },
  {
   "cell_type": "code",
   "execution_count": 71,
   "metadata": {},
   "outputs": [],
   "source": [
    "def testSP():\n",
    "    nodes = []\n",
    "    for name in range(5):\n",
    "        nodes.append(Node(str(name)))\n",
    "    g = Digraph()\n",
    "    for n in nodes:\n",
    "        g.addNode(n)\n",
    "    g.addEdge(Edge(nodes[0],nodes[1]))\n",
    "    g.addEdge(Edge(nodes[0],nodes[2]))\n",
    "    g.addEdge(Edge(nodes[1],nodes[3]))\n",
    "    g.addEdge(Edge(nodes[2],nodes[3]))\n",
    "    g.addEdge(Edge(nodes[3],nodes[4]))\n",
    "    sp = DFS(g,nodes[0],nodes[4],[],None)\n",
    "    print(printPath(sp))"
   ]
  },
  {
   "cell_type": "code",
   "execution_count": 73,
   "metadata": {},
   "outputs": [
    {
     "name": "stdout",
     "output_type": "stream",
     "text": [
      "Current Path:  0\n",
      "Current Path:  0->1\n",
      "Current Path:  0->1->3\n",
      "Current Path:  0->1->3->4\n",
      "Current Path:  0->2\n",
      "Current Path:  0->2->3\n",
      "Current Path:  0->2->3->4\n",
      "0->2->3->4\n"
     ]
    }
   ],
   "source": [
    "testSP()"
   ]
  },
  {
   "cell_type": "markdown",
   "metadata": {},
   "source": [
    "#### 非递归的DFS"
   ]
  },
  {
   "cell_type": "code",
   "execution_count": 96,
   "metadata": {},
   "outputs": [],
   "source": [
    "def DFS_1(graph,start,end):\n",
    "    stack = []\n",
    "    visited = []\n",
    "    stack.append(start)\n",
    "    visited.append(start)\n",
    "    while len(stack) > 0:\n",
    "        print('Current Path: ', printPath(visited))\n",
    "        if visited[-1] == end:\n",
    "            return visited\n",
    "        x = stack[-1]\n",
    "        for node in graph.childrenOf(x):\n",
    "            if node not in visited:\n",
    "                stack.append(node)\n",
    "                visited.append(node)\n",
    "                break\n",
    "\n",
    "        if stack[-1] == x:\n",
    "            stack.pop()\n",
    "    return visited"
   ]
  },
  {
   "cell_type": "code",
   "execution_count": 83,
   "metadata": {},
   "outputs": [],
   "source": [
    "def testSP():\n",
    "    nodes = []\n",
    "    for name in range(5):\n",
    "        nodes.append(Node(str(name)))\n",
    "    g = Digraph()\n",
    "    for n in nodes:\n",
    "        g.addNode(n)\n",
    "    g.addEdge(Edge(nodes[0],nodes[1]))\n",
    "    g.addEdge(Edge(nodes[0],nodes[2]))\n",
    "    g.addEdge(Edge(nodes[1],nodes[3]))\n",
    "    g.addEdge(Edge(nodes[2],nodes[3]))\n",
    "    g.addEdge(Edge(nodes[3],nodes[4]))\n",
    "    sp = DFS_1(g,nodes[0],nodes[4])\n",
    "    print(printPath(sp))"
   ]
  },
  {
   "cell_type": "code",
   "execution_count": 97,
   "metadata": {},
   "outputs": [
    {
     "name": "stdout",
     "output_type": "stream",
     "text": [
      "Current Path:  0\n",
      "Current Path:  0->1\n",
      "Current Path:  0->1->3\n",
      "Current Path:  0->1->3->4\n",
      "0->1->3->4\n"
     ]
    }
   ],
   "source": [
    "testSP()"
   ]
  }
 ],
 "metadata": {
  "kernelspec": {
   "display_name": "Python 3",
   "language": "python",
   "name": "python3"
  },
  "language_info": {
   "codemirror_mode": {
    "name": "ipython",
    "version": 3
   },
   "file_extension": ".py",
   "mimetype": "text/x-python",
   "name": "python",
   "nbconvert_exporter": "python",
   "pygments_lexer": "ipython3",
   "version": "3.7.1"
  }
 },
 "nbformat": 4,
 "nbformat_minor": 2
}
