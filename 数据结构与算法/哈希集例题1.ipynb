{
 "cells": [
  {
   "cell_type": "markdown",
   "metadata": {},
   "source": [
    "### 存在重复元素<br>\n",
    "![微信截图_20190811132559.png](https://i.loli.net/2019/08/12/3KGhQU2tHvwF7gk.png)"
   ]
  },
  {
   "cell_type": "code",
   "execution_count": null,
   "metadata": {},
   "outputs": [],
   "source": [
    "class Solution(object):\n",
    "    def containsDuplicate(self, nums):\n",
    "        \"\"\"\n",
    "        :type nums: List[int]\n",
    "        :rtype: bool\n",
    "        \"\"\"\n",
    "        s = set()\n",
    "        for n in nums:\n",
    "            if n not in s:\n",
    "                s.add(n)\n",
    "            else:\n",
    "                return True\n",
    "        return False"
   ]
  },
  {
   "cell_type": "code",
   "execution_count": null,
   "metadata": {},
   "outputs": [],
   "source": [
    "class Solution(object):\n",
    "    def containsDuplicate(self, nums):\n",
    "        \"\"\"\n",
    "        :type nums: List[int]\n",
    "        :rtype: bool\n",
    "        \"\"\"\n",
    "        return len(nums) != len(set(nums))"
   ]
  },
  {
   "cell_type": "markdown",
   "metadata": {},
   "source": [
    "### 只出现一次的数字<br>\n",
    "![微信截图_20190811133135.png](https://i.loli.net/2019/08/12/jDHE43C5idkpcGL.png)\n"
   ]
  },
  {
   "cell_type": "code",
   "execution_count": 17,
   "metadata": {},
   "outputs": [],
   "source": [
    "class Solution(object):\n",
    "    def singleNumber(self, nums):\n",
    "        \"\"\"\n",
    "        :type nums: List[int]\n",
    "        :rtype: int\n",
    "        \"\"\"\n",
    "        return 2*sum(set(nums)) - sum(nums)"
   ]
  },
  {
   "cell_type": "code",
   "execution_count": 18,
   "metadata": {},
   "outputs": [],
   "source": [
    "class Solution(object):\n",
    "    def singleNumber(self, nums):\n",
    "        \"\"\"\n",
    "        :type nums: List[int]\n",
    "        :rtype: int\n",
    "        \"\"\"\n",
    "        hash1 = set()\n",
    "        hash2 = set()\n",
    "        l = len(nums)\n",
    "        for i in range(l):\n",
    "            if nums[-1] not in hash1:\n",
    "                hash1.add(nums.pop())\n",
    "            else:\n",
    "                hash2.add(nums.pop())\n",
    "        return (hash1-hash2).pop()"
   ]
  },
  {
   "cell_type": "markdown",
   "metadata": {},
   "source": [
    "### 两个数组的交集<br>\n",
    "![微信截图_20190812110200.png](https://i.loli.net/2019/08/12/evySi4g5taqnMJu.png)"
   ]
  },
  {
   "cell_type": "markdown",
   "metadata": {},
   "source": [
    "- 使用内置函数"
   ]
  },
  {
   "cell_type": "code",
   "execution_count": 6,
   "metadata": {},
   "outputs": [],
   "source": [
    "class Solution(object):\n",
    "    def intersection(self, nums1, nums2):\n",
    "        \"\"\"\n",
    "        :type nums1: List[int]\n",
    "        :type nums2: List[int]\n",
    "        :rtype: List[int]\n",
    "        \"\"\"\n",
    "        s1, s2 = set(nums1), set(nums2)\n",
    "        return list(s1&s2)"
   ]
  },
  {
   "cell_type": "markdown",
   "metadata": {},
   "source": [
    "- 使用两个set"
   ]
  },
  {
   "cell_type": "code",
   "execution_count": 7,
   "metadata": {},
   "outputs": [],
   "source": [
    "class Solution(object):\n",
    "    def intersection(self, nums1, nums2):\n",
    "        \"\"\"\n",
    "        :type nums1: List[int]\n",
    "        :type nums2: List[int]\n",
    "        :rtype: List[int]\n",
    "        \"\"\"\n",
    "        s1, s2 = set(nums1), set(nums2)\n",
    "        if len(s1)<len(s2):\n",
    "            return [x for x in s1 if x in s2]\n",
    "        else:\n",
    "            return [x for x in s2 if x in s1]"
   ]
  },
  {
   "cell_type": "markdown",
   "metadata": {},
   "source": [
    "### 快乐数<br>\n",
    "![微信截图_20190812113908.png](https://i.loli.net/2019/08/12/C1eB6iTglwuGLDF.png)"
   ]
  },
  {
   "cell_type": "markdown",
   "metadata": {},
   "source": [
    "- 处理数字到字符的做法"
   ]
  },
  {
   "cell_type": "code",
   "execution_count": 21,
   "metadata": {},
   "outputs": [],
   "source": [
    "class Solution(object):\n",
    "    def isHappy(self, n):\n",
    "        \"\"\"\n",
    "        :type n: int\n",
    "        :rtype: bool\n",
    "        \"\"\"\n",
    "        if n == 0: return False\n",
    "        \n",
    "        que = [i for i in str(n)]\n",
    "        nums = set()\n",
    "        \n",
    "        while que:\n",
    "            s = 0\n",
    "            while que:\n",
    "                x = que.pop()\n",
    "                s += int(x)**2\n",
    "            if s == 1:\n",
    "                return True\n",
    "            else:\n",
    "                if s not in nums:\n",
    "                    nums.add(s)\n",
    "                    que += [i for i in str(s)]\n",
    "                else:\n",
    "                    return False"
   ]
  },
  {
   "cell_type": "markdown",
   "metadata": {},
   "source": [
    "- 巧妙做法"
   ]
  },
  {
   "cell_type": "code",
   "execution_count": 22,
   "metadata": {},
   "outputs": [],
   "source": [
    "class Solution(object):\n",
    "    def isHappy(self, n):\n",
    "        \"\"\"\n",
    "        :type n: int\n",
    "        :rtype: bool\n",
    "        \"\"\"\n",
    "        seen = set()\n",
    "        while n not in seen:\n",
    "            seen.add(n)\n",
    "            s = 0\n",
    "            while n > 0:\n",
    "                temp = n % 10\n",
    "                s += temp**2\n",
    "                n //= 10\n",
    "            if s == 1:\n",
    "                return True\n",
    "            n = s\n",
    "        return False"
   ]
  }
 ],
 "metadata": {
  "kernelspec": {
   "display_name": "Python 3",
   "language": "python",
   "name": "python3"
  },
  "language_info": {
   "codemirror_mode": {
    "name": "ipython",
    "version": 3
   },
   "file_extension": ".py",
   "mimetype": "text/x-python",
   "name": "python",
   "nbconvert_exporter": "python",
   "pygments_lexer": "ipython3",
   "version": "3.7.1"
  },
  "toc": {
   "base_numbering": 1,
   "nav_menu": {},
   "number_sections": true,
   "sideBar": false,
   "skip_h1_title": false,
   "title_cell": "Table of Contents",
   "title_sidebar": "Contents",
   "toc_cell": false,
   "toc_position": {},
   "toc_section_display": true,
   "toc_window_display": false
  }
 },
 "nbformat": 4,
 "nbformat_minor": 2
}
