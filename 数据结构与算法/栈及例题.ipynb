{
 "cells": [
  {
   "cell_type": "markdown",
   "metadata": {},
   "source": [
    "### 栈"
   ]
  },
  {
   "cell_type": "markdown",
   "metadata": {},
   "source": [
    "- 栈的结构<br><br>\n",
    "![微信截图_20190730100322.png](https://i.loli.net/2019/07/30/5d404fac2a02157742.png)<br><br>\n",
    "- 入栈：通过 Push 操作，将新元素 6 添加到栈中。<br><br>\n",
    "![微信截图_20190730100545.png](https://i.loli.net/2019/07/30/5d404fac21e7554914.png)<br><br>\n",
    "- 出栈：通过 Pop 操作，从栈中弹出最新入栈的元素。<br><br>\n",
    "![微信截图_20190730100701.png](https://i.loli.net/2019/07/30/5d404fac6a33793441.png)"
   ]
  },
  {
   "cell_type": "markdown",
   "metadata": {},
   "source": [
    "### 例题1-最小栈<br>\n",
    "![微信截图_20190730101436.png](https://i.loli.net/2019/07/30/5d4051168473130533.png)"
   ]
  },
  {
   "cell_type": "markdown",
   "metadata": {},
   "source": [
    "因为要求能在常数时间内检索到最小元素，所以必须在内部设立一个检测最小值的辅助栈，这个辅助栈的最后一位元素就是正常栈中的最小值。"
   ]
  },
  {
   "cell_type": "code",
   "execution_count": 4,
   "metadata": {},
   "outputs": [],
   "source": [
    "class MinStack(object):\n",
    "\n",
    "    def __init__(self):\n",
    "        \"\"\"\n",
    "        initialize your data structure here.\n",
    "        \"\"\"\n",
    "        self.stack = []\n",
    "        self.min_stack = []\n",
    "\n",
    "    def push(self, x):\n",
    "        \"\"\"\n",
    "        :type x: int\n",
    "        :rtype: None\n",
    "        \"\"\"\n",
    "        self.stack.append(x)\n",
    "        if self.min_stack:\n",
    "            if self.min_stack[-1] >= x:\n",
    "                self.min_stack.append(x)\n",
    "        else: self.min_stack.append(x)\n",
    "\n",
    "    def pop(self):\n",
    "        \"\"\"\n",
    "        :rtype: None\n",
    "        \"\"\"\n",
    "        top = self.stack.pop()\n",
    "        if top == self.min_stack[-1]:\n",
    "            self.min_stack.pop()\n",
    "\n",
    "    def top(self):\n",
    "        \"\"\"\n",
    "        :rtype: int\n",
    "        \"\"\"\n",
    "        return self.stack[-1]\n",
    "\n",
    "    def getMin(self):\n",
    "        \"\"\"\n",
    "        :rtype: int\n",
    "        \"\"\"\n",
    "        return self.min_stack[-1]"
   ]
  },
  {
   "cell_type": "markdown",
   "metadata": {},
   "source": [
    "### 例题2-有效的括号"
   ]
  },
  {
   "cell_type": "markdown",
   "metadata": {},
   "source": [
    "\n",
    "![微信截图_20190730102849.png](https://i.loli.net/2019/07/30/5d405470cc94916802.png)\n",
    "\n",
    "![微信截图_20190730102900.png](https://i.loli.net/2019/07/30/5d405470d36e990415.png)"
   ]
  },
  {
   "cell_type": "markdown",
   "metadata": {},
   "source": [
    "这道题看起来和栈好像没什么关系，但仔细想想，会发现括号的开合关系与栈的联系还很大。如果把左定位开，右定为闭。那么括号的开闭必然是要服从某种规律的。<br><br>\n",
    "多观察几个例子，会发现遍历字符时，第一个出现的闭，即‘}’‘]’‘)’，必须与它前一个字符形成开闭。如果没有则为False。利用这个特性，我们可以把出现的开符号放入栈中，如果出现相应的闭符号，则把栈中开pop掉。最后检查栈是否为空即可。"
   ]
  },
  {
   "cell_type": "code",
   "execution_count": null,
   "metadata": {},
   "outputs": [],
   "source": [
    "class Solution(object):\n",
    "    def isValid(self, s):\n",
    "        \"\"\"\n",
    "        :type s: str\n",
    "        :rtype: bool\n",
    "        \"\"\"\n",
    "        stack = []\n",
    "        dic = {')':'(', '}':'{', ']':'['}\n",
    "        \n",
    "        for char in s:\n",
    "            if char in dic:\n",
    "                if stack:\n",
    "                    top = stack.pop()\n",
    "                else: top = ''\n",
    "                if top != dic[char]:\n",
    "                    return False\n",
    "            else:\n",
    "                stack.append(char)\n",
    "        \n",
    "        return not stack"
   ]
  },
  {
   "cell_type": "markdown",
   "metadata": {},
   "source": [
    "- 和上面思想一样，但是方法反过来"
   ]
  },
  {
   "cell_type": "code",
   "execution_count": 5,
   "metadata": {},
   "outputs": [],
   "source": [
    "class Solution(object):\n",
    "    def isValid(self, s):\n",
    "        \"\"\"\n",
    "        :type s: str\n",
    "        :rtype: bool\n",
    "        \"\"\"\n",
    "        stack = []\n",
    "        dic = {'(':')','[':']','{':'}'}\n",
    "        \n",
    "        for char in s:\n",
    "            if char in dic:\n",
    "                stack.append(char)\n",
    "            else:\n",
    "                if not stack or dic[stack.pop()] != char:\n",
    "                    return False\n",
    "        return not stack"
   ]
  }
 ],
 "metadata": {
  "kernelspec": {
   "display_name": "Python 3",
   "language": "python",
   "name": "python3"
  },
  "language_info": {
   "codemirror_mode": {
    "name": "ipython",
    "version": 3
   },
   "file_extension": ".py",
   "mimetype": "text/x-python",
   "name": "python",
   "nbconvert_exporter": "python",
   "pygments_lexer": "ipython3",
   "version": "3.7.1"
  },
  "toc": {
   "base_numbering": 1,
   "nav_menu": {},
   "number_sections": true,
   "sideBar": false,
   "skip_h1_title": false,
   "title_cell": "Table of Contents",
   "title_sidebar": "Contents",
   "toc_cell": false,
   "toc_position": {},
   "toc_section_display": true,
   "toc_window_display": false
  }
 },
 "nbformat": 4,
 "nbformat_minor": 2
}
