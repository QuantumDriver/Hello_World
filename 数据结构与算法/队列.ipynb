{
 "cells": [
  {
   "cell_type": "markdown",
   "metadata": {},
   "source": [
    "### 队列"
   ]
  },
  {
   "cell_type": "markdown",
   "metadata": {},
   "source": [
    "队列这种数据结构，最大特点就是最先进去的数据最先被取出，即“先进先出” 的结构，我们称为 First In First Out，简称 FIFO。<br><br>\n",
    "![微信截图_20190727173507.png](https://i.loli.net/2019/07/28/5d3cc39dcfe4591330.png)\n",
    "- 要注意的是，每一次删除只能删除第一个数。每一次加入，只能从队列的最后一个加入。\n",
    "![微信截图_20190727173515.png](https://i.loli.net/2019/07/28/5d3cc39d9687753585.png)\n",
    "- 当一次删除操作发生后，第一个元素会被剔除队列，相应的，头部的指针也会转移的第二元素下，这时，第二个元素就变成了新的队列中的第一个元素。\n",
    "- 同理，当一次加入操作发生后，最新的一个元素会加入队列的最后面，相应的，尾部的指针会指向新队列的最后一个元素，即最新加入的那个元素。"
   ]
  },
  {
   "cell_type": "markdown",
   "metadata": {},
   "source": [
    "**队列最基本的操作就是入队和出队，即加入和删除。除此之外，根据队列先入先出的特性，队列还可以实现BFS算法。**"
   ]
  },
  {
   "cell_type": "markdown",
   "metadata": {},
   "source": [
    "### 队列与BFS<br>\n",
    "![微信截图_20190727174234.png](https://i.loli.net/2019/07/28/5d3cc55adfc7688531.png)"
   ]
  },
  {
   "cell_type": "markdown",
   "metadata": {},
   "source": [
    "**从A到G的BFS算法过程**\n",
    "```python\n",
    "[A] -> [[A],[B,C,D]] -> [[B,C,D]] -> [[B,C,D],[E]] ->\n",
    "[[C,D],[E]] -> [[C,D],[E],[F]] -> [[D],[E],[F]] -> [[D],[E],[F],[G]] ->\n",
    "[[E],[F],[G]] -> [[F],[G]] -> [[G]]\n",
    "```\n",
    "可以看出，A先入队，再把跟A连在一起的入队，然后删掉A。又从B开始，把和B连在一起E入队，再把B删掉。如此不停地循环下去就是BFS算法。"
   ]
  }
 ],
 "metadata": {
  "kernelspec": {
   "display_name": "Python 3",
   "language": "python",
   "name": "python3"
  },
  "language_info": {
   "codemirror_mode": {
    "name": "ipython",
    "version": 3
   },
   "file_extension": ".py",
   "mimetype": "text/x-python",
   "name": "python",
   "nbconvert_exporter": "python",
   "pygments_lexer": "ipython3",
   "version": "3.7.1"
  },
  "toc": {
   "base_numbering": 1,
   "nav_menu": {},
   "number_sections": true,
   "sideBar": false,
   "skip_h1_title": false,
   "title_cell": "Table of Contents",
   "title_sidebar": "Contents",
   "toc_cell": false,
   "toc_position": {
    "height": "398px",
    "left": "350px",
    "top": "128px",
    "width": "256px"
   },
   "toc_section_display": true,
   "toc_window_display": false
  }
 },
 "nbformat": 4,
 "nbformat_minor": 2
}
