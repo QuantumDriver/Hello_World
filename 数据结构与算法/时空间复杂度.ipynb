{
 "cells": [
  {
   "cell_type": "markdown",
   "metadata": {},
   "source": [
    "### 如何衡量算法的好坏？\n",
    "\n",
    "- 一个算法可以用两个指标来进行评价，一个是时间，一个是空间。<br><br>\n",
    "- 时间就是这个算法的运行的时间是多少，通常用时间复杂度来说明它的快慢。<br><br>\n",
    "- 空间就是这个算法运行的时候占用了计算机多少的内存，用空间复杂度来说明它占用的大小。<br><br>\n",
    "\n",
    "### 时间复杂度\n",
    "\n",
    "- 时间复杂度有三种表示方式:\n",
    "![1563316174(1).jpg](https://i.loli.net/2019/07/17/5d2e4ffde2e4c95116.jpg)"
   ]
  },
  {
   "cell_type": "markdown",
   "metadata": {},
   "source": [
    "- 举个例子："
   ]
  },
  {
   "cell_type": "code",
   "execution_count": 1,
   "metadata": {},
   "outputs": [],
   "source": [
    "def fact(n):\n",
    "    answer = 1\n",
    "    while n > 1:\n",
    "        answer *= 1\n",
    "        n -= 1\n",
    "    return answer"
   ]
  },
  {
   "cell_type": "markdown",
   "metadata": {},
   "source": [
    "- 运行这个程序所需的步数应该是2(赋值语句需要1步，return语句需要1步) + 5n(while)语句中的测试需要1步，while循环中的第一个赋值语句需要2步，第二个赋值语句也需要2步)。所以这段代码的时间复杂度为O(n)。<br><br>\n",
    "- 一些常见的时间复杂度函数：\n",
    "![1563316181(1).jpg](https://i.loli.net/2019/07/17/5d2e4ffe42f4c88220.jpg)\n",
    "\n",
    "<br><br>\n",
    "### 空间复杂度"
   ]
  },
  {
   "cell_type": "markdown",
   "metadata": {},
   "source": [
    "- 空间复杂度(Space Complexity)是对一个算法在运行过程中临时占用存储空间大小的量度。<br><br>\n",
    "- 一个算法在计算机存储器上所占用的存储空间，包括存储算法本身所占用的存储空间，算法的输入输出数据所占用的存储空间和算法在运行过程中临时占用的存储空间这三个方面。"
   ]
  }
 ],
 "metadata": {
  "kernelspec": {
   "display_name": "Python 3",
   "language": "python",
   "name": "python3"
  },
  "language_info": {
   "codemirror_mode": {
    "name": "ipython",
    "version": 3
   },
   "file_extension": ".py",
   "mimetype": "text/x-python",
   "name": "python",
   "nbconvert_exporter": "python",
   "pygments_lexer": "ipython3",
   "version": "3.7.1"
  }
 },
 "nbformat": 4,
 "nbformat_minor": 2
}
