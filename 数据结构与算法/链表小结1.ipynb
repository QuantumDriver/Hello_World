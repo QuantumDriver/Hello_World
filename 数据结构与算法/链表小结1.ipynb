{
 "cells": [
  {
   "cell_type": "markdown",
   "metadata": {},
   "source": [
    "### 合并两个有序链表<br>\n",
    "![微信截图_20190809131800.png](https://i.loli.net/2019/08/10/fFRgqkjuCarTxG5.png)"
   ]
  },
  {
   "cell_type": "markdown",
   "metadata": {},
   "source": [
    "创建一个新节点，比较l1和l2当前节点的大小，小的放在新节点下，大的不动，比较完过后小的那个列表更新到下一个节点，大的不动。新节点也更新到下一个。直到l1或l2为空，不为空的那个全部放到新节点下即可。"
   ]
  },
  {
   "cell_type": "code",
   "execution_count": null,
   "metadata": {},
   "outputs": [],
   "source": [
    "# Definition for singly-linked list.\n",
    "# class ListNode(object):\n",
    "#     def __init__(self, x):\n",
    "#         self.val = x\n",
    "#         self.next = None\n",
    "\n",
    "class Solution(object):\n",
    "    def mergeTwoLists(self, l1, l2):\n",
    "        \"\"\"\n",
    "        :type l1: ListNode\n",
    "        :type l2: ListNode\n",
    "        :rtype: ListNode\n",
    "        \"\"\"\n",
    "        dummy = ListNode(-1)\n",
    "        head = dummy\n",
    "        while l1 and l2:\n",
    "            cur1 = l1.next\n",
    "            cur2 = l2.next\n",
    "            if l1.val <= l2.val:\n",
    "                head.next = l1\n",
    "                l1 = cur1\n",
    "            else:\n",
    "                head.next = l2\n",
    "                l2 = cur2\n",
    "            head = head.next\n",
    "        head.next = l2 if not l1 else l1\n",
    "        return dummy.next"
   ]
  },
  {
   "cell_type": "markdown",
   "metadata": {},
   "source": [
    "### 两数相加"
   ]
  },
  {
   "cell_type": "markdown",
   "metadata": {},
   "source": [
    "![微信截图_20190809141413.png](https://i.loli.net/2019/08/10/ND8xR49rzQngMB3.png)"
   ]
  },
  {
   "cell_type": "code",
   "execution_count": 12,
   "metadata": {},
   "outputs": [],
   "source": [
    "class Solution(object):\n",
    "    def addTwoNumbers(self, l1, l2):\n",
    "        \"\"\"\n",
    "        :type l1: ListNode\n",
    "        :type l2: ListNode\n",
    "        :rtype: ListNode\n",
    "        \"\"\"\n",
    "        p1, p2 = [], []\n",
    "        while l1:\n",
    "            p1.append(str(l1.val))\n",
    "            l1 = l1.next\n",
    "        while l2:\n",
    "            p2.append(str(l2.val))\n",
    "            l2 = l2.next\n",
    "        num = int(''.join(p1[::-1])) + int(''.join(p2[::-1]))\n",
    "        nums = [_ for _ in str(num)[::-1]]\n",
    "        \n",
    "        dummy = ListNode(-1)\n",
    "        head = dummy\n",
    "        for i in range(len(nums)):\n",
    "            head.next = ListNode(int(nums[i]))\n",
    "            head = head.next\n",
    "        return dummy.next"
   ]
  },
  {
   "cell_type": "code",
   "execution_count": null,
   "metadata": {},
   "outputs": [],
   "source": [
    "class Solution(object):\n",
    "    def addTwoNumbers(self, l1, l2):\n",
    "        \"\"\"\n",
    "        :type l1: ListNode\n",
    "        :type l2: ListNode\n",
    "        :rtype: ListNode\n",
    "        \"\"\"\n",
    "        dummy = ListNode(1)\n",
    "        head = dummy\n",
    "        carry = 0 \n",
    "        while l1 or l2:\n",
    "            x = l1.val if l1 else 0\n",
    "            y = l2.val if l2 else 0\n",
    "            sum_ = x + y + carry\n",
    "            carry = sum_ // 10\n",
    "            head.next = ListNode(sum_ % 10)\n",
    "            head = head.next\n",
    "            if l1: l1 = l1.next\n",
    "            if l2: l2 = l2.next\n",
    "        if carry > 0:\n",
    "            head.next = ListNode(1)\n",
    "        return dummy.next"
   ]
  },
  {
   "cell_type": "markdown",
   "metadata": {},
   "source": [
    "### 扁平化多级双向链表"
   ]
  },
  {
   "cell_type": "markdown",
   "metadata": {},
   "source": [
    "![微信截图_20190810105211.png](https://i.loli.net/2019/08/10/2AvD1zNOLsuRJBg.png)\n",
    "![微信截图_20190810110058.png](https://i.loli.net/2019/08/10/uTwtamdPp4NsUFz.png)\n",
    "![微信截图_20190810110307.png](https://i.loli.net/2019/08/10/QU8mCNofcdHvwMJ.png)\n"
   ]
  },
  {
   "cell_type": "markdown",
   "metadata": {},
   "source": [
    "把子链融入，子链的头prev,尾next先改，再把主链next.prev指向子链的尾，最后把主链的next指向主链的child。对于后面的子链以此类推就行。"
   ]
  },
  {
   "cell_type": "code",
   "execution_count": 1,
   "metadata": {},
   "outputs": [],
   "source": [
    "\"\"\"\n",
    "# Definition for a Node.\n",
    "class Node(object):\n",
    "    def __init__(self, val, prev, next, child):\n",
    "        self.val = val\n",
    "        self.prev = prev\n",
    "        self.next = next\n",
    "        self.child = child\n",
    "\"\"\"\n",
    "class Solution(object):\n",
    "    def flatten(self, head):\n",
    "        \"\"\"\n",
    "        :type head: Node\n",
    "        :rtype: Node\n",
    "        \"\"\"\n",
    "        if not head: return\n",
    "        dummy = Node(None,None,head,None)\n",
    "        \n",
    "        while head:\n",
    "            if head.child:\n",
    "                child = head.child\n",
    "                child.prev = head\n",
    "                while child.next:\n",
    "                    child = child.next\n",
    "                child.next = head.next\n",
    "                if head.next:\n",
    "                    head.next.prev = child\n",
    "                head.next = head.child\n",
    "                head.child = None\n",
    "            head = head.next\n",
    "        return dummy.next"
   ]
  }
 ],
 "metadata": {
  "kernelspec": {
   "display_name": "Python 3",
   "language": "python",
   "name": "python3"
  },
  "language_info": {
   "codemirror_mode": {
    "name": "ipython",
    "version": 3
   },
   "file_extension": ".py",
   "mimetype": "text/x-python",
   "name": "python",
   "nbconvert_exporter": "python",
   "pygments_lexer": "ipython3",
   "version": "3.7.1"
  },
  "toc": {
   "base_numbering": 1,
   "nav_menu": {},
   "number_sections": true,
   "sideBar": false,
   "skip_h1_title": false,
   "title_cell": "Table of Contents",
   "title_sidebar": "Contents",
   "toc_cell": false,
   "toc_position": {},
   "toc_section_display": true,
   "toc_window_display": false
  }
 },
 "nbformat": 4,
 "nbformat_minor": 2
}
