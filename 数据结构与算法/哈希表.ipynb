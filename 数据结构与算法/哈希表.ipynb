{
 "cells": [
  {
   "cell_type": "markdown",
   "metadata": {},
   "source": [
    "### 哈希表<br>\n",
    "![微信截图_20190811120045.png](https://i.loli.net/2019/08/12/Jk38tanQeumlgyE.png)\n",
    "![微信截图_20190811120424.png](https://i.loli.net/2019/08/12/LXprmK5DeJl8k2W.png)\n",
    "![微信截图_20190811120654.png](https://i.loli.net/2019/08/12/BgwHDM8dXYFlm2E.png)\n",
    "![微信截图_20190811120705.png](https://i.loli.net/2019/08/12/RljCEUciPMm61DV.png)\n"
   ]
  },
  {
   "cell_type": "markdown",
   "metadata": {},
   "source": [
    "### 设计哈希集合"
   ]
  },
  {
   "cell_type": "markdown",
   "metadata": {},
   "source": [
    "![微信截图_20190811121055.png](https://i.loli.net/2019/08/12/Ekn9xzbrgtsIqcP.png)\n",
    "![微信截图_20190811121107.png](https://i.loli.net/2019/08/12/5mZ2vkYhB1yOHxS.png)"
   ]
  },
  {
   "cell_type": "code",
   "execution_count": 12,
   "metadata": {},
   "outputs": [],
   "source": [
    "class MyHashSet(object):\n",
    "\n",
    "    def __init__(self):\n",
    "        \"\"\"\n",
    "        Initialize your data structure here.\n",
    "        \"\"\"\n",
    "        self.buket = 1000\n",
    "        self.buketsize = (1000000 // 1000) + 1\n",
    "        self.hashtable = [[] for _ in range(self.buket)]\n",
    "\n",
    "    def add(self, key):\n",
    "        \"\"\"\n",
    "        :type key: int\n",
    "        :rtype: None\n",
    "        \"\"\"\n",
    "        if not self.hashtable[key%self.buket]:\n",
    "            self.hashtable[key%self.buket] = [0] * self.buketsize\n",
    "        self.hashtable[key%self.buket][key//self.buket] = 1\n",
    "\n",
    "    def remove(self, key):\n",
    "        \"\"\"\n",
    "        :type key: int\n",
    "        :rtype: None\n",
    "        \"\"\"\n",
    "        if self.hashtable[key%self.buket]:\n",
    "            self.hashtable[key%self.buket][key//self.buket] = 0\n",
    "\n",
    "    def contains(self, key):\n",
    "        \"\"\"\n",
    "        Returns true if this set contains the specified element\n",
    "        :type key: int\n",
    "        :rtype: bool\n",
    "        \"\"\"\n",
    "        return (self.hashtable[key%self.buket] != []) and (self.hashtable[key%self.buket][key//self.buket] == 1)\n",
    "\n",
    "\n",
    "# Your MyHashSet object will be instantiated and called as such:\n",
    "# obj = MyHashSet()\n",
    "# obj.add(key)\n",
    "# obj.remove(key)\n",
    "# param_3 = obj.contains(key)"
   ]
  },
  {
   "cell_type": "markdown",
   "metadata": {},
   "source": [
    "### 设计哈希映射<br>\n",
    "![微信截图_20190811125416.png](https://i.loli.net/2019/08/12/aGQBEJMTDyKz9m5.png)\n",
    "![微信截图_20190811125428.png](https://i.loli.net/2019/08/12/qMmCLHFJKtXwSA9.png)"
   ]
  },
  {
   "cell_type": "code",
   "execution_count": 13,
   "metadata": {},
   "outputs": [],
   "source": [
    "class MyHashMap(object):\n",
    "\n",
    "    def __init__(self):\n",
    "        \"\"\"\n",
    "        Initialize your data structure here.\n",
    "        \"\"\"\n",
    "        self.buket = 1000\n",
    "        self.buketsize = (1000000 // self.buket) + 1\n",
    "        self.table = [[] for _ in range(self.buket)]\n",
    "\n",
    "    def put(self, key, value):\n",
    "        \"\"\"\n",
    "        value will always be non-negative.\n",
    "        :type key: int\n",
    "        :type value: int\n",
    "        :rtype: None\n",
    "        \"\"\"\n",
    "        if not self.table[key%self.buket]:\n",
    "            self.table[key%self.buket] = [-1] * self.buketsize\n",
    "        self.table[key%self.buket][key//self.buket] = value\n",
    "\n",
    "    def get(self, key):\n",
    "        \"\"\"\n",
    "        Returns the value to which the specified key is mapped, or -1 if this map contains no mapping for the key\n",
    "        :type key: int\n",
    "        :rtype: int\n",
    "        \"\"\"\n",
    "        if self.table[key%self.buket]:\n",
    "            return self.table[key%self.buket][key//self.buket]\n",
    "        return -1\n",
    "\n",
    "    def remove(self, key):\n",
    "        \"\"\"\n",
    "        Removes the mapping of the specified value key if this map contains a mapping for the key\n",
    "        :type key: int\n",
    "        :rtype: None\n",
    "        \"\"\"\n",
    "        if self.table[key%self.buket]:\n",
    "            self.table[key%self.buket][key//self.buket] = -1"
   ]
  }
 ],
 "metadata": {
  "kernelspec": {
   "display_name": "Python 3",
   "language": "python",
   "name": "python3"
  },
  "language_info": {
   "codemirror_mode": {
    "name": "ipython",
    "version": 3
   },
   "file_extension": ".py",
   "mimetype": "text/x-python",
   "name": "python",
   "nbconvert_exporter": "python",
   "pygments_lexer": "ipython3",
   "version": "3.7.1"
  },
  "toc": {
   "base_numbering": 1,
   "nav_menu": {},
   "number_sections": true,
   "sideBar": false,
   "skip_h1_title": false,
   "title_cell": "Table of Contents",
   "title_sidebar": "Contents",
   "toc_cell": false,
   "toc_position": {},
   "toc_section_display": true,
   "toc_window_display": false
  }
 },
 "nbformat": 4,
 "nbformat_minor": 2
}
