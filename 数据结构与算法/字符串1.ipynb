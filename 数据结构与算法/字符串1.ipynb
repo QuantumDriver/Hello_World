{
 "cells": [
  {
   "cell_type": "markdown",
   "metadata": {},
   "source": [
    "### 字符串"
   ]
  },
  {
   "cell_type": "markdown",
   "metadata": {},
   "source": [
    "![微信截图_20190722162703.png](https://i.loli.net/2019/07/23/5d361c2ea3c1216802.png)"
   ]
  },
  {
   "cell_type": "markdown",
   "metadata": {},
   "source": [
    "对于这个题，我个人的想法是，把两个数组做成一样的长度，长度不够的数组直接往前面放0。<br><br>\n",
    "比如\"111\"+\"1\"=\\[1,1,1\\]+\\[0,0,1\\]。再设置一个全为0的结果列表去匹配两个数组。这样一来就不必原列表上进行操作了。<br><br>\n",
    "再把一个元素的下一位是否需要进位的操作，用flag来表示，true则进位，false则不进。<br><br>\n",
    "a，b中元素相加的结果赋值给给结果列表中相应位置的元素。元素值有可能等0,1,2,3，当元素等于2,3时，需要进位，元素值也要改成1或者2。如果最后的flag是true，则说明还要进位，则加列表前加1。"
   ]
  },
  {
   "cell_type": "markdown",
   "metadata": {},
   "source": [
    "- 立flag法"
   ]
  },
  {
   "cell_type": "code",
   "execution_count": 14,
   "metadata": {},
   "outputs": [],
   "source": [
    "class Solution(object):\n",
    "    def addBinary(self, a, b):\n",
    "        \"\"\"\n",
    "        :type a: str\n",
    "        :type b: str\n",
    "        :rtype: str\n",
    "        \"\"\"\n",
    "        A = [int(_) for _ in a]\n",
    "        B = [int(_) for _ in b]\n",
    "        M,N = len(A),len(B)\n",
    "        length = max(M,N)\n",
    "        if M >= N:\n",
    "            B = [0]*(M-N) + B\n",
    "        else:\n",
    "            A = [0]*(N-M) + A\n",
    "        flag = False\n",
    "        res = [0] * length\n",
    "        for i in range(length-1,-1,-1):\n",
    "            if flag:\n",
    "                res[i] = A[i] + B[i] + 1\n",
    "                if res[i] == 2:\n",
    "                    res[i] = 0\n",
    "                    flag = True\n",
    "                elif res[i] == 3:\n",
    "                    res[i] = 1\n",
    "                    flag = True\n",
    "                else: flag = False\n",
    "            else:\n",
    "                res[i] = A[i] + B[i]\n",
    "                if res[i] == 2:\n",
    "                    res[i] = 0\n",
    "                    flag = True\n",
    "                elif res[i] == 3:\n",
    "                    res[i] = 1\n",
    "                    flag = True\n",
    "                else: flag = False\n",
    "        if flag:\n",
    "            res = [1] + res\n",
    "        res = ''.join([str(_) for _ in res])\n",
    "        return res"
   ]
  },
  {
   "cell_type": "markdown",
   "metadata": {},
   "source": [
    "合并法就是在基于上面的方法下进行改进，去掉flag操作。结果列表s直接由原列表对应相加生成，且在头部加入一个0元素，这样是为了方便进位，当需要进行进位时，直接可以用索引将当前元素的前一位+1。当第一个元素为0时，说明进位没有发生，直接返回第一个元素之后的元素即可。\n",
    "- 合并法"
   ]
  },
  {
   "cell_type": "code",
   "execution_count": 15,
   "metadata": {},
   "outputs": [],
   "source": [
    "class Solution:\n",
    "    def addBinary(self, a: str, b: str) -> str:\n",
    "        A,B = [int(_) for _ in a],[int(_) for _ in b]\n",
    "        M,N = len(A),len(B)\n",
    "        if M >= N:\n",
    "            B = [0] * (M-N) + B\n",
    "        else:\n",
    "            A = [0] * (N-M) + A\n",
    "        s = [0] + [x+y for x,y in zip(A,B)]\n",
    "        for i in range(len(s)-1,-1,-1):\n",
    "            if s[i] == 2:\n",
    "                s[i] = 0\n",
    "                s[i-1] += 1\n",
    "            elif s[i] == 3:\n",
    "                s[i] = 1\n",
    "                s[i-1] += 1\n",
    "            else:\n",
    "                continue\n",
    "        res = ''.join([str(_) for _ in s])\n",
    "        if res[0] == '0':\n",
    "            return res[1:]\n",
    "        return res"
   ]
  }
 ],
 "metadata": {
  "kernelspec": {
   "display_name": "Python 3",
   "language": "python",
   "name": "python3"
  },
  "language_info": {
   "codemirror_mode": {
    "name": "ipython",
    "version": 3
   },
   "file_extension": ".py",
   "mimetype": "text/x-python",
   "name": "python",
   "nbconvert_exporter": "python",
   "pygments_lexer": "ipython3",
   "version": "3.7.1"
  }
 },
 "nbformat": 4,
 "nbformat_minor": 2
}
