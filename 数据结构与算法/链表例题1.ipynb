{
 "cells": [
  {
   "cell_type": "markdown",
   "metadata": {},
   "source": [
    "### 设计链表"
   ]
  },
  {
   "cell_type": "markdown",
   "metadata": {},
   "source": [
    "![微信截图_20190804114043.png](https://i.loli.net/2019/08/04/BciUVso21rEqCIv.png)\n",
    "![微信截图_20190804114056.png](https://i.loli.net/2019/08/04/tb7knWlIZfa6x85.png)\n"
   ]
  },
  {
   "cell_type": "code",
   "execution_count": 56,
   "metadata": {},
   "outputs": [],
   "source": [
    "class MyLinkedList(object):\n",
    "\n",
    "    def __init__(self):\n",
    "        \"\"\"\n",
    "        Initialize your data structure here.\n",
    "        \"\"\"\n",
    "        self.l = list()\n",
    "\n",
    "    def get(self, index):\n",
    "        \"\"\"\n",
    "        Get the value of the index-th node in the linked list. If the index is invalid, return -1.\n",
    "        :type index: int\n",
    "        :rtype: int\n",
    "        \"\"\"\n",
    "        if 0 <= index < len(self.l):\n",
    "            return self.l[index]\n",
    "        return -1\n",
    "\n",
    "    def addAtHead(self, val):\n",
    "        \"\"\"\n",
    "        Add a node of value val before the first element of the linked list. After the insertion, the new node will be the first node of the linked list.\n",
    "        :type val: int\n",
    "        :rtype: None\n",
    "        \"\"\"\n",
    "        self.l.insert(0,val)\n",
    "\n",
    "    def addAtTail(self, val):\n",
    "        \"\"\"\n",
    "        Append a node of value val to the last element of the linked list.\n",
    "        :type val: int\n",
    "        :rtype: None\n",
    "        \"\"\"\n",
    "        self.l.append(val)\n",
    "\n",
    "    def addAtIndex(self, index, val):\n",
    "        \"\"\"\n",
    "        Add a node of value val before the index-th node in the linked list. If index equals to the length of linked list, the node will be appended to the end of linked list. If index is greater than the length, the node will not be inserted.\n",
    "        :type index: int\n",
    "        :type val: int\n",
    "        :rtype: None\n",
    "        \"\"\"\n",
    "        if 0 <= index <= len(self.l):\n",
    "            self.l.insert(index,val)\n",
    "        elif 0 > index:\n",
    "            self.l.insert(0,val)\n",
    "\n",
    "    def deleteAtIndex(self, index):\n",
    "        \"\"\"\n",
    "        Delete the index-th node in the linked list, if the index is valid.\n",
    "        :type index: int\n",
    "        :rtype: None\n",
    "        \"\"\"\n",
    "        if 0 <= index < len(self.l):\n",
    "            del self.l[index]\n",
    "\n",
    "\n",
    "# Your MyLinkedList object will be instantiated and called as such:\n",
    "# obj = MyLinkedList()\n",
    "# param_1 = obj.get(index)\n",
    "# obj.addAtHead(val)\n",
    "# obj.addAtTail(val)\n",
    "# obj.addAtIndex(index,val)\n",
    "# obj.deleteAtIndex(index)"
   ]
  },
  {
   "cell_type": "markdown",
   "metadata": {},
   "source": [
    "### 环形链表"
   ]
  },
  {
   "cell_type": "markdown",
   "metadata": {},
   "source": [
    "![微信截图_20190804182040.png](https://i.loli.net/2019/08/05/sDGLxzPRTAMHKwY.png)\n",
    "![微信截图_20190804182052.png](https://i.loli.net/2019/08/05/ACa4m1IUwJV8be6.png)"
   ]
  },
  {
   "cell_type": "markdown",
   "metadata": {},
   "source": [
    "- 哈希表"
   ]
  },
  {
   "cell_type": "code",
   "execution_count": null,
   "metadata": {},
   "outputs": [],
   "source": [
    "# Definition for singly-linked list.\n",
    "# class ListNode(object):\n",
    "#     def __init__(self, x):\n",
    "#         self.val = x\n",
    "#         self.next = None\n",
    "\n",
    "class Solution(object):\n",
    "    def hasCycle(self, head):\n",
    "        \"\"\"\n",
    "        :type head: ListNode\n",
    "        :rtype: bool\n",
    "        \"\"\"\n",
    "        nodes = set()\n",
    "        if not head or not head.next: return False\n",
    "        \n",
    "        while head:\n",
    "            if head in nodes:\n",
    "                return True\n",
    "            nodes.add(head)\n",
    "            head = head.next\n",
    "        \n",
    "        return False"
   ]
  },
  {
   "cell_type": "markdown",
   "metadata": {},
   "source": [
    "- 双指针"
   ]
  },
  {
   "cell_type": "code",
   "execution_count": 57,
   "metadata": {},
   "outputs": [],
   "source": [
    "# Definition for singly-linked list.\n",
    "# class ListNode(object):\n",
    "#     def __init__(self, x):\n",
    "#         self.val = x\n",
    "#         self.next = None\n",
    "\n",
    "class Solution(object):\n",
    "    def hasCycle(self, head):\n",
    "        \"\"\"\n",
    "        :type head: ListNode\n",
    "        :rtype: bool\n",
    "        \"\"\"\n",
    "        if not head or not head.next: return False\n",
    "        \n",
    "        fast = slow = head\n",
    "        while fast and fast.next:\n",
    "            slow = slow.next\n",
    "            fast = fast.next.next\n",
    "            if slow == fast: return True        \n",
    "        return False"
   ]
  },
  {
   "cell_type": "markdown",
   "metadata": {},
   "source": [
    "### 环形链表2"
   ]
  },
  {
   "cell_type": "markdown",
   "metadata": {},
   "source": [
    "![微信截图_20190804212804.png](https://i.loli.net/2019/08/05/YVuahRSOMwKsr6p.png)\n",
    "![微信截图_20190804212814.png](https://i.loli.net/2019/08/05/eNUKth7Jqg6MQSD.png)<br><br>\n",
    "假设头到环点的距离为a，在环内走了x步，slow=a+x。fast走了m圈，一圈为b步，最后fast追上了slow。又因为fast始终是走两步，而slow是走一步。所以有 2slow = fast，即 a+mb+x = 2a+2x,推出 a=mb-x。<br><br>\n",
    "对于fast而言，此时走了a+mb+x步，如果再走a步，有2a+mb+x步，代入x=mb-a，则有a+2mb,即刚好走了两圈,回到环点。"
   ]
  },
  {
   "cell_type": "code",
   "execution_count": null,
   "metadata": {},
   "outputs": [],
   "source": [
    "# Definition for singly-linked list.\n",
    "# class ListNode(object):\n",
    "#     def __init__(self, x):\n",
    "#         self.val = x\n",
    "#         self.next = None\n",
    "\n",
    "class Solution(object):\n",
    "    def detectCycle(self, head):\n",
    "        \"\"\"\n",
    "        :type head: ListNode\n",
    "        :rtype: ListNode\n",
    "        \"\"\"\n",
    "        if not head or not head.next: return\n",
    "        \n",
    "        slow,fast = head.next, head.next.next\n",
    "        \n",
    "        while fast:\n",
    "            if fast != slow:\n",
    "                if fast.next:\n",
    "                    fast = fast.next.next\n",
    "                else: return\n",
    "                slow = slow.next\n",
    "            else:\n",
    "                while head != fast:\n",
    "                    head = head.next\n",
    "                    fast = fast.next\n",
    "                return head"
   ]
  }
 ],
 "metadata": {
  "kernelspec": {
   "display_name": "Python 3",
   "language": "python",
   "name": "python3"
  },
  "language_info": {
   "codemirror_mode": {
    "name": "ipython",
    "version": 3
   },
   "file_extension": ".py",
   "mimetype": "text/x-python",
   "name": "python",
   "nbconvert_exporter": "python",
   "pygments_lexer": "ipython3",
   "version": "3.7.1"
  },
  "toc": {
   "base_numbering": 1,
   "nav_menu": {},
   "number_sections": true,
   "sideBar": false,
   "skip_h1_title": false,
   "title_cell": "Table of Contents",
   "title_sidebar": "Contents",
   "toc_cell": false,
   "toc_position": {},
   "toc_section_display": true,
   "toc_window_display": false
  }
 },
 "nbformat": 4,
 "nbformat_minor": 2
}
