{
 "cells": [
  {
   "cell_type": "markdown",
   "metadata": {},
   "source": [
    "### 图像渲染<br>\n",
    "![微信截图_20190803093538.png](https://i.loli.net/2019/08/03/yzWvxKXP2t9hrmE.png)\n",
    "![微信截图_20190803093549.png](https://i.loli.net/2019/08/03/E16FQeUpwBlIz5P.png)"
   ]
  },
  {
   "cell_type": "markdown",
   "metadata": {},
   "source": [
    "这道题类似岛屿数量，但要注意设置了sr,sc作为起始点，另外要注意，如果起始点颜色就和要更改的颜色相同，就没必要再进行操作了。"
   ]
  },
  {
   "cell_type": "markdown",
   "metadata": {},
   "source": [
    "- DFS"
   ]
  },
  {
   "cell_type": "code",
   "execution_count": 56,
   "metadata": {},
   "outputs": [],
   "source": [
    "class Solution(object):\n",
    "    def floodFill(self, image, sr, sc, newColor):\n",
    "        \"\"\"\n",
    "        :type image: List[List[int]]\n",
    "        :type sr: int\n",
    "        :type sc: int\n",
    "        :type newColor: int\n",
    "        :rtype: List[List[int]]\n",
    "        \"\"\"\n",
    "        if not image: return\n",
    "        \n",
    "        y,x = len(image),len(image[0])\n",
    "        image = [[-1]*x] + image + [[-1]*x]\n",
    "        for i in range(y+2):\n",
    "            image[i] = [-1] + image[i] + [-1]\n",
    "        \n",
    "        def change(y,x):\n",
    "            if image[y][x] == newColor: return\n",
    "            old = image[y][x]\n",
    "            image[y][x] = newColor\n",
    "            if image[y-1][x] == old: change(y-1,x)\n",
    "            if image[y+1][x] == old: change(y+1,x)\n",
    "            if image[y][x-1] == old: change(y,x-1)\n",
    "            if image[y][x+1] == old: change(y,x+1)\n",
    "        \n",
    "        change(sr+1,sc+1)\n",
    "        shave = lambda s: s.pop() and s.pop(0)\n",
    "        shave(image),[shave(i) for i in image]\n",
    "        \n",
    "        return image"
   ]
  },
  {
   "cell_type": "markdown",
   "metadata": {},
   "source": [
    "- BFS"
   ]
  },
  {
   "cell_type": "code",
   "execution_count": 55,
   "metadata": {},
   "outputs": [],
   "source": [
    "class Solution(object):\n",
    "    def floodFill(self, image, sr, sc, newColor):\n",
    "        \"\"\"\n",
    "        :type image: List[List[int]]\n",
    "        :type sr: int\n",
    "        :type sc: int\n",
    "        :type newColor: int\n",
    "        :rtype: List[List[int]]\n",
    "        \"\"\"\n",
    "        if not image: return\n",
    "        \n",
    "        def bfs(y,x):\n",
    "            que = [[y,x]]\n",
    "            while que:\n",
    "                y,x = que.pop()\n",
    "                if 0 <= y < len(image) and 0 <= x < len(image[0]) and image[y][x] == old:\n",
    "                    if image[y][x] == newColor: return\n",
    "                    image[y][x] = newColor\n",
    "                    que += [[y-1,x],[y+1,x],[y,x-1],[y,x+1]]\n",
    "        \n",
    "        old = image[sr][sc]\n",
    "        bfs(sr,sc)\n",
    "        return image"
   ]
  },
  {
   "cell_type": "markdown",
   "metadata": {},
   "source": [
    "### 01矩阵<br>\n",
    "![微信截图_20190803110716.png](https://i.loli.net/2019/08/03/bTvW4yXgrfYBAVN.png)\n",
    "![微信截图_20190803110738.png](https://i.loli.net/2019/08/03/XUgSy6HTfs4pJMj.png)"
   ]
  },
  {
   "cell_type": "markdown",
   "metadata": {},
   "source": [
    "- 使用BFS的方法\n",
    "\n",
    "因为矩阵只有0,1。所以先把0的坐标扫进队列里，再把0旁边的数加入，把值加1，这个旁边的数的坐标也加入队列。"
   ]
  },
  {
   "cell_type": "code",
   "execution_count": 69,
   "metadata": {},
   "outputs": [],
   "source": [
    "import collections"
   ]
  },
  {
   "cell_type": "code",
   "execution_count": 70,
   "metadata": {},
   "outputs": [],
   "source": [
    "class Solution:\n",
    "    def updateMatrix(self, matrix):\n",
    "        \"\"\"\n",
    "        :type matrix: List[List[int]]\n",
    "        :rtype: List[List[int]]\n",
    "        \"\"\"\n",
    "        m, n = len(matrix), len(matrix[0])\n",
    "        Q = collections.deque([])\n",
    "        visited = set()\n",
    "        # 初始化队列，将所有起始点加入\n",
    "        for i in range(m):\n",
    "            for j in range(n):\n",
    "                if matrix[i][j] == 0:\n",
    "                    Q.append((i, j))\n",
    "                    visited.add((i, j))\n",
    "        # 将所有相邻节点加入队列\n",
    "        while Q:\n",
    "            i, j = Q.popleft()\n",
    "            for x, y in [(i+1, j), (i-1, j), (i, j+1), (i, j-1)]:\n",
    "                if 0 <= x < m and 0 <= y < n and (x, y) not in visited:\n",
    "                    matrix[x][y] = matrix[i][j] + 1\n",
    "                    visited.add((x, y))\n",
    "                    Q.append((x, y))\n",
    "        return matrix"
   ]
  },
  {
   "cell_type": "markdown",
   "metadata": {},
   "source": [
    "- 不用deque"
   ]
  },
  {
   "cell_type": "code",
   "execution_count": null,
   "metadata": {},
   "outputs": [],
   "source": [
    "class Solution(object):\n",
    "    def updateMatrix(self, matrix):\n",
    "        \"\"\"\n",
    "        :type matrix: List[List[int]]\n",
    "        :rtype: List[List[int]]\n",
    "        \"\"\"\n",
    "        que = []\n",
    "        visited = set()\n",
    "        m,n = len(matrix),len(matrix[0])\n",
    "        for i in range(m):\n",
    "            for j in range(n):\n",
    "                if matrix[i][j] == 0:\n",
    "                    que.append([i,j])\n",
    "                    visited.add((i,j))\n",
    "        \n",
    "        while que:\n",
    "            i,j = que.pop(0)\n",
    "            for y,x in [[i+1,j],[i-1,j],[i,j+1],[i,j-1]]:\n",
    "                if 0 <= y < m and 0 <= x < n and (y,x) not in visited:\n",
    "                    matrix[y][x] = matrix[i][j] + 1\n",
    "                    que.append([y,x])\n",
    "                    visited.add((y,x))\n",
    "        \n",
    "        return matrix  "
   ]
  },
  {
   "cell_type": "markdown",
   "metadata": {},
   "source": [
    "### 钥匙和房间"
   ]
  },
  {
   "cell_type": "markdown",
   "metadata": {},
   "source": [
    "![微信截图_20190803214025.png](https://i.loli.net/2019/08/04/wD2jCui8e461spV.png)\n",
    "![微信截图_20190803214015.png](https://i.loli.net/2019/08/04/h6tyoGnRw5Bilsm.png)"
   ]
  },
  {
   "cell_type": "markdown",
   "metadata": {},
   "source": [
    "- 自己想的BFS的方案\n",
    "\n",
    "利用队列先把第一个房间的钥匙取出，然后rooms\\[key\\]对应能打开的房间，房间加入队列里面。循环弹出队里的房间，房间再取出钥匙，这样一直循环下去。当然，每次取出钥匙都要放入钥匙串中，即 keys = set()。"
   ]
  },
  {
   "cell_type": "code",
   "execution_count": 76,
   "metadata": {},
   "outputs": [],
   "source": [
    "class Solution(object):\n",
    "    def canVisitAllRooms(self, rooms):\n",
    "        \"\"\"\n",
    "        :type rooms: List[List[int]]\n",
    "        :rtype: bool\n",
    "        \"\"\"        \n",
    "        que = rooms[0]\n",
    "        keys = set()\n",
    "        while que:\n",
    "            key = que.pop(0)\n",
    "            if key in keys:\n",
    "                continue\n",
    "            keys.add(key)\n",
    "            room = rooms[key]\n",
    "            que = que + room\n",
    "        \n",
    "        for i in range(1,len(rooms)):\n",
    "            if i not in keys:\n",
    "                return False\n",
    "        \n",
    "        return True"
   ]
  }
 ],
 "metadata": {
  "kernelspec": {
   "display_name": "Python 3",
   "language": "python",
   "name": "python3"
  },
  "language_info": {
   "codemirror_mode": {
    "name": "ipython",
    "version": 3
   },
   "file_extension": ".py",
   "mimetype": "text/x-python",
   "name": "python",
   "nbconvert_exporter": "python",
   "pygments_lexer": "ipython3",
   "version": "3.7.1"
  },
  "toc": {
   "base_numbering": 1,
   "nav_menu": {},
   "number_sections": true,
   "sideBar": false,
   "skip_h1_title": false,
   "title_cell": "Table of Contents",
   "title_sidebar": "Contents",
   "toc_cell": false,
   "toc_position": {},
   "toc_section_display": true,
   "toc_window_display": false
  }
 },
 "nbformat": 4,
 "nbformat_minor": 2
}
