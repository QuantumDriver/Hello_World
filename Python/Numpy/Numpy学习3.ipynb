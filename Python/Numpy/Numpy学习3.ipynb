{
 "cells": [
  {
   "cell_type": "markdown",
   "metadata": {},
   "source": [
    "### 数组操作"
   ]
  },
  {
   "cell_type": "markdown",
   "metadata": {},
   "source": [
    "- 通过shape来改变数组的形状"
   ]
  },
  {
   "cell_type": "code",
   "execution_count": 1,
   "metadata": {},
   "outputs": [
    {
     "name": "stdout",
     "output_type": "stream",
     "text": [
      "(8,)\n",
      "[[1 2 9 4]\n",
      " [5 6 7 8]]\n"
     ]
    }
   ],
   "source": [
    "import numpy as np\n",
    "\n",
    "x = np.array([1, 2, 9, 4, 5, 6, 7, 8])\n",
    "print(x.shape) \n",
    "x.shape = [2, 4]\n",
    "print(x)"
   ]
  },
  {
   "cell_type": "code",
   "execution_count": 2,
   "metadata": {},
   "outputs": [
    {
     "name": "stdout",
     "output_type": "stream",
     "text": [
      "<numpy.flatiter object at 0x000001BEF7AE8AC0>\n",
      "11 12 13 14 15 16 17 18 19 20 21 22 23 24 25 26 27 28 29 30 31 32 33 34 35 \n",
      "[[11 12 13  0 15]\n",
      " [16 17 18 19 20]\n",
      " [21 22 23 24 25]\n",
      " [26 27 28 29 30]\n",
      " [31 32 33 34 35]]\n"
     ]
    }
   ],
   "source": [
    "# flat打平数组\n",
    "x = np.array([[11, 12, 13, 14, 15],\n",
    "              [16, 17, 18, 19, 20],\n",
    "              [21, 22, 23, 24, 25],\n",
    "              [26, 27, 28, 29, 30],\n",
    "              [31, 32, 33, 34, 35]])\n",
    "y = x.flat\n",
    "print(y)\n",
    "\n",
    "for i in y:\n",
    "    print(i, end=' ')\n",
    "\n",
    "y[3] = 0\n",
    "print(end='\\n')\n",
    "print(x)"
   ]
  },
  {
   "cell_type": "code",
   "execution_count": 3,
   "metadata": {},
   "outputs": [
    {
     "name": "stdout",
     "output_type": "stream",
     "text": [
      "[11 12 13 14 15 16 17 18 19 20 21 22 23 24 25 26 27 28 29 30 31 32 33 34\n",
      " 35]\n",
      "[[11 12 13 14 15]\n",
      " [16 17 18 19 20]\n",
      " [21 22 23 24 25]\n",
      " [26 27 28 29 30]\n",
      " [31 32 33 34 35]]\n",
      "[11 16 21 26 31 12 17 22 27 32 13 18 23 28 33 14 19 24 29 34 15 20 25 30\n",
      " 35]\n",
      "[[11 12 13 14 15]\n",
      " [16 17 18 19 20]\n",
      " [21 22 23 24 25]\n",
      " [26 27 28 29 30]\n",
      " [31 32 33 34 35]]\n"
     ]
    }
   ],
   "source": [
    "# flatten()返回的是拷贝\n",
    "x = np.array([[11, 12, 13, 14, 15],\n",
    "              [16, 17, 18, 19, 20],\n",
    "              [21, 22, 23, 24, 25],\n",
    "              [26, 27, 28, 29, 30],\n",
    "              [31, 32, 33, 34, 35]])\n",
    "y = x.flatten()\n",
    "print(y)\n",
    "\n",
    "y[3] = 0\n",
    "print(x)\n",
    "\n",
    "x = np.array([[11, 12, 13, 14, 15],\n",
    "              [16, 17, 18, 19, 20],\n",
    "              [21, 22, 23, 24, 25],\n",
    "              [26, 27, 28, 29, 30],\n",
    "              [31, 32, 33, 34, 35]])\n",
    "\n",
    "y = x.flatten(order='F')\n",
    "print(y)\n",
    "\n",
    "y[3] = 0\n",
    "print(x)"
   ]
  },
  {
   "cell_type": "code",
   "execution_count": 4,
   "metadata": {},
   "outputs": [
    {
     "name": "stdout",
     "output_type": "stream",
     "text": [
      "[11 12 13 14 15 16 17 18 19 20 21 22 23 24 25 26 27 28 29 30 31 32 33 34\n",
      " 35]\n",
      "[[11 12 13  0 15]\n",
      " [16 17 18 19 20]\n",
      " [21 22 23 24 25]\n",
      " [26 27 28 29 30]\n",
      " [31 32 33 34 35]]\n"
     ]
    }
   ],
   "source": [
    "# ravel共享内存\n",
    "x = np.array([[11, 12, 13, 14, 15],\n",
    "              [16, 17, 18, 19, 20],\n",
    "              [21, 22, 23, 24, 25],\n",
    "              [26, 27, 28, 29, 30],\n",
    "              [31, 32, 33, 34, 35]])\n",
    "y = np.ravel(x)\n",
    "print(y)\n",
    "\n",
    "y[3] = 0\n",
    "print(x)"
   ]
  },
  {
   "cell_type": "code",
   "execution_count": 5,
   "metadata": {},
   "outputs": [
    {
     "name": "stdout",
     "output_type": "stream",
     "text": [
      "int32\n",
      "[[ 0  1  2  3]\n",
      " [ 4  5  6  7]\n",
      " [ 8  9 10 11]]\n",
      "[[ 0  1  2  3]\n",
      " [ 4  5  6  7]\n",
      " [ 8  9 10 11]]\n",
      "[[ 0  1  2]\n",
      " [ 3  4  5]\n",
      " [ 6  7  8]\n",
      " [ 9 10 11]]\n",
      "[ 0 10  2  3  4  5  6  7  8  9 10 11]\n"
     ]
    }
   ],
   "source": [
    "# reshape重塑数组形状\n",
    "x = np.arange(12)\n",
    "y = np.reshape(x, [3, 4])\n",
    "print(y.dtype)\n",
    "print(y)\n",
    "\n",
    "y = np.reshape(x, [3, -1])\n",
    "print(y)\n",
    "\n",
    "y = np.reshape(x,[-1,3])\n",
    "print(y)\n",
    "\n",
    "y[0, 1] = 10\n",
    "print(x)"
   ]
  },
  {
   "cell_type": "code",
   "execution_count": 6,
   "metadata": {},
   "outputs": [
    {
     "name": "stdout",
     "output_type": "stream",
     "text": [
      "[[[ 8  6  7]\n",
      "  [ 4  6  4]]\n",
      "\n",
      " [[11  6  3]\n",
      "  [11  7  4]]]\n",
      "[ 8  6  7  4  6  4 11  6  3 11  7  4]\n"
     ]
    }
   ],
   "source": [
    "# reshape降维操作\n",
    "x = np.random.randint(12, size=[2, 2, 3])\n",
    "print(x)\n",
    "\n",
    "y = np.reshape(x, -1)\n",
    "print(y)"
   ]
  },
  {
   "cell_type": "code",
   "execution_count": 7,
   "metadata": {},
   "outputs": [
    {
     "name": "stdout",
     "output_type": "stream",
     "text": [
      "[[ 0  1  2  3]\n",
      " [ 4  5  6  7]\n",
      " [ 8  9 10 11]]\n",
      "[ 0  1  2  3  4  5  6  7  8  9 10 11]\n"
     ]
    }
   ],
   "source": [
    "x = np.arange(12)\n",
    "x = np.reshape(x,[3,-1])\n",
    "y = np.reshape(x,-1)\n",
    "print(x)\n",
    "print(y)"
   ]
  },
  {
   "cell_type": "code",
   "execution_count": 8,
   "metadata": {},
   "outputs": [
    {
     "name": "stdout",
     "output_type": "stream",
     "text": [
      "[[0.94 5.71 4.21 8.64 5.83]\n",
      " [1.98 1.95 9.49 1.37 2.44]\n",
      " [0.47 3.3  6.32 0.37 7.8 ]\n",
      " [1.59 6.88 8.13 7.34 9.95]\n",
      " [0.42 9.18 2.07 8.09 8.93]]\n",
      "[[0.94 1.98 0.47 1.59 0.42]\n",
      " [5.71 1.95 3.3  6.88 9.18]\n",
      " [4.21 9.49 6.32 8.13 2.07]\n",
      " [8.64 1.37 0.37 7.34 8.09]\n",
      " [5.83 2.44 7.8  9.95 8.93]]\n",
      "[[0.94 1.98 0.47 1.59 0.42]\n",
      " [5.71 1.95 3.3  6.88 9.18]\n",
      " [4.21 9.49 6.32 8.13 2.07]\n",
      " [8.64 1.37 0.37 7.34 8.09]\n",
      " [5.83 2.44 7.8  9.95 8.93]]\n"
     ]
    }
   ],
   "source": [
    "# 转置\n",
    "x = np.random.rand(5, 5) * 10\n",
    "x = np.around(x, 2)\n",
    "print(x)\n",
    "\n",
    "y = x.T\n",
    "print(y)\n",
    "\n",
    "y = np.transpose(x)\n",
    "print(y)"
   ]
  },
  {
   "cell_type": "code",
   "execution_count": 9,
   "metadata": {},
   "outputs": [
    {
     "name": "stdout",
     "output_type": "stream",
     "text": [
      "(8,)\n",
      "[1 2 9 4 5 6 7 8]\n",
      "(1, 8)\n",
      "[[1 2 9 4 5 6 7 8]]\n",
      "(8, 1)\n",
      "[[1]\n",
      " [2]\n",
      " [9]\n",
      " [4]\n",
      " [5]\n",
      " [6]\n",
      " [7]\n",
      " [8]]\n"
     ]
    }
   ],
   "source": [
    "# 增加维度\n",
    "x = np.array([1, 2, 9, 4, 5, 6, 7, 8])\n",
    "print(x.shape)\n",
    "print(x)  \n",
    "\n",
    "y = x[np.newaxis, :]\n",
    "print(y.shape) \n",
    "print(y)\n",
    "\n",
    "y = x[:, np.newaxis]\n",
    "print(y.shape) \n",
    "print(y)"
   ]
  },
  {
   "cell_type": "code",
   "execution_count": 10,
   "metadata": {},
   "outputs": [
    {
     "name": "stdout",
     "output_type": "stream",
     "text": [
      "(10,)\n",
      "(1, 10)\n",
      "(10,)\n"
     ]
    }
   ],
   "source": [
    "# 删除维度\n",
    "x = np.arange(10)\n",
    "print(x.shape)\n",
    "x = x[np.newaxis, :]\n",
    "print(x.shape)\n",
    "y = np.squeeze(x)\n",
    "print(y.shape) "
   ]
  },
  {
   "cell_type": "code",
   "execution_count": 11,
   "metadata": {},
   "outputs": [
    {
     "name": "stdout",
     "output_type": "stream",
     "text": [
      "(1, 3, 1)\n",
      "[[[0]\n",
      "  [1]\n",
      "  [2]]]\n",
      "(3,)\n",
      "[0 1 2]\n",
      "(3, 1)\n",
      "[[0]\n",
      " [1]\n",
      " [2]]\n",
      "(1, 3)\n",
      "[[0 1 2]]\n"
     ]
    }
   ],
   "source": [
    "x = np.array([[[0], [1], [2]]])\n",
    "print(x.shape) \n",
    "print(x)\n",
    "\n",
    "y = np.squeeze(x)\n",
    "print(y.shape) \n",
    "print(y)  \n",
    "\n",
    "y = np.squeeze(x, axis=0)\n",
    "print(y.shape) \n",
    "print(y)\n",
    "\n",
    "y = np.squeeze(x, axis=2)\n",
    "print(y.shape)  \n",
    "print(y) \n",
    "\n",
    "# squeeze只能删除只有一个元素的维度\n",
    "# y = np.squeeze(x, axis=1)"
   ]
  },
  {
   "cell_type": "code",
   "execution_count": 12,
   "metadata": {},
   "outputs": [
    {
     "name": "stdout",
     "output_type": "stream",
     "text": [
      "(1, 5)\n"
     ]
    },
    {
     "data": {
      "image/png": "[encoded data removed]",
      "text/plain": [
       "<Figure size 432x288 with 1 Axes>"
      ]
     },
     "metadata": {
      "needs_background": "light"
     },
     "output_type": "display_data"
    }
   ],
   "source": [
    "import matplotlib.pyplot as plt\n",
    "\n",
    "x = np.array([[1, 4, 9, 16, 25]])\n",
    "print(x.shape)  # (1, 5)\n",
    "plt.plot(x)\n",
    "plt.show()"
   ]
  },
  {
   "cell_type": "code",
   "execution_count": 13,
   "metadata": {},
   "outputs": [
    {
     "name": "stdout",
     "output_type": "stream",
     "text": [
      "(5,)\n"
     ]
    },
    {
     "data": {
      "image/png": "[encoded data removed]",
      "text/plain": [
       "<Figure size 432x288 with 1 Axes>"
      ]
     },
     "metadata": {
      "needs_background": "light"
     },
     "output_type": "display_data"
    }
   ],
   "source": [
    "x = np.array([[1, 4, 9, 16, 25]])\n",
    "x = np.squeeze(x)\n",
    "print(x.shape)  # (5, )\n",
    "plt.plot(x)\n",
    "plt.show()"
   ]
  },
  {
   "cell_type": "markdown",
   "metadata": {},
   "source": [
    "- 数组组合"
   ]
  },
  {
   "cell_type": "code",
   "execution_count": 14,
   "metadata": {},
   "outputs": [
    {
     "name": "stdout",
     "output_type": "stream",
     "text": [
      "[1 2 3 7 8 9]\n",
      "[1 2 3 7 8 9]\n"
     ]
    }
   ],
   "source": [
    "x = np.array([1, 2, 3])\n",
    "y = np.array([7, 8, 9])\n",
    "z = np.concatenate([x, y])\n",
    "print(z)\n",
    "\n",
    "z = np.concatenate([x, y], axis=0)\n",
    "print(z)"
   ]
  },
  {
   "cell_type": "code",
   "execution_count": 16,
   "metadata": {},
   "outputs": [
    {
     "name": "stdout",
     "output_type": "stream",
     "text": [
      "[[1 2 3]\n",
      " [7 8 9]]\n",
      "[[1 2 3]\n",
      " [7 8 9]]\n",
      "[[1 2 3 7 8 9]]\n"
     ]
    }
   ],
   "source": [
    "# 不同维度的拼接\n",
    "x = np.array([1, 2, 3]).reshape(1, 3)\n",
    "y = np.array([7, 8, 9]).reshape(1, 3)\n",
    "z = np.concatenate([x, y])\n",
    "print(z)\n",
    "\n",
    "z = np.concatenate([x, y], axis=0)\n",
    "print(z)\n",
    "\n",
    "z = np.concatenate([x, y], axis=1)\n",
    "print(z)"
   ]
  },
  {
   "cell_type": "code",
   "execution_count": 17,
   "metadata": {},
   "outputs": [
    {
     "name": "stdout",
     "output_type": "stream",
     "text": [
      "[[ 1  2  3]\n",
      " [ 4  5  6]\n",
      " [ 7  8  9]\n",
      " [10 11 12]]\n",
      "[[ 1  2  3]\n",
      " [ 4  5  6]\n",
      " [ 7  8  9]\n",
      " [10 11 12]]\n",
      "[[ 1  2  3  7  8  9]\n",
      " [ 4  5  6 10 11 12]]\n"
     ]
    }
   ],
   "source": [
    "x = np.array([[1, 2, 3], [4, 5, 6]])\n",
    "y = np.array([[7, 8, 9], [10, 11, 12]])\n",
    "z = np.concatenate([x, y])\n",
    "print(z)\n",
    "\n",
    "z = np.concatenate([x, y], axis=0)\n",
    "print(z)\n",
    "\n",
    "z = np.concatenate([x, y], axis=1)\n",
    "print(z)"
   ]
  },
  {
   "cell_type": "code",
   "execution_count": 18,
   "metadata": {},
   "outputs": [
    {
     "name": "stdout",
     "output_type": "stream",
     "text": [
      "(2, 3)\n",
      "[[1 2 3]\n",
      " [7 8 9]]\n",
      "(3, 2)\n",
      "[[1 7]\n",
      " [2 8]\n",
      " [3 9]]\n"
     ]
    }
   ],
   "source": [
    "# 增加维度的拼接\n",
    "x = np.array([1, 2, 3])\n",
    "y = np.array([7, 8, 9])\n",
    "z = np.stack([x, y])\n",
    "print(z.shape) \n",
    "print(z)\n",
    "\n",
    "z = np.stack([x, y], axis=1)\n",
    "print(z.shape) \n",
    "print(z)"
   ]
  },
  {
   "cell_type": "code",
   "execution_count": 19,
   "metadata": {},
   "outputs": [
    {
     "name": "stdout",
     "output_type": "stream",
     "text": [
      "(2, 1, 3)\n",
      "[[[1 2 3]]\n",
      "\n",
      " [[7 8 9]]]\n",
      "(1, 2, 3)\n",
      "[[[1 2 3]\n",
      "  [7 8 9]]]\n",
      "(1, 3, 2)\n",
      "[[[1 7]\n",
      "  [2 8]\n",
      "  [3 9]]]\n"
     ]
    }
   ],
   "source": [
    "x = np.array([1, 2, 3]).reshape(1, 3)\n",
    "y = np.array([7, 8, 9]).reshape(1, 3)\n",
    "z = np.stack([x, y])\n",
    "print(z.shape) \n",
    "print(z)\n",
    "\n",
    "z = np.stack([x, y], axis=1)\n",
    "print(z.shape)\n",
    "print(z)\n",
    "\n",
    "z = np.stack([x, y], axis=2)\n",
    "print(z.shape) \n",
    "print(z)"
   ]
  },
  {
   "cell_type": "code",
   "execution_count": 20,
   "metadata": {},
   "outputs": [
    {
     "name": "stdout",
     "output_type": "stream",
     "text": [
      "(2, 3)\n",
      "[[1 2 3]\n",
      " [7 8 9]]\n",
      "(2, 3)\n",
      "[[1 2 3]\n",
      " [7 8 9]]\n",
      "(6,)\n",
      "[1 2 3 7 8 9]\n",
      "(6,)\n",
      "[1 2 3 7 8 9]\n"
     ]
    }
   ],
   "source": [
    "x = np.array([1, 2, 3])\n",
    "y = np.array([7, 8, 9])\n",
    "z = np.vstack((x, y))\n",
    "print(z.shape) \n",
    "print(z)\n",
    "\n",
    "z = np.stack([x, y])\n",
    "print(z.shape) \n",
    "print(z)\n",
    "\n",
    "z = np.hstack((x, y))\n",
    "print(z.shape)  \n",
    "print(z)\n",
    "\n",
    "z = np.concatenate((x, y))\n",
    "print(z.shape)\n",
    "print(z)"
   ]
  },
  {
   "cell_type": "markdown",
   "metadata": {},
   "source": [
    "- split(ary, indices_or_sections, axis=0)\n",
    "- indices_or_sections的类型为int或者一维数组，表示一个索引，也就是切的位置所在。indices_or_sections的值如果是一个整数的话，就用这个数平均分割原数组。indices_or_sections的值如果是一个数组的话，就以数组中的数字为索引切开"
   ]
  },
  {
   "cell_type": "code",
   "execution_count": 21,
   "metadata": {},
   "outputs": [
    {
     "name": "stdout",
     "output_type": "stream",
     "text": [
      "[array([[11, 12, 13, 14]]), array([[16, 17, 18, 19],\n",
      "       [21, 22, 23, 24]]), array([], shape=(0, 4), dtype=int32)]\n",
      "[array([[11],\n",
      "       [16],\n",
      "       [21]]), array([[12, 13],\n",
      "       [17, 18],\n",
      "       [22, 23]]), array([[14],\n",
      "       [19],\n",
      "       [24]])]\n"
     ]
    }
   ],
   "source": [
    "# 数组拆分\n",
    "x = np.array([[11, 12, 13, 14],\n",
    "              [16, 17, 18, 19],\n",
    "              [21, 22, 23, 24]])\n",
    "y = np.split(x, [1, 3])\n",
    "print(y)\n",
    "\n",
    "y = np.split(x, [1, 3], axis=1)\n",
    "print(y)"
   ]
  },
  {
   "cell_type": "code",
   "execution_count": 22,
   "metadata": {},
   "outputs": [
    {
     "name": "stdout",
     "output_type": "stream",
     "text": [
      "[array([[11, 12, 13, 14]]), array([[16, 17, 18, 19]]), array([[21, 22, 23, 24]])]\n",
      "[array([[11, 12, 13, 14]]), array([[16, 17, 18, 19]]), array([[21, 22, 23, 24]])]\n",
      "[array([[11, 12, 13, 14]]), array([[16, 17, 18, 19],\n",
      "       [21, 22, 23, 24]])]\n",
      "[array([[11, 12, 13, 14]]), array([[16, 17, 18, 19],\n",
      "       [21, 22, 23, 24]])]\n",
      "[array([[11, 12, 13, 14]]), array([[16, 17, 18, 19],\n",
      "       [21, 22, 23, 24]]), array([], shape=(0, 4), dtype=int32)]\n",
      "[array([[11, 12, 13, 14]]), array([[16, 17, 18, 19],\n",
      "       [21, 22, 23, 24]]), array([], shape=(0, 4), dtype=int32)]\n"
     ]
    }
   ],
   "source": [
    "x = np.array([[11, 12, 13, 14],\n",
    "              [16, 17, 18, 19],\n",
    "              [21, 22, 23, 24]])\n",
    "y = np.vsplit(x, 3)\n",
    "print(y)\n",
    "\n",
    "y = np.split(x, 3)\n",
    "print(y)\n",
    "\n",
    "y = np.vsplit(x, [1])\n",
    "print(y)\n",
    "\n",
    "y = np.split(x, [1])\n",
    "print(y)\n",
    "\n",
    "y = np.vsplit(x, [1, 3])\n",
    "print(y)\n",
    "\n",
    "y = np.split(x, [1, 3], axis=0)\n",
    "print(y)"
   ]
  },
  {
   "cell_type": "code",
   "execution_count": 23,
   "metadata": {},
   "outputs": [
    {
     "name": "stdout",
     "output_type": "stream",
     "text": [
      "[array([[11, 12],\n",
      "       [16, 17],\n",
      "       [21, 22]]), array([[13, 14],\n",
      "       [18, 19],\n",
      "       [23, 24]])]\n",
      "[array([[11, 12],\n",
      "       [16, 17],\n",
      "       [21, 22]]), array([[13, 14],\n",
      "       [18, 19],\n",
      "       [23, 24]])]\n",
      "[array([[11, 12, 13],\n",
      "       [16, 17, 18],\n",
      "       [21, 22, 23]]), array([[14],\n",
      "       [19],\n",
      "       [24]])]\n",
      "[array([[11, 12, 13],\n",
      "       [16, 17, 18],\n",
      "       [21, 22, 23]]), array([[14],\n",
      "       [19],\n",
      "       [24]])]\n",
      "[array([[11],\n",
      "       [16],\n",
      "       [21]]), array([[12, 13],\n",
      "       [17, 18],\n",
      "       [22, 23]]), array([[14],\n",
      "       [19],\n",
      "       [24]])]\n",
      "[array([[11],\n",
      "       [16],\n",
      "       [21]]), array([[12, 13],\n",
      "       [17, 18],\n",
      "       [22, 23]]), array([[14],\n",
      "       [19],\n",
      "       [24]])]\n"
     ]
    }
   ],
   "source": [
    "x = np.array([[11, 12, 13, 14],\n",
    "              [16, 17, 18, 19],\n",
    "              [21, 22, 23, 24]])\n",
    "y = np.hsplit(x, 2)\n",
    "print(y)\n",
    "\n",
    "y = np.split(x, 2, axis=1)\n",
    "print(y)\n",
    "\n",
    "y = np.hsplit(x, [3])\n",
    "print(y)\n",
    "\n",
    "y = np.split(x, [3], axis=1)\n",
    "print(y)\n",
    "\n",
    "y = np.hsplit(x, [1, 3])\n",
    "print(y)\n",
    "\n",
    "y = np.split(x, [1, 3], axis=1)\n",
    "print(y)"
   ]
  },
  {
   "cell_type": "markdown",
   "metadata": {},
   "source": [
    "- 数组拓展\n",
    "- tile平铺，像砖块一样，横着铺几块，竖着铺几块"
   ]
  },
  {
   "cell_type": "code",
   "execution_count": 24,
   "metadata": {},
   "outputs": [
    {
     "name": "stdout",
     "output_type": "stream",
     "text": [
      "[[1 2]\n",
      " [3 4]]\n",
      "[[1 2 1 2 1 2]\n",
      " [3 4 3 4 3 4]]\n",
      "[[1 2]\n",
      " [3 4]\n",
      " [1 2]\n",
      " [3 4]\n",
      " [1 2]\n",
      " [3 4]]\n",
      "[[1 2 1 2 1 2]\n",
      " [3 4 3 4 3 4]\n",
      " [1 2 1 2 1 2]\n",
      " [3 4 3 4 3 4]\n",
      " [1 2 1 2 1 2]\n",
      " [3 4 3 4 3 4]]\n"
     ]
    }
   ],
   "source": [
    "x = np.array([[1, 2], [3, 4]])\n",
    "print(x)\n",
    "\n",
    "y = np.tile(x, (1, 3))\n",
    "print(y)\n",
    "\n",
    "y = np.tile(x, (3, 1))\n",
    "print(y)\n",
    "\n",
    "y = np.tile(x, (3, 3))\n",
    "print(y)"
   ]
  },
  {
   "cell_type": "code",
   "execution_count": 25,
   "metadata": {},
   "outputs": [
    {
     "name": "stdout",
     "output_type": "stream",
     "text": [
      "[3 3 3 3]\n",
      "[1 1 2 2 3 3 4 4]\n",
      "[[1 2]\n",
      " [1 2]\n",
      " [3 4]\n",
      " [3 4]]\n",
      "[[1 1 2 2]\n",
      " [3 3 4 4]]\n",
      "[[1 2]\n",
      " [1 2]\n",
      " [3 4]\n",
      " [3 4]\n",
      " [3 4]]\n",
      "[[1 1 2 2 2]\n",
      " [3 3 4 4 4]]\n"
     ]
    }
   ],
   "source": [
    "# 元素的扩展\n",
    "x = np.repeat(3, 4)\n",
    "print(x)\n",
    "\n",
    "x = np.array([[1, 2], [3, 4]])\n",
    "y = np.repeat(x, 2)\n",
    "print(y)\n",
    "\n",
    "y = np.repeat(x, 2, axis=0)\n",
    "print(y)\n",
    "\n",
    "y = np.repeat(x, 2, axis=1)\n",
    "print(y)\n",
    "\n",
    "y = np.repeat(x, [2, 3], axis=0)\n",
    "print(y)\n",
    "\n",
    "y = np.repeat(x, [2, 3], axis=1)\n",
    "print(y)"
   ]
  }
 ],
 "metadata": {
  "kernelspec": {
   "display_name": "Python 3",
   "language": "python",
   "name": "python3"
  },
  "language_info": {
   "codemirror_mode": {
    "name": "ipython",
    "version": 3
   },
   "file_extension": ".py",
   "mimetype": "text/x-python",
   "name": "python",
   "nbconvert_exporter": "python",
   "pygments_lexer": "ipython3",
   "version": "3.7.3"
  },
  "toc": {
   "base_numbering": 1,
   "nav_menu": {},
   "number_sections": true,
   "sideBar": false,
   "skip_h1_title": false,
   "title_cell": "Table of Contents",
   "title_sidebar": "Contents",
   "toc_cell": false,
   "toc_position": {},
   "toc_section_display": true,
   "toc_window_display": false
  }
 },
 "nbformat": 4,
 "nbformat_minor": 2
}
