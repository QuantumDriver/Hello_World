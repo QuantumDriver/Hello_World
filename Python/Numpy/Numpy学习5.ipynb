{
 "cells": [
  {
   "cell_type": "markdown",
   "metadata": {},
   "source": [
    "### 排序"
   ]
  },
  {
   "cell_type": "code",
   "execution_count": 2,
   "metadata": {},
   "outputs": [
    {
     "name": "stdout",
     "output_type": "stream",
     "text": [
      "[[2.32 7.54 9.78 1.73 6.22]\n",
      " [6.93 5.17 9.28 9.76 8.25]\n",
      " [0.01 4.23 0.19 1.73 9.27]\n",
      " [7.99 4.97 0.88 7.32 4.29]\n",
      " [9.05 0.07 8.95 7.9  6.99]]\n",
      "[[1.73 2.32 6.22 7.54 9.78]\n",
      " [5.17 6.93 8.25 9.28 9.76]\n",
      " [0.01 0.19 1.73 4.23 9.27]\n",
      " [0.88 4.29 4.97 7.32 7.99]\n",
      " [0.07 6.99 7.9  8.95 9.05]]\n",
      "[[0.01 0.07 0.19 1.73 4.29]\n",
      " [2.32 4.23 0.88 1.73 6.22]\n",
      " [6.93 4.97 8.95 7.32 6.99]\n",
      " [7.99 5.17 9.28 7.9  8.25]\n",
      " [9.05 7.54 9.78 9.76 9.27]]\n",
      "[[1.73 2.32 6.22 7.54 9.78]\n",
      " [5.17 6.93 8.25 9.28 9.76]\n",
      " [0.01 0.19 1.73 4.23 9.27]\n",
      " [0.88 4.29 4.97 7.32 7.99]\n",
      " [0.07 6.99 7.9  8.95 9.05]]\n"
     ]
    }
   ],
   "source": [
    "import numpy as np\n",
    "\n",
    "np.random.seed(20200612)\n",
    "x = np.random.rand(5, 5) * 10\n",
    "x = np.around(x, 2)\n",
    "print(x)\n",
    "\n",
    "y = np.sort(x)\n",
    "print(y)\n",
    "\n",
    "y = np.sort(x, axis=0)\n",
    "print(y)\n",
    "\n",
    "y = np.sort(x, axis=1)\n",
    "print(y)"
   ]
  },
  {
   "cell_type": "code",
   "execution_count": 3,
   "metadata": {},
   "outputs": [
    {
     "name": "stdout",
     "output_type": "stream",
     "text": [
      "[(b'Bob', 17) (b'Jane', 27) (b'Mike', 21) (b'Nancy', 25)]\n",
      "[(b'Bob', 17) (b'Mike', 21) (b'Nancy', 25) (b'Jane', 27)]\n"
     ]
    }
   ],
   "source": [
    "dt = np.dtype([('name', 'S10'), ('age', np.int)])\n",
    "a = np.array([(\"Mike\", 21), (\"Nancy\", 25), (\"Bob\", 17), (\"Jane\", 27)], dtype=dt)\n",
    "b = np.sort(a, order='name')\n",
    "print(b)\n",
    "\n",
    "b = np.sort(a, order='age')\n",
    "print(b)"
   ]
  },
  {
   "cell_type": "markdown",
   "metadata": {},
   "source": [
    "- 从下面可以看出argsort函数返回的是数组值从小到大的索引值"
   ]
  },
  {
   "cell_type": "code",
   "execution_count": 4,
   "metadata": {},
   "outputs": [
    {
     "name": "stdout",
     "output_type": "stream",
     "text": [
      "[6 1 8 5 5 4 1 2 9 1]\n",
      "[1 6 9 7 5 3 4 0 2 8]\n",
      "[1 1 1 2 4 5 5 6 8 9]\n",
      "[8 2 0 3 4 5 7 1 6 9]\n",
      "[9 8 6 5 5 4 2 1 1 1]\n"
     ]
    }
   ],
   "source": [
    "np.random.seed(20200612)\n",
    "x = np.random.randint(0, 10, 10)\n",
    "print(x)\n",
    "\n",
    "y = np.argsort(x)\n",
    "print(y)\n",
    "\n",
    "print(x[y])\n",
    "\n",
    "y = np.argsort(-x)\n",
    "print(y)\n",
    "\n",
    "print(x[y])"
   ]
  },
  {
   "cell_type": "code",
   "execution_count": 5,
   "metadata": {},
   "outputs": [
    {
     "name": "stdout",
     "output_type": "stream",
     "text": [
      "[[2.32 7.54 9.78 1.73 6.22]\n",
      " [6.93 5.17 9.28 9.76 8.25]\n",
      " [0.01 4.23 0.19 1.73 9.27]\n",
      " [7.99 4.97 0.88 7.32 4.29]\n",
      " [9.05 0.07 8.95 7.9  6.99]]\n",
      "[[3 0 4 1 2]\n",
      " [1 0 4 2 3]\n",
      " [0 2 3 1 4]\n",
      " [2 4 1 3 0]\n",
      " [1 4 3 2 0]]\n",
      "[[2 4 2 0 3]\n",
      " [0 2 3 2 0]\n",
      " [1 3 4 3 4]\n",
      " [3 1 1 4 1]\n",
      " [4 0 0 1 2]]\n",
      "[[3 0 4 1 2]\n",
      " [1 0 4 2 3]\n",
      " [0 2 3 1 4]\n",
      " [2 4 1 3 0]\n",
      " [1 4 3 2 0]]\n",
      "[[1.73 2.32 6.22 7.54 9.78]\n",
      " [5.17 6.93 8.25 9.28 9.76]\n",
      " [0.01 0.19 1.73 4.23 9.27]\n",
      " [0.88 4.29 4.97 7.32 7.99]\n",
      " [0.07 6.99 7.9  8.95 9.05]]\n"
     ]
    }
   ],
   "source": [
    "np.random.seed(20200612)\n",
    "x = np.random.rand(5, 5) * 10\n",
    "x = np.around(x, 2)\n",
    "print(x)\n",
    "\n",
    "y = np.argsort(x)\n",
    "print(y)\n",
    "\n",
    "y = np.argsort(x, axis=0)\n",
    "print(y)\n",
    "\n",
    "y = np.argsort(x, axis=1)\n",
    "print(y)\n",
    "\n",
    "y = np.array([np.take(x[i], np.argsort(x[i])) for i in range(5)])  \n",
    "#numpy.take(a, indices, axis=None, out=None, mode='raise')沿轴从数组中获取元素。\n",
    "print(y)"
   ]
  },
  {
   "cell_type": "markdown",
   "metadata": {},
   "source": [
    "- 指定排序"
   ]
  },
  {
   "cell_type": "code",
   "execution_count": 6,
   "metadata": {},
   "outputs": [
    {
     "name": "stdout",
     "output_type": "stream",
     "text": [
      "[[2.32 7.54 9.78 1.73 6.22]\n",
      " [6.93 5.17 9.28 9.76 8.25]\n",
      " [0.01 4.23 0.19 1.73 9.27]\n",
      " [7.99 4.97 0.88 7.32 4.29]\n",
      " [9.05 0.07 8.95 7.9  6.99]]\n",
      "[2 0 1 3 4]\n",
      "[[0.01 4.23 0.19 1.73 9.27]\n",
      " [2.32 7.54 9.78 1.73 6.22]\n",
      " [6.93 5.17 9.28 9.76 8.25]\n",
      " [7.99 4.97 0.88 7.32 4.29]\n",
      " [9.05 0.07 8.95 7.9  6.99]]\n",
      "[4 3 1 0 2]\n",
      "[[9.05 0.07 8.95 7.9  6.99]\n",
      " [7.99 4.97 0.88 7.32 4.29]\n",
      " [6.93 5.17 9.28 9.76 8.25]\n",
      " [2.32 7.54 9.78 1.73 6.22]\n",
      " [0.01 4.23 0.19 1.73 9.27]]\n"
     ]
    }
   ],
   "source": [
    "np.random.seed(20200612)\n",
    "x = np.random.rand(5, 5) * 10\n",
    "x = np.around(x, 2)\n",
    "print(x)\n",
    "\n",
    "index = np.lexsort([x[:, 0]])\n",
    "print(index)\n",
    "\n",
    "y = x[index]\n",
    "print(y)\n",
    "\n",
    "index = np.lexsort([-1 * x[:, 0]])\n",
    "print(index)\n",
    "\n",
    "y = x[index]\n",
    "print(y)"
   ]
  },
  {
   "cell_type": "code",
   "execution_count": 7,
   "metadata": {},
   "outputs": [
    {
     "name": "stdout",
     "output_type": "stream",
     "text": [
      "[0 2 4 3 5 6 1]\n",
      "[1 1 3 4 4 4 5]\n",
      "[2 4 6 5 1 3 0]\n",
      "[0 0 1 2 4 4 9]\n",
      "[2 0 4 6 5 3 1]\n",
      "[1 1 3 4 4 4 5]\n",
      "[2 4 6 5 3 1 0]\n",
      "[0 0 1 2 4 4 9]\n"
     ]
    }
   ],
   "source": [
    "x = np.array([1, 5, 1, 4, 3, 4, 4])\n",
    "y = np.array([9, 4, 0, 4, 0, 2, 1])\n",
    "a = np.lexsort([x])\n",
    "b = np.lexsort([y])\n",
    "print(a)\n",
    "print(x[a])\n",
    "\n",
    "print(b)\n",
    "\n",
    "print(y[b])\n",
    "\n",
    "z = np.lexsort([y, x])\n",
    "print(z)\n",
    "\n",
    "print(x[z])\n",
    "\n",
    "z = np.lexsort([x, y])\n",
    "print(z)\n",
    "\n",
    "print(y[z])"
   ]
  },
  {
   "cell_type": "markdown",
   "metadata": {},
   "source": [
    "- \n",
    "```python\n",
    "numpy.partition(a, kth, axis=-1, kind='introselect', order=None)\n",
    "```\n",
    "排序后第k个索引值对应的数拿出来当做partition，小于partition的放前面，大于partition的放后面(索引从0开始)"
   ]
  },
  {
   "cell_type": "code",
   "execution_count": 8,
   "metadata": {},
   "outputs": [
    {
     "name": "stdout",
     "output_type": "stream",
     "text": [
      "[[ 9 25  4]\n",
      " [ 8 24 16]\n",
      " [17 11 21]\n",
      " [ 3 22  3]\n",
      " [ 3 15  3]\n",
      " [18 17 25]\n",
      " [16  5 12]\n",
      " [29 27 17]]\n",
      "[[ 3  5  3]\n",
      " [ 3 11  3]\n",
      " [ 8 15  4]\n",
      " [ 9 17 12]\n",
      " [16 22 16]\n",
      " [17 24 17]\n",
      " [18 25 21]\n",
      " [29 27 25]]\n",
      "[[ 3  5  3]\n",
      " [ 3 11  3]\n",
      " [ 8 15  4]\n",
      " [ 9 22 21]\n",
      " [17 24 16]\n",
      " [18 17 25]\n",
      " [16 25 12]\n",
      " [29 27 17]]\n"
     ]
    }
   ],
   "source": [
    "np.random.seed(100)\n",
    "x = np.random.randint(1, 30, [8, 3])\n",
    "print(x)\n",
    "\n",
    "y = np.sort(x, axis=0)\n",
    "print(y)\n",
    "\n",
    "z = np.partition(x, kth=2, axis=0)\n",
    "print(z)"
   ]
  },
  {
   "cell_type": "code",
   "execution_count": 9,
   "metadata": {},
   "outputs": [
    {
     "name": "stdout",
     "output_type": "stream",
     "text": [
      "[[ 9 25  4]\n",
      " [ 8 24 16]\n",
      " [17 11 21]\n",
      " [ 3 22  3]\n",
      " [ 3 15  3]\n",
      " [18 17 25]\n",
      " [16  5 12]\n",
      " [29 27 17]]\n",
      "[ 8 15  4]\n",
      "[[ 9 25  4]\n",
      " [ 8 24 16]\n",
      " [17 11 21]\n",
      " [ 3 22  3]\n",
      " [ 3 15  3]\n",
      " [18 17 25]\n",
      " [16  5 12]\n",
      " [29 27 17]]\n",
      "[17 24 17]\n"
     ]
    }
   ],
   "source": [
    "# 选取每一列第三小的数\n",
    "np.random.seed(100)\n",
    "x = np.random.randint(1, 30, [8, 3])\n",
    "print(x)\n",
    "\n",
    "z = np.partition(x, kth=2, axis=0)\n",
    "print(z[2])\n",
    "# 选取每一列第三大的数\n",
    "np.random.seed(100)\n",
    "x = np.random.randint(1, 30, [8, 3])\n",
    "print(x)\n",
    "\n",
    "z = np.partition(x, kth=-3, axis=0)\n",
    "print(z[-3])"
   ]
  },
  {
   "cell_type": "code",
   "execution_count": 10,
   "metadata": {},
   "outputs": [
    {
     "name": "stdout",
     "output_type": "stream",
     "text": [
      "[[ 9 25  4]\n",
      " [ 8 24 16]\n",
      " [17 11 21]\n",
      " [ 3 22  3]\n",
      " [ 3 15  3]\n",
      " [18 17 25]\n",
      " [16  5 12]\n",
      " [29 27 17]]\n",
      "[[3 6 3]\n",
      " [4 2 4]\n",
      " [1 4 0]\n",
      " [0 5 6]\n",
      " [6 3 1]\n",
      " [2 1 7]\n",
      " [5 0 2]\n",
      " [7 7 5]]\n",
      "[[3 6 3]\n",
      " [4 2 4]\n",
      " [1 4 0]\n",
      " [0 3 2]\n",
      " [2 1 1]\n",
      " [5 5 5]\n",
      " [6 0 6]\n",
      " [7 7 7]]\n"
     ]
    }
   ],
   "source": [
    "np.random.seed(100)\n",
    "x = np.random.randint(1, 30, [8, 3])\n",
    "print(x)\n",
    "\n",
    "y = np.argsort(x, axis=0)\n",
    "print(y)\n",
    "\n",
    "z = np.argpartition(x, kth=2, axis=0)\n",
    "print(z)"
   ]
  },
  {
   "cell_type": "code",
   "execution_count": 12,
   "metadata": {},
   "outputs": [
    {
     "name": "stdout",
     "output_type": "stream",
     "text": [
      "[[ 9 25  4]\n",
      " [ 8 24 16]\n",
      " [17 11 21]\n",
      " [ 3 22  3]\n",
      " [ 3 15  3]\n",
      " [18 17 25]\n",
      " [16  5 12]\n",
      " [29 27 17]]\n",
      "[1 4 0]\n",
      "[[ 9 25  4]\n",
      " [ 8 24 16]\n",
      " [17 11 21]\n",
      " [ 3 22  3]\n",
      " [ 3 15  3]\n",
      " [18 17 25]\n",
      " [16  5 12]\n",
      " [29 27 17]]\n",
      "[2 1 7]\n"
     ]
    }
   ],
   "source": [
    "# 选取每一列第三小的数的索引\n",
    "np.random.seed(100)\n",
    "x = np.random.randint(1, 30, [8, 3])\n",
    "print(x)\n",
    "\n",
    "z = np.argpartition(x, kth=2, axis=0)\n",
    "print(z[2])\n",
    "\n",
    "# 选取每一列第三大的数的索引\n",
    "np.random.seed(100)\n",
    "x = np.random.randint(1, 30, [8, 3])\n",
    "print(x)\n",
    "\n",
    "z = np.argpartition(x, kth=-3, axis=0)\n",
    "print(z[-3])"
   ]
  },
  {
   "cell_type": "markdown",
   "metadata": {},
   "source": [
    "### 搜索"
   ]
  },
  {
   "cell_type": "code",
   "execution_count": 13,
   "metadata": {},
   "outputs": [
    {
     "name": "stdout",
     "output_type": "stream",
     "text": [
      "[[2.32 7.54 9.78 1.73 6.22]\n",
      " [6.93 5.17 9.28 9.76 8.25]\n",
      " [0.01 4.23 0.19 1.73 9.27]\n",
      " [7.99 4.97 0.88 7.32 4.29]\n",
      " [9.05 0.07 8.95 7.9  6.99]]\n",
      "2\n",
      "[4 0 0 1 2]\n",
      "[2 3 4 0 0]\n"
     ]
    }
   ],
   "source": [
    "np.random.seed(20200612)\n",
    "x = np.random.rand(5, 5) * 10\n",
    "x = np.around(x, 2)\n",
    "print(x)\n",
    "\n",
    "y = np.argmax(x)\n",
    "print(y)\n",
    "\n",
    "y = np.argmax(x, axis=0)\n",
    "print(y)\n",
    "\n",
    "y = np.argmax(x, axis=1)\n",
    "print(y)"
   ]
  },
  {
   "cell_type": "code",
   "execution_count": 14,
   "metadata": {},
   "outputs": [
    {
     "name": "stdout",
     "output_type": "stream",
     "text": [
      "[[2.32 7.54 9.78 1.73 6.22]\n",
      " [6.93 5.17 9.28 9.76 8.25]\n",
      " [0.01 4.23 0.19 1.73 9.27]\n",
      " [7.99 4.97 0.88 7.32 4.29]\n",
      " [9.05 0.07 8.95 7.9  6.99]]\n",
      "10\n",
      "[2 4 2 0 3]\n",
      "[3 1 0 2 1]\n"
     ]
    }
   ],
   "source": [
    "np.random.seed(20200612)\n",
    "x = np.random.rand(5, 5) * 10\n",
    "x = np.around(x, 2)\n",
    "print(x)\n",
    "\n",
    "y = np.argmin(x)\n",
    "print(y)\n",
    "\n",
    "y = np.argmin(x, axis=0)\n",
    "print(y)\n",
    "\n",
    "y = np.argmin(x, axis=1)\n",
    "print(y)"
   ]
  },
  {
   "cell_type": "code",
   "execution_count": 15,
   "metadata": {},
   "outputs": [
    {
     "name": "stdout",
     "output_type": "stream",
     "text": [
      "[0 2 3]\n",
      "(3,)\n",
      "1\n",
      "(array([1, 2], dtype=int64),)\n",
      "[[1 2]]\n",
      "(1, 2)\n",
      "2\n",
      "[[1]\n",
      " [2]]\n",
      "[2 3]\n"
     ]
    }
   ],
   "source": [
    "x = np.array([0, 2, 3])\n",
    "print(x)  # [0 2 3]\n",
    "print(x.shape)  # (3,)\n",
    "print(x.ndim)  # 1\n",
    "\n",
    "y = np.nonzero(x)\n",
    "print(y)  # (array([1, 2], dtype=int64),)\n",
    "print(np.array(y))  # [[1 2]]\n",
    "print(np.array(y).shape)  # (1, 2)\n",
    "print(np.array(y).ndim)  # 2\n",
    "print(np.transpose(y))\n",
    "\n",
    "print(x[np.nonzero(x)])"
   ]
  },
  {
   "cell_type": "code",
   "execution_count": 16,
   "metadata": {},
   "outputs": [
    {
     "name": "stdout",
     "output_type": "stream",
     "text": [
      "[[3 0 0]\n",
      " [0 4 0]\n",
      " [5 6 0]]\n",
      "(3, 3)\n",
      "2\n",
      "(array([0, 1, 2, 2], dtype=int64), array([0, 1, 0, 1], dtype=int64))\n",
      "[[0 1 2 2]\n",
      " [0 1 0 1]]\n",
      "(2, 4)\n",
      "2\n",
      "[3 4 5 6]\n",
      "[[0 0]\n",
      " [1 1]\n",
      " [2 0]\n",
      " [2 1]]\n"
     ]
    }
   ],
   "source": [
    "x = np.array([[3, 0, 0], [0, 4, 0], [5, 6, 0]])\n",
    "print(x)\n",
    "\n",
    "print(x.shape)  # (3, 3)\n",
    "print(x.ndim)  # 2\n",
    "\n",
    "y = np.nonzero(x)\n",
    "print(y)\n",
    "\n",
    "print(np.array(y))\n",
    "\n",
    "print(np.array(y).shape)  # (2, 4)\n",
    "print(np.array(y).ndim)  # 2\n",
    "\n",
    "y = x[np.nonzero(x)]\n",
    "print(y)  # [3 4 5 6]\n",
    "\n",
    "y = np.transpose(np.nonzero(x))\n",
    "print(y)"
   ]
  },
  {
   "cell_type": "code",
   "execution_count": 17,
   "metadata": {},
   "outputs": [
    {
     "name": "stdout",
     "output_type": "stream",
     "text": [
      "[[[0 1]\n",
      "  [1 0]]\n",
      "\n",
      " [[0 1]\n",
      "  [1 0]]\n",
      "\n",
      " [[0 0]\n",
      "  [1 0]]]\n",
      "(3, 2, 2)\n",
      "3\n",
      "[[0 0 1 1 2]\n",
      " [0 1 0 1 1]\n",
      " [1 0 1 0 0]]\n",
      "(3, 5)\n",
      "2\n",
      "(array([0, 0, 1, 1, 2], dtype=int64), array([0, 1, 0, 1, 1], dtype=int64), array([1, 0, 1, 0, 0], dtype=int64))\n",
      "[1 1 1 1 1]\n"
     ]
    }
   ],
   "source": [
    "x = np.array([[[0, 1], [1, 0]], [[0, 1], [1, 0]], [[0, 0], [1, 0]]])\n",
    "print(x)\n",
    "\n",
    "print(np.shape(x))  # (3, 2, 2)\n",
    "print(x.ndim)  # 3\n",
    "\n",
    "y = np.nonzero(x)\n",
    "print(np.array(y))\n",
    "\n",
    "print(np.array(y).shape)  # (3, 5)\n",
    "print(np.array(y).ndim)  # 2\n",
    "print(y)\n",
    "\n",
    "print(x[np.nonzero(x)])"
   ]
  },
  {
   "cell_type": "code",
   "execution_count": 18,
   "metadata": {},
   "outputs": [
    {
     "name": "stdout",
     "output_type": "stream",
     "text": [
      "[0 1 2 3 4 5 6 7 8 9]\n",
      "[ 0  1  2  3  4 50 60 70 80 90]\n",
      "[[ 0  1  2]\n",
      " [ 0  2 -1]\n",
      " [ 0  3 -1]]\n"
     ]
    }
   ],
   "source": [
    "x = np.arange(10)\n",
    "print(x)\n",
    "\n",
    "y = np.where(x < 5, x, 10 * x)\n",
    "print(y)\n",
    "\n",
    "x = np.array([[0, 1, 2],\n",
    "              [0, 2, 4],\n",
    "              [0, 3, 6]])\n",
    "y = np.where(x < 4, x, -1)\n",
    "print(y)"
   ]
  },
  {
   "cell_type": "code",
   "execution_count": 19,
   "metadata": {},
   "outputs": [
    {
     "name": "stdout",
     "output_type": "stream",
     "text": [
      "(array([5, 6, 7], dtype=int64),)\n",
      "[6 7 8]\n",
      "(array([5, 6, 7], dtype=int64),)\n",
      "[6 7 8]\n",
      "(array([3, 3, 3, 3, 3, 4, 4, 4, 4, 4], dtype=int64), array([0, 1, 2, 3, 4, 0, 1, 2, 3, 4], dtype=int64))\n",
      "[26 27 28 29 30 31 32 33 34 35]\n",
      "(array([3, 3, 3, 3, 3, 4, 4, 4, 4, 4], dtype=int64), array([0, 1, 2, 3, 4, 0, 1, 2, 3, 4], dtype=int64))\n",
      "[26 27 28 29 30 31 32 33 34 35]\n"
     ]
    }
   ],
   "source": [
    "x = np.array([1, 2, 3, 4, 5, 6, 7, 8])\n",
    "y = np.where(x > 5)\n",
    "print(y)\n",
    "\n",
    "print(x[y])\n",
    "\n",
    "y = np.nonzero(x > 5)\n",
    "print(y)\n",
    "\n",
    "print(x[y])\n",
    "\n",
    "\n",
    "x = np.array([[11, 12, 13, 14, 15],\n",
    "              [16, 17, 18, 19, 20],\n",
    "              [21, 22, 23, 24, 25],\n",
    "              [26, 27, 28, 29, 30],\n",
    "              [31, 32, 33, 34, 35]])\n",
    "y = np.where(x > 25)\n",
    "print(y)\n",
    "\n",
    "print(x[y])\n",
    "\n",
    "y = np.nonzero(x > 25)\n",
    "print(y)\n",
    "\n",
    "print(x[y])"
   ]
  },
  {
   "cell_type": "markdown",
   "metadata": {},
   "source": [
    "- searchsorted 应该插入的索引"
   ]
  },
  {
   "cell_type": "code",
   "execution_count": 20,
   "metadata": {},
   "outputs": [
    {
     "name": "stdout",
     "output_type": "stream",
     "text": [
      "5\n",
      "5\n",
      "0\n",
      "0\n",
      "8\n",
      "8\n",
      "4\n",
      "5\n",
      "0\n",
      "1\n",
      "7\n",
      "8\n"
     ]
    }
   ],
   "source": [
    "x = np.array([0, 1, 5, 9, 11, 18, 26, 33])\n",
    "y = np.searchsorted(x, 15)\n",
    "print(y)  # 5\n",
    "\n",
    "y = np.searchsorted(x, 15, side='right')\n",
    "print(y)  # 5\n",
    "\n",
    "y = np.searchsorted(x, -1)\n",
    "print(y)  # 0\n",
    "\n",
    "y = np.searchsorted(x, -1, side='right')\n",
    "print(y)  # 0\n",
    "\n",
    "y = np.searchsorted(x, 35)\n",
    "print(y)  # 8\n",
    "\n",
    "y = np.searchsorted(x, 35, side='right')\n",
    "print(y)  # 8\n",
    "\n",
    "y = np.searchsorted(x, 11)\n",
    "print(y)  # 4\n",
    "\n",
    "y = np.searchsorted(x, 11, side='right')\n",
    "print(y)  # 5\n",
    "\n",
    "y = np.searchsorted(x, 0)\n",
    "print(y)  # 0\n",
    "\n",
    "y = np.searchsorted(x, 0, side='right')\n",
    "print(y)  # 1\n",
    "\n",
    "y = np.searchsorted(x, 33)\n",
    "print(y)  # 7\n",
    "\n",
    "y = np.searchsorted(x, 33, side='right')\n",
    "print(y)"
   ]
  },
  {
   "cell_type": "code",
   "execution_count": 21,
   "metadata": {},
   "outputs": [
    {
     "name": "stdout",
     "output_type": "stream",
     "text": [
      "[0 0 4 5 7 8]\n",
      "[0 1 5 5 8 8]\n"
     ]
    }
   ],
   "source": [
    "x = np.array([0, 1, 5, 9, 11, 18, 26, 33])\n",
    "y = np.searchsorted(x, [-1, 0, 11, 15, 33, 35])\n",
    "print(y)\n",
    "\n",
    "y = np.searchsorted(x, [-1, 0, 11, 15, 33, 35], side='right')\n",
    "print(y)"
   ]
  },
  {
   "cell_type": "code",
   "execution_count": 22,
   "metadata": {},
   "outputs": [
    {
     "name": "stdout",
     "output_type": "stream",
     "text": [
      "[ 1  0 26  9 33 11 18  5]\n",
      "[1 0 7 3 5 6 2 4]\n",
      "[0 0 4 5 7 8]\n",
      "[0 1 5 5 8 8]\n"
     ]
    }
   ],
   "source": [
    "x = np.array([0, 1, 5, 9, 11, 18, 26, 33])\n",
    "np.random.shuffle(x)\n",
    "print(x)\n",
    "\n",
    "x_sort = np.argsort(x)\n",
    "print(x_sort)\n",
    "\n",
    "y = np.searchsorted(x, [-1, 0, 11, 15, 33, 35], sorter=x_sort)\n",
    "print(y)\n",
    "\n",
    "y = np.searchsorted(x, [-1, 0, 11, 15, 33, 35], side='right', sorter=x_sort)\n",
    "print(y)"
   ]
  },
  {
   "cell_type": "markdown",
   "metadata": {},
   "source": [
    "### 计数"
   ]
  },
  {
   "cell_type": "code",
   "execution_count": 23,
   "metadata": {},
   "outputs": [
    {
     "name": "stdout",
     "output_type": "stream",
     "text": [
      "4\n",
      "5\n",
      "[1 1 1 1 1]\n",
      "[2 3]\n"
     ]
    }
   ],
   "source": [
    "x = np.count_nonzero(np.eye(4))\n",
    "print(x)\n",
    "\n",
    "x = np.count_nonzero([[0, 1, 7, 0, 0], [3, 0, 0, 2, 19]])\n",
    "print(x)\n",
    "\n",
    "x = np.count_nonzero([[0, 1, 7, 0, 0], [3, 0, 0, 2, 19]], axis=0)\n",
    "print(x)\n",
    "\n",
    "x = np.count_nonzero([[0, 1, 7, 0, 0], [3, 0, 0, 2, 19]], axis=1)\n",
    "print(x)"
   ]
  },
  {
   "cell_type": "markdown",
   "metadata": {},
   "source": [
    "### 集合"
   ]
  },
  {
   "cell_type": "code",
   "execution_count": 2,
   "metadata": {},
   "outputs": [
    {
     "name": "stdout",
     "output_type": "stream",
     "text": [
      "[1 2 3]\n",
      "[1, 2, 3]\n",
      "[1 2 3]\n",
      "[[1 0 0]\n",
      " [2 3 4]]\n",
      "['a' 'b' 'c']\n",
      "[0 1 3]\n",
      "['a' 'b' 'c']\n",
      "[1 2 3 4 6]\n",
      "[0 1 4 3 1 2 1]\n",
      "[1 2 6 4 2 3 2]\n",
      "[1 2 3 4 6]\n",
      "[1 3 1 1 1]\n"
     ]
    }
   ],
   "source": [
    "import numpy as np\n",
    "x = np.unique([1, 1, 3, 2, 3, 3])\n",
    "print(x)\n",
    "\n",
    "x = sorted(set([1, 1, 3, 2, 3, 3]))\n",
    "print(x)\n",
    "\n",
    "x = np.array([[1, 1], [2, 3]])\n",
    "u = np.unique(x)\n",
    "print(u)\n",
    "\n",
    "x = np.array([[1, 0, 0], [1, 0, 0], [2, 3, 4]])\n",
    "y = np.unique(x, axis=0)\n",
    "print(y)\n",
    "\n",
    "x = np.array(['a', 'b', 'b', 'c', 'a'])\n",
    "u, index = np.unique(x, return_index=True)\n",
    "print(u)\n",
    "print(index)\n",
    "print(x[index]) \n",
    "\n",
    "x = np.array([1, 2, 6, 4, 2, 3, 2])\n",
    "u, index = np.unique(x, return_inverse=True)\n",
    "print(u)\n",
    "print(index)\n",
    "print(u[index])\n",
    "\n",
    "u, count = np.unique(x, return_counts=True)\n",
    "print(u)\n",
    "print(count) "
   ]
  },
  {
   "cell_type": "markdown",
   "metadata": {},
   "source": [
    "- 布尔运算"
   ]
  },
  {
   "cell_type": "code",
   "execution_count": 3,
   "metadata": {},
   "outputs": [
    {
     "name": "stdout",
     "output_type": "stream",
     "text": [
      "[ True False  True False  True]\n",
      "[0 2 0]\n",
      "[False  True False  True False]\n",
      "[1 5]\n"
     ]
    }
   ],
   "source": [
    "# 包含\n",
    "test = np.array([0, 1, 2, 5, 0])\n",
    "states = [0, 2]\n",
    "mask = np.in1d(test, states)\n",
    "print(mask) \n",
    "print(test[mask]) \n",
    "\n",
    "mask = np.in1d(test, states, invert=True)\n",
    "print(mask)\n",
    "print(test[mask])"
   ]
  },
  {
   "cell_type": "code",
   "execution_count": 4,
   "metadata": {},
   "outputs": [
    {
     "name": "stdout",
     "output_type": "stream",
     "text": [
      "[1 3]\n",
      "[0 2 4]\n",
      "[1 0 2]\n",
      "[1 2 4]\n",
      "[1 2 4]\n",
      "[1 2 4]\n",
      "[3]\n"
     ]
    }
   ],
   "source": [
    "from functools import reduce\n",
    "# 交集\n",
    "x = np.intersect1d([1, 3, 4, 3], [3, 1, 2, 1])\n",
    "print(x)  # [1 3]\n",
    "\n",
    "x = np.array([1, 1, 2, 3, 4])\n",
    "y = np.array([2, 1, 4, 6])\n",
    "xy, x_ind, y_ind = np.intersect1d(x, y, return_indices=True)\n",
    "print(x_ind)  # [0 2 4]\n",
    "print(y_ind)  # [1 0 2]\n",
    "print(xy)  # [1 2 4]\n",
    "print(x[x_ind])  # [1 2 4]\n",
    "print(y[y_ind])  # [1 2 4]\n",
    "\n",
    "x = reduce(np.intersect1d, ([1, 3, 4, 3], [3, 1, 2, 1], [6, 3, 4, 2]))\n",
    "print(x)"
   ]
  },
  {
   "cell_type": "code",
   "execution_count": 5,
   "metadata": {},
   "outputs": [
    {
     "name": "stdout",
     "output_type": "stream",
     "text": [
      "[-2 -1  0  1  2]\n",
      "[1 2 3 4 6]\n"
     ]
    }
   ],
   "source": [
    "# 并集\n",
    "x = np.union1d([-1, 0, 1], [-2, 0, 2])\n",
    "print(x)\n",
    "x = reduce(np.union1d, ([1, 3, 4, 3], [3, 1, 2, 1], [6, 3, 4, 2]))\n",
    "print(x)"
   ]
  },
  {
   "cell_type": "code",
   "execution_count": 6,
   "metadata": {},
   "outputs": [
    {
     "name": "stdout",
     "output_type": "stream",
     "text": [
      "[1 2]\n"
     ]
    }
   ],
   "source": [
    "# 差集\n",
    "a = np.array([1, 2, 3, 2, 4, 1])\n",
    "b = np.array([3, 4, 5, 6])\n",
    "x = np.setdiff1d(a, b)\n",
    "print(x) "
   ]
  },
  {
   "cell_type": "markdown",
   "metadata": {},
   "source": [
    "- 集合的对称差，即两个集合的交集的补集"
   ]
  },
  {
   "cell_type": "code",
   "execution_count": 7,
   "metadata": {},
   "outputs": [
    {
     "name": "stdout",
     "output_type": "stream",
     "text": [
      "[1 2 5 6]\n"
     ]
    }
   ],
   "source": [
    "a = np.array([1, 2, 3, 2, 4, 1])\n",
    "b = np.array([3, 4, 5, 6])\n",
    "x = np.setxor1d(a, b)\n",
    "print(x) "
   ]
  }
 ],
 "metadata": {
  "kernelspec": {
   "display_name": "Python 3",
   "language": "python",
   "name": "python3"
  },
  "language_info": {
   "codemirror_mode": {
    "name": "ipython",
    "version": 3
   },
   "file_extension": ".py",
   "mimetype": "text/x-python",
   "name": "python",
   "nbconvert_exporter": "python",
   "pygments_lexer": "ipython3",
   "version": "3.7.3"
  },
  "toc": {
   "base_numbering": 1,
   "nav_menu": {},
   "number_sections": true,
   "sideBar": false,
   "skip_h1_title": false,
   "title_cell": "Table of Contents",
   "title_sidebar": "Contents",
   "toc_cell": false,
   "toc_position": {},
   "toc_section_display": true,
   "toc_window_display": false
  }
 },
 "nbformat": 4,
 "nbformat_minor": 2
}
