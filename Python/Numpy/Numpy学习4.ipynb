{
 "cells": [
  {
   "cell_type": "markdown",
   "metadata": {},
   "source": [
    "### Numpy的广播机制"
   ]
  },
  {
   "cell_type": "markdown",
   "metadata": {},
   "source": [
    "广播规则：<br>\n",
    "- 维度不一致时，维度从后往前第一个维度相同，后面的直接补齐\n",
    "- 维度不一致，若有一个矩阵存在维度为1，直接触发广播\n",
    "- 维度一致时，对应元素发生相应操作\n",
    "- 广播就是把长度不够的向量按最长的向量补齐"
   ]
  },
  {
   "cell_type": "code",
   "execution_count": 2,
   "metadata": {},
   "outputs": [
    {
     "name": "stdout",
     "output_type": "stream",
     "text": [
      "(2, 5, 3, 4)\n"
     ]
    }
   ],
   "source": [
    "import numpy as np\n",
    "\n",
    "A = np.zeros((2,5,3,4))\n",
    "B = np.zeros((3))\n",
    "# print((A+B).shape)\n",
    "# 直接报错\n",
    "\n",
    "A = np.zeros((2,5,3,4))\n",
    "B = np.zeros((4))\n",
    "print((A+B).shape)"
   ]
  },
  {
   "cell_type": "code",
   "execution_count": 3,
   "metadata": {},
   "outputs": [
    {
     "name": "stdout",
     "output_type": "stream",
     "text": [
      "(4, 1)\n",
      "(5,)\n",
      "(4, 5)\n",
      "[[1. 1. 1. 1. 1.]\n",
      " [2. 2. 2. 2. 2.]\n",
      " [3. 3. 3. 3. 3.]\n",
      " [4. 4. 4. 4. 4.]]\n",
      "[[ 1.  2.  3.]\n",
      " [11. 12. 13.]\n",
      " [21. 22. 23.]\n",
      " [31. 32. 33.]]\n"
     ]
    }
   ],
   "source": [
    "x = np.arange(4).reshape(4, 1)\n",
    "y = np.ones(5)\n",
    "\n",
    "print(x.shape)\n",
    "print(y.shape)\n",
    "\n",
    "print((x + y).shape)\n",
    "print(x + y)\n",
    "\n",
    "x = np.array([0.0, 10.0, 20.0, 30.0])\n",
    "y = np.array([1.0, 2.0, 3.0])\n",
    "z = x[:, np.newaxis] + y\n",
    "print(z)"
   ]
  },
  {
   "cell_type": "markdown",
   "metadata": {},
   "source": [
    "### 运算"
   ]
  },
  {
   "cell_type": "code",
   "execution_count": 4,
   "metadata": {},
   "outputs": [
    {
     "name": "stdout",
     "output_type": "stream",
     "text": [
      "[2 3 4 5 6 7 8 9]\n",
      "[2 3 4 5 6 7 8 9]\n",
      "[0 1 2 3 4 5 6 7]\n",
      "[0 1 2 3 4 5 6 7]\n",
      "[ 2  4  6  8 10 12 14 16]\n",
      "[ 2  4  6  8 10 12 14 16]\n",
      "[0.5 1.  1.5 2.  2.5 3.  3.5 4. ]\n",
      "[0.5 1.  1.5 2.  2.5 3.  3.5 4. ]\n",
      "[0 1 1 2 2 3 3 4]\n",
      "[0 1 1 2 2 3 3 4]\n",
      "[ 1  4  9 16 25 36 49 64]\n",
      "[ 1  4  9 16 25 36 49 64]\n"
     ]
    }
   ],
   "source": [
    "x = np.array([1, 2, 3, 4, 5, 6, 7, 8])\n",
    "y = x + 1\n",
    "print(y)\n",
    "print(np.add(x, 1))\n",
    "\n",
    "y = x - 1\n",
    "print(y)\n",
    "print(np.subtract(x, 1))\n",
    "\n",
    "y = x * 2\n",
    "print(y)\n",
    "print(np.multiply(x, 2))\n",
    "\n",
    "y = x / 2\n",
    "print(y)\n",
    "print(np.divide(x, 2))\n",
    "\n",
    "y = x // 2\n",
    "print(y)\n",
    "print(np.floor_divide(x, 2))\n",
    "\n",
    "y = x ** 2\n",
    "print(y)\n",
    "print(np.power(x, 2))"
   ]
  },
  {
   "cell_type": "code",
   "execution_count": 5,
   "metadata": {},
   "outputs": [
    {
     "name": "stdout",
     "output_type": "stream",
     "text": [
      "[[12 13 14 15 16]\n",
      " [17 18 19 20 21]\n",
      " [22 23 24 25 26]\n",
      " [27 28 29 30 31]\n",
      " [32 33 34 35 36]]\n",
      "[[12 13 14 15 16]\n",
      " [17 18 19 20 21]\n",
      " [22 23 24 25 26]\n",
      " [27 28 29 30 31]\n",
      " [32 33 34 35 36]]\n",
      "[[10 11 12 13 14]\n",
      " [15 16 17 18 19]\n",
      " [20 21 22 23 24]\n",
      " [25 26 27 28 29]\n",
      " [30 31 32 33 34]]\n",
      "[[10 11 12 13 14]\n",
      " [15 16 17 18 19]\n",
      " [20 21 22 23 24]\n",
      " [25 26 27 28 29]\n",
      " [30 31 32 33 34]]\n",
      "[[22 24 26 28 30]\n",
      " [32 34 36 38 40]\n",
      " [42 44 46 48 50]\n",
      " [52 54 56 58 60]\n",
      " [62 64 66 68 70]]\n",
      "[[22 24 26 28 30]\n",
      " [32 34 36 38 40]\n",
      " [42 44 46 48 50]\n",
      " [52 54 56 58 60]\n",
      " [62 64 66 68 70]]\n",
      "[[ 5.5  6.   6.5  7.   7.5]\n",
      " [ 8.   8.5  9.   9.5 10. ]\n",
      " [10.5 11.  11.5 12.  12.5]\n",
      " [13.  13.5 14.  14.5 15. ]\n",
      " [15.5 16.  16.5 17.  17.5]]\n",
      "[[ 5.5  6.   6.5  7.   7.5]\n",
      " [ 8.   8.5  9.   9.5 10. ]\n",
      " [10.5 11.  11.5 12.  12.5]\n",
      " [13.  13.5 14.  14.5 15. ]\n",
      " [15.5 16.  16.5 17.  17.5]]\n",
      "[[ 5  6  6  7  7]\n",
      " [ 8  8  9  9 10]\n",
      " [10 11 11 12 12]\n",
      " [13 13 14 14 15]\n",
      " [15 16 16 17 17]]\n",
      "[[ 5  6  6  7  7]\n",
      " [ 8  8  9  9 10]\n",
      " [10 11 11 12 12]\n",
      " [13 13 14 14 15]\n",
      " [15 16 16 17 17]]\n",
      "[[ 121  144  169  196  225]\n",
      " [ 256  289  324  361  400]\n",
      " [ 441  484  529  576  625]\n",
      " [ 676  729  784  841  900]\n",
      " [ 961 1024 1089 1156 1225]]\n",
      "[[ 121  144  169  196  225]\n",
      " [ 256  289  324  361  400]\n",
      " [ 441  484  529  576  625]\n",
      " [ 676  729  784  841  900]\n",
      " [ 961 1024 1089 1156 1225]]\n"
     ]
    }
   ],
   "source": [
    "x = np.array([[11, 12, 13, 14, 15],\n",
    "              [16, 17, 18, 19, 20],\n",
    "              [21, 22, 23, 24, 25],\n",
    "              [26, 27, 28, 29, 30],\n",
    "              [31, 32, 33, 34, 35]])\n",
    "y = x + 1\n",
    "print(y)\n",
    "print(np.add(x, 1))\n",
    "\n",
    "y = x - 1\n",
    "print(y)\n",
    "print(np.subtract(x, 1))\n",
    "\n",
    "y = x * 2\n",
    "print(y)\n",
    "print(np.multiply(x, 2))\n",
    "\n",
    "y = x / 2\n",
    "print(y)\n",
    "print(np.divide(x, 2))\n",
    "\n",
    "y = x // 2\n",
    "print(y)\n",
    "print(np.floor_divide(x, 2))\n",
    "\n",
    "y = x ** 2\n",
    "print(y)\n",
    "print(np.power(x, 2))"
   ]
  },
  {
   "cell_type": "code",
   "execution_count": 6,
   "metadata": {},
   "outputs": [
    {
     "name": "stdout",
     "output_type": "stream",
     "text": [
      "[1 2 3 4 5]\n",
      "[[12 14 16 18 20]\n",
      " [17 19 21 23 25]\n",
      " [22 24 26 28 30]\n",
      " [27 29 31 33 35]\n",
      " [32 34 36 38 40]]\n",
      "[[12 14 16 18 20]\n",
      " [17 19 21 23 25]\n",
      " [22 24 26 28 30]\n",
      " [27 29 31 33 35]\n",
      " [32 34 36 38 40]]\n",
      "[[10 10 10 10 10]\n",
      " [15 15 15 15 15]\n",
      " [20 20 20 20 20]\n",
      " [25 25 25 25 25]\n",
      " [30 30 30 30 30]]\n",
      "[[10 10 10 10 10]\n",
      " [15 15 15 15 15]\n",
      " [20 20 20 20 20]\n",
      " [25 25 25 25 25]\n",
      " [30 30 30 30 30]]\n",
      "[[ 11  24  39  56  75]\n",
      " [ 16  34  54  76 100]\n",
      " [ 21  44  69  96 125]\n",
      " [ 26  54  84 116 150]\n",
      " [ 31  64  99 136 175]]\n",
      "[[ 11  24  39  56  75]\n",
      " [ 16  34  54  76 100]\n",
      " [ 21  44  69  96 125]\n",
      " [ 26  54  84 116 150]\n",
      " [ 31  64  99 136 175]]\n",
      "[[11.          6.          4.33333333  3.5         3.        ]\n",
      " [16.          8.5         6.          4.75        4.        ]\n",
      " [21.         11.          7.66666667  6.          5.        ]\n",
      " [26.         13.5         9.33333333  7.25        6.        ]\n",
      " [31.         16.         11.          8.5         7.        ]]\n",
      "[[11.          6.          4.33333333  3.5         3.        ]\n",
      " [16.          8.5         6.          4.75        4.        ]\n",
      " [21.         11.          7.66666667  6.          5.        ]\n",
      " [26.         13.5         9.33333333  7.25        6.        ]\n",
      " [31.         16.         11.          8.5         7.        ]]\n",
      "[[11  6  4  3  3]\n",
      " [16  8  6  4  4]\n",
      " [21 11  7  6  5]\n",
      " [26 13  9  7  6]\n",
      " [31 16 11  8  7]]\n",
      "[[11  6  4  3  3]\n",
      " [16  8  6  4  4]\n",
      " [21 11  7  6  5]\n",
      " [26 13  9  7  6]\n",
      " [31 16 11  8  7]]\n",
      "[[ 121  144  169  196  225]\n",
      " [ 256  289  324  361  400]\n",
      " [ 441  484  529  576  625]\n",
      " [ 676  729  784  841  900]\n",
      " [ 961 1024 1089 1156 1225]]\n",
      "[[ 121  144  169  196  225]\n",
      " [ 256  289  324  361  400]\n",
      " [ 441  484  529  576  625]\n",
      " [ 676  729  784  841  900]\n",
      " [ 961 1024 1089 1156 1225]]\n"
     ]
    }
   ],
   "source": [
    "x = np.array([[11, 12, 13, 14, 15],\n",
    "              [16, 17, 18, 19, 20],\n",
    "              [21, 22, 23, 24, 25],\n",
    "              [26, 27, 28, 29, 30],\n",
    "              [31, 32, 33, 34, 35]])\n",
    "\n",
    "y = np.arange(1, 6)\n",
    "print(y)\n",
    "\n",
    "z = x + y\n",
    "print(z)\n",
    "print(np.add(x, y))\n",
    "\n",
    "z = x - y\n",
    "print(z)\n",
    "print(np.subtract(x, y))\n",
    "\n",
    "z = x * y\n",
    "print(z)\n",
    "print(np.multiply(x, y))\n",
    "\n",
    "z = x / y\n",
    "print(z)\n",
    "print(np.divide(x, y))\n",
    "\n",
    "z = x // y\n",
    "print(z)\n",
    "print(np.floor_divide(x, y))\n",
    "\n",
    "z = x ** np.full([1, 5], 2)\n",
    "print(z)\n",
    "print(np.power(x, np.full([5, 5], 2)))"
   ]
  },
  {
   "cell_type": "code",
   "execution_count": 7,
   "metadata": {},
   "outputs": [
    {
     "name": "stdout",
     "output_type": "stream",
     "text": [
      "[[ 1  2  3  4  5]\n",
      " [ 6  7  8  9 10]\n",
      " [11 12 13 14 15]\n",
      " [16 17 18 19 20]\n",
      " [21 22 23 24 25]]\n",
      "[[12 14 16 18 20]\n",
      " [22 24 26 28 30]\n",
      " [32 34 36 38 40]\n",
      " [42 44 46 48 50]\n",
      " [52 54 56 58 60]]\n",
      "[[12 14 16 18 20]\n",
      " [22 24 26 28 30]\n",
      " [32 34 36 38 40]\n",
      " [42 44 46 48 50]\n",
      " [52 54 56 58 60]]\n",
      "[[10 10 10 10 10]\n",
      " [10 10 10 10 10]\n",
      " [10 10 10 10 10]\n",
      " [10 10 10 10 10]\n",
      " [10 10 10 10 10]]\n",
      "[[10 10 10 10 10]\n",
      " [10 10 10 10 10]\n",
      " [10 10 10 10 10]\n",
      " [10 10 10 10 10]\n",
      " [10 10 10 10 10]]\n",
      "[[ 11  24  39  56  75]\n",
      " [ 96 119 144 171 200]\n",
      " [231 264 299 336 375]\n",
      " [416 459 504 551 600]\n",
      " [651 704 759 816 875]]\n",
      "[[ 11  24  39  56  75]\n",
      " [ 96 119 144 171 200]\n",
      " [231 264 299 336 375]\n",
      " [416 459 504 551 600]\n",
      " [651 704 759 816 875]]\n",
      "[[11.          6.          4.33333333  3.5         3.        ]\n",
      " [ 2.66666667  2.42857143  2.25        2.11111111  2.        ]\n",
      " [ 1.90909091  1.83333333  1.76923077  1.71428571  1.66666667]\n",
      " [ 1.625       1.58823529  1.55555556  1.52631579  1.5       ]\n",
      " [ 1.47619048  1.45454545  1.43478261  1.41666667  1.4       ]]\n",
      "[[11.          6.          4.33333333  3.5         3.        ]\n",
      " [ 2.66666667  2.42857143  2.25        2.11111111  2.        ]\n",
      " [ 1.90909091  1.83333333  1.76923077  1.71428571  1.66666667]\n",
      " [ 1.625       1.58823529  1.55555556  1.52631579  1.5       ]\n",
      " [ 1.47619048  1.45454545  1.43478261  1.41666667  1.4       ]]\n",
      "[[11  6  4  3  3]\n",
      " [ 2  2  2  2  2]\n",
      " [ 1  1  1  1  1]\n",
      " [ 1  1  1  1  1]\n",
      " [ 1  1  1  1  1]]\n",
      "[[11  6  4  3  3]\n",
      " [ 2  2  2  2  2]\n",
      " [ 1  1  1  1  1]\n",
      " [ 1  1  1  1  1]\n",
      " [ 1  1  1  1  1]]\n",
      "[[ 121  144  169  196  225]\n",
      " [ 256  289  324  361  400]\n",
      " [ 441  484  529  576  625]\n",
      " [ 676  729  784  841  900]\n",
      " [ 961 1024 1089 1156 1225]]\n",
      "[[ 121  144  169  196  225]\n",
      " [ 256  289  324  361  400]\n",
      " [ 441  484  529  576  625]\n",
      " [ 676  729  784  841  900]\n",
      " [ 961 1024 1089 1156 1225]]\n"
     ]
    }
   ],
   "source": [
    "x = np.array([[11, 12, 13, 14, 15],\n",
    "              [16, 17, 18, 19, 20],\n",
    "              [21, 22, 23, 24, 25],\n",
    "              [26, 27, 28, 29, 30],\n",
    "              [31, 32, 33, 34, 35]])\n",
    "\n",
    "y = np.arange(1, 26).reshape([5, 5])\n",
    "print(y)\n",
    "\n",
    "z = x + y\n",
    "print(z)\n",
    "print(np.add(x, y))\n",
    "\n",
    "z = x - y\n",
    "print(z)\n",
    "print(np.subtract(x, y))\n",
    "\n",
    "z = x * y\n",
    "print(z)\n",
    "print(np.multiply(x, y))\n",
    "\n",
    "z = x / y\n",
    "print(z)\n",
    "print(np.divide(x, y))\n",
    "\n",
    "z = x // y\n",
    "print(z)\n",
    "print(np.floor_divide(x, y))\n",
    "\n",
    "z = x ** np.full([5, 5], 2)\n",
    "print(z)\n",
    "print(np.power(x, np.full([5, 5], 2)))"
   ]
  },
  {
   "cell_type": "code",
   "execution_count": 8,
   "metadata": {},
   "outputs": [
    {
     "name": "stdout",
     "output_type": "stream",
     "text": [
      "[1 2 3 4]\n",
      "[1.         1.41421356 1.73205081 2.        ]\n",
      "[1.         1.41421356 1.73205081 2.        ]\n",
      "[ 1  4  9 16]\n",
      "[ 1  4  9 16]\n"
     ]
    }
   ],
   "source": [
    "x = np.arange(1, 5)\n",
    "print(x)\n",
    "\n",
    "y = np.sqrt(x)\n",
    "print(y)\n",
    "\n",
    "print(np.power(x, 0.5))\n",
    "\n",
    "y = np.square(x)\n",
    "print(y)\n",
    "\n",
    "print(np.power(x, 2))"
   ]
  },
  {
   "cell_type": "markdown",
   "metadata": {},
   "source": [
    "### 三角函数"
   ]
  },
  {
   "cell_type": "code",
   "execution_count": 9,
   "metadata": {},
   "outputs": [
    {
     "name": "stdout",
     "output_type": "stream",
     "text": [
      "[0.         0.17453293 0.34906585 0.52359878 0.6981317  0.87266463\n",
      " 1.04719755 1.22173048 1.3962634  1.57079633]\n",
      "[0.         0.17364818 0.34202014 0.5        0.64278761 0.76604444\n",
      " 0.8660254  0.93969262 0.98480775 1.        ]\n",
      "[0.         0.17453293 0.34906585 0.52359878 0.6981317  0.87266463\n",
      " 1.04719755 1.22173048 1.3962634  1.57079633]\n",
      "[1.00000000e+00 9.84807753e-01 9.39692621e-01 8.66025404e-01\n",
      " 7.66044443e-01 6.42787610e-01 5.00000000e-01 3.42020143e-01\n",
      " 1.73648178e-01 6.12323400e-17]\n",
      "[0.         0.17453293 0.34906585 0.52359878 0.6981317  0.87266463\n",
      " 1.04719755 1.22173048 1.3962634  1.57079633]\n",
      "[0.00000000e+00 1.76326981e-01 3.63970234e-01 5.77350269e-01\n",
      " 8.39099631e-01 1.19175359e+00 1.73205081e+00 2.74747742e+00\n",
      " 5.67128182e+00 1.63312394e+16]\n"
     ]
    }
   ],
   "source": [
    "x = np.linspace(start=0, stop=np.pi / 2, num=10)\n",
    "print(x)\n",
    "\n",
    "y = np.sin(x)\n",
    "print(y)\n",
    "\n",
    "z = np.arcsin(y)\n",
    "print(z)\n",
    "\n",
    "y = np.cos(x)\n",
    "print(y)\n",
    "\n",
    "z = np.arccos(y)\n",
    "print(z)\n",
    "\n",
    "y = np.tan(x)\n",
    "print(y)\n",
    "\n",
    "z = np.arctan(y)"
   ]
  },
  {
   "cell_type": "markdown",
   "metadata": {},
   "source": [
    "### 指数和对数"
   ]
  },
  {
   "cell_type": "code",
   "execution_count": 10,
   "metadata": {},
   "outputs": [
    {
     "name": "stdout",
     "output_type": "stream",
     "text": [
      "[1 2 3 4]\n",
      "[ 2.71828183  7.3890561  20.08553692 54.59815003]\n",
      "[1. 2. 3. 4.]\n"
     ]
    }
   ],
   "source": [
    "x = np.arange(1, 5)\n",
    "print(x)\n",
    "\n",
    "y = np.exp(x)\n",
    "print(y)\n",
    "\n",
    "z = np.log(y)\n",
    "print(z)"
   ]
  },
  {
   "cell_type": "markdown",
   "metadata": {},
   "source": [
    "### 加法和乘法"
   ]
  },
  {
   "cell_type": "code",
   "execution_count": 12,
   "metadata": {},
   "outputs": [
    {
     "name": "stdout",
     "output_type": "stream",
     "text": [
      "575\n",
      "[105 110 115 120 125]\n",
      "[ 11  23  36  50  65  81  98 116 135 155 176 198 221 245 270 296 323 351\n",
      " 380 410 441 473 506 540 575]\n",
      "[[ 11  12  13  14  15]\n",
      " [ 27  29  31  33  35]\n",
      " [ 48  51  54  57  60]\n",
      " [ 74  78  82  86  90]\n",
      " [105 110 115 120 125]]\n",
      "[[ 11  23  36  50  65]\n",
      " [ 16  33  51  70  90]\n",
      " [ 21  43  66  90 115]\n",
      " [ 26  53  81 110 140]\n",
      " [ 31  63  96 130 165]]\n"
     ]
    }
   ],
   "source": [
    "x = np.array([[11, 12, 13, 14, 15],\n",
    "              [16, 17, 18, 19, 20],\n",
    "              [21, 22, 23, 24, 25],\n",
    "              [26, 27, 28, 29, 30],\n",
    "              [31, 32, 33, 34, 35]])\n",
    "y = np.sum(x)\n",
    "print(y)\n",
    "\n",
    "y = np.sum(x, axis=0)\n",
    "print(y)\n",
    "\n",
    "y = np.sum(x, axis=1)\n",
    "\n",
    "x = np.array([[11, 12, 13, 14, 15],\n",
    "              [16, 17, 18, 19, 20],\n",
    "              [21, 22, 23, 24, 25],\n",
    "              [26, 27, 28, 29, 30],\n",
    "              [31, 32, 33, 34, 35]])\n",
    "y = np.cumsum(x)\n",
    "print(y)\n",
    "\n",
    "y = np.cumsum(x, axis=0)\n",
    "print(y)\n",
    "\n",
    "y = np.cumsum(x, axis=1)\n",
    "print(y)"
   ]
  },
  {
   "cell_type": "code",
   "execution_count": 13,
   "metadata": {},
   "outputs": [
    {
     "name": "stdout",
     "output_type": "stream",
     "text": [
      "788529152\n",
      "[2978976 3877632 4972968 6294624 7875000]\n",
      "[  360360  1860480  6375600 17100720 38955840]\n",
      "[         11         132        1716       24024      360360     5765760\n",
      "    98017920  1764322560  -837609728   427674624   391232512    17180672\n",
      "   395155456   893796352   870072320  1147043840   905412608  -418250752\n",
      "   755630080  1194065920 -1638662144  -897581056   444596224 -2063597568\n",
      "   788529152]\n",
      "[[     11      12      13      14      15]\n",
      " [    176     204     234     266     300]\n",
      " [   3696    4488    5382    6384    7500]\n",
      " [  96096  121176  150696  185136  225000]\n",
      " [2978976 3877632 4972968 6294624 7875000]]\n",
      "[[      11      132     1716    24024   360360]\n",
      " [      16      272     4896    93024  1860480]\n",
      " [      21      462    10626   255024  6375600]\n",
      " [      26      702    19656   570024 17100720]\n",
      " [      31      992    32736  1113024 38955840]]\n"
     ]
    }
   ],
   "source": [
    "x = np.array([[11, 12, 13, 14, 15],\n",
    "              [16, 17, 18, 19, 20],\n",
    "              [21, 22, 23, 24, 25],\n",
    "              [26, 27, 28, 29, 30],\n",
    "              [31, 32, 33, 34, 35]])\n",
    "y = np.prod(x)\n",
    "print(y)\n",
    "\n",
    "y = np.prod(x, axis=0)\n",
    "print(y)\n",
    "\n",
    "y = np.prod(x, axis=1)\n",
    "print(y)\n",
    "\n",
    "x = np.array([[11, 12, 13, 14, 15],\n",
    "              [16, 17, 18, 19, 20],\n",
    "              [21, 22, 23, 24, 25],\n",
    "              [26, 27, 28, 29, 30],\n",
    "              [31, 32, 33, 34, 35]])\n",
    "y = np.cumprod(x)\n",
    "print(y)\n",
    "\n",
    "y = np.cumprod(x, axis=0)\n",
    "print(y)\n",
    "\n",
    "y = np.cumprod(x, axis=1)\n",
    "print(y)"
   ]
  },
  {
   "cell_type": "markdown",
   "metadata": {},
   "source": [
    "### 其他数学函数"
   ]
  },
  {
   "cell_type": "code",
   "execution_count": 14,
   "metadata": {},
   "outputs": [
    {
     "name": "stdout",
     "output_type": "stream",
     "text": [
      "[[ 2  3  4  5]\n",
      " [ 6  8  8  9]\n",
      " [10 11 12 13]]\n",
      "[[1 1 1]\n",
      " [2 0 1]\n",
      " [1 1 1]]\n",
      "[[4 5 4 4]\n",
      " [4 3 4 4]]\n"
     ]
    }
   ],
   "source": [
    "A = np.arange(2, 14).reshape((3, 4))\n",
    "A[1, 1] = 8\n",
    "print(A)\n",
    "\n",
    "print(np.diff(A))\n",
    "\n",
    "print(np.diff(A, axis=0))"
   ]
  },
  {
   "cell_type": "code",
   "execution_count": 15,
   "metadata": {},
   "outputs": [
    {
     "name": "stdout",
     "output_type": "stream",
     "text": [
      "[[6.10290695 0.43632229 0.09020237]\n",
      " [4.05938565 5.20866281 9.86853097]\n",
      " [2.94446417 3.1202986  8.94525045]]\n",
      "[[ 6.  0.  0.]\n",
      " [ 4.  5. 10.]\n",
      " [ 3.  3.  9.]]\n",
      "[[6.1  0.44 0.09]\n",
      " [4.06 5.21 9.87]\n",
      " [2.94 3.12 8.95]]\n"
     ]
    }
   ],
   "source": [
    "x = np.random.rand(3, 3) * 10\n",
    "print(x)\n",
    "\n",
    "y = np.around(x)\n",
    "print(y)\n",
    "\n",
    "y = np.around(x, decimals=2)\n",
    "print(y)"
   ]
  },
  {
   "cell_type": "code",
   "execution_count": 16,
   "metadata": {},
   "outputs": [
    {
     "name": "stdout",
     "output_type": "stream",
     "text": [
      "[[3.95786091 5.77345462 5.19117142]\n",
      " [2.34611134 0.31311503 7.05699902]\n",
      " [6.36401624 2.71033934 5.30433789]]\n",
      "[[4. 6. 6.]\n",
      " [3. 1. 8.]\n",
      " [7. 3. 6.]]\n",
      "[[3. 5. 5.]\n",
      " [2. 0. 7.]\n",
      " [6. 2. 5.]]\n"
     ]
    }
   ],
   "source": [
    "x = np.random.rand(3, 3) * 10\n",
    "print(x)\n",
    "\n",
    "y = np.ceil(x)\n",
    "print(y)\n",
    "\n",
    "y = np.floor(x)\n",
    "print(y)"
   ]
  },
  {
   "cell_type": "code",
   "execution_count": 17,
   "metadata": {},
   "outputs": [
    {
     "name": "stdout",
     "output_type": "stream",
     "text": [
      "[[20 20 20 20 20]\n",
      " [20 20 20 20 20]\n",
      " [21 22 23 24 25]\n",
      " [26 27 28 29 30]\n",
      " [30 30 30 30 30]]\n"
     ]
    }
   ],
   "source": [
    "x = np.array([[11, 12, 13, 14, 15],\n",
    "              [16, 17, 18, 19, 20],\n",
    "              [21, 22, 23, 24, 25],\n",
    "              [26, 27, 28, 29, 30],\n",
    "              [31, 32, 33, 34, 35]])\n",
    "y = np.clip(x, a_min=20, a_max=30)\n",
    "print(y)"
   ]
  },
  {
   "cell_type": "code",
   "execution_count": 18,
   "metadata": {},
   "outputs": [
    {
     "name": "stdout",
     "output_type": "stream",
     "text": [
      "[-5 -4 -3 -2 -1  0  1  2  3  4]\n",
      "[5 4 3 2 1 0 1 2 3 4]\n",
      "[5 4 3 2 1 0 1 2 3 4]\n"
     ]
    }
   ],
   "source": [
    "x = np.arange(-5, 5)\n",
    "print(x)\n",
    "\n",
    "y = np.abs(x)\n",
    "print(y)\n",
    "\n",
    "y = np.absolute(x)\n",
    "print(y)"
   ]
  },
  {
   "cell_type": "code",
   "execution_count": 19,
   "metadata": {},
   "outputs": [
    {
     "name": "stdout",
     "output_type": "stream",
     "text": [
      "[-5 -4 -3 -2 -1  0  1  2  3  4]\n",
      "[-1 -1 -1 -1 -1  0  1  1  1  1]\n"
     ]
    }
   ],
   "source": [
    "x = np.arange(-5, 5)\n",
    "print(x)\n",
    "\n",
    "print(np.sign(x))"
   ]
  },
  {
   "cell_type": "markdown",
   "metadata": {},
   "source": [
    "### 逻辑函数"
   ]
  },
  {
   "cell_type": "code",
   "execution_count": 21,
   "metadata": {},
   "outputs": [
    {
     "data": {
      "text/plain": [
       "True"
      ]
     },
     "execution_count": 21,
     "metadata": {},
     "output_type": "execute_result"
    }
   ],
   "source": [
    "np.all(np.nan)"
   ]
  },
  {
   "cell_type": "code",
   "execution_count": 22,
   "metadata": {},
   "outputs": [
    {
     "name": "stdout",
     "output_type": "stream",
     "text": [
      "True\n",
      "True\n",
      "False\n",
      "True\n",
      "True\n",
      "True\n",
      "[False False False]\n",
      "[ True  True  True]\n"
     ]
    }
   ],
   "source": [
    "a = np.array([0, 4, 5])\n",
    "b = np.copy(a)\n",
    "print(np.all(a == b))\n",
    "print(np.any(a == b))\n",
    "\n",
    "b[0] = 1\n",
    "print(np.all(a == b))\n",
    "print(np.any(a == b))\n",
    "\n",
    "print(np.all([1.0, np.nan]))\n",
    "print(np.any([1.0, np.nan]))\n",
    "\n",
    "a = np.eye(3)\n",
    "print(np.all(a, axis=0))\n",
    "print(np.any(a, axis=0))"
   ]
  },
  {
   "cell_type": "code",
   "execution_count": 23,
   "metadata": {},
   "outputs": [
    {
     "name": "stdout",
     "output_type": "stream",
     "text": [
      "[False False  True]\n"
     ]
    }
   ],
   "source": [
    "a=np.array([1,2,np.nan])\n",
    "print(np.isnan(a))"
   ]
  },
  {
   "cell_type": "markdown",
   "metadata": {},
   "source": [
    "### 逻辑运算"
   ]
  },
  {
   "cell_type": "code",
   "execution_count": 24,
   "metadata": {},
   "outputs": [
    {
     "name": "stdout",
     "output_type": "stream",
     "text": [
      "False\n",
      "[False  True  True False]\n",
      "[False False False  True  True]\n"
     ]
    }
   ],
   "source": [
    "print(np.logical_not(3))  \n",
    "\n",
    "print(np.logical_not([True, False, 0, 1]))\n",
    "\n",
    "x = np.arange(5)\n",
    "print(np.logical_not(x < 3))"
   ]
  },
  {
   "cell_type": "code",
   "execution_count": 25,
   "metadata": {},
   "outputs": [
    {
     "name": "stdout",
     "output_type": "stream",
     "text": [
      "False\n",
      "[ True False]\n",
      "[False False  True  True False]\n"
     ]
    }
   ],
   "source": [
    "print(np.logical_and(True, False))  \n",
    "\n",
    "# true & true, false & false\n",
    "print(np.logical_and([True, False], [True, False]))\n",
    "\n",
    "print(np.logical_and(x > 1, x < 4))"
   ]
  },
  {
   "cell_type": "code",
   "execution_count": 26,
   "metadata": {},
   "outputs": [
    {
     "name": "stdout",
     "output_type": "stream",
     "text": [
      "True\n",
      "[ True False]\n",
      "[ True False False False  True]\n"
     ]
    }
   ],
   "source": [
    "print(np.logical_or(True, False))\n",
    "\n",
    "print(np.logical_or([True, False], [False, False]))\n",
    "\n",
    "print(np.logical_or(x < 1, x > 3))"
   ]
  },
  {
   "cell_type": "code",
   "execution_count": 27,
   "metadata": {},
   "outputs": [
    {
     "name": "stdout",
     "output_type": "stream",
     "text": [
      "True\n",
      "[False  True  True False]\n",
      "[ True False False False  True]\n",
      "[[ True False]\n",
      " [False  True]]\n"
     ]
    }
   ],
   "source": [
    "# 异或运算，同为假，异为真\n",
    "print(np.logical_xor(True, False))\n",
    "# True\n",
    "print(np.logical_xor([True, True, False, False], [True, False, True, False]))\n",
    "# [False  True  True False]\n",
    "print(np.logical_xor(x < 1, x > 3))\n",
    "# [ True False False False  True]\n",
    "print(np.logical_xor(0, np.eye(2)))"
   ]
  },
  {
   "cell_type": "code",
   "execution_count": 28,
   "metadata": {},
   "outputs": [
    {
     "name": "stdout",
     "output_type": "stream",
     "text": [
      "[False False  True  True  True  True  True  True]\n",
      "[False False  True  True  True  True  True  True]\n",
      "[False  True  True  True  True  True  True  True]\n",
      "[False  True  True  True  True  True  True  True]\n",
      "[False  True False False False False False False]\n",
      "[False  True False False False False False False]\n",
      "[ True False  True  True  True  True  True  True]\n",
      "[ True False  True  True  True  True  True  True]\n",
      "[ True False False False False False False False]\n",
      "[ True False False False False False False False]\n",
      "[ True  True False False False False False False]\n",
      "[ True  True False False False False False False]\n"
     ]
    }
   ],
   "source": [
    "x = np.array([1, 2, 3, 4, 5, 6, 7, 8])\n",
    "\n",
    "y = x > 2\n",
    "print(y)\n",
    "print(np.greater(x, 2))\n",
    "\n",
    "y = x >= 2\n",
    "print(y)\n",
    "print(np.greater_equal(x, 2))\n",
    "\n",
    "y = x == 2\n",
    "print(y)\n",
    "print(np.equal(x, 2))\n",
    "\n",
    "y = x != 2\n",
    "print(y)\n",
    "print(np.not_equal(x, 2))\n",
    "\n",
    "y = x < 2\n",
    "print(y)\n",
    "print(np.less(x, 2))\n",
    "\n",
    "y = x <= 2\n",
    "print(y)\n",
    "print(np.less_equal(x, 2))"
   ]
  },
  {
   "cell_type": "code",
   "execution_count": 29,
   "metadata": {},
   "outputs": [
    {
     "name": "stdout",
     "output_type": "stream",
     "text": [
      "[[False False False False False]\n",
      " [False False False False False]\n",
      " [ True  True  True  True  True]\n",
      " [ True  True  True  True  True]\n",
      " [ True  True  True  True  True]]\n",
      "[[False False False False False]\n",
      " [False False False False False]\n",
      " [ True  True  True  True  True]\n",
      " [ True  True  True  True  True]\n",
      " [ True  True  True  True  True]]\n",
      "[[False False False False False]\n",
      " [False False False False  True]\n",
      " [ True  True  True  True  True]\n",
      " [ True  True  True  True  True]\n",
      " [ True  True  True  True  True]]\n",
      "[[False False False False False]\n",
      " [False False False False  True]\n",
      " [ True  True  True  True  True]\n",
      " [ True  True  True  True  True]\n",
      " [ True  True  True  True  True]]\n",
      "[[False False False False False]\n",
      " [False False False False  True]\n",
      " [False False False False False]\n",
      " [False False False False False]\n",
      " [False False False False False]]\n",
      "[[False False False False False]\n",
      " [False False False False  True]\n",
      " [False False False False False]\n",
      " [False False False False False]\n",
      " [False False False False False]]\n",
      "[[ True  True  True  True  True]\n",
      " [ True  True  True  True False]\n",
      " [ True  True  True  True  True]\n",
      " [ True  True  True  True  True]\n",
      " [ True  True  True  True  True]]\n",
      "[[ True  True  True  True  True]\n",
      " [ True  True  True  True False]\n",
      " [ True  True  True  True  True]\n",
      " [ True  True  True  True  True]\n",
      " [ True  True  True  True  True]]\n",
      "[[ True  True  True  True  True]\n",
      " [ True  True  True  True False]\n",
      " [False False False False False]\n",
      " [False False False False False]\n",
      " [False False False False False]]\n",
      "[[ True  True  True  True  True]\n",
      " [ True  True  True  True False]\n",
      " [False False False False False]\n",
      " [False False False False False]\n",
      " [False False False False False]]\n",
      "[[ True  True  True  True  True]\n",
      " [ True  True  True  True  True]\n",
      " [False False False False False]\n",
      " [False False False False False]\n",
      " [False False False False False]]\n",
      "[[ True  True  True  True  True]\n",
      " [ True  True  True  True  True]\n",
      " [False False False False False]\n",
      " [False False False False False]\n",
      " [False False False False False]]\n"
     ]
    }
   ],
   "source": [
    "x = np.array([[11, 12, 13, 14, 15],\n",
    "              [16, 17, 18, 19, 20],\n",
    "              [21, 22, 23, 24, 25],\n",
    "              [26, 27, 28, 29, 30],\n",
    "              [31, 32, 33, 34, 35]])\n",
    "y = x > 20\n",
    "print(y)\n",
    "print(np.greater(x, 20))\n",
    "\n",
    "y = x >= 20\n",
    "print(y)\n",
    "print(np.greater_equal(x, 20))\n",
    "\n",
    "y = x == 20\n",
    "print(y)\n",
    "print(np.equal(x, 20))\n",
    "\n",
    "y = x != 20\n",
    "print(y)\n",
    "print(np.not_equal(x, 20))\n",
    "\n",
    "y = x < 20\n",
    "print(y)\n",
    "print(np.less(x, 20))\n",
    "\n",
    "y = x <= 20\n",
    "print(y)\n",
    "print(np.less_equal(x, 20))"
   ]
  },
  {
   "cell_type": "code",
   "execution_count": 30,
   "metadata": {},
   "outputs": [
    {
     "name": "stdout",
     "output_type": "stream",
     "text": [
      "[[32 28 31 33 37]\n",
      " [23 37 37 30 29]\n",
      " [32 24 10 33 15]\n",
      " [27 17 10 36 16]\n",
      " [25 32 23 39 34]]\n",
      "[[False False False False False]\n",
      " [False False False False False]\n",
      " [False False  True False  True]\n",
      " [False  True  True False  True]\n",
      " [ True False  True False  True]]\n",
      "[[False False False False False]\n",
      " [False False False False False]\n",
      " [False False  True False  True]\n",
      " [False  True  True False  True]\n",
      " [ True False  True False  True]]\n",
      "[[False False False False False]\n",
      " [False False False False False]\n",
      " [False False  True False  True]\n",
      " [False  True  True False  True]\n",
      " [ True  True  True False  True]]\n",
      "[[False False False False False]\n",
      " [False False False False False]\n",
      " [False False  True False  True]\n",
      " [False  True  True False  True]\n",
      " [ True  True  True False  True]]\n",
      "[[False False False False False]\n",
      " [False False False False False]\n",
      " [False False False False False]\n",
      " [False False False False False]\n",
      " [False  True False False False]]\n",
      "[[False False False False False]\n",
      " [False False False False False]\n",
      " [False False False False False]\n",
      " [False False False False False]\n",
      " [False  True False False False]]\n",
      "[[ True  True  True  True  True]\n",
      " [ True  True  True  True  True]\n",
      " [ True  True  True  True  True]\n",
      " [ True  True  True  True  True]\n",
      " [ True False  True  True  True]]\n",
      "[[ True  True  True  True  True]\n",
      " [ True  True  True  True  True]\n",
      " [ True  True  True  True  True]\n",
      " [ True  True  True  True  True]\n",
      " [ True False  True  True  True]]\n",
      "[[ True  True  True  True  True]\n",
      " [ True  True  True  True  True]\n",
      " [ True  True False  True False]\n",
      " [ True False False  True False]\n",
      " [False False False  True False]]\n",
      "[[ True  True  True  True  True]\n",
      " [ True  True  True  True  True]\n",
      " [ True  True False  True False]\n",
      " [ True False False  True False]\n",
      " [False False False  True False]]\n",
      "[[ True  True  True  True  True]\n",
      " [ True  True  True  True  True]\n",
      " [ True  True False  True False]\n",
      " [ True False False  True False]\n",
      " [False  True False  True False]]\n",
      "[[ True  True  True  True  True]\n",
      " [ True  True  True  True  True]\n",
      " [ True  True False  True False]\n",
      " [ True False False  True False]\n",
      " [False  True False  True False]]\n"
     ]
    }
   ],
   "source": [
    "np.random.seed(20200611)\n",
    "x = np.array([[11, 12, 13, 14, 15],\n",
    "              [16, 17, 18, 19, 20],\n",
    "              [21, 22, 23, 24, 25],\n",
    "              [26, 27, 28, 29, 30],\n",
    "              [31, 32, 33, 34, 35]])\n",
    "\n",
    "y = np.random.randint(10, 40, [5, 5])\n",
    "print(y)\n",
    "\n",
    "z = x > y\n",
    "print(z)\n",
    "print(np.greater(x, y))\n",
    "\n",
    "z = x >= y\n",
    "print(z)\n",
    "print(np.greater_equal(x, y))\n",
    "\n",
    "z = x == y\n",
    "print(z)\n",
    "print(np.equal(x, y))\n",
    "\n",
    "z = x != y\n",
    "print(z)\n",
    "print(np.not_equal(x, y))\n",
    "\n",
    "z = x < y\n",
    "print(z)\n",
    "print(np.less(x, y))\n",
    "\n",
    "z = x <= y\n",
    "print(z)\n",
    "print(np.less_equal(x, y))"
   ]
  },
  {
   "cell_type": "code",
   "execution_count": 31,
   "metadata": {},
   "outputs": [
    {
     "name": "stdout",
     "output_type": "stream",
     "text": [
      "[32 37 30 24 10]\n",
      "[[False False False False  True]\n",
      " [False False False False  True]\n",
      " [False False False False  True]\n",
      " [False False False  True  True]\n",
      " [False False  True  True  True]]\n",
      "[[False False False False  True]\n",
      " [False False False False  True]\n",
      " [False False False False  True]\n",
      " [False False False  True  True]\n",
      " [False False  True  True  True]]\n",
      "[[False False False False  True]\n",
      " [False False False False  True]\n",
      " [False False False  True  True]\n",
      " [False False False  True  True]\n",
      " [False False  True  True  True]]\n",
      "[[False False False False  True]\n",
      " [False False False False  True]\n",
      " [False False False  True  True]\n",
      " [False False False  True  True]\n",
      " [False False  True  True  True]]\n",
      "[[False False False False False]\n",
      " [False False False False False]\n",
      " [False False False  True False]\n",
      " [False False False False False]\n",
      " [False False False False False]]\n",
      "[[False False False False False]\n",
      " [False False False False False]\n",
      " [False False False  True False]\n",
      " [False False False False False]\n",
      " [False False False False False]]\n",
      "[[ True  True  True  True  True]\n",
      " [ True  True  True  True  True]\n",
      " [ True  True  True False  True]\n",
      " [ True  True  True  True  True]\n",
      " [ True  True  True  True  True]]\n",
      "[[ True  True  True  True  True]\n",
      " [ True  True  True  True  True]\n",
      " [ True  True  True False  True]\n",
      " [ True  True  True  True  True]\n",
      " [ True  True  True  True  True]]\n",
      "[[ True  True  True  True False]\n",
      " [ True  True  True  True False]\n",
      " [ True  True  True False False]\n",
      " [ True  True  True False False]\n",
      " [ True  True False False False]]\n",
      "[[ True  True  True  True False]\n",
      " [ True  True  True  True False]\n",
      " [ True  True  True False False]\n",
      " [ True  True  True False False]\n",
      " [ True  True False False False]]\n",
      "[[ True  True  True  True False]\n",
      " [ True  True  True  True False]\n",
      " [ True  True  True  True False]\n",
      " [ True  True  True False False]\n",
      " [ True  True False False False]]\n",
      "[[ True  True  True  True False]\n",
      " [ True  True  True  True False]\n",
      " [ True  True  True  True False]\n",
      " [ True  True  True False False]\n",
      " [ True  True False False False]]\n"
     ]
    }
   ],
   "source": [
    "x = np.array([[11, 12, 13, 14, 15],\n",
    "              [16, 17, 18, 19, 20],\n",
    "              [21, 22, 23, 24, 25],\n",
    "              [26, 27, 28, 29, 30],\n",
    "              [31, 32, 33, 34, 35]])\n",
    "\n",
    "np.random.seed(20200611)\n",
    "y = np.random.randint(10, 50, 5)\n",
    "\n",
    "print(y)\n",
    "\n",
    "z = x > y\n",
    "print(z)\n",
    "print(np.greater(x, y))\n",
    "\n",
    "z = x >= y\n",
    "print(z)\n",
    "print(np.greater_equal(x, y))\n",
    "\n",
    "z = x == y\n",
    "print(z)\n",
    "print(np.equal(x, y))\n",
    "\n",
    "z = x != y\n",
    "print(z)\n",
    "print(np.not_equal(x, y))\n",
    "\n",
    "z = x < y\n",
    "print(z)\n",
    "print(np.less(x, y))\n",
    "\n",
    "z = x <= y\n",
    "print(z)\n",
    "print(np.less_equal(x, y))"
   ]
  },
  {
   "cell_type": "code",
   "execution_count": 32,
   "metadata": {},
   "outputs": [
    {
     "name": "stdout",
     "output_type": "stream",
     "text": [
      "[ True False]\n",
      "False\n",
      "[ True  True]\n",
      "True\n",
      "[False  True]\n",
      "False\n",
      "[ True False]\n",
      "False\n",
      "[ True  True]\n",
      "True\n"
     ]
    }
   ],
   "source": [
    "x = np.isclose([1e10, 1e-7], [1.00001e10, 1e-8])\n",
    "print(x)\n",
    "\n",
    "x = np.allclose([1e10, 1e-7], [1.00001e10, 1e-8])\n",
    "print(x)\n",
    "\n",
    "x = np.isclose([1e10, 1e-8], [1.00001e10, 1e-9])\n",
    "print(x)\n",
    "\n",
    "x = np.allclose([1e10, 1e-8], [1.00001e10, 1e-9])\n",
    "print(x)\n",
    "\n",
    "x = np.isclose([1e10, 1e-8], [1.0001e10, 1e-9])\n",
    "print(x)\n",
    "\n",
    "x = np.allclose([1e10, 1e-8], [1.0001e10, 1e-9])\n",
    "print(x)\n",
    "\n",
    "x = np.isclose([1.0, np.nan], [1.0, np.nan])\n",
    "print(x)\n",
    "\n",
    "x = np.allclose([1.0, np.nan], [1.0, np.nan])\n",
    "print(x)\n",
    "\n",
    "x = np.isclose([1.0, np.nan], [1.0, np.nan], equal_nan=True)\n",
    "print(x)\n",
    "\n",
    "x = np.allclose([1.0, np.nan], [1.0, np.nan], equal_nan=True)\n",
    "print(x)"
   ]
  }
 ],
 "metadata": {
  "kernelspec": {
   "display_name": "Python 3",
   "language": "python",
   "name": "python3"
  },
  "language_info": {
   "codemirror_mode": {
    "name": "ipython",
    "version": 3
   },
   "file_extension": ".py",
   "mimetype": "text/x-python",
   "name": "python",
   "nbconvert_exporter": "python",
   "pygments_lexer": "ipython3",
   "version": "3.7.3"
  },
  "toc": {
   "base_numbering": 1,
   "nav_menu": {},
   "number_sections": true,
   "sideBar": false,
   "skip_h1_title": false,
   "title_cell": "Table of Contents",
   "title_sidebar": "Contents",
   "toc_cell": false,
   "toc_position": {},
   "toc_section_display": true,
   "toc_window_display": false
  }
 },
 "nbformat": 4,
 "nbformat_minor": 2
}
